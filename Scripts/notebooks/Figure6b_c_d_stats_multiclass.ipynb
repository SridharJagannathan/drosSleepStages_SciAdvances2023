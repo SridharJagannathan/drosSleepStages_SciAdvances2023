{
 "cells": [
  {
   "cell_type": "code",
   "execution_count": 1,
   "metadata": {},
   "outputs": [],
   "source": [
    "%load_ext rpy2.ipython"
   ]
  },
  {
   "cell_type": "code",
   "execution_count": 2,
   "metadata": {},
   "outputs": [],
   "source": [
    "# %%R\n",
    "# install.packages('MuMIn', repos='http://cran.us.r-project.org')"
   ]
  },
  {
   "cell_type": "code",
   "execution_count": 3,
   "metadata": {},
   "outputs": [],
   "source": [
    "import pandas as pd\n",
    "import numpy as np\n",
    "import pickle\n",
    "import matplotlib.pyplot as plt\n",
    "import matplotlib.pylab as pylab\n",
    "from matplotlib import gridspec\n",
    "import seaborn as sns\n",
    "import pingouin as pg\n",
    "import copy\n",
    "import re\n",
    "import pickle\n",
    "import os"
   ]
  },
  {
   "cell_type": "code",
   "execution_count": 4,
   "metadata": {},
   "outputs": [
    {
     "name": "stderr",
     "output_type": "stream",
     "text": [
      "/home/srj34/deeplabcut-env/lib/python3.6/site-packages/outdated/utils.py:18: OutdatedPackageWarning: The package pingouin is out of date. Your version is 0.3.12, the latest is 0.5.3.\n",
      "Set the environment variable OUTDATED_IGNORE=1 to disable these warnings.\n",
      "  **kwargs\n",
      "/home/srj34/deeplabcut-env/lib/python3.6/site-packages/outdated/utils.py:18: OutdatedPackageWarning: The package outdated is out of date. Your version is 0.2.1, the latest is 0.2.2.\n",
      "Set the environment variable OUTDATED_IGNORE=1 to disable these warnings.\n",
      "  **kwargs\n"
     ]
    },
    {
     "data": {
      "text/plain": [
       "'3.0.3'"
      ]
     },
     "execution_count": 4,
     "metadata": {},
     "output_type": "execute_result"
    }
   ],
   "source": [
    "import matplotlib\n",
    "matplotlib.__version__"
   ]
  },
  {
   "cell_type": "code",
   "execution_count": 5,
   "metadata": {},
   "outputs": [
    {
     "name": "stdout",
     "output_type": "stream",
     "text": [
      "0.40.0 \n",
      " 1.13.1\n"
     ]
    }
   ],
   "source": [
    "import shap\n",
    "import tensorflow\n",
    "print(shap.__version__, \"\\n\",tensorflow.__version__)"
   ]
  },
  {
   "cell_type": "code",
   "execution_count": 6,
   "metadata": {},
   "outputs": [],
   "source": [
    "import sklearn.datasets as skds\n",
    "from pathlib import Path\n",
    "import matplotlib.pyplot as plt\n",
    "import itertools\n",
    "from sklearn.metrics import accuracy_score, confusion_matrix, classification_report"
   ]
  },
  {
   "cell_type": "code",
   "execution_count": 7,
   "metadata": {},
   "outputs": [],
   "source": [
    "from imblearn.over_sampling import SMOTE"
   ]
  },
  {
   "cell_type": "code",
   "execution_count": 8,
   "metadata": {},
   "outputs": [],
   "source": [
    "randomstate = 1234\n",
    "# For reproducibility\n",
    "np.random.seed(randomstate)"
   ]
  },
  {
   "cell_type": "code",
   "execution_count": 9,
   "metadata": {},
   "outputs": [],
   "source": [
    "from sklearn.preprocessing import LabelEncoder, StandardScaler, LabelBinarizer\n",
    "from sklearn.model_selection import train_test_split"
   ]
  },
  {
   "cell_type": "code",
   "execution_count": 10,
   "metadata": {},
   "outputs": [],
   "source": [
    "from sklearn.datasets import make_multilabel_classification\n",
    "from sklearn.ensemble import RandomForestClassifier\n",
    "from sklearn.metrics import plot_confusion_matrix\n",
    "from sklearn.metrics import confusion_matrix\n",
    "from sklearn import tree\n",
    "from sklearn.tree import DecisionTreeClassifier\n",
    "from sklearn.inspection import permutation_importance\n",
    "from sklearn.model_selection import RandomizedSearchCV\n",
    "from sklearn.model_selection import GridSearchCV\n",
    "from sklearn import metrics"
   ]
  },
  {
   "cell_type": "code",
   "execution_count": 11,
   "metadata": {},
   "outputs": [],
   "source": [
    "import matplotlib.pyplot as plt\n",
    "font = {'family': 'sans-serif', 'serif': ['Helvetica']}\n",
    "plt.rc('font', **font)\n",
    "plt.rc('text', usetex=False)"
   ]
  },
  {
   "cell_type": "code",
   "execution_count": 12,
   "metadata": {},
   "outputs": [],
   "source": [
    "from mpl_toolkits.axes_grid1 import make_axes_locatable\n",
    "from matplotlib.ticker import FormatStrFormatter"
   ]
  },
  {
   "cell_type": "code",
   "execution_count": 13,
   "metadata": {},
   "outputs": [],
   "source": [
    "import warnings\n",
    "from pandas.core.common import SettingWithCopyWarning\n",
    "warnings.simplefilter(action=\"ignore\", category=SettingWithCopyWarning)"
   ]
  },
  {
   "cell_type": "code",
   "execution_count": 14,
   "metadata": {},
   "outputs": [],
   "source": [
    "# pd.set_option('display.max_columns', None)\n",
    "# pd.set_option('display.width', 1000)"
   ]
  },
  {
   "cell_type": "code",
   "execution_count": 15,
   "metadata": {},
   "outputs": [],
   "source": [
    "def save_obj(obj, name, fname ):\n",
    "    with open(fname+ name + '.pkl', 'wb') as f:\n",
    "        pickle.dump(obj, f, pickle.HIGHEST_PROTOCOL)\n",
    "\n",
    "def load_obj(name ):\n",
    "    with open(fname + name + '.pkl', 'rb') as f:\n",
    "        return pickle.load(f)"
   ]
  },
  {
   "cell_type": "code",
   "execution_count": 16,
   "metadata": {},
   "outputs": [],
   "source": [
    "label_fontsize = 16 \n",
    "title_fontsize = 18"
   ]
  },
  {
   "cell_type": "code",
   "execution_count": 17,
   "metadata": {},
   "outputs": [],
   "source": [
    "sns.set(style=\"ticks\")"
   ]
  },
  {
   "cell_type": "code",
   "execution_count": 18,
   "metadata": {},
   "outputs": [],
   "source": [
    "reference = 'neutral' #'neutral','diff'"
   ]
  },
  {
   "cell_type": "code",
   "execution_count": 19,
   "metadata": {},
   "outputs": [],
   "source": [
    "basefolder = \"/rds/project/tb419/rds-tb419-bekinschtein/Sri/SpatialAttention_Drowsiness/\""
   ]
  },
  {
   "cell_type": "code",
   "execution_count": 20,
   "metadata": {},
   "outputs": [],
   "source": [
    "inputfolderpath = basefolder + \"drosSleepStages_SciAdvances2023/data/lfp_data/spectrum/forestclassifier/\""
   ]
  },
  {
   "cell_type": "code",
   "execution_count": 21,
   "metadata": {},
   "outputs": [
    {
     "data": {
      "text/plain": [
       "'/rds/project/tb419/rds-tb419-bekinschtein/Sri/SpatialAttention_Drowsiness/drosSleepStages_SciAdvances2023/data/lfp_data/spectrum/forestclassifier/merged_Spectrum_CSV_neutral_ref.csv'"
      ]
     },
     "execution_count": 21,
     "metadata": {},
     "output_type": "execute_result"
    }
   ],
   "source": [
    "datasetpath = inputfolderpath\n",
    "datasetpath +=  \"merged_Spectrum_CSV_\" + reference + \"_ref\" + \".csv\"\n",
    "datasetpath"
   ]
  },
  {
   "cell_type": "code",
   "execution_count": 22,
   "metadata": {},
   "outputs": [],
   "source": [
    "classifierfolderpath = inputfolderpath + \"classifier_rf_files/\""
   ]
  },
  {
   "cell_type": "code",
   "execution_count": null,
   "metadata": {},
   "outputs": [],
   "source": []
  },
  {
   "cell_type": "code",
   "execution_count": 23,
   "metadata": {},
   "outputs": [],
   "source": [
    "# We have training data available as csv file\n",
    "features_df = pd.read_csv(datasetpath)"
   ]
  },
  {
   "cell_type": "code",
   "execution_count": 24,
   "metadata": {},
   "outputs": [
    {
     "data": {
      "text/html": [
       "<div>\n",
       "<style scoped>\n",
       "    .dataframe tbody tr th:only-of-type {\n",
       "        vertical-align: middle;\n",
       "    }\n",
       "\n",
       "    .dataframe tbody tr th {\n",
       "        vertical-align: top;\n",
       "    }\n",
       "\n",
       "    .dataframe thead th {\n",
       "        text-align: right;\n",
       "    }\n",
       "</style>\n",
       "<table border=\"1\" class=\"dataframe\">\n",
       "  <thead>\n",
       "    <tr style=\"text-align: right;\">\n",
       "      <th></th>\n",
       "      <th>freq4.88_chan01</th>\n",
       "      <th>freq4.88_chan02</th>\n",
       "      <th>freq4.88_chan03</th>\n",
       "      <th>freq4.88_chan04</th>\n",
       "      <th>freq4.88_chan05</th>\n",
       "      <th>freq4.88_chan06</th>\n",
       "      <th>freq4.88_chan07</th>\n",
       "      <th>freq4.88_chan08</th>\n",
       "      <th>freq4.88_chan09</th>\n",
       "      <th>freq4.88_chan10</th>\n",
       "      <th>...</th>\n",
       "      <th>freq40.04_chan11</th>\n",
       "      <th>freq40.04_chan12</th>\n",
       "      <th>freq40.04_chan13</th>\n",
       "      <th>freq40.04_chan14</th>\n",
       "      <th>freq40.04_chan15</th>\n",
       "      <th>start_time</th>\n",
       "      <th>end_time</th>\n",
       "      <th>state</th>\n",
       "      <th>depth</th>\n",
       "      <th>fly</th>\n",
       "    </tr>\n",
       "  </thead>\n",
       "  <tbody>\n",
       "    <tr>\n",
       "      <th>0</th>\n",
       "      <td>16.907746</td>\n",
       "      <td>18.031327</td>\n",
       "      <td>16.695582</td>\n",
       "      <td>16.928798</td>\n",
       "      <td>15.740280</td>\n",
       "      <td>13.882950</td>\n",
       "      <td>12.989385</td>\n",
       "      <td>13.230149</td>\n",
       "      <td>12.057229</td>\n",
       "      <td>12.278152</td>\n",
       "      <td>...</td>\n",
       "      <td>3.228627</td>\n",
       "      <td>-0.163291</td>\n",
       "      <td>3.477128</td>\n",
       "      <td>5.864448</td>\n",
       "      <td>10.546624</td>\n",
       "      <td>27-Jul-2018 15:13:17</td>\n",
       "      <td>27-Jul-2018 15:49:01</td>\n",
       "      <td>awake</td>\n",
       "      <td>epoch01_depth35_min01</td>\n",
       "      <td>27072018_SponSleep_LFP</td>\n",
       "    </tr>\n",
       "    <tr>\n",
       "      <th>1</th>\n",
       "      <td>18.219623</td>\n",
       "      <td>17.288638</td>\n",
       "      <td>14.989972</td>\n",
       "      <td>14.163098</td>\n",
       "      <td>13.005335</td>\n",
       "      <td>11.676813</td>\n",
       "      <td>10.656620</td>\n",
       "      <td>9.535862</td>\n",
       "      <td>8.410238</td>\n",
       "      <td>8.727287</td>\n",
       "      <td>...</td>\n",
       "      <td>2.609511</td>\n",
       "      <td>-2.032236</td>\n",
       "      <td>0.119382</td>\n",
       "      <td>-0.759690</td>\n",
       "      <td>1.761731</td>\n",
       "      <td>27-Jul-2018 15:13:17</td>\n",
       "      <td>27-Jul-2018 15:49:01</td>\n",
       "      <td>awake</td>\n",
       "      <td>epoch01_depth35_min02</td>\n",
       "      <td>27072018_SponSleep_LFP</td>\n",
       "    </tr>\n",
       "    <tr>\n",
       "      <th>2</th>\n",
       "      <td>19.019229</td>\n",
       "      <td>18.067138</td>\n",
       "      <td>16.807576</td>\n",
       "      <td>16.786777</td>\n",
       "      <td>16.122223</td>\n",
       "      <td>15.413145</td>\n",
       "      <td>15.789958</td>\n",
       "      <td>13.978603</td>\n",
       "      <td>13.332066</td>\n",
       "      <td>12.588074</td>\n",
       "      <td>...</td>\n",
       "      <td>8.372123</td>\n",
       "      <td>3.774294</td>\n",
       "      <td>9.054524</td>\n",
       "      <td>11.292854</td>\n",
       "      <td>15.218561</td>\n",
       "      <td>27-Jul-2018 15:13:17</td>\n",
       "      <td>27-Jul-2018 15:49:01</td>\n",
       "      <td>awake</td>\n",
       "      <td>epoch01_depth35_min03</td>\n",
       "      <td>27072018_SponSleep_LFP</td>\n",
       "    </tr>\n",
       "    <tr>\n",
       "      <th>3</th>\n",
       "      <td>17.412197</td>\n",
       "      <td>15.146518</td>\n",
       "      <td>13.969461</td>\n",
       "      <td>13.137674</td>\n",
       "      <td>12.669202</td>\n",
       "      <td>12.023402</td>\n",
       "      <td>10.728541</td>\n",
       "      <td>10.636679</td>\n",
       "      <td>9.142379</td>\n",
       "      <td>8.341223</td>\n",
       "      <td>...</td>\n",
       "      <td>1.538661</td>\n",
       "      <td>-2.308884</td>\n",
       "      <td>-1.166614</td>\n",
       "      <td>0.845271</td>\n",
       "      <td>0.130059</td>\n",
       "      <td>27-Jul-2018 15:13:17</td>\n",
       "      <td>27-Jul-2018 15:49:01</td>\n",
       "      <td>awake</td>\n",
       "      <td>epoch01_depth35_min04</td>\n",
       "      <td>27072018_SponSleep_LFP</td>\n",
       "    </tr>\n",
       "    <tr>\n",
       "      <th>4</th>\n",
       "      <td>16.852660</td>\n",
       "      <td>15.657018</td>\n",
       "      <td>15.303795</td>\n",
       "      <td>15.510230</td>\n",
       "      <td>15.219867</td>\n",
       "      <td>14.411664</td>\n",
       "      <td>14.829397</td>\n",
       "      <td>14.049612</td>\n",
       "      <td>12.047110</td>\n",
       "      <td>12.566136</td>\n",
       "      <td>...</td>\n",
       "      <td>9.052597</td>\n",
       "      <td>2.516190</td>\n",
       "      <td>11.085336</td>\n",
       "      <td>13.465725</td>\n",
       "      <td>17.404638</td>\n",
       "      <td>27-Jul-2018 15:13:17</td>\n",
       "      <td>27-Jul-2018 15:49:01</td>\n",
       "      <td>awake</td>\n",
       "      <td>epoch01_depth35_min05</td>\n",
       "      <td>27072018_SponSleep_LFP</td>\n",
       "    </tr>\n",
       "    <tr>\n",
       "      <th>...</th>\n",
       "      <td>...</td>\n",
       "      <td>...</td>\n",
       "      <td>...</td>\n",
       "      <td>...</td>\n",
       "      <td>...</td>\n",
       "      <td>...</td>\n",
       "      <td>...</td>\n",
       "      <td>...</td>\n",
       "      <td>...</td>\n",
       "      <td>...</td>\n",
       "      <td>...</td>\n",
       "      <td>...</td>\n",
       "      <td>...</td>\n",
       "      <td>...</td>\n",
       "      <td>...</td>\n",
       "      <td>...</td>\n",
       "      <td>...</td>\n",
       "      <td>...</td>\n",
       "      <td>...</td>\n",
       "      <td>...</td>\n",
       "      <td>...</td>\n",
       "    </tr>\n",
       "    <tr>\n",
       "      <th>9216</th>\n",
       "      <td>5.384316</td>\n",
       "      <td>4.520180</td>\n",
       "      <td>4.416598</td>\n",
       "      <td>4.200604</td>\n",
       "      <td>2.423884</td>\n",
       "      <td>1.408764</td>\n",
       "      <td>2.341573</td>\n",
       "      <td>1.330297</td>\n",
       "      <td>2.545163</td>\n",
       "      <td>-0.069842</td>\n",
       "      <td>...</td>\n",
       "      <td>-4.562900</td>\n",
       "      <td>-4.254393</td>\n",
       "      <td>-5.182509</td>\n",
       "      <td>-3.241753</td>\n",
       "      <td>-4.578022</td>\n",
       "      <td>13-Mar-2019 17:33:19</td>\n",
       "      <td>13-Mar-2019 17:42:41</td>\n",
       "      <td>latesleep</td>\n",
       "      <td>epoch04_depth01_min01</td>\n",
       "      <td>13032019_SponSleep_LFP</td>\n",
       "    </tr>\n",
       "    <tr>\n",
       "      <th>9217</th>\n",
       "      <td>7.748099</td>\n",
       "      <td>7.314080</td>\n",
       "      <td>7.430064</td>\n",
       "      <td>6.268098</td>\n",
       "      <td>4.917377</td>\n",
       "      <td>3.943951</td>\n",
       "      <td>3.213651</td>\n",
       "      <td>3.149770</td>\n",
       "      <td>3.304940</td>\n",
       "      <td>1.394683</td>\n",
       "      <td>...</td>\n",
       "      <td>-5.201816</td>\n",
       "      <td>-4.321264</td>\n",
       "      <td>-4.879158</td>\n",
       "      <td>-3.198854</td>\n",
       "      <td>-2.762537</td>\n",
       "      <td>13-Mar-2019 17:52:00</td>\n",
       "      <td>13-Mar-2019 17:59:11</td>\n",
       "      <td>latesleep</td>\n",
       "      <td>epoch05_depth01_min01</td>\n",
       "      <td>13032019_SponSleep_LFP</td>\n",
       "    </tr>\n",
       "    <tr>\n",
       "      <th>9218</th>\n",
       "      <td>6.214232</td>\n",
       "      <td>6.497935</td>\n",
       "      <td>6.618647</td>\n",
       "      <td>5.300278</td>\n",
       "      <td>3.599756</td>\n",
       "      <td>3.440659</td>\n",
       "      <td>3.094485</td>\n",
       "      <td>1.248967</td>\n",
       "      <td>3.086514</td>\n",
       "      <td>0.598200</td>\n",
       "      <td>...</td>\n",
       "      <td>-5.215729</td>\n",
       "      <td>-4.615625</td>\n",
       "      <td>-5.367402</td>\n",
       "      <td>-4.736421</td>\n",
       "      <td>-4.348551</td>\n",
       "      <td>13-Mar-2019 18:10:50</td>\n",
       "      <td>13-Mar-2019 18:17:43</td>\n",
       "      <td>latesleep</td>\n",
       "      <td>epoch06_depth01_min01</td>\n",
       "      <td>13032019_SponSleep_LFP</td>\n",
       "    </tr>\n",
       "    <tr>\n",
       "      <th>9219</th>\n",
       "      <td>6.656751</td>\n",
       "      <td>6.654786</td>\n",
       "      <td>6.809023</td>\n",
       "      <td>5.737107</td>\n",
       "      <td>5.398233</td>\n",
       "      <td>4.580573</td>\n",
       "      <td>3.932749</td>\n",
       "      <td>4.273100</td>\n",
       "      <td>3.936683</td>\n",
       "      <td>1.769453</td>\n",
       "      <td>...</td>\n",
       "      <td>-5.705252</td>\n",
       "      <td>-5.420793</td>\n",
       "      <td>-4.880630</td>\n",
       "      <td>-3.688537</td>\n",
       "      <td>-3.957618</td>\n",
       "      <td>13-Mar-2019 18:30:59</td>\n",
       "      <td>13-Mar-2019 18:47:09</td>\n",
       "      <td>latesleep</td>\n",
       "      <td>epoch07_depth01_min01</td>\n",
       "      <td>13032019_SponSleep_LFP</td>\n",
       "    </tr>\n",
       "    <tr>\n",
       "      <th>9220</th>\n",
       "      <td>6.472601</td>\n",
       "      <td>6.021548</td>\n",
       "      <td>5.857081</td>\n",
       "      <td>4.817756</td>\n",
       "      <td>4.438157</td>\n",
       "      <td>3.151475</td>\n",
       "      <td>3.403860</td>\n",
       "      <td>1.930240</td>\n",
       "      <td>2.259758</td>\n",
       "      <td>0.447708</td>\n",
       "      <td>...</td>\n",
       "      <td>-3.607343</td>\n",
       "      <td>-3.861840</td>\n",
       "      <td>-4.167543</td>\n",
       "      <td>-3.771563</td>\n",
       "      <td>-4.808556</td>\n",
       "      <td>13-Mar-2019 18:51:30</td>\n",
       "      <td>13-Mar-2019 18:57:42</td>\n",
       "      <td>latesleep</td>\n",
       "      <td>epoch08_depth01_min01</td>\n",
       "      <td>13032019_SponSleep_LFP</td>\n",
       "    </tr>\n",
       "  </tbody>\n",
       "</table>\n",
       "<p>9221 rows × 2180 columns</p>\n",
       "</div>"
      ],
      "text/plain": [
       "      freq4.88_chan01  freq4.88_chan02  freq4.88_chan03  freq4.88_chan04  \\\n",
       "0           16.907746        18.031327        16.695582        16.928798   \n",
       "1           18.219623        17.288638        14.989972        14.163098   \n",
       "2           19.019229        18.067138        16.807576        16.786777   \n",
       "3           17.412197        15.146518        13.969461        13.137674   \n",
       "4           16.852660        15.657018        15.303795        15.510230   \n",
       "...               ...              ...              ...              ...   \n",
       "9216         5.384316         4.520180         4.416598         4.200604   \n",
       "9217         7.748099         7.314080         7.430064         6.268098   \n",
       "9218         6.214232         6.497935         6.618647         5.300278   \n",
       "9219         6.656751         6.654786         6.809023         5.737107   \n",
       "9220         6.472601         6.021548         5.857081         4.817756   \n",
       "\n",
       "      freq4.88_chan05  freq4.88_chan06  freq4.88_chan07  freq4.88_chan08  \\\n",
       "0           15.740280        13.882950        12.989385        13.230149   \n",
       "1           13.005335        11.676813        10.656620         9.535862   \n",
       "2           16.122223        15.413145        15.789958        13.978603   \n",
       "3           12.669202        12.023402        10.728541        10.636679   \n",
       "4           15.219867        14.411664        14.829397        14.049612   \n",
       "...               ...              ...              ...              ...   \n",
       "9216         2.423884         1.408764         2.341573         1.330297   \n",
       "9217         4.917377         3.943951         3.213651         3.149770   \n",
       "9218         3.599756         3.440659         3.094485         1.248967   \n",
       "9219         5.398233         4.580573         3.932749         4.273100   \n",
       "9220         4.438157         3.151475         3.403860         1.930240   \n",
       "\n",
       "      freq4.88_chan09  freq4.88_chan10  ...  freq40.04_chan11  \\\n",
       "0           12.057229        12.278152  ...          3.228627   \n",
       "1            8.410238         8.727287  ...          2.609511   \n",
       "2           13.332066        12.588074  ...          8.372123   \n",
       "3            9.142379         8.341223  ...          1.538661   \n",
       "4           12.047110        12.566136  ...          9.052597   \n",
       "...               ...              ...  ...               ...   \n",
       "9216         2.545163        -0.069842  ...         -4.562900   \n",
       "9217         3.304940         1.394683  ...         -5.201816   \n",
       "9218         3.086514         0.598200  ...         -5.215729   \n",
       "9219         3.936683         1.769453  ...         -5.705252   \n",
       "9220         2.259758         0.447708  ...         -3.607343   \n",
       "\n",
       "      freq40.04_chan12  freq40.04_chan13  freq40.04_chan14  freq40.04_chan15  \\\n",
       "0            -0.163291          3.477128          5.864448         10.546624   \n",
       "1            -2.032236          0.119382         -0.759690          1.761731   \n",
       "2             3.774294          9.054524         11.292854         15.218561   \n",
       "3            -2.308884         -1.166614          0.845271          0.130059   \n",
       "4             2.516190         11.085336         13.465725         17.404638   \n",
       "...                ...               ...               ...               ...   \n",
       "9216         -4.254393         -5.182509         -3.241753         -4.578022   \n",
       "9217         -4.321264         -4.879158         -3.198854         -2.762537   \n",
       "9218         -4.615625         -5.367402         -4.736421         -4.348551   \n",
       "9219         -5.420793         -4.880630         -3.688537         -3.957618   \n",
       "9220         -3.861840         -4.167543         -3.771563         -4.808556   \n",
       "\n",
       "                start_time              end_time      state  \\\n",
       "0     27-Jul-2018 15:13:17  27-Jul-2018 15:49:01      awake   \n",
       "1     27-Jul-2018 15:13:17  27-Jul-2018 15:49:01      awake   \n",
       "2     27-Jul-2018 15:13:17  27-Jul-2018 15:49:01      awake   \n",
       "3     27-Jul-2018 15:13:17  27-Jul-2018 15:49:01      awake   \n",
       "4     27-Jul-2018 15:13:17  27-Jul-2018 15:49:01      awake   \n",
       "...                    ...                   ...        ...   \n",
       "9216  13-Mar-2019 17:33:19  13-Mar-2019 17:42:41  latesleep   \n",
       "9217  13-Mar-2019 17:52:00  13-Mar-2019 17:59:11  latesleep   \n",
       "9218  13-Mar-2019 18:10:50  13-Mar-2019 18:17:43  latesleep   \n",
       "9219  13-Mar-2019 18:30:59  13-Mar-2019 18:47:09  latesleep   \n",
       "9220  13-Mar-2019 18:51:30  13-Mar-2019 18:57:42  latesleep   \n",
       "\n",
       "                      depth                     fly  \n",
       "0     epoch01_depth35_min01  27072018_SponSleep_LFP  \n",
       "1     epoch01_depth35_min02  27072018_SponSleep_LFP  \n",
       "2     epoch01_depth35_min03  27072018_SponSleep_LFP  \n",
       "3     epoch01_depth35_min04  27072018_SponSleep_LFP  \n",
       "4     epoch01_depth35_min05  27072018_SponSleep_LFP  \n",
       "...                     ...                     ...  \n",
       "9216  epoch04_depth01_min01  13032019_SponSleep_LFP  \n",
       "9217  epoch05_depth01_min01  13032019_SponSleep_LFP  \n",
       "9218  epoch06_depth01_min01  13032019_SponSleep_LFP  \n",
       "9219  epoch07_depth01_min01  13032019_SponSleep_LFP  \n",
       "9220  epoch08_depth01_min01  13032019_SponSleep_LFP  \n",
       "\n",
       "[9221 rows x 2180 columns]"
      ]
     },
     "execution_count": 24,
     "metadata": {},
     "output_type": "execute_result"
    }
   ],
   "source": [
    "features_df"
   ]
  },
  {
   "cell_type": "code",
   "execution_count": null,
   "metadata": {},
   "outputs": [],
   "source": []
  },
  {
   "cell_type": "code",
   "execution_count": 25,
   "metadata": {},
   "outputs": [],
   "source": [
    "features_df = features_df[features_df.state != 'sleep']"
   ]
  },
  {
   "cell_type": "code",
   "execution_count": 26,
   "metadata": {},
   "outputs": [],
   "source": [
    "features_df['state'] = features_df['state'].str.replace('intrans', 'presleep')\n",
    "features_df['state'] = features_df['state'].str.replace('earlymidsleep', 'earlysleep')\n",
    "features_df['state'] = features_df['state'].str.replace('latemidsleep', 'latesleep')"
   ]
  },
  {
   "cell_type": "code",
   "execution_count": null,
   "metadata": {},
   "outputs": [],
   "source": []
  },
  {
   "cell_type": "code",
   "execution_count": 27,
   "metadata": {},
   "outputs": [],
   "source": [
    "colnames = list(features_df.columns)"
   ]
  },
  {
   "cell_type": "code",
   "execution_count": 28,
   "metadata": {},
   "outputs": [],
   "source": [
    "# roi_list = filter(lambda s: re.match(\"^freq[7-9]|10.*_chan0[2-3]\", s), colnames)\n",
    "# roi_list = list(roi_list)"
   ]
  },
  {
   "cell_type": "code",
   "execution_count": 29,
   "metadata": {},
   "outputs": [],
   "source": [
    "# filter_columns = (features_df.columns.isin(roi_list)) & (~features_df.columns.isin(['fly', 'state']))\n",
    "filter_columns = (~features_df.columns.isin(['start_time','end_time','state','depth','fly']))"
   ]
  },
  {
   "cell_type": "code",
   "execution_count": null,
   "metadata": {},
   "outputs": [],
   "source": []
  },
  {
   "cell_type": "code",
   "execution_count": 30,
   "metadata": {},
   "outputs": [],
   "source": [
    "#for mean plots per class later on..\n",
    "feat_values = features_df.loc[:, filter_columns].values\n",
    "sc = StandardScaler()\n",
    "feat_values_tr = sc.fit_transform(feat_values)\n",
    "feat_tr_mean = np.mean(feat_values_tr, axis = 1)"
   ]
  },
  {
   "cell_type": "code",
   "execution_count": 31,
   "metadata": {},
   "outputs": [
    {
     "data": {
      "text/plain": [
       "(7532,)"
      ]
     },
     "execution_count": 31,
     "metadata": {},
     "output_type": "execute_result"
    }
   ],
   "source": [
    "feat_tr_mean.shape"
   ]
  },
  {
   "cell_type": "code",
   "execution_count": null,
   "metadata": {},
   "outputs": [],
   "source": []
  },
  {
   "cell_type": "code",
   "execution_count": 32,
   "metadata": {},
   "outputs": [],
   "source": [
    "label_names = features_df.state"
   ]
  },
  {
   "cell_type": "code",
   "execution_count": 33,
   "metadata": {},
   "outputs": [
    {
     "data": {
      "text/plain": [
       "awake         5585\n",
       "midsleep      1165\n",
       "latesleep      262\n",
       "earlysleep     262\n",
       "presleep       258\n",
       "Name: state, dtype: int64"
      ]
     },
     "execution_count": 33,
     "metadata": {},
     "output_type": "execute_result"
    }
   ],
   "source": [
    "features_df['state'].value_counts()"
   ]
  },
  {
   "cell_type": "code",
   "execution_count": 34,
   "metadata": {},
   "outputs": [],
   "source": [
    "classifierfeat_df = features_df.copy()\n",
    "classifierfeat_df = classifierfeat_df.drop(['start_time','end_time','depth','fly'], axis=1)"
   ]
  },
  {
   "cell_type": "code",
   "execution_count": 35,
   "metadata": {},
   "outputs": [
    {
     "data": {
      "text/html": [
       "<div>\n",
       "<style scoped>\n",
       "    .dataframe tbody tr th:only-of-type {\n",
       "        vertical-align: middle;\n",
       "    }\n",
       "\n",
       "    .dataframe tbody tr th {\n",
       "        vertical-align: top;\n",
       "    }\n",
       "\n",
       "    .dataframe thead th {\n",
       "        text-align: right;\n",
       "    }\n",
       "</style>\n",
       "<table border=\"1\" class=\"dataframe\">\n",
       "  <thead>\n",
       "    <tr style=\"text-align: right;\">\n",
       "      <th></th>\n",
       "      <th>freq4.88_chan01</th>\n",
       "      <th>freq4.88_chan02</th>\n",
       "      <th>freq4.88_chan03</th>\n",
       "      <th>freq4.88_chan04</th>\n",
       "      <th>freq4.88_chan05</th>\n",
       "      <th>freq4.88_chan06</th>\n",
       "      <th>freq4.88_chan07</th>\n",
       "      <th>freq4.88_chan08</th>\n",
       "      <th>freq4.88_chan09</th>\n",
       "      <th>freq4.88_chan10</th>\n",
       "      <th>...</th>\n",
       "      <th>freq40.04_chan07</th>\n",
       "      <th>freq40.04_chan08</th>\n",
       "      <th>freq40.04_chan09</th>\n",
       "      <th>freq40.04_chan10</th>\n",
       "      <th>freq40.04_chan11</th>\n",
       "      <th>freq40.04_chan12</th>\n",
       "      <th>freq40.04_chan13</th>\n",
       "      <th>freq40.04_chan14</th>\n",
       "      <th>freq40.04_chan15</th>\n",
       "      <th>state</th>\n",
       "    </tr>\n",
       "  </thead>\n",
       "  <tbody>\n",
       "    <tr>\n",
       "      <th>0</th>\n",
       "      <td>16.907746</td>\n",
       "      <td>18.031327</td>\n",
       "      <td>16.695582</td>\n",
       "      <td>16.928798</td>\n",
       "      <td>15.740280</td>\n",
       "      <td>13.882950</td>\n",
       "      <td>12.989385</td>\n",
       "      <td>13.230149</td>\n",
       "      <td>12.057229</td>\n",
       "      <td>12.278152</td>\n",
       "      <td>...</td>\n",
       "      <td>8.632315</td>\n",
       "      <td>7.075573</td>\n",
       "      <td>6.573092</td>\n",
       "      <td>6.963042</td>\n",
       "      <td>3.228627</td>\n",
       "      <td>-0.163291</td>\n",
       "      <td>3.477128</td>\n",
       "      <td>5.864448</td>\n",
       "      <td>10.546624</td>\n",
       "      <td>awake</td>\n",
       "    </tr>\n",
       "    <tr>\n",
       "      <th>1</th>\n",
       "      <td>18.219623</td>\n",
       "      <td>17.288638</td>\n",
       "      <td>14.989972</td>\n",
       "      <td>14.163098</td>\n",
       "      <td>13.005335</td>\n",
       "      <td>11.676813</td>\n",
       "      <td>10.656620</td>\n",
       "      <td>9.535862</td>\n",
       "      <td>8.410238</td>\n",
       "      <td>8.727287</td>\n",
       "      <td>...</td>\n",
       "      <td>8.157442</td>\n",
       "      <td>6.245022</td>\n",
       "      <td>5.354519</td>\n",
       "      <td>4.539076</td>\n",
       "      <td>2.609511</td>\n",
       "      <td>-2.032236</td>\n",
       "      <td>0.119382</td>\n",
       "      <td>-0.759690</td>\n",
       "      <td>1.761731</td>\n",
       "      <td>awake</td>\n",
       "    </tr>\n",
       "    <tr>\n",
       "      <th>2</th>\n",
       "      <td>19.019229</td>\n",
       "      <td>18.067138</td>\n",
       "      <td>16.807576</td>\n",
       "      <td>16.786777</td>\n",
       "      <td>16.122223</td>\n",
       "      <td>15.413145</td>\n",
       "      <td>15.789958</td>\n",
       "      <td>13.978603</td>\n",
       "      <td>13.332066</td>\n",
       "      <td>12.588074</td>\n",
       "      <td>...</td>\n",
       "      <td>11.350471</td>\n",
       "      <td>8.595126</td>\n",
       "      <td>7.926903</td>\n",
       "      <td>8.933696</td>\n",
       "      <td>8.372123</td>\n",
       "      <td>3.774294</td>\n",
       "      <td>9.054524</td>\n",
       "      <td>11.292854</td>\n",
       "      <td>15.218561</td>\n",
       "      <td>awake</td>\n",
       "    </tr>\n",
       "    <tr>\n",
       "      <th>3</th>\n",
       "      <td>17.412197</td>\n",
       "      <td>15.146518</td>\n",
       "      <td>13.969461</td>\n",
       "      <td>13.137674</td>\n",
       "      <td>12.669202</td>\n",
       "      <td>12.023402</td>\n",
       "      <td>10.728541</td>\n",
       "      <td>10.636679</td>\n",
       "      <td>9.142379</td>\n",
       "      <td>8.341223</td>\n",
       "      <td>...</td>\n",
       "      <td>7.009948</td>\n",
       "      <td>5.286581</td>\n",
       "      <td>5.128774</td>\n",
       "      <td>4.678555</td>\n",
       "      <td>1.538661</td>\n",
       "      <td>-2.308884</td>\n",
       "      <td>-1.166614</td>\n",
       "      <td>0.845271</td>\n",
       "      <td>0.130059</td>\n",
       "      <td>awake</td>\n",
       "    </tr>\n",
       "    <tr>\n",
       "      <th>4</th>\n",
       "      <td>16.852660</td>\n",
       "      <td>15.657018</td>\n",
       "      <td>15.303795</td>\n",
       "      <td>15.510230</td>\n",
       "      <td>15.219867</td>\n",
       "      <td>14.411664</td>\n",
       "      <td>14.829397</td>\n",
       "      <td>14.049612</td>\n",
       "      <td>12.047110</td>\n",
       "      <td>12.566136</td>\n",
       "      <td>...</td>\n",
       "      <td>10.116168</td>\n",
       "      <td>7.155333</td>\n",
       "      <td>8.677771</td>\n",
       "      <td>9.350833</td>\n",
       "      <td>9.052597</td>\n",
       "      <td>2.516190</td>\n",
       "      <td>11.085336</td>\n",
       "      <td>13.465725</td>\n",
       "      <td>17.404638</td>\n",
       "      <td>awake</td>\n",
       "    </tr>\n",
       "    <tr>\n",
       "      <th>...</th>\n",
       "      <td>...</td>\n",
       "      <td>...</td>\n",
       "      <td>...</td>\n",
       "      <td>...</td>\n",
       "      <td>...</td>\n",
       "      <td>...</td>\n",
       "      <td>...</td>\n",
       "      <td>...</td>\n",
       "      <td>...</td>\n",
       "      <td>...</td>\n",
       "      <td>...</td>\n",
       "      <td>...</td>\n",
       "      <td>...</td>\n",
       "      <td>...</td>\n",
       "      <td>...</td>\n",
       "      <td>...</td>\n",
       "      <td>...</td>\n",
       "      <td>...</td>\n",
       "      <td>...</td>\n",
       "      <td>...</td>\n",
       "      <td>...</td>\n",
       "    </tr>\n",
       "    <tr>\n",
       "      <th>9216</th>\n",
       "      <td>5.384316</td>\n",
       "      <td>4.520180</td>\n",
       "      <td>4.416598</td>\n",
       "      <td>4.200604</td>\n",
       "      <td>2.423884</td>\n",
       "      <td>1.408764</td>\n",
       "      <td>2.341573</td>\n",
       "      <td>1.330297</td>\n",
       "      <td>2.545163</td>\n",
       "      <td>-0.069842</td>\n",
       "      <td>...</td>\n",
       "      <td>-3.010566</td>\n",
       "      <td>-3.624492</td>\n",
       "      <td>-3.297079</td>\n",
       "      <td>-4.472080</td>\n",
       "      <td>-4.562900</td>\n",
       "      <td>-4.254393</td>\n",
       "      <td>-5.182509</td>\n",
       "      <td>-3.241753</td>\n",
       "      <td>-4.578022</td>\n",
       "      <td>latesleep</td>\n",
       "    </tr>\n",
       "    <tr>\n",
       "      <th>9217</th>\n",
       "      <td>7.748099</td>\n",
       "      <td>7.314080</td>\n",
       "      <td>7.430064</td>\n",
       "      <td>6.268098</td>\n",
       "      <td>4.917377</td>\n",
       "      <td>3.943951</td>\n",
       "      <td>3.213651</td>\n",
       "      <td>3.149770</td>\n",
       "      <td>3.304940</td>\n",
       "      <td>1.394683</td>\n",
       "      <td>...</td>\n",
       "      <td>0.282741</td>\n",
       "      <td>-0.707562</td>\n",
       "      <td>-0.952522</td>\n",
       "      <td>-1.971733</td>\n",
       "      <td>-5.201816</td>\n",
       "      <td>-4.321264</td>\n",
       "      <td>-4.879158</td>\n",
       "      <td>-3.198854</td>\n",
       "      <td>-2.762537</td>\n",
       "      <td>latesleep</td>\n",
       "    </tr>\n",
       "    <tr>\n",
       "      <th>9218</th>\n",
       "      <td>6.214232</td>\n",
       "      <td>6.497935</td>\n",
       "      <td>6.618647</td>\n",
       "      <td>5.300278</td>\n",
       "      <td>3.599756</td>\n",
       "      <td>3.440659</td>\n",
       "      <td>3.094485</td>\n",
       "      <td>1.248967</td>\n",
       "      <td>3.086514</td>\n",
       "      <td>0.598200</td>\n",
       "      <td>...</td>\n",
       "      <td>-1.190125</td>\n",
       "      <td>-2.751964</td>\n",
       "      <td>-3.643891</td>\n",
       "      <td>-3.603325</td>\n",
       "      <td>-5.215729</td>\n",
       "      <td>-4.615625</td>\n",
       "      <td>-5.367402</td>\n",
       "      <td>-4.736421</td>\n",
       "      <td>-4.348551</td>\n",
       "      <td>latesleep</td>\n",
       "    </tr>\n",
       "    <tr>\n",
       "      <th>9219</th>\n",
       "      <td>6.656751</td>\n",
       "      <td>6.654786</td>\n",
       "      <td>6.809023</td>\n",
       "      <td>5.737107</td>\n",
       "      <td>5.398233</td>\n",
       "      <td>4.580573</td>\n",
       "      <td>3.932749</td>\n",
       "      <td>4.273100</td>\n",
       "      <td>3.936683</td>\n",
       "      <td>1.769453</td>\n",
       "      <td>...</td>\n",
       "      <td>-0.811583</td>\n",
       "      <td>-2.218679</td>\n",
       "      <td>-3.566628</td>\n",
       "      <td>-3.775201</td>\n",
       "      <td>-5.705252</td>\n",
       "      <td>-5.420793</td>\n",
       "      <td>-4.880630</td>\n",
       "      <td>-3.688537</td>\n",
       "      <td>-3.957618</td>\n",
       "      <td>latesleep</td>\n",
       "    </tr>\n",
       "    <tr>\n",
       "      <th>9220</th>\n",
       "      <td>6.472601</td>\n",
       "      <td>6.021548</td>\n",
       "      <td>5.857081</td>\n",
       "      <td>4.817756</td>\n",
       "      <td>4.438157</td>\n",
       "      <td>3.151475</td>\n",
       "      <td>3.403860</td>\n",
       "      <td>1.930240</td>\n",
       "      <td>2.259758</td>\n",
       "      <td>0.447708</td>\n",
       "      <td>...</td>\n",
       "      <td>-0.179335</td>\n",
       "      <td>-0.660441</td>\n",
       "      <td>-2.227725</td>\n",
       "      <td>-3.483553</td>\n",
       "      <td>-3.607343</td>\n",
       "      <td>-3.861840</td>\n",
       "      <td>-4.167543</td>\n",
       "      <td>-3.771563</td>\n",
       "      <td>-4.808556</td>\n",
       "      <td>latesleep</td>\n",
       "    </tr>\n",
       "  </tbody>\n",
       "</table>\n",
       "<p>7532 rows × 2176 columns</p>\n",
       "</div>"
      ],
      "text/plain": [
       "      freq4.88_chan01  freq4.88_chan02  freq4.88_chan03  freq4.88_chan04  \\\n",
       "0           16.907746        18.031327        16.695582        16.928798   \n",
       "1           18.219623        17.288638        14.989972        14.163098   \n",
       "2           19.019229        18.067138        16.807576        16.786777   \n",
       "3           17.412197        15.146518        13.969461        13.137674   \n",
       "4           16.852660        15.657018        15.303795        15.510230   \n",
       "...               ...              ...              ...              ...   \n",
       "9216         5.384316         4.520180         4.416598         4.200604   \n",
       "9217         7.748099         7.314080         7.430064         6.268098   \n",
       "9218         6.214232         6.497935         6.618647         5.300278   \n",
       "9219         6.656751         6.654786         6.809023         5.737107   \n",
       "9220         6.472601         6.021548         5.857081         4.817756   \n",
       "\n",
       "      freq4.88_chan05  freq4.88_chan06  freq4.88_chan07  freq4.88_chan08  \\\n",
       "0           15.740280        13.882950        12.989385        13.230149   \n",
       "1           13.005335        11.676813        10.656620         9.535862   \n",
       "2           16.122223        15.413145        15.789958        13.978603   \n",
       "3           12.669202        12.023402        10.728541        10.636679   \n",
       "4           15.219867        14.411664        14.829397        14.049612   \n",
       "...               ...              ...              ...              ...   \n",
       "9216         2.423884         1.408764         2.341573         1.330297   \n",
       "9217         4.917377         3.943951         3.213651         3.149770   \n",
       "9218         3.599756         3.440659         3.094485         1.248967   \n",
       "9219         5.398233         4.580573         3.932749         4.273100   \n",
       "9220         4.438157         3.151475         3.403860         1.930240   \n",
       "\n",
       "      freq4.88_chan09  freq4.88_chan10  ...  freq40.04_chan07  \\\n",
       "0           12.057229        12.278152  ...          8.632315   \n",
       "1            8.410238         8.727287  ...          8.157442   \n",
       "2           13.332066        12.588074  ...         11.350471   \n",
       "3            9.142379         8.341223  ...          7.009948   \n",
       "4           12.047110        12.566136  ...         10.116168   \n",
       "...               ...              ...  ...               ...   \n",
       "9216         2.545163        -0.069842  ...         -3.010566   \n",
       "9217         3.304940         1.394683  ...          0.282741   \n",
       "9218         3.086514         0.598200  ...         -1.190125   \n",
       "9219         3.936683         1.769453  ...         -0.811583   \n",
       "9220         2.259758         0.447708  ...         -0.179335   \n",
       "\n",
       "      freq40.04_chan08  freq40.04_chan09  freq40.04_chan10  freq40.04_chan11  \\\n",
       "0             7.075573          6.573092          6.963042          3.228627   \n",
       "1             6.245022          5.354519          4.539076          2.609511   \n",
       "2             8.595126          7.926903          8.933696          8.372123   \n",
       "3             5.286581          5.128774          4.678555          1.538661   \n",
       "4             7.155333          8.677771          9.350833          9.052597   \n",
       "...                ...               ...               ...               ...   \n",
       "9216         -3.624492         -3.297079         -4.472080         -4.562900   \n",
       "9217         -0.707562         -0.952522         -1.971733         -5.201816   \n",
       "9218         -2.751964         -3.643891         -3.603325         -5.215729   \n",
       "9219         -2.218679         -3.566628         -3.775201         -5.705252   \n",
       "9220         -0.660441         -2.227725         -3.483553         -3.607343   \n",
       "\n",
       "      freq40.04_chan12  freq40.04_chan13  freq40.04_chan14  freq40.04_chan15  \\\n",
       "0            -0.163291          3.477128          5.864448         10.546624   \n",
       "1            -2.032236          0.119382         -0.759690          1.761731   \n",
       "2             3.774294          9.054524         11.292854         15.218561   \n",
       "3            -2.308884         -1.166614          0.845271          0.130059   \n",
       "4             2.516190         11.085336         13.465725         17.404638   \n",
       "...                ...               ...               ...               ...   \n",
       "9216         -4.254393         -5.182509         -3.241753         -4.578022   \n",
       "9217         -4.321264         -4.879158         -3.198854         -2.762537   \n",
       "9218         -4.615625         -5.367402         -4.736421         -4.348551   \n",
       "9219         -5.420793         -4.880630         -3.688537         -3.957618   \n",
       "9220         -3.861840         -4.167543         -3.771563         -4.808556   \n",
       "\n",
       "          state  \n",
       "0         awake  \n",
       "1         awake  \n",
       "2         awake  \n",
       "3         awake  \n",
       "4         awake  \n",
       "...         ...  \n",
       "9216  latesleep  \n",
       "9217  latesleep  \n",
       "9218  latesleep  \n",
       "9219  latesleep  \n",
       "9220  latesleep  \n",
       "\n",
       "[7532 rows x 2176 columns]"
      ]
     },
     "execution_count": 35,
     "metadata": {},
     "output_type": "execute_result"
    }
   ],
   "source": [
    "classifierfeat_df"
   ]
  },
  {
   "cell_type": "code",
   "execution_count": null,
   "metadata": {},
   "outputs": [],
   "source": []
  },
  {
   "cell_type": "code",
   "execution_count": 36,
   "metadata": {},
   "outputs": [],
   "source": [
    "def evaluate(model, test_features, test_labels):\n",
    "    pred_labels = model.predict(test_features)\n",
    "    accuracy = metrics.accuracy_score(test_labels, pred_labels)\n",
    "    print('accuracy :',accuracy)\n",
    "    print(confusion_matrix(np.argmax(test_labels, axis=1), np.argmax(pred_labels, axis=1)))"
   ]
  },
  {
   "cell_type": "code",
   "execution_count": null,
   "metadata": {},
   "outputs": [],
   "source": []
  },
  {
   "cell_type": "code",
   "execution_count": null,
   "metadata": {},
   "outputs": [],
   "source": []
  },
  {
   "cell_type": "code",
   "execution_count": 37,
   "metadata": {},
   "outputs": [],
   "source": [
    "def create_rfclassifier(classifierfeat_df, randomstate_testtrainsplit):\n",
    "    \n",
    "    classifierdata  = classifierfeat_df.values\n",
    "    # split into inputs and outputs\n",
    "    x, y = classifierfeat_df.iloc[:, :-1], classifierfeat_df.iloc[:, -1]\n",
    "    \n",
    "    x_sm, y_sm = SMOTE().fit_resample(x, y)\n",
    "    \n",
    "    print('before smote :\\n',pd.value_counts(y))\n",
    "    print('after smote :\\n',pd.value_counts(y_sm))\n",
    "    \n",
    "    # split into train test sets\n",
    "    x_train, x_test, y_train, y_test = train_test_split(x_sm, y_sm, test_size=0.2, stratify=y_sm, \n",
    "                                                                random_state=randomstate_testtrainsplit)\n",
    "    \n",
    "    #scale the data\n",
    "    sc = StandardScaler()\n",
    "    x_train = sc.fit_transform(x_train)\n",
    "    x_test = sc.transform (x_test)\n",
    "    \n",
    "    pd.value_counts(y_train)\n",
    "    \n",
    "    encoder = LabelBinarizer()\n",
    "    encoder.fit(y_train)\n",
    "    y_train = encoder.transform(y_train)\n",
    "    y_test = encoder.transform(y_test)\n",
    "    \n",
    "    labels2 = np.argmax(y_train, axis =1)\n",
    "    pd.value_counts(labels2)\n",
    "    \n",
    "    print(encoder.classes_)\n",
    "    \n",
    "    mapping = dict(zip(range(len(encoder.classes_)), encoder.classes_))\n",
    " \n",
    "    print(encoder.transform(encoder.classes_))\n",
    "    \n",
    "    features_len = x_train.shape[1]\n",
    "    \n",
    "    num_labels = len(np.unique(y))\n",
    "    \n",
    "    #basic random forest classifier..\n",
    "    model = RandomForestClassifier(n_estimators=200, criterion='gini', min_samples_split=5, \n",
    "                                   min_samples_leaf=2, max_features='auto', bootstrap=True, n_jobs=-1, \n",
    "                                   random_state=randomstate_testtrainsplit)\n",
    "    model.fit(x_train,y_train)\n",
    "    #y_pred = model.predict(x_test)\n",
    "    \n",
    "    print('\\n \\n basic random forest classifier with no search')\n",
    "    evaluate(model, x_test, y_test)\n",
    "\n",
    "    \n",
    "    #random forest classifier using random search of parameters..\n",
    "    print('\\n \\n best random forest classifier based on random search')\n",
    "    \n",
    "    # Number of trees in random forest\n",
    "    n_estimators = [int(x) for x in range(200,2000,200)]\n",
    "    # Number of features to consider at every split\n",
    "    max_features = ['auto', 'sqrt']\n",
    "    # Maximum number of levels in tree\n",
    "    max_depth = [int(x) for x in np.linspace(10, 110, num = 11)]\n",
    "    max_depth.append(None)\n",
    "    # Minimum number of samples required to split a node\n",
    "    min_samples_split = [2, 5, 10]\n",
    "    # Minimum number of samples required at each leaf node\n",
    "    min_samples_leaf = [1, 2, 4]\n",
    "    # Method of selecting samples for training each tree\n",
    "    bootstrap = [True, False]\n",
    "    # Create the random grid\n",
    "    random_grid = {'n_estimators': n_estimators,\n",
    "                   'max_features': max_features,\n",
    "                   'max_depth': max_depth,\n",
    "                   'min_samples_split': min_samples_split,\n",
    "                   'min_samples_leaf': min_samples_leaf,\n",
    "                   'bootstrap': bootstrap}\n",
    "    \n",
    "    # Use the random grid to search for best hyperparameters\n",
    "    # First create the base model to tune\n",
    "    rf = RandomForestClassifier()\n",
    "    # Random search of parameters, using 3 fold cross validation, \n",
    "    # search across 100 different combinations, and use all available cores\n",
    "    rf_random = RandomizedSearchCV(estimator = rf, param_distributions = random_grid, \n",
    "                                   n_iter = 100, cv = 3, verbose=2,\n",
    "                                   random_state=randomstate_testtrainsplit, n_jobs = -1)\n",
    "    # Fit the random search model\n",
    "    rf_random.fit(x_train, y_train)\n",
    "    \n",
    "    \n",
    "    \n",
    "    print(rf_random.best_params_)\n",
    "    best_randomgrid = rf_random.best_estimator_\n",
    "    evaluate(best_randomgrid,x_test,y_test)\n",
    "    \n",
    "    #random forest classifier using grid search of choosen parameters..\n",
    "    print('\\n \\n best random forest classifier based on refined search on choosen parameters')\n",
    "    \n",
    "    # Create the parameter grid based on the results of random search \n",
    "    param_grid = {\n",
    "        'n_estimators': [rf_random.best_params_['n_estimators']],\n",
    "        'min_samples_split': [rf_random.best_params_['min_samples_split']],\n",
    "        'min_samples_leaf': [rf_random.best_params_['min_samples_leaf']],\n",
    "        'max_features': [rf_random.best_params_['max_features']],\n",
    "        'max_depth': [rf_random.best_params_['max_depth']],\n",
    "        'bootstrap': [rf_random.best_params_['bootstrap']],\n",
    "    }\n",
    "    # Create a based model\n",
    "    rf = RandomForestClassifier()\n",
    "    # Instantiate the grid search model\n",
    "    grid_search = GridSearchCV(estimator = rf, param_grid = param_grid, cv = 3,\n",
    "                               n_jobs = -1, verbose = 2)\n",
    "\n",
    "    # Fit the grid search to the data\n",
    "    grid_search.fit(x_train,y_train)\n",
    "    \n",
    "    print(grid_search.best_params_)\n",
    "    \n",
    "    best_grid = grid_search.best_estimator_\n",
    "    evaluate(best_grid,x_test,y_test)\n",
    "    \n",
    "    # Make predictions for the test set\n",
    "    y_pred = best_grid.predict(x_test)\n",
    "    \n",
    "    #create confusion matrix\n",
    "    cnf_matrix = confusion_matrix(np.argmax(y_test, axis=1), np.argmax(y_pred, axis=1))\n",
    "\n",
    "    #create performance metrics\n",
    "    perf_metrics = classification_report(y_test, y_pred, output_dict=True)\n",
    "    perf_metrics_df = pd.DataFrame(perf_metrics).transpose()\n",
    "    perf_metrics_df = perf_metrics_df.drop(labels=['micro avg','macro avg','weighted avg','samples avg'], axis=0)\n",
    "    perf_metrics_df = perf_metrics_df.drop(columns='support')\n",
    "    perf_metrics_df = perf_metrics_df.reset_index().rename(columns={'index': 'label'})\n",
    "    perf_metrics_df['label'] = perf_metrics_df['label'].astype(int)\n",
    "    perf_metrics_df = perf_metrics_df.replace({'label': mapping})\n",
    "    \n",
    "    return encoder, best_grid, x_test, y_test, cnf_matrix, perf_metrics_df "
   ]
  },
  {
   "cell_type": "code",
   "execution_count": null,
   "metadata": {},
   "outputs": [],
   "source": []
  },
  {
   "cell_type": "code",
   "execution_count": 38,
   "metadata": {},
   "outputs": [
    {
     "data": {
      "text/plain": [
       "'/rds/project/tb419/rds-tb419-bekinschtein/Sri/SpatialAttention_Drowsiness/drosSleepStages_SciAdvances2023/data/lfp_data/spectrum/forestclassifier/classifier_rf_files/'"
      ]
     },
     "execution_count": 38,
     "metadata": {},
     "output_type": "execute_result"
    }
   ],
   "source": [
    "classifierfolderpath"
   ]
  },
  {
   "cell_type": "code",
   "execution_count": 39,
   "metadata": {},
   "outputs": [
    {
     "name": "stdout",
     "output_type": "stream",
     "text": [
      "results loaded from disk..\n"
     ]
    }
   ],
   "source": [
    "classifierfilepath = classifierfolderpath + 'class_iter_01' + '.pkl'\n",
    "if os.path.exists(classifierfilepath): \n",
    "    print('results loaded from disk..')\n",
    "    encoder_01, best_grid_01, x_test_01, y_test_01, cnf_matrix_01, perf_metrics_df_01 =\\\n",
    "                              pickle.load(open(classifierfilepath,\"rb\"))\n",
    "\n",
    "else:\n",
    "    encoder_01, best_grid_01, x_test_01, y_test_01, cnf_matrix_01, perf_metrics_df_01 =\\\n",
    "                              create_rfclassifier(classifierfeat_df, randomstate_testtrainsplit = 1)\n",
    "    pickle.dump([encoder_01, best_grid_01, x_test_01, y_test_01, cnf_matrix_01, perf_metrics_df_01], \n",
    "                open(classifierfilepath, \"wb\"))"
   ]
  },
  {
   "cell_type": "code",
   "execution_count": 40,
   "metadata": {},
   "outputs": [
    {
     "name": "stdout",
     "output_type": "stream",
     "text": [
      "results loaded from disk..\n"
     ]
    }
   ],
   "source": [
    "classifierfilepath = classifierfolderpath + 'class_iter_02' + '.pkl'\n",
    "if os.path.exists(classifierfilepath): \n",
    "    print('results loaded from disk..')\n",
    "    encoder_02, best_grid_02, x_test_02, y_test_02, cnf_matrix_02, perf_metrics_df_02 =\\\n",
    "                              pickle.load(open(classifierfilepath,\"rb\"))\n",
    "\n",
    "else:\n",
    "    encoder_02, best_grid_02, x_test_02, y_test_02, cnf_matrix_02, perf_metrics_df_02 =\\\n",
    "                              create_rfclassifier(classifierfeat_df, randomstate_testtrainsplit = 2)\n",
    "    pickle.dump([encoder_02, best_grid_02, x_test_02, y_test_02, cnf_matrix_02, perf_metrics_df_02], \n",
    "                open(classifierfilepath, \"wb\"))"
   ]
  },
  {
   "cell_type": "code",
   "execution_count": 41,
   "metadata": {},
   "outputs": [
    {
     "name": "stdout",
     "output_type": "stream",
     "text": [
      "results loaded from disk..\n"
     ]
    }
   ],
   "source": [
    "classifierfilepath = classifierfolderpath + 'class_iter_03' + '.pkl'\n",
    "if os.path.exists(classifierfilepath): \n",
    "    print('results loaded from disk..')\n",
    "    encoder_03, best_grid_03, x_test_03, y_test_03, cnf_matrix_03, perf_metrics_df_03 =\\\n",
    "                              pickle.load(open(classifierfilepath,\"rb\"))\n",
    "\n",
    "else:\n",
    "    encoder_03, best_grid_03, x_test_03, y_test_03, cnf_matrix_03, perf_metrics_df_03 =\\\n",
    "                              create_rfclassifier(classifierfeat_df, randomstate_testtrainsplit = 3)\n",
    "    pickle.dump([encoder_03, best_grid_03, x_test_03, y_test_03, cnf_matrix_03, perf_metrics_df_03], \n",
    "                open(classifierfilepath, \"wb\"))"
   ]
  },
  {
   "cell_type": "code",
   "execution_count": 42,
   "metadata": {},
   "outputs": [
    {
     "name": "stdout",
     "output_type": "stream",
     "text": [
      "results loaded from disk..\n"
     ]
    }
   ],
   "source": [
    "classifierfilepath = classifierfolderpath + 'class_iter_04' + '.pkl'\n",
    "if os.path.exists(classifierfilepath): \n",
    "    print('results loaded from disk..')\n",
    "    encoder_04, best_grid_04, x_test_04, y_test_04, cnf_matrix_04, perf_metrics_df_04 =\\\n",
    "                              pickle.load(open(classifierfilepath,\"rb\"))\n",
    "\n",
    "else:\n",
    "    encoder_04, best_grid_04, x_test_04, y_test_04, cnf_matrix_04, perf_metrics_df_04 =\\\n",
    "                              create_rfclassifier(classifierfeat_df, randomstate_testtrainsplit = 4)\n",
    "    pickle.dump([encoder_04, best_grid_04, x_test_04, y_test_04, cnf_matrix_04, perf_metrics_df_04], \n",
    "                open(classifierfilepath, \"wb\"))"
   ]
  },
  {
   "cell_type": "code",
   "execution_count": 43,
   "metadata": {},
   "outputs": [
    {
     "name": "stdout",
     "output_type": "stream",
     "text": [
      "results loaded from disk..\n"
     ]
    }
   ],
   "source": [
    "classifierfilepath = classifierfolderpath + 'class_iter_05' + '.pkl'\n",
    "if os.path.exists(classifierfilepath): \n",
    "    print('results loaded from disk..')\n",
    "    encoder_05, best_grid_05, x_test_05, y_test_05, cnf_matrix_05, perf_metrics_df_05 =\\\n",
    "                              pickle.load(open(classifierfilepath,\"rb\"))\n",
    "\n",
    "else:\n",
    "    encoder_05, best_grid_05, x_test_05, y_test_05, cnf_matrix_05, perf_metrics_df_05 =\\\n",
    "                              create_rfclassifier(classifierfeat_df, randomstate_testtrainsplit = 5)\n",
    "    pickle.dump([encoder_05, best_grid_05, x_test_05, y_test_05, cnf_matrix_05, perf_metrics_df_05], \n",
    "                open(classifierfilepath, \"wb\"))"
   ]
  },
  {
   "cell_type": "code",
   "execution_count": null,
   "metadata": {},
   "outputs": [],
   "source": []
  },
  {
   "cell_type": "code",
   "execution_count": 44,
   "metadata": {},
   "outputs": [],
   "source": [
    "# {'n_estimators': 1400,\n",
    "#  'min_samples_split': 2,\n",
    "#  'min_samples_leaf': 1,\n",
    "#  'max_features': 'sqrt',\n",
    "#  'max_depth': 80,\n",
    "#  'bootstrap': False}"
   ]
  },
  {
   "cell_type": "code",
   "execution_count": 45,
   "metadata": {},
   "outputs": [],
   "source": [
    "# grid_search.best_params_\n",
    "# {'bootstrap': False,\n",
    "#  'max_depth': 80,\n",
    "#  'max_features': 'sqrt',\n",
    "#  'min_samples_leaf': 1,\n",
    "#  'min_samples_split': 2,\n",
    "#  'n_estimators': 1400}"
   ]
  },
  {
   "cell_type": "code",
   "execution_count": null,
   "metadata": {},
   "outputs": [],
   "source": []
  },
  {
   "cell_type": "code",
   "execution_count": null,
   "metadata": {},
   "outputs": [],
   "source": []
  },
  {
   "cell_type": "code",
   "execution_count": 46,
   "metadata": {},
   "outputs": [],
   "source": [
    "def rect(pos):\n",
    "    r = plt.Rectangle(pos-0.5, 1,1, facecolor=\"none\", edgecolor=\"k\", linewidth=2)\n",
    "    plt.gca().add_patch(r)"
   ]
  },
  {
   "cell_type": "code",
   "execution_count": 47,
   "metadata": {},
   "outputs": [],
   "source": [
    "def plot_confusion_matrix(cm, classes, fig, ax,\n",
    "                          normalize=False,\n",
    "                          cmap=plt.cm.Blues):\n",
    "    \"\"\"\n",
    "    This function prints and plots the confusion matrix.\n",
    "    Normalization can be applied by setting `normalize=True`.\n",
    "    \"\"\"\n",
    "    if normalize:\n",
    "        cm = cm.astype('float') / cm.sum(axis=1)[:, np.newaxis]\n",
    "        print(\"Normalized confusion matrix\")\n",
    "    else:\n",
    "        print('Confusion matrix, without normalization')\n",
    "\n",
    "    # print(cm)\n",
    "    \n",
    "    \n",
    "    im = plt.imshow(cm, alpha=1, interpolation='none', cmap=cmap)\n",
    "    im.set_clim(0, 1.0)\n",
    "    cbar = fig.colorbar(im, ax=ax1, ticks=[0, 0.2, 0.4, 0.6, 0.8, 1.0], fraction=0.046, pad=0.04)\n",
    "    cbar.ax.tick_params(labelsize=14)\n",
    "\n",
    "    tick_marks = np.arange(len(classes))\n",
    "    plt.xticks(tick_marks, classes, rotation=90)\n",
    "    plt.yticks(tick_marks, classes)\n",
    "\n",
    "    fmt = '.3f' if normalize else 'd'\n",
    "    thresh = cm.max() / 2.\n",
    "    for i, j in itertools.product(range(cm.shape[0]), range(cm.shape[1])):\n",
    "        plt.text(j, i, format(cm[i, j], fmt),fontsize=14,\n",
    "                 horizontalalignment=\"center\",\n",
    "                 color=\"black\" if cm[i, j] > thresh else \"black\")\n",
    "\n",
    "    plt.tight_layout()\n",
    "    plt.ylabel('True label')\n",
    "    plt.xlabel('Predicted label')"
   ]
  },
  {
   "cell_type": "code",
   "execution_count": null,
   "metadata": {},
   "outputs": [],
   "source": []
  },
  {
   "cell_type": "code",
   "execution_count": 48,
   "metadata": {},
   "outputs": [
    {
     "name": "stdout",
     "output_type": "stream",
     "text": [
      "encoder classes are equal\n",
      "encoder classes are equal\n",
      "encoder classes are equal\n",
      "encoder classes are equal\n",
      "encoder classes are equal\n",
      "encoder classes are equal\n",
      "encoder classes are equal\n",
      "encoder classes are equal\n",
      "encoder classes are equal\n",
      "encoder classes are equal\n"
     ]
    }
   ],
   "source": [
    "from itertools import combinations\n",
    "\n",
    "for pair in combinations([encoder_01.classes_, encoder_02.classes_, \n",
    "                          encoder_03.classes_, encoder_04.classes_,\n",
    "                          encoder_05.classes_], 2):\n",
    "    if (np.array_equal(pair[0], pair[1])):\n",
    "        print('encoder classes are equal')\n",
    "    else:\n",
    "        print('encoder classes are not equal')"
   ]
  },
  {
   "cell_type": "code",
   "execution_count": null,
   "metadata": {},
   "outputs": [],
   "source": []
  },
  {
   "cell_type": "code",
   "execution_count": 49,
   "metadata": {},
   "outputs": [
    {
     "data": {
      "text/plain": [
       "array(['awake', 'earlysleep', 'latesleep', 'midsleep', 'presleep'],\n",
       "      dtype='<U10')"
      ]
     },
     "execution_count": 49,
     "metadata": {},
     "output_type": "execute_result"
    }
   ],
   "source": [
    "encoder_01.classes_"
   ]
  },
  {
   "cell_type": "code",
   "execution_count": 50,
   "metadata": {},
   "outputs": [
    {
     "data": {
      "text/plain": [
       "array(['awake', 'presleep', 'earlysleep', 'midsleep', 'latesleep'],\n",
       "      dtype='<U10')"
      ]
     },
     "execution_count": 50,
     "metadata": {},
     "output_type": "execute_result"
    }
   ],
   "source": [
    "ordered_index = np.array([0,4,1,3,2])\n",
    "ordered_classes = encoder_01.classes_[ordered_index]\n",
    "ordered_classes"
   ]
  },
  {
   "cell_type": "code",
   "execution_count": 51,
   "metadata": {},
   "outputs": [],
   "source": [
    "ordered_cm_01 = cnf_matrix_01[ordered_index][:,ordered_index]\n",
    "ordered_cm_02 = cnf_matrix_02[ordered_index][:,ordered_index]\n",
    "ordered_cm_03 = cnf_matrix_03[ordered_index][:,ordered_index]\n",
    "ordered_cm_04 = cnf_matrix_04[ordered_index][:,ordered_index]\n",
    "ordered_cm_05 = cnf_matrix_05[ordered_index][:,ordered_index]"
   ]
  },
  {
   "cell_type": "code",
   "execution_count": 52,
   "metadata": {},
   "outputs": [
    {
     "data": {
      "text/plain": [
       "array([[1109,    0,    0,    8,    0],\n",
       "       [  10, 1107,    0,    0,    0],\n",
       "       [   2,    0, 1115,    0,    0],\n",
       "       [  41,    0,    0, 1076,    0],\n",
       "       [   3,    0,    0,    0, 1114]])"
      ]
     },
     "execution_count": 52,
     "metadata": {},
     "output_type": "execute_result"
    }
   ],
   "source": [
    "ordered_cm_01"
   ]
  },
  {
   "cell_type": "code",
   "execution_count": 53,
   "metadata": {},
   "outputs": [
    {
     "data": {
      "text/html": [
       "<div>\n",
       "<style scoped>\n",
       "    .dataframe tbody tr th:only-of-type {\n",
       "        vertical-align: middle;\n",
       "    }\n",
       "\n",
       "    .dataframe tbody tr th {\n",
       "        vertical-align: top;\n",
       "    }\n",
       "\n",
       "    .dataframe thead th {\n",
       "        text-align: right;\n",
       "    }\n",
       "</style>\n",
       "<table border=\"1\" class=\"dataframe\">\n",
       "  <thead>\n",
       "    <tr style=\"text-align: right;\">\n",
       "      <th></th>\n",
       "      <th>label</th>\n",
       "      <th>precision</th>\n",
       "      <th>recall</th>\n",
       "      <th>f1-score</th>\n",
       "    </tr>\n",
       "  </thead>\n",
       "  <tbody>\n",
       "    <tr>\n",
       "      <th>0</th>\n",
       "      <td>awake</td>\n",
       "      <td>0.988926</td>\n",
       "      <td>0.799463</td>\n",
       "      <td>0.884158</td>\n",
       "    </tr>\n",
       "    <tr>\n",
       "      <th>1</th>\n",
       "      <td>earlysleep</td>\n",
       "      <td>1.000000</td>\n",
       "      <td>0.998209</td>\n",
       "      <td>0.999104</td>\n",
       "    </tr>\n",
       "    <tr>\n",
       "      <th>2</th>\n",
       "      <td>latesleep</td>\n",
       "      <td>1.000000</td>\n",
       "      <td>0.997314</td>\n",
       "      <td>0.998655</td>\n",
       "    </tr>\n",
       "    <tr>\n",
       "      <th>3</th>\n",
       "      <td>midsleep</td>\n",
       "      <td>0.992620</td>\n",
       "      <td>0.963295</td>\n",
       "      <td>0.977737</td>\n",
       "    </tr>\n",
       "    <tr>\n",
       "      <th>4</th>\n",
       "      <td>presleep</td>\n",
       "      <td>1.000000</td>\n",
       "      <td>0.991047</td>\n",
       "      <td>0.995504</td>\n",
       "    </tr>\n",
       "  </tbody>\n",
       "</table>\n",
       "</div>"
      ],
      "text/plain": [
       "        label  precision    recall  f1-score\n",
       "0       awake   0.988926  0.799463  0.884158\n",
       "1  earlysleep   1.000000  0.998209  0.999104\n",
       "2   latesleep   1.000000  0.997314  0.998655\n",
       "3    midsleep   0.992620  0.963295  0.977737\n",
       "4    presleep   1.000000  0.991047  0.995504"
      ]
     },
     "execution_count": 53,
     "metadata": {},
     "output_type": "execute_result"
    }
   ],
   "source": [
    "perf_metrics_df_01"
   ]
  },
  {
   "cell_type": "code",
   "execution_count": 54,
   "metadata": {},
   "outputs": [
    {
     "data": {
      "text/plain": [
       "(5585, 5)"
      ]
     },
     "execution_count": 54,
     "metadata": {},
     "output_type": "execute_result"
    }
   ],
   "source": [
    "np.shape(y_test_01)"
   ]
  },
  {
   "cell_type": "code",
   "execution_count": null,
   "metadata": {},
   "outputs": [],
   "source": []
  },
  {
   "cell_type": "code",
   "execution_count": null,
   "metadata": {},
   "outputs": [],
   "source": []
  },
  {
   "cell_type": "code",
   "execution_count": 55,
   "metadata": {},
   "outputs": [
    {
     "data": {
      "text/plain": [
       "array([[5543,    0,    0,   42,    0],\n",
       "       [  36, 5549,    0,    0,    0],\n",
       "       [  24,    0, 5561,    0,    0],\n",
       "       [ 187,    0,    0, 5398,    0],\n",
       "       [  12,    0,    0,    0, 5573]])"
      ]
     },
     "execution_count": 55,
     "metadata": {},
     "output_type": "execute_result"
    }
   ],
   "source": [
    "merged_ordered_cm = np.add.reduce([ordered_cm_01, ordered_cm_02, ordered_cm_03, ordered_cm_04, ordered_cm_05])\n",
    "merged_ordered_cm"
   ]
  },
  {
   "cell_type": "code",
   "execution_count": 56,
   "metadata": {},
   "outputs": [],
   "source": [
    "perf_metrics_df_01['iteration'] = '01'\n",
    "perf_metrics_df_02['iteration'] = '02'\n",
    "perf_metrics_df_03['iteration'] = '03'\n",
    "perf_metrics_df_04['iteration'] = '04'\n",
    "perf_metrics_df_05['iteration'] = '05'"
   ]
  },
  {
   "cell_type": "code",
   "execution_count": 57,
   "metadata": {},
   "outputs": [
    {
     "data": {
      "text/html": [
       "<div>\n",
       "<style scoped>\n",
       "    .dataframe tbody tr th:only-of-type {\n",
       "        vertical-align: middle;\n",
       "    }\n",
       "\n",
       "    .dataframe tbody tr th {\n",
       "        vertical-align: top;\n",
       "    }\n",
       "\n",
       "    .dataframe thead th {\n",
       "        text-align: right;\n",
       "    }\n",
       "</style>\n",
       "<table border=\"1\" class=\"dataframe\">\n",
       "  <thead>\n",
       "    <tr style=\"text-align: right;\">\n",
       "      <th></th>\n",
       "      <th>label</th>\n",
       "      <th>precision</th>\n",
       "      <th>recall</th>\n",
       "      <th>f1-score</th>\n",
       "      <th>iteration</th>\n",
       "    </tr>\n",
       "  </thead>\n",
       "  <tbody>\n",
       "    <tr>\n",
       "      <th>0</th>\n",
       "      <td>awake</td>\n",
       "      <td>0.988926</td>\n",
       "      <td>0.799463</td>\n",
       "      <td>0.884158</td>\n",
       "      <td>01</td>\n",
       "    </tr>\n",
       "    <tr>\n",
       "      <th>1</th>\n",
       "      <td>earlysleep</td>\n",
       "      <td>1.000000</td>\n",
       "      <td>0.998209</td>\n",
       "      <td>0.999104</td>\n",
       "      <td>01</td>\n",
       "    </tr>\n",
       "    <tr>\n",
       "      <th>2</th>\n",
       "      <td>latesleep</td>\n",
       "      <td>1.000000</td>\n",
       "      <td>0.997314</td>\n",
       "      <td>0.998655</td>\n",
       "      <td>01</td>\n",
       "    </tr>\n",
       "    <tr>\n",
       "      <th>3</th>\n",
       "      <td>midsleep</td>\n",
       "      <td>0.992620</td>\n",
       "      <td>0.963295</td>\n",
       "      <td>0.977737</td>\n",
       "      <td>01</td>\n",
       "    </tr>\n",
       "    <tr>\n",
       "      <th>4</th>\n",
       "      <td>presleep</td>\n",
       "      <td>1.000000</td>\n",
       "      <td>0.991047</td>\n",
       "      <td>0.995504</td>\n",
       "      <td>01</td>\n",
       "    </tr>\n",
       "    <tr>\n",
       "      <th>0</th>\n",
       "      <td>awake</td>\n",
       "      <td>0.995609</td>\n",
       "      <td>0.811996</td>\n",
       "      <td>0.894477</td>\n",
       "      <td>02</td>\n",
       "    </tr>\n",
       "    <tr>\n",
       "      <th>1</th>\n",
       "      <td>earlysleep</td>\n",
       "      <td>1.000000</td>\n",
       "      <td>0.991943</td>\n",
       "      <td>0.995955</td>\n",
       "      <td>02</td>\n",
       "    </tr>\n",
       "    <tr>\n",
       "      <th>2</th>\n",
       "      <td>latesleep</td>\n",
       "      <td>1.000000</td>\n",
       "      <td>0.999105</td>\n",
       "      <td>0.999552</td>\n",
       "      <td>02</td>\n",
       "    </tr>\n",
       "    <tr>\n",
       "      <th>3</th>\n",
       "      <td>midsleep</td>\n",
       "      <td>0.991743</td>\n",
       "      <td>0.967771</td>\n",
       "      <td>0.979610</td>\n",
       "      <td>02</td>\n",
       "    </tr>\n",
       "    <tr>\n",
       "      <th>4</th>\n",
       "      <td>presleep</td>\n",
       "      <td>1.000000</td>\n",
       "      <td>0.996419</td>\n",
       "      <td>0.998206</td>\n",
       "      <td>02</td>\n",
       "    </tr>\n",
       "    <tr>\n",
       "      <th>0</th>\n",
       "      <td>awake</td>\n",
       "      <td>0.996560</td>\n",
       "      <td>0.777977</td>\n",
       "      <td>0.873806</td>\n",
       "      <td>03</td>\n",
       "    </tr>\n",
       "    <tr>\n",
       "      <th>1</th>\n",
       "      <td>earlysleep</td>\n",
       "      <td>1.000000</td>\n",
       "      <td>0.996419</td>\n",
       "      <td>0.998206</td>\n",
       "      <td>03</td>\n",
       "    </tr>\n",
       "    <tr>\n",
       "      <th>2</th>\n",
       "      <td>latesleep</td>\n",
       "      <td>1.000000</td>\n",
       "      <td>0.997314</td>\n",
       "      <td>0.998655</td>\n",
       "      <td>03</td>\n",
       "    </tr>\n",
       "    <tr>\n",
       "      <th>3</th>\n",
       "      <td>midsleep</td>\n",
       "      <td>0.992654</td>\n",
       "      <td>0.967771</td>\n",
       "      <td>0.980054</td>\n",
       "      <td>03</td>\n",
       "    </tr>\n",
       "    <tr>\n",
       "      <th>4</th>\n",
       "      <td>presleep</td>\n",
       "      <td>1.000000</td>\n",
       "      <td>0.994628</td>\n",
       "      <td>0.997307</td>\n",
       "      <td>03</td>\n",
       "    </tr>\n",
       "    <tr>\n",
       "      <th>0</th>\n",
       "      <td>awake</td>\n",
       "      <td>0.994553</td>\n",
       "      <td>0.817368</td>\n",
       "      <td>0.897297</td>\n",
       "      <td>04</td>\n",
       "    </tr>\n",
       "    <tr>\n",
       "      <th>1</th>\n",
       "      <td>earlysleep</td>\n",
       "      <td>1.000000</td>\n",
       "      <td>0.996419</td>\n",
       "      <td>0.998206</td>\n",
       "      <td>04</td>\n",
       "    </tr>\n",
       "    <tr>\n",
       "      <th>2</th>\n",
       "      <td>latesleep</td>\n",
       "      <td>1.000000</td>\n",
       "      <td>0.997314</td>\n",
       "      <td>0.998655</td>\n",
       "      <td>04</td>\n",
       "    </tr>\n",
       "    <tr>\n",
       "      <th>3</th>\n",
       "      <td>midsleep</td>\n",
       "      <td>0.995379</td>\n",
       "      <td>0.964190</td>\n",
       "      <td>0.979536</td>\n",
       "      <td>04</td>\n",
       "    </tr>\n",
       "    <tr>\n",
       "      <th>4</th>\n",
       "      <td>presleep</td>\n",
       "      <td>1.000000</td>\n",
       "      <td>0.991047</td>\n",
       "      <td>0.995504</td>\n",
       "      <td>04</td>\n",
       "    </tr>\n",
       "    <tr>\n",
       "      <th>0</th>\n",
       "      <td>awake</td>\n",
       "      <td>0.996689</td>\n",
       "      <td>0.808415</td>\n",
       "      <td>0.892734</td>\n",
       "      <td>05</td>\n",
       "    </tr>\n",
       "    <tr>\n",
       "      <th>1</th>\n",
       "      <td>earlysleep</td>\n",
       "      <td>1.000000</td>\n",
       "      <td>0.995524</td>\n",
       "      <td>0.997757</td>\n",
       "      <td>05</td>\n",
       "    </tr>\n",
       "    <tr>\n",
       "      <th>2</th>\n",
       "      <td>latesleep</td>\n",
       "      <td>1.000000</td>\n",
       "      <td>0.998209</td>\n",
       "      <td>0.999104</td>\n",
       "      <td>05</td>\n",
       "    </tr>\n",
       "    <tr>\n",
       "      <th>3</th>\n",
       "      <td>midsleep</td>\n",
       "      <td>0.989041</td>\n",
       "      <td>0.969561</td>\n",
       "      <td>0.979204</td>\n",
       "      <td>05</td>\n",
       "    </tr>\n",
       "    <tr>\n",
       "      <th>4</th>\n",
       "      <td>presleep</td>\n",
       "      <td>1.000000</td>\n",
       "      <td>0.994628</td>\n",
       "      <td>0.997307</td>\n",
       "      <td>05</td>\n",
       "    </tr>\n",
       "  </tbody>\n",
       "</table>\n",
       "</div>"
      ],
      "text/plain": [
       "        label  precision    recall  f1-score iteration\n",
       "0       awake   0.988926  0.799463  0.884158        01\n",
       "1  earlysleep   1.000000  0.998209  0.999104        01\n",
       "2   latesleep   1.000000  0.997314  0.998655        01\n",
       "3    midsleep   0.992620  0.963295  0.977737        01\n",
       "4    presleep   1.000000  0.991047  0.995504        01\n",
       "0       awake   0.995609  0.811996  0.894477        02\n",
       "1  earlysleep   1.000000  0.991943  0.995955        02\n",
       "2   latesleep   1.000000  0.999105  0.999552        02\n",
       "3    midsleep   0.991743  0.967771  0.979610        02\n",
       "4    presleep   1.000000  0.996419  0.998206        02\n",
       "0       awake   0.996560  0.777977  0.873806        03\n",
       "1  earlysleep   1.000000  0.996419  0.998206        03\n",
       "2   latesleep   1.000000  0.997314  0.998655        03\n",
       "3    midsleep   0.992654  0.967771  0.980054        03\n",
       "4    presleep   1.000000  0.994628  0.997307        03\n",
       "0       awake   0.994553  0.817368  0.897297        04\n",
       "1  earlysleep   1.000000  0.996419  0.998206        04\n",
       "2   latesleep   1.000000  0.997314  0.998655        04\n",
       "3    midsleep   0.995379  0.964190  0.979536        04\n",
       "4    presleep   1.000000  0.991047  0.995504        04\n",
       "0       awake   0.996689  0.808415  0.892734        05\n",
       "1  earlysleep   1.000000  0.995524  0.997757        05\n",
       "2   latesleep   1.000000  0.998209  0.999104        05\n",
       "3    midsleep   0.989041  0.969561  0.979204        05\n",
       "4    presleep   1.000000  0.994628  0.997307        05"
      ]
     },
     "execution_count": 57,
     "metadata": {},
     "output_type": "execute_result"
    }
   ],
   "source": [
    "mergedperf_df = pd.concat([perf_metrics_df_01, perf_metrics_df_02, perf_metrics_df_03,\n",
    "                           perf_metrics_df_04, perf_metrics_df_05])\n",
    "mergedperf_df"
   ]
  },
  {
   "cell_type": "code",
   "execution_count": 58,
   "metadata": {},
   "outputs": [
    {
     "data": {
      "text/plain": [
       "25"
      ]
     },
     "execution_count": 58,
     "metadata": {},
     "output_type": "execute_result"
    }
   ],
   "source": [
    "len(mergedperf_df)"
   ]
  },
  {
   "cell_type": "code",
   "execution_count": 59,
   "metadata": {},
   "outputs": [
    {
     "data": {
      "text/html": [
       "<div>\n",
       "<style scoped>\n",
       "    .dataframe tbody tr th:only-of-type {\n",
       "        vertical-align: middle;\n",
       "    }\n",
       "\n",
       "    .dataframe tbody tr th {\n",
       "        vertical-align: top;\n",
       "    }\n",
       "\n",
       "    .dataframe thead th {\n",
       "        text-align: right;\n",
       "    }\n",
       "</style>\n",
       "<table border=\"1\" class=\"dataframe\">\n",
       "  <thead>\n",
       "    <tr style=\"text-align: right;\">\n",
       "      <th></th>\n",
       "      <th>label</th>\n",
       "      <th>precision</th>\n",
       "      <th>recall</th>\n",
       "      <th>f1-score</th>\n",
       "      <th>iteration</th>\n",
       "    </tr>\n",
       "  </thead>\n",
       "  <tbody>\n",
       "    <tr>\n",
       "      <th>0</th>\n",
       "      <td>awake</td>\n",
       "      <td>0.988926</td>\n",
       "      <td>0.799463</td>\n",
       "      <td>0.884158</td>\n",
       "      <td>01</td>\n",
       "    </tr>\n",
       "    <tr>\n",
       "      <th>1</th>\n",
       "      <td>earlysleep</td>\n",
       "      <td>1.000000</td>\n",
       "      <td>0.998209</td>\n",
       "      <td>0.999104</td>\n",
       "      <td>01</td>\n",
       "    </tr>\n",
       "    <tr>\n",
       "      <th>2</th>\n",
       "      <td>latesleep</td>\n",
       "      <td>1.000000</td>\n",
       "      <td>0.997314</td>\n",
       "      <td>0.998655</td>\n",
       "      <td>01</td>\n",
       "    </tr>\n",
       "    <tr>\n",
       "      <th>3</th>\n",
       "      <td>midsleep</td>\n",
       "      <td>0.992620</td>\n",
       "      <td>0.963295</td>\n",
       "      <td>0.977737</td>\n",
       "      <td>01</td>\n",
       "    </tr>\n",
       "    <tr>\n",
       "      <th>4</th>\n",
       "      <td>presleep</td>\n",
       "      <td>1.000000</td>\n",
       "      <td>0.991047</td>\n",
       "      <td>0.995504</td>\n",
       "      <td>01</td>\n",
       "    </tr>\n",
       "  </tbody>\n",
       "</table>\n",
       "</div>"
      ],
      "text/plain": [
       "        label  precision    recall  f1-score iteration\n",
       "0       awake   0.988926  0.799463  0.884158        01\n",
       "1  earlysleep   1.000000  0.998209  0.999104        01\n",
       "2   latesleep   1.000000  0.997314  0.998655        01\n",
       "3    midsleep   0.992620  0.963295  0.977737        01\n",
       "4    presleep   1.000000  0.991047  0.995504        01"
      ]
     },
     "execution_count": 59,
     "metadata": {},
     "output_type": "execute_result"
    }
   ],
   "source": [
    "mergedperf_df.head()"
   ]
  },
  {
   "cell_type": "code",
   "execution_count": 60,
   "metadata": {},
   "outputs": [],
   "source": [
    "awakemergedperf_df = mergedperf_df[mergedperf_df['label']== 'awake']\n",
    "awakemergedperf_df = awakemergedperf_df.drop(['label', 'iteration'], axis=1)"
   ]
  },
  {
   "cell_type": "code",
   "execution_count": 61,
   "metadata": {},
   "outputs": [],
   "source": [
    "presleepmergedperf_df = mergedperf_df[mergedperf_df['label']== 'presleep']\n",
    "presleepmergedperf_df = presleepmergedperf_df.drop(['label', 'iteration'], axis=1)"
   ]
  },
  {
   "cell_type": "code",
   "execution_count": 62,
   "metadata": {},
   "outputs": [],
   "source": [
    "earlysleepmergedperf_df = mergedperf_df[mergedperf_df['label']== 'earlysleep']\n",
    "earlysleepmergedperf_df = earlysleepmergedperf_df.drop(['label', 'iteration'], axis=1)"
   ]
  },
  {
   "cell_type": "code",
   "execution_count": 63,
   "metadata": {},
   "outputs": [],
   "source": [
    "midsleepmergedperf_df = mergedperf_df[mergedperf_df['label']== 'midsleep']\n",
    "midsleepmergedperf_df = midsleepmergedperf_df.drop(['label', 'iteration'], axis=1)"
   ]
  },
  {
   "cell_type": "code",
   "execution_count": 64,
   "metadata": {},
   "outputs": [],
   "source": [
    "latesleepmergedperf_df = mergedperf_df[mergedperf_df['label']== 'latesleep']\n",
    "latesleepmergedperf_df = latesleepmergedperf_df.drop(['label', 'iteration'], axis=1)"
   ]
  },
  {
   "cell_type": "code",
   "execution_count": null,
   "metadata": {},
   "outputs": [],
   "source": []
  },
  {
   "cell_type": "code",
   "execution_count": null,
   "metadata": {},
   "outputs": [],
   "source": []
  },
  {
   "cell_type": "code",
   "execution_count": 65,
   "metadata": {},
   "outputs": [],
   "source": [
    "color_dict = dict({'awake':'#b34d4d',\n",
    "                   'presleep':'#f2ad0d',\n",
    "                   'earlysleep':'#1ac1e6',\n",
    "                   'midsleep':'#0d28f2',\n",
    "                   'latesleep':'#b3714d'\n",
    "                  })"
   ]
  },
  {
   "cell_type": "code",
   "execution_count": 66,
   "metadata": {},
   "outputs": [
    {
     "data": {
      "image/png": "[encoded data removed]",
      "text/plain": [
       "<Figure size 1728x576 with 5 Axes>"
      ]
     },
     "metadata": {},
     "output_type": "display_data"
    }
   ],
   "source": [
    "fig, (ax1, ax2, ax3, ax4, ax5) = plt.subplots(nrows=1, ncols=5, sharex=False, sharey=False, figsize=(24, 8))\n",
    "fig.subplots_adjust(wspace=0.35, hspace=0.15)\n",
    "\n",
    "sns.boxplot(data=awakemergedperf_df, ax = ax1, color = color_dict['awake'],)\n",
    "sns.stripplot(data=awakemergedperf_df, ax = ax1, marker='o', linewidth=2, \n",
    "              edgecolor =\"black\", s= 10, color = color_dict['awake'], alpha = 0.5)\n",
    "\n",
    "sns.boxplot(data=presleepmergedperf_df, ax = ax2, color = color_dict['presleep'],)\n",
    "sns.stripplot(data=presleepmergedperf_df, ax = ax2, marker='o', linewidth=2, \n",
    "              edgecolor =\"black\", s= 10, color = color_dict['presleep'], alpha = 0.5)\n",
    "\n",
    "sns.boxplot(data=earlysleepmergedperf_df, ax = ax3, color = color_dict['earlysleep'],)\n",
    "sns.stripplot(data=earlysleepmergedperf_df, ax = ax3, marker='o', linewidth=2, \n",
    "              edgecolor =\"black\", s= 10, color = color_dict['earlysleep'], alpha = 0.5)\n",
    "\n",
    "sns.boxplot(data=midsleepmergedperf_df, ax = ax4, color = color_dict['midsleep'],)\n",
    "sns.stripplot(data=midsleepmergedperf_df, ax = ax4, marker='o', linewidth=2, \n",
    "              edgecolor =\"black\", s= 10, color = color_dict['midsleep'], alpha = 0.5)\n",
    "\n",
    "sns.boxplot(data=latesleepmergedperf_df, ax = ax5, color = color_dict['latesleep'],)\n",
    "sns.stripplot(data=latesleepmergedperf_df, ax = ax5, marker='o', linewidth=2, \n",
    "              edgecolor =\"black\", s= 10, color = color_dict['latesleep'], alpha = 0.5)\n",
    "\n",
    "\n",
    "sns.despine(left=True, bottom = True)\n",
    "ax1.tick_params(axis='both', which='major', labelsize=label_fontsize)\n",
    "ax2.tick_params(axis='both', which='major', labelsize=label_fontsize)\n",
    "ax3.tick_params(axis='both', which='major', labelsize=label_fontsize)\n",
    "ax4.tick_params(axis='both', which='major', labelsize=label_fontsize)\n",
    "ax5.tick_params(axis='both', which='major', labelsize=label_fontsize)\n",
    "\n",
    "\n",
    "ax1.grid(True)\n",
    "ax2.grid(True)\n",
    "ax3.grid(True)\n",
    "ax4.grid(True)\n",
    "ax5.grid(True)\n",
    "\n",
    "for patch in ax1.artists:\n",
    "    r, g, b, a = patch.get_facecolor()\n",
    "    patch.set_facecolor((r, g, b, .6))\n",
    "    \n",
    "for patch in ax2.artists:\n",
    "    r, g, b, a = patch.get_facecolor()\n",
    "    patch.set_facecolor((r, g, b, .6))\n",
    "    \n",
    "for patch in ax3.artists:\n",
    "    r, g, b, a = patch.get_facecolor()\n",
    "    patch.set_facecolor((r, g, b, .6))\n",
    "    \n",
    "for patch in ax4.artists:\n",
    "    r, g, b, a = patch.get_facecolor()\n",
    "    patch.set_facecolor((r, g, b, .6))\n",
    "    \n",
    "for patch in ax5.artists:\n",
    "    r, g, b, a = patch.get_facecolor()\n",
    "    patch.set_facecolor((r, g, b, .6))\n",
    "\n",
    "ax1.yaxis.set_major_formatter(FormatStrFormatter('%.3f'))\n",
    "ax2.yaxis.set_major_formatter(FormatStrFormatter('%.3f'))\n",
    "ax3.yaxis.set_major_formatter(FormatStrFormatter('%.3f'))\n",
    "ax4.yaxis.set_major_formatter(FormatStrFormatter('%.3f'))\n",
    "ax5.yaxis.set_major_formatter(FormatStrFormatter('%.3f'))"
   ]
  },
  {
   "cell_type": "code",
   "execution_count": null,
   "metadata": {},
   "outputs": [],
   "source": []
  },
  {
   "cell_type": "code",
   "execution_count": 67,
   "metadata": {},
   "outputs": [],
   "source": [
    "from matplotlib.colors import LinearSegmentedColormap"
   ]
  },
  {
   "cell_type": "code",
   "execution_count": 68,
   "metadata": {},
   "outputs": [],
   "source": [
    "cmap = LinearSegmentedColormap.from_list('RedGreenRed', ['crimson', 'lime'])"
   ]
  },
  {
   "cell_type": "code",
   "execution_count": 69,
   "metadata": {},
   "outputs": [
    {
     "name": "stdout",
     "output_type": "stream",
     "text": [
      "Normalized confusion matrix\n"
     ]
    },
    {
     "data": {
      "image/png": "[encoded data removed]",
      "text/plain": [
       "<Figure size 576x576 with 2 Axes>"
      ]
     },
     "metadata": {},
     "output_type": "display_data"
    }
   ],
   "source": [
    "# Plot normalized confusion matrix\n",
    "f, (ax1) = plt.subplots(ncols=1, sharex=True, sharey=True, figsize=(8, 8))\n",
    "\n",
    "# fig.subplots_adjust(left=0.0, right=1.0, bottom=0.0, top=1.0)\n",
    "plot_confusion_matrix(merged_ordered_cm, classes=np.asarray(ordered_classes), \n",
    "                      fig = f, ax = ax1,\n",
    "                      normalize=True, cmap=cmap)\n",
    "a = (merged_ordered_cm*0)+1\n",
    "x,y = np.meshgrid(np.arange(a.shape[1]),np.arange(a.shape[0]))\n",
    "m = np.c_[x[a.astype(bool)],y[a.astype(bool)]]\n",
    "for pos in m:\n",
    "    rect(pos)\n",
    "\n",
    "for patch in ax1.artists:\n",
    "    r, g, b, a = patch.get_facecolor()\n",
    "    patch.set_facecolor((r, g, b, .8))\n",
    "sns.despine(left=True, bottom = True)\n",
    "\n",
    "ax1.set_ylabel('true label', fontsize=label_fontsize+4)\n",
    "ax1.set_xlabel('predicted label', fontsize=label_fontsize+4)\n",
    "ax1.set_title('normalized confusion matrix\\n', fontsize=label_fontsize+4)\n",
    "ax1.tick_params(axis='both', which='major', labelsize=label_fontsize+2)\n",
    "ax1.grid(False)\n",
    "plt.box(False)"
   ]
  },
  {
   "cell_type": "code",
   "execution_count": null,
   "metadata": {},
   "outputs": [],
   "source": []
  },
  {
   "cell_type": "code",
   "execution_count": 70,
   "metadata": {},
   "outputs": [
    {
     "data": {
      "text/plain": [
       "Index(['freq4.88_chan01', 'freq4.88_chan02', 'freq4.88_chan03',\n",
       "       'freq4.88_chan04', 'freq4.88_chan05', 'freq4.88_chan06',\n",
       "       'freq4.88_chan07', 'freq4.88_chan08', 'freq4.88_chan09',\n",
       "       'freq4.88_chan10',\n",
       "       ...\n",
       "       'freq40.04_chan06', 'freq40.04_chan07', 'freq40.04_chan08',\n",
       "       'freq40.04_chan09', 'freq40.04_chan10', 'freq40.04_chan11',\n",
       "       'freq40.04_chan12', 'freq40.04_chan13', 'freq40.04_chan14',\n",
       "       'freq40.04_chan15'],\n",
       "      dtype='object', length=2175)"
      ]
     },
     "execution_count": 70,
     "metadata": {},
     "output_type": "execute_result"
    }
   ],
   "source": [
    "feature_names = classifierfeat_df.columns[:-1]\n",
    "feature_names"
   ]
  },
  {
   "cell_type": "code",
   "execution_count": null,
   "metadata": {},
   "outputs": [],
   "source": []
  },
  {
   "cell_type": "code",
   "execution_count": 71,
   "metadata": {},
   "outputs": [],
   "source": [
    "topfeature_len = 25"
   ]
  },
  {
   "cell_type": "code",
   "execution_count": null,
   "metadata": {},
   "outputs": [],
   "source": []
  },
  {
   "cell_type": "code",
   "execution_count": null,
   "metadata": {},
   "outputs": [],
   "source": []
  },
  {
   "cell_type": "code",
   "execution_count": 72,
   "metadata": {},
   "outputs": [],
   "source": [
    "def compute_featimportance(best_grid_xx, x_test_xx, y_test_xx, randomstate_featimportance, feature_names):\n",
    "    \n",
    "    result_xx = permutation_importance(best_grid_xx, x_test_xx, y_test_xx, n_repeats=5, \n",
    "                                       random_state=randomstate_featimportance, n_jobs=-1)\n",
    "    forest_importances_xx = pd.Series(result_xx.importances_mean, index=feature_names)\n",
    "\n",
    "    forest_importances_df_xx = forest_importances_xx.to_frame().reset_index()\n",
    "    forest_importances_df_xx = forest_importances_df_xx.rename({'index': 'freqchan', 0: 'value'}, axis=1)\n",
    "    forest_importances_df_xx['freq'] = forest_importances_df_xx['freqchan'].str.split('_').str[0]\n",
    "    forest_importances_df_xx['freq2'] = forest_importances_df_xx['freq'].str.split('freq').str[1]\n",
    "    forest_importances_df_xx['chan'] = forest_importances_df_xx['freqchan'].str.split('_').str[1]\n",
    "    forest_importances_df_xx['chan2'] = forest_importances_df_xx['chan'].str.split('chan').str[1]\n",
    "\n",
    "    freqarray_xx = forest_importances_df_xx[\"freq2\"].to_numpy()\n",
    "    freqarray_xx = freqarray_xx.reshape(145, 15)\n",
    "    freqarray_xx = freqarray_xx.astype(np.float)\n",
    "\n",
    "\n",
    "    chanarray_xx = forest_importances_df_xx[\"chan2\"].to_numpy()\n",
    "    chanarray_xx = chanarray_xx.reshape(145, 15)\n",
    "\n",
    "    perm_impvalues_xx = forest_importances_df_xx[\"value\"].to_numpy()\n",
    "    perm_impvalues_xx = perm_impvalues_xx.reshape(145, 15)\n",
    "\n",
    "    cat_freqs_xx = np.sort(np.unique(freqarray_xx))\n",
    "    \n",
    "    return perm_impvalues_xx, freqarray_xx, chanarray_xx, cat_freqs_xx"
   ]
  },
  {
   "cell_type": "code",
   "execution_count": null,
   "metadata": {},
   "outputs": [],
   "source": []
  },
  {
   "cell_type": "code",
   "execution_count": 73,
   "metadata": {},
   "outputs": [
    {
     "name": "stdout",
     "output_type": "stream",
     "text": [
      "results loaded from disk..\n"
     ]
    }
   ],
   "source": [
    "permimpfilepath = classifierfolderpath + 'permimp_iter_01' + '.pkl'\n",
    "if os.path.exists(permimpfilepath): \n",
    "    print('results loaded from disk..')\n",
    "    perm_impvalues_01, freqarray_01, chanarray_01, cat_freqs_01 =\\\n",
    "                              pickle.load(open(permimpfilepath,\"rb\"))\n",
    "\n",
    "else:\n",
    "    perm_impvalues_01, freqarray_01, chanarray_01, cat_freqs_01 =\\\n",
    "            compute_featimportance(best_grid_01, x_test_01, y_test_01, 1, feature_names)\n",
    "    pickle.dump([perm_impvalues_01, freqarray_01, chanarray_01, cat_freqs_01], \n",
    "                open(permimpfilepath, \"wb\"))"
   ]
  },
  {
   "cell_type": "code",
   "execution_count": 74,
   "metadata": {},
   "outputs": [
    {
     "name": "stdout",
     "output_type": "stream",
     "text": [
      "results loaded from disk..\n"
     ]
    }
   ],
   "source": [
    "permimpfilepath = classifierfolderpath + 'permimp_iter_02' + '.pkl'\n",
    "if os.path.exists(permimpfilepath): \n",
    "    print('results loaded from disk..')\n",
    "    perm_impvalues_02, freqarray_02, chanarray_02, cat_freqs_02 =\\\n",
    "                              pickle.load(open(permimpfilepath,\"rb\"))\n",
    "\n",
    "else:\n",
    "    perm_impvalues_02, freqarray_02, chanarray_02, cat_freqs_02 =\\\n",
    "            compute_featimportance(best_grid_02, x_test_02, y_test_02, 2, feature_names)\n",
    "    pickle.dump([perm_impvalues_02, freqarray_02, chanarray_02, cat_freqs_02], \n",
    "                open(permimpfilepath, \"wb\"))"
   ]
  },
  {
   "cell_type": "code",
   "execution_count": 75,
   "metadata": {},
   "outputs": [
    {
     "name": "stdout",
     "output_type": "stream",
     "text": [
      "results loaded from disk..\n"
     ]
    }
   ],
   "source": [
    "permimpfilepath = classifierfolderpath + 'permimp_iter_03' + '.pkl'\n",
    "if os.path.exists(permimpfilepath): \n",
    "    print('results loaded from disk..')\n",
    "    perm_impvalues_03, freqarray_03, chanarray_03, cat_freqs_03 =\\\n",
    "                              pickle.load(open(permimpfilepath,\"rb\"))\n",
    "\n",
    "else:\n",
    "    perm_impvalues_03, freqarray_03, chanarray_03, cat_freqs_03 =\\\n",
    "            compute_featimportance(best_grid_03, x_test_03, y_test_03, 3, feature_names)\n",
    "    pickle.dump([perm_impvalues_03, freqarray_03, chanarray_03, cat_freqs_03], \n",
    "                open(permimpfilepath, \"wb\"))"
   ]
  },
  {
   "cell_type": "code",
   "execution_count": 76,
   "metadata": {},
   "outputs": [
    {
     "name": "stdout",
     "output_type": "stream",
     "text": [
      "results loaded from disk..\n"
     ]
    }
   ],
   "source": [
    "permimpfilepath = classifierfolderpath + 'permimp_iter_04' + '.pkl'\n",
    "if os.path.exists(permimpfilepath): \n",
    "    print('results loaded from disk..')\n",
    "    perm_impvalues_04, freqarray_04, chanarray_04, cat_freqs_04 =\\\n",
    "                              pickle.load(open(permimpfilepath,\"rb\"))\n",
    "\n",
    "else:\n",
    "    perm_impvalues_04, freqarray_04, chanarray_04, cat_freqs_04 =\\\n",
    "            compute_featimportance(best_grid_04, x_test_04, y_test_04, 4, feature_names)\n",
    "    pickle.dump([perm_impvalues_04, freqarray_04, chanarray_04, cat_freqs_04], \n",
    "                open(permimpfilepath, \"wb\"))"
   ]
  },
  {
   "cell_type": "code",
   "execution_count": 77,
   "metadata": {},
   "outputs": [
    {
     "name": "stdout",
     "output_type": "stream",
     "text": [
      "results loaded from disk..\n"
     ]
    }
   ],
   "source": [
    "permimpfilepath = classifierfolderpath + 'permimp_iter_05' + '.pkl'\n",
    "if os.path.exists(permimpfilepath): \n",
    "    print('results loaded from disk..')\n",
    "    perm_impvalues_05, freqarray_05, chanarray_05, cat_freqs_05 =\\\n",
    "                              pickle.load(open(permimpfilepath,\"rb\"))\n",
    "\n",
    "else:\n",
    "    perm_impvalues_05, freqarray_05, chanarray_05, cat_freqs_05 =\\\n",
    "            compute_featimportance(best_grid_05, x_test_05, y_test_05, 5, feature_names)\n",
    "    pickle.dump([perm_impvalues_05, freqarray_05, chanarray_05, cat_freqs_05], \n",
    "                open(permimpfilepath, \"wb\"))"
   ]
  },
  {
   "cell_type": "code",
   "execution_count": null,
   "metadata": {},
   "outputs": [],
   "source": []
  },
  {
   "cell_type": "code",
   "execution_count": 78,
   "metadata": {},
   "outputs": [],
   "source": [
    "merged_perm_impvalues = np.mean(np.array([perm_impvalues_01, perm_impvalues_02, perm_impvalues_03, \n",
    "                                          perm_impvalues_04, perm_impvalues_05]), axis=0 )"
   ]
  },
  {
   "cell_type": "code",
   "execution_count": null,
   "metadata": {},
   "outputs": [],
   "source": []
  },
  {
   "cell_type": "code",
   "execution_count": 79,
   "metadata": {},
   "outputs": [],
   "source": [
    "def plot_spect(data, ax, x, y, x_label, y_label, title, vmin = None, vmax = None, loc = None):\n",
    "    \n",
    "    im = ax.imshow(data,aspect='auto',interpolation='spline36',cmap='jet',vmin=vmin, vmax=vmax)\n",
    "    \n",
    "    y_mod = y\n",
    "    freqs_plot = [5, 10, 15, 20, 25, 30, 35, 40]\n",
    "    yticklocs = []\n",
    "    for idx in freqs_plot:\n",
    "        yticklocs.append(min(range(len(y_mod)), key=lambda i: abs(y_mod[i]-idx)))\n",
    "    \n",
    "    ytickvals = np.around(y[yticklocs])\n",
    "    \n",
    "    ydispvals = ['%.12g' % n for n in ytickvals]\n",
    "    \n",
    "    plt.yticks(yticklocs, ydispvals)\n",
    "    xticklocs = np.arange(0,np.asarray(x.shape), step = 2)\n",
    "    ax.set_xlim([0, np.asarray(x.shape)-1])\n",
    "    tickval = np.arange(1,np.asarray(x.shape)+1, step = 2)\n",
    "    plt.xticks(xticklocs, tickval)\n",
    "    ax.set_xlabel(x_label, rotation=0,ha='center',va='center', fontsize=20, labelpad=20)\n",
    "    ax.set_ylabel(y_label, rotation=90,ha='center',va='center', fontsize=20, labelpad=20)\n",
    "    \n",
    "    ax.invert_yaxis()\n",
    "    \n",
    "    cbarlabels = np.linspace(vmin, vmax, 5)\n",
    "    \n",
    "    if loc is not None:\n",
    "        cbar = plt.colorbar(im, ax = [ax], ticks = cbarlabels, location = loc)\n",
    "    else:\n",
    "        cbar = plt.colorbar(im, ticks = cbarlabels)\n",
    "      \n",
    "    cbar.set_ticks(cbarlabels)\n",
    "    cbar.set_ticklabels([\"{:2.4f}\".format(i) for i in cbarlabels])\n",
    "    \n",
    "    plt.title(title,ha='center',va='bottom', y=-0.5, fontsize=20)\n",
    "    \n",
    "    cbar.ax.tick_params(labelsize=14)\n",
    "    plt.xticks(fontsize=14)\n",
    "    plt.yticks(fontsize=14)\n",
    "\n",
    "    return ax, cbar"
   ]
  },
  {
   "cell_type": "code",
   "execution_count": null,
   "metadata": {},
   "outputs": [],
   "source": []
  },
  {
   "cell_type": "code",
   "execution_count": 80,
   "metadata": {},
   "outputs": [],
   "source": [
    "# sorted_importance = forest_importances.sort_values(ascending = False)[0:topfeature_len-1]"
   ]
  },
  {
   "cell_type": "code",
   "execution_count": null,
   "metadata": {},
   "outputs": [],
   "source": []
  },
  {
   "cell_type": "code",
   "execution_count": 81,
   "metadata": {},
   "outputs": [],
   "source": [
    "from mpl_toolkits.axes_grid1.inset_locator import zoomed_inset_axes\n",
    "from mpl_toolkits.axes_grid1.inset_locator import mark_inset"
   ]
  },
  {
   "cell_type": "code",
   "execution_count": null,
   "metadata": {},
   "outputs": [],
   "source": []
  },
  {
   "cell_type": "code",
   "execution_count": 82,
   "metadata": {},
   "outputs": [
    {
     "data": {
      "text/plain": [
       "(<matplotlib.patches.Rectangle at 0x2b322fdf4cf8>,\n",
       " [<matplotlib.patches.ConnectionPatch at 0x2b322fdd3e80>,\n",
       "  <matplotlib.patches.ConnectionPatch at 0x2b323048e128>,\n",
       "  <matplotlib.patches.ConnectionPatch at 0x2b323048e4a8>,\n",
       "  <matplotlib.patches.ConnectionPatch at 0x2b323048e748>])"
      ]
     },
     "execution_count": 82,
     "metadata": {},
     "output_type": "execute_result"
    },
    {
     "data": {
      "image/png": "[encoded data removed]",
      "text/plain": [
       "<Figure size 432x576 with 3 Axes>"
      ]
     },
     "metadata": {},
     "output_type": "display_data"
    }
   ],
   "source": [
    "fig = plt.figure(figsize=(6, 8))\n",
    "gs_main = gridspec.GridSpec(1, 1)\n",
    "# gs_main.update(wspace=0.25, hspace=0.2)\n",
    "\n",
    "gs = gridspec.GridSpecFromSubplotSpec(1, 1, subplot_spec=gs_main[0])\n",
    "ax1 = fig.add_subplot(gs[0])\n",
    "\n",
    "ax1, cbar1 = plot_spect(merged_perm_impvalues, ax = ax1, x = np.arange(0,15), y = cat_freqs_01, \n",
    "                 x_label = 'Channels',y_label = 'Frequencies (Hz)' , title = 'feature importance',\n",
    "                 vmin = np.round(np.min(merged_perm_impvalues),5), \n",
    "                 vmax = np.round(np.max(merged_perm_impvalues),5),\n",
    "                 loc = 'bottom')\n",
    "\n",
    "\n",
    "#axins = zoomed_inset_axes(ax1, 2, loc=5, bbox_to_anchor=(0, 0)) \n",
    "#axins = zoomed_inset_axes(ax1, 2, loc=10, bbox_to_anchor=(2000, 1928.5)) \n",
    "axins = zoomed_inset_axes(ax1, 5, loc=6, bbox_to_anchor=(410, 315))\n",
    "                          #loc='upper right', bbox_to_anchor=(545, 515)\n",
    "\n",
    "axins, cbarins = plot_spect(merged_perm_impvalues, ax = axins, x = np.arange(0,15), y = cat_freqs_01, \n",
    "                   x_label = None, y_label = None, title = None,\n",
    "                   vmin = np.round(np.min(merged_perm_impvalues),5), \n",
    "                   vmax = np.round(np.max(merged_perm_impvalues),5))\n",
    "\n",
    "# sub region of the original image\n",
    "x1, x2, y1, y2 = 0, 3, 0, 21\n",
    "axins.set_xlim(x1, x2)\n",
    "axins.set_ylim(y1, y2)\n",
    "\n",
    "\n",
    "xticklocs = np.arange(0,4, step = 1)\n",
    "axins.set_xticks(xticklocs)\n",
    "tickval = xticklocs + 1\n",
    "axins.set_xticklabels(tickval)\n",
    "\n",
    "yticklocs = np.arange(0,21, step = 5)\n",
    "axins.set_yticks(yticklocs)\n",
    "tickval = cat_freqs_01[yticklocs]\n",
    "axins.set_yticklabels(tickval)\n",
    "axins.yaxis.tick_right()\n",
    "axins.yaxis.set_tick_params(labelsize=14)\n",
    "\n",
    "mark_inset(ax1, axins, loc1=2, loc2=4,  fc=\"none\", ec=\"0.5\")\n",
    "cbarins.remove()\n",
    "\n",
    "frame1 = plt.gca()\n",
    "#frame1.axes.xaxis.set_ticks([])\n",
    "#frame1.axes.yaxis.set_ticks([])\n",
    "\n",
    "ax1.indicate_inset_zoom(axins, edgecolor=\"white\")\n",
    "\n",
    "# axins.apply_aspect()\n",
    "\n",
    "# plt.show()"
   ]
  },
  {
   "cell_type": "code",
   "execution_count": null,
   "metadata": {},
   "outputs": [],
   "source": []
  },
  {
   "cell_type": "code",
   "execution_count": null,
   "metadata": {},
   "outputs": [],
   "source": []
  },
  {
   "cell_type": "code",
   "execution_count": null,
   "metadata": {},
   "outputs": [],
   "source": []
  },
  {
   "cell_type": "code",
   "execution_count": null,
   "metadata": {},
   "outputs": [],
   "source": []
  }
 ],
 "metadata": {
  "kernelspec": {
   "display_name": "Python 3",
   "language": "python",
   "name": "python3"
  },
  "language_info": {
   "codemirror_mode": {
    "name": "ipython",
    "version": 3
   },
   "file_extension": ".py",
   "mimetype": "text/x-python",
   "name": "python",
   "nbconvert_exporter": "python",
   "pygments_lexer": "ipython3",
   "version": "3.6.8"
  }
 },
 "nbformat": 4,
 "nbformat_minor": 4
}
