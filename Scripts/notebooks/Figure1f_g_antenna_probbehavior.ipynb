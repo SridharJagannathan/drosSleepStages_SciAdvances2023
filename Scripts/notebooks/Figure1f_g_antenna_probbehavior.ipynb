{
 "cells": [
  {
   "cell_type": "code",
   "execution_count": 1,
   "metadata": {},
   "outputs": [],
   "source": [
    "%load_ext rpy2.ipython"
   ]
  },
  {
   "cell_type": "code",
   "execution_count": 2,
   "metadata": {},
   "outputs": [],
   "source": [
    "import pandas as pd\n",
    "import scipy.io as io\n",
    "import matplotlib.pyplot as plt\n",
    "import matplotlib.pylab as pylab\n",
    "import numpy as np\n",
    "from matplotlib import gridspec\n",
    "import seaborn as sns\n",
    "from datetime import datetime, timedelta\n",
    "import pickle\n",
    "import glob\n",
    "from tabulate import tabulate\n",
    "from tqdm import tqdm"
   ]
  },
  {
   "cell_type": "code",
   "execution_count": 3,
   "metadata": {},
   "outputs": [
    {
     "name": "stderr",
     "output_type": "stream",
     "text": [
      "/home/srj34/deeplabcut-env/lib/python3.6/site-packages/outdated/utils.py:18: OutdatedPackageWarning: The package outdated is out of date. Your version is 0.2.1, the latest is 0.2.2.\n",
      "Set the environment variable OUTDATED_IGNORE=1 to disable these warnings.\n",
      "  **kwargs\n",
      "/home/srj34/deeplabcut-env/lib/python3.6/site-packages/outdated/utils.py:18: OutdatedPackageWarning: The package pingouin is out of date. Your version is 0.3.12, the latest is 0.5.3.\n",
      "Set the environment variable OUTDATED_IGNORE=1 to disable these warnings.\n",
      "  **kwargs\n"
     ]
    }
   ],
   "source": [
    "import matplotlib.dates as dates\n",
    "from scipy import stats\n",
    "import pingouin as pg\n",
    "import math\n",
    "from sklearn import preprocessing\n",
    "from scipy.signal import butter, filtfilt\n",
    "from scipy.signal import chirp, find_peaks, peak_widths\n",
    "from sklearn.preprocessing import StandardScaler\n",
    "from sklearn.model_selection import train_test_split\n",
    "from sklearn import svm\n",
    "from sklearn import metrics\n",
    "from sklearn.metrics import classification_report, confusion_matrix\n",
    "import itertools\n",
    "from statistics import mode"
   ]
  },
  {
   "cell_type": "code",
   "execution_count": 4,
   "metadata": {},
   "outputs": [],
   "source": [
    "import matplotlib.pyplot as plt\n",
    "from mpl_toolkits.mplot3d import Axes3D\n",
    "from mpl_toolkits.axes_grid1 import make_axes_locatable"
   ]
  },
  {
   "cell_type": "code",
   "execution_count": 5,
   "metadata": {},
   "outputs": [],
   "source": [
    "import matplotlib.pyplot as plt\n",
    "font = {'family': 'sans-serif', 'serif': ['Helvetica']}\n",
    "plt.rc('font', **font)\n",
    "plt.rc('text', usetex=False)"
   ]
  },
  {
   "cell_type": "code",
   "execution_count": 6,
   "metadata": {},
   "outputs": [],
   "source": [
    "label_fontsize = 16 \n",
    "title_fontsize = 18"
   ]
  },
  {
   "cell_type": "code",
   "execution_count": null,
   "metadata": {},
   "outputs": [],
   "source": []
  },
  {
   "cell_type": "code",
   "execution_count": null,
   "metadata": {},
   "outputs": [],
   "source": []
  },
  {
   "cell_type": "code",
   "execution_count": 7,
   "metadata": {},
   "outputs": [],
   "source": [
    "basefolderdir = \"/rds/project/tb419/rds-tb419-bekinschtein/Sri/SpatialAttention_Drowsiness/\"\n",
    "microbehepochspath = basefolderdir + \"drosSleepStages_SciAdvances2023/data/beh_data/antenna_probbeh/\""
   ]
  },
  {
   "cell_type": "code",
   "execution_count": 8,
   "metadata": {},
   "outputs": [
    {
     "data": {
      "text/plain": [
       "'/rds/project/tb419/rds-tb419-bekinschtein/Sri/SpatialAttention_Drowsiness/SleepOnset_Drosophila/Scripts/pics/stats_grouplevel/'"
      ]
     },
     "execution_count": 8,
     "metadata": {},
     "output_type": "execute_result"
    }
   ],
   "source": [
    "outputfolderpath = basefolderdir + \"SleepOnset_Drosophila/Scripts/pics/stats_grouplevel/\"\n",
    "outputfolderpath"
   ]
  },
  {
   "cell_type": "code",
   "execution_count": null,
   "metadata": {},
   "outputs": [],
   "source": []
  },
  {
   "cell_type": "code",
   "execution_count": 9,
   "metadata": {},
   "outputs": [],
   "source": [
    "def extractprobepochs(filename):\n",
    "    \n",
    "    probepochscsvinputpath = microbehepochspath + '/' + filename\n",
    "    probepochs_df = pd.read_csv(probepochscsvinputpath)\n",
    "       \n",
    "    probepochs_df.columns = ['flyname','epoch', '+0:+1', '+1:+2', 'midsleep', 'x:-2', 'x:-1',\n",
    "                                              '+0:+1_dur', '+1:+2_dur', 'midsleep_dur', 'x:-2_dur', 'x:-1_dur']\n",
    "    \n",
    "    probepochs_df = probepochs_df[['flyname', 'epoch',\n",
    "                                       '+0:+1','+1:+2','midsleep',\n",
    "                                       'x:-2','x:-1']]\n",
    "    \n",
    "    probepochs_df['total'] = probepochs_df['+0:+1'] + probepochs_df['+1:+2'] +\\\n",
    "                               probepochs_df['midsleep'] + probepochs_df['x:-2'] +\\\n",
    "                               probepochs_df['x:-1']\n",
    "    \n",
    "    probepochs_df['+0:+1'] =  probepochs_df['+0:+1'] / probepochs_df['total']\n",
    "    probepochs_df['+1:+2'] =  probepochs_df['+1:+2'] / probepochs_df['total']\n",
    "    probepochs_df['midsleep'] =  probepochs_df['midsleep'] / probepochs_df['total']\n",
    "    probepochs_df['x:-2'] = probepochs_df['x:-2'] / probepochs_df['total']\n",
    "    probepochs_df['x:-1'] =  probepochs_df['x:-1'] / probepochs_df['total']\n",
    "    \n",
    "    probepochs_df = probepochs_df.iloc[:, :-1]\n",
    "    \n",
    "    statsprobstats_df = probepochs_df.melt(id_vars=[\"flyname\", \"epoch\"], var_name=\"epochtype\",\n",
    "                                              value_name=\"probcnt\")\n",
    "    \n",
    "    return statsprobstats_df"
   ]
  },
  {
   "cell_type": "code",
   "execution_count": null,
   "metadata": {},
   "outputs": [],
   "source": []
  },
  {
   "cell_type": "code",
   "execution_count": 10,
   "metadata": {},
   "outputs": [],
   "source": [
    "def extractantennaepochs(filename):\n",
    "    \n",
    "    antennaepochscsvinputpath = microbehepochspath + '/' + filename\n",
    "    antennapochs_df = pd.read_csv(antennaepochscsvinputpath)\n",
    "\n",
    "    antennapochs_df.columns = ['flyname','epoch', '+0:+1', '+1:+2', 'midsleep', 'x:-2', 'x:-1',\n",
    "                                              '+0:+1_dur', '+1:+2_dur', 'midsleep_dur', 'x:-2_dur', 'x:-1_dur']\n",
    "    \n",
    "    antennapochs_df = antennapochs_df[['flyname', 'epoch',\n",
    "                                       '+0:+1','+1:+2','midsleep',\n",
    "                                       'x:-2','x:-1']]\n",
    "\n",
    "    antennapochs_df['total'] = antennapochs_df['+0:+1'] + antennapochs_df['+1:+2'] +\\\n",
    "                               antennapochs_df['midsleep'] + antennapochs_df['x:-2'] +\\\n",
    "                               antennapochs_df['x:-1']\n",
    "\n",
    "    antennapochs_df['+0:+1'] =  antennapochs_df['+0:+1'] / antennapochs_df['total']\n",
    "    antennapochs_df['+1:+2'] =  antennapochs_df['+1:+2'] / antennapochs_df['total']\n",
    "    antennapochs_df['midsleep'] =  antennapochs_df['midsleep'] / antennapochs_df['total']\n",
    "    antennapochs_df['x:-2'] = antennapochs_df['x:-2'] / antennapochs_df['total']\n",
    "    antennapochs_df['x:-1'] =  antennapochs_df['x:-1'] / antennapochs_df['total']\n",
    "    \n",
    "    antennapochs_df = antennapochs_df.iloc[:, :-1]\n",
    "    \n",
    "    statsantennstats_df = antennapochs_df.melt(id_vars=[\"flyname\", \"epoch\"], var_name=\"epochtype\",\n",
    "                                              value_name=\"antennacnt\")\n",
    "    \n",
    "    return statsantennstats_df"
   ]
  },
  {
   "cell_type": "code",
   "execution_count": null,
   "metadata": {},
   "outputs": [],
   "source": []
  },
  {
   "cell_type": "code",
   "execution_count": 11,
   "metadata": {},
   "outputs": [],
   "source": [
    "def extractactivityperzeit(filename):\n",
    "    \n",
    "    stateepochscsvinputpath = microbehepochspath + '/' + filename\n",
    "    df_epochs = pd.read_csv(stateepochscsvinputpath, index_col = 0)\n",
    "    df_epochs = df_epochs.reset_index()\n",
    "\n",
    "    df_epochs['start'] = pd.to_datetime(df_epochs['start'], format='%H:%M:%S')\n",
    "    df_epochs['end'] = pd.to_datetime(df_epochs['end'], format='%H:%M:%S')\n",
    "    df_epochs['duration'] = df_epochs['end'] - df_epochs['start']\n",
    "\n",
    "    df_epochs['duration']=df_epochs['duration'].apply(lambda x: x + pd.Timedelta(days=1) if x < pd.Timedelta(0) else x)\n",
    "\n",
    "    df_epochs['mins'] = df_epochs['duration'].dt.seconds/60\n",
    "    df_epochs['zeit'] = None\n",
    "\n",
    "    df_epochs.loc[(df_epochs['start'].dt.hour>=8) & (df_epochs['end'].dt.hour<20),'zeit'] = '08:to:20'\n",
    "    df_epochs.loc[(df_epochs['start'].dt.hour>=20) | (df_epochs['end'].dt.hour<8),'zeit'] = '20:to:08'\n",
    "\n",
    "    df_epochs = df_epochs.dropna()\n",
    "    \n",
    "    return df_epochs"
   ]
  },
  {
   "cell_type": "code",
   "execution_count": null,
   "metadata": {},
   "outputs": [],
   "source": []
  },
  {
   "cell_type": "code",
   "execution_count": 12,
   "metadata": {},
   "outputs": [],
   "source": [
    "def extractactivityperzeit2(filename):\n",
    "    \n",
    "    stateepochscsvinputpath = microbehepochspath + '/' + \"fb_3.csv\"\n",
    "    df_epochs = pd.read_csv(stateepochscsvinputpath, index_col = 0)\n",
    "    df_epochs = df_epochs.reset_index()\n",
    "    \n",
    "    df_epochs['start'] = pd.to_datetime(df_epochs['start'], format='%H:%M:%S')\n",
    "    df_epochs['end'] = pd.to_datetime(df_epochs['end'], format='%H:%M:%S')\n",
    "    df_epochs['duration'] = df_epochs['end'] - df_epochs['start']\n",
    "\n",
    "    df_epochs['mins'] = df_epochs['duration'].dt.seconds/60\n",
    "    \n",
    "    \n",
    "    return df_epochs"
   ]
  },
  {
   "cell_type": "code",
   "execution_count": null,
   "metadata": {},
   "outputs": [],
   "source": []
  },
  {
   "cell_type": "code",
   "execution_count": null,
   "metadata": {},
   "outputs": [],
   "source": []
  },
  {
   "cell_type": "code",
   "execution_count": 13,
   "metadata": {},
   "outputs": [],
   "source": [
    "def parseactivityperzeit2(flyid, df_epochs):\n",
    "    \n",
    "    allactivitystats_df = df_epochs[(df_epochs.flyname == flyid)]\n",
    "    \n",
    "    tempstats_df = allactivitystats_df.sort_values(\"start\").groupby(\"start\").apply(lambda x: x.tail(1))\n",
    "    \n",
    "    tempstats_df[\"start2\"] = pd.to_datetime(tempstats_df[\"start\"])\n",
    "    tempstats_df[\"end2\"] = pd.to_datetime(tempstats_df[\"end\"])\n",
    "    tempstats_df[\"duration\"] = abs(tempstats_df[\"end2\"].shift(1) - tempstats_df[\"start2\"])\n",
    "    \n",
    "    tempstats_df = tempstats_df.reset_index(drop=True)\n",
    "    tempstats_df['pastidx'] = tempstats_df.index\n",
    "    \n",
    "    filtered_df = tempstats_df[tempstats_df[\"duration\"] > pd.Timedelta(0)]\n",
    "    sortfiltered_df = filtered_df.sort_values(by=['duration'], ascending=False)\n",
    "    \n",
    "    row = sortfiltered_df.iloc[0]\n",
    "    \n",
    "    tempstats2_df  = pd.concat([sortfiltered_df, tempstats_df.iloc[row.name + 1:], \n",
    "                            tempstats_df.iloc[:row.name]], ignore_index=True)\n",
    "\n",
    "    tempstats2_df = tempstats2_df[['flyname', 'type', 'start', 'end']]\n",
    "    \n",
    "    \n",
    "    # Convert the start and end columns to datetime objects\n",
    "    tempstats2_df[\"start\"] = pd.to_datetime(tempstats2_df[\"start\"])\n",
    "    tempstats2_df[\"end\"] = pd.to_datetime(tempstats2_df[\"end\"])\n",
    "\n",
    "\n",
    "    tempstats2_df['is_same_day_start'] = tempstats2_df[\"start\"]>=tempstats2_df.loc[0,\"start\"]\n",
    "    tempstats2_df['is_same_day_end'] = tempstats2_df[\"end\"]>tempstats2_df.loc[0,\"start\"]\n",
    "\n",
    "    #add the roll-over stuff now\n",
    "    tempstats2_df.loc[tempstats2_df['is_same_day_start'] == False, 'start'] =\\\n",
    "                    tempstats2_df.loc[tempstats2_df['is_same_day_start'] == False, 'start'] + pd.Timedelta(days=1)\n",
    "\n",
    "    tempstats2_df.loc[tempstats2_df['is_same_day_end'] == False, 'end'] =\\\n",
    "                    tempstats2_df.loc[tempstats2_df['is_same_day_end'] == False, 'end'] + pd.Timedelta(days=1)\n",
    "    \n",
    "    tempstats2_df['duration'] = tempstats2_df['end'] - tempstats2_df['start']\n",
    "    \n",
    "    possissue_df = tempstats2_df[tempstats2_df['duration'] > timedelta(hours=7)]\n",
    "    \n",
    "    possissue_df = possissue_df[['flyname', 'type', 'start', 'end', 'duration']]\n",
    "    \n",
    "#     if possissue_df.empty == False:\n",
    "#         print('\\n')\n",
    "#         print('really long epochs found')\n",
    "#         print(possissue_df)\n",
    "#         print('\\n')\n",
    "        \n",
    "    zeitstart_time = tempstats2_df.iloc[0][\"start\"] - pd.Timedelta(hours=8)\n",
    "    zeitend_time = tempstats2_df.iloc[-1][\"end\"] - pd.Timedelta(hours=8)\n",
    "    \n",
    "    # if tempstats2_df.iloc[0][\"start\"].hour >= 8:\n",
    "    #     zeitstart_time = tempstats2_df.iloc[0][\"start\"] - pd.Timedelta(hours=8)\n",
    "    # else:\n",
    "    #     zeitstart_time = tempstats2_df.iloc[0][\"start\"] + pd.Timedelta(hours=16)\n",
    "    \n",
    "    # if tempstats2_df.iloc[-1][\"end\"].hour >= 8:\n",
    "    #     zeitend_time = tempstats2_df.iloc[-1][\"end\"] - pd.Timedelta(hours=8)\n",
    "    # else:\n",
    "    #     zeitend_time = tempstats2_df.iloc[-1][\"end\"] + pd.Timedelta(hours=16)\n",
    "    \n",
    "    print(\"The start time is {}:{}:{}\".format(tempstats2_df.iloc[0][\"start\"].hour,\n",
    "                                          tempstats2_df.iloc[0][\"start\"].minute, \n",
    "                                          tempstats2_df.iloc[0][\"start\"].second))\n",
    "    \n",
    "    print(\"The end time is {}:{}:{}\".format(tempstats2_df.iloc[-1][\"end\"].hour,\n",
    "                                          tempstats2_df.iloc[-1][\"end\"].minute, \n",
    "                                          tempstats2_df.iloc[-1][\"end\"].second))\n",
    "    \n",
    "    \n",
    "    print(\"The zeitgeber start time is {}:{}:{}\".format(zeitstart_time.hour, zeitstart_time.minute, \n",
    "                                              zeitstart_time.second))\n",
    "    \n",
    "    print(\"The zeitgeber end time is {}:{}:{}\".format(zeitend_time.hour, zeitend_time.minute, \n",
    "                                              zeitend_time.second))\n",
    "    \n",
    "    duration_time  = tempstats2_df.iloc[-1][\"end\"] - tempstats2_df.iloc[0][\"start\"]\n",
    "    print(\"The duration is {}:{}:{}\".format(duration_time.seconds // 3600,\n",
    "                                            (duration_time.seconds %3600) // 60, \n",
    "                                            duration_time.seconds % 60))\n",
    "    \n",
    "    tempstats2_df = tempstats2_df[['flyname', 'type', 'start', 'end', 'duration']]\n",
    "    \n",
    "    tempstats2_df['zeit'] = None\n",
    "    tempstats2_df.loc[(tempstats2_df['start'].dt.hour>=8) & (tempstats2_df['end'].dt.hour<20),'zeit'] = '08:to:20'\n",
    "    tempstats2_df.loc[(tempstats2_df['start'].dt.hour>=20) | (tempstats2_df['end'].dt.hour<8),'zeit'] = '20:to:08'\n",
    "    \n",
    "    tempstats2_df = tempstats2_df.dropna()\n",
    "    \n",
    "    return tempstats2_df\n"
   ]
  },
  {
   "cell_type": "code",
   "execution_count": null,
   "metadata": {},
   "outputs": [],
   "source": []
  },
  {
   "cell_type": "code",
   "execution_count": 14,
   "metadata": {},
   "outputs": [],
   "source": [
    "df_epochs = extractactivityperzeit2(\"fb_3.csv\")"
   ]
  },
  {
   "cell_type": "code",
   "execution_count": null,
   "metadata": {},
   "outputs": [],
   "source": []
  },
  {
   "cell_type": "code",
   "execution_count": 15,
   "metadata": {},
   "outputs": [],
   "source": [
    "allepochstats_df = pd.DataFrame(columns=['flyname', 'type', 'start', 'end', 'duration', 'zeit'])"
   ]
  },
  {
   "cell_type": "code",
   "execution_count": 16,
   "metadata": {},
   "outputs": [
    {
     "name": "stdout",
     "output_type": "stream",
     "text": [
      "\n",
      "\n",
      "Processing fly id:  1\n",
      "The start time is 18:17:56\n",
      "The end time is 11:0:39\n",
      "The zeitgeber start time is 10:17:56\n",
      "The zeitgeber end time is 3:0:39\n",
      "The duration is 16:42:43\n",
      "\n",
      "\n",
      "Processing fly id:  2\n",
      "The start time is 17:23:22\n",
      "The end time is 7:23:21\n",
      "The zeitgeber start time is 9:23:22\n",
      "The zeitgeber end time is 23:23:21\n",
      "The duration is 13:59:59\n",
      "\n",
      "\n",
      "Processing fly id:  3\n",
      "The start time is 17:59:18\n",
      "The end time is 11:20:34\n",
      "The zeitgeber start time is 9:59:18\n",
      "The zeitgeber end time is 3:20:34\n",
      "The duration is 17:21:16\n",
      "\n",
      "\n",
      "Processing fly id:  4\n",
      "The start time is 15:37:16\n",
      "The end time is 9:37:16\n",
      "The zeitgeber start time is 7:37:16\n",
      "The zeitgeber end time is 1:37:16\n",
      "The duration is 18:0:0\n",
      "\n",
      "\n",
      "Processing fly id:  5\n",
      "The start time is 17:31:37\n",
      "The end time is 9:57:4\n",
      "The zeitgeber start time is 9:31:37\n",
      "The zeitgeber end time is 1:57:4\n",
      "The duration is 16:25:27\n",
      "\n",
      "\n",
      "Processing fly id:  6\n",
      "The start time is 18:6:47\n",
      "The end time is 9:2:0\n",
      "The zeitgeber start time is 10:6:47\n",
      "The zeitgeber end time is 1:2:0\n",
      "The duration is 14:55:13\n",
      "\n",
      "\n",
      "Processing fly id:  7\n",
      "The start time is 18:17:15\n",
      "The end time is 10:17:14\n",
      "The zeitgeber start time is 10:17:15\n",
      "The zeitgeber end time is 2:17:14\n",
      "The duration is 15:59:59\n",
      "\n",
      "\n",
      "Processing fly id:  8\n",
      "The start time is 17:44:14\n",
      "The end time is 11:20:21\n",
      "The zeitgeber start time is 9:44:14\n",
      "The zeitgeber end time is 3:20:21\n",
      "The duration is 17:36:7\n",
      "\n",
      "\n",
      "Processing fly id:  9\n",
      "The start time is 17:40:40\n",
      "The end time is 9:39:31\n",
      "The zeitgeber start time is 9:40:40\n",
      "The zeitgeber end time is 1:39:31\n",
      "The duration is 15:58:51\n",
      "\n",
      "\n",
      "Processing fly id:  10\n",
      "The start time is 20:54:5\n",
      "The end time is 10:59:2\n",
      "The zeitgeber start time is 12:54:5\n",
      "The zeitgeber end time is 2:59:2\n",
      "The duration is 14:4:57\n",
      "\n",
      "\n",
      "Processing fly id:  11\n",
      "The start time is 18:30:49\n",
      "The end time is 12:30:48\n",
      "The zeitgeber start time is 10:30:49\n",
      "The zeitgeber end time is 4:30:48\n",
      "The duration is 17:59:59\n"
     ]
    }
   ],
   "source": [
    "for fly_id in df_epochs['flyname'].unique():\n",
    "    print('\\n\\nProcessing fly id: ', fly_id)\n",
    "    allepochstats_df = allepochstats_df.append(parseactivityperzeit2(fly_id, df_epochs))   "
   ]
  },
  {
   "cell_type": "code",
   "execution_count": null,
   "metadata": {},
   "outputs": [],
   "source": []
  },
  {
   "cell_type": "code",
   "execution_count": 17,
   "metadata": {},
   "outputs": [
    {
     "data": {
      "text/html": [
       "<div>\n",
       "<style scoped>\n",
       "    .dataframe tbody tr th:only-of-type {\n",
       "        vertical-align: middle;\n",
       "    }\n",
       "\n",
       "    .dataframe tbody tr th {\n",
       "        vertical-align: top;\n",
       "    }\n",
       "\n",
       "    .dataframe thead th {\n",
       "        text-align: right;\n",
       "    }\n",
       "</style>\n",
       "<table border=\"1\" class=\"dataframe\">\n",
       "  <thead>\n",
       "    <tr style=\"text-align: right;\">\n",
       "      <th></th>\n",
       "      <th>flyname</th>\n",
       "      <th>type</th>\n",
       "      <th>start</th>\n",
       "      <th>end</th>\n",
       "      <th>duration</th>\n",
       "      <th>zeit</th>\n",
       "    </tr>\n",
       "  </thead>\n",
       "  <tbody>\n",
       "    <tr>\n",
       "      <th>1</th>\n",
       "      <td>1</td>\n",
       "      <td>sleep</td>\n",
       "      <td>1900-01-01 21:58:13</td>\n",
       "      <td>1900-01-01 22:05:41</td>\n",
       "      <td>0 days 00:07:28</td>\n",
       "      <td>20:to:08</td>\n",
       "    </tr>\n",
       "    <tr>\n",
       "      <th>2</th>\n",
       "      <td>1</td>\n",
       "      <td>awake</td>\n",
       "      <td>1900-01-01 22:05:41</td>\n",
       "      <td>1900-01-01 22:27:03</td>\n",
       "      <td>0 days 00:21:22</td>\n",
       "      <td>20:to:08</td>\n",
       "    </tr>\n",
       "    <tr>\n",
       "      <th>3</th>\n",
       "      <td>1</td>\n",
       "      <td>sleep</td>\n",
       "      <td>1900-01-01 22:27:03</td>\n",
       "      <td>1900-01-01 22:37:07</td>\n",
       "      <td>0 days 00:10:04</td>\n",
       "      <td>20:to:08</td>\n",
       "    </tr>\n",
       "    <tr>\n",
       "      <th>4</th>\n",
       "      <td>1</td>\n",
       "      <td>awake</td>\n",
       "      <td>1900-01-01 22:37:07</td>\n",
       "      <td>1900-01-01 22:41:36</td>\n",
       "      <td>0 days 00:04:29</td>\n",
       "      <td>20:to:08</td>\n",
       "    </tr>\n",
       "    <tr>\n",
       "      <th>5</th>\n",
       "      <td>1</td>\n",
       "      <td>sleep</td>\n",
       "      <td>1900-01-01 22:41:36</td>\n",
       "      <td>1900-01-01 22:47:21</td>\n",
       "      <td>0 days 00:05:45</td>\n",
       "      <td>20:to:08</td>\n",
       "    </tr>\n",
       "  </tbody>\n",
       "</table>\n",
       "</div>"
      ],
      "text/plain": [
       "  flyname   type               start                 end        duration  \\\n",
       "1       1  sleep 1900-01-01 21:58:13 1900-01-01 22:05:41 0 days 00:07:28   \n",
       "2       1  awake 1900-01-01 22:05:41 1900-01-01 22:27:03 0 days 00:21:22   \n",
       "3       1  sleep 1900-01-01 22:27:03 1900-01-01 22:37:07 0 days 00:10:04   \n",
       "4       1  awake 1900-01-01 22:37:07 1900-01-01 22:41:36 0 days 00:04:29   \n",
       "5       1  sleep 1900-01-01 22:41:36 1900-01-01 22:47:21 0 days 00:05:45   \n",
       "\n",
       "       zeit  \n",
       "1  20:to:08  \n",
       "2  20:to:08  \n",
       "3  20:to:08  \n",
       "4  20:to:08  \n",
       "5  20:to:08  "
      ]
     },
     "execution_count": 17,
     "metadata": {},
     "output_type": "execute_result"
    }
   ],
   "source": [
    "allepochstats_df.head()"
   ]
  },
  {
   "cell_type": "code",
   "execution_count": 18,
   "metadata": {},
   "outputs": [
    {
     "data": {
      "text/plain": [
       "20:to:08    360\n",
       "08:to:20     83\n",
       "Name: zeit, dtype: int64"
      ]
     },
     "execution_count": 18,
     "metadata": {},
     "output_type": "execute_result"
    }
   ],
   "source": [
    "allepochstats_df['zeit'].value_counts()"
   ]
  },
  {
   "cell_type": "code",
   "execution_count": null,
   "metadata": {},
   "outputs": [],
   "source": []
  },
  {
   "cell_type": "code",
   "execution_count": null,
   "metadata": {},
   "outputs": [],
   "source": []
  },
  {
   "cell_type": "code",
   "execution_count": 19,
   "metadata": {},
   "outputs": [],
   "source": [
    "leftantennstats_df = extractantennaepochs(\"leftAntNorm_2.csv\")\n",
    "leftantennstats_df[\"anttype\"] = \"left\""
   ]
  },
  {
   "cell_type": "code",
   "execution_count": 20,
   "metadata": {},
   "outputs": [
    {
     "data": {
      "text/html": [
       "<div>\n",
       "<style scoped>\n",
       "    .dataframe tbody tr th:only-of-type {\n",
       "        vertical-align: middle;\n",
       "    }\n",
       "\n",
       "    .dataframe tbody tr th {\n",
       "        vertical-align: top;\n",
       "    }\n",
       "\n",
       "    .dataframe thead th {\n",
       "        text-align: right;\n",
       "    }\n",
       "</style>\n",
       "<table border=\"1\" class=\"dataframe\">\n",
       "  <thead>\n",
       "    <tr style=\"text-align: right;\">\n",
       "      <th></th>\n",
       "      <th>flyname</th>\n",
       "      <th>epoch</th>\n",
       "      <th>epochtype</th>\n",
       "      <th>antennacnt</th>\n",
       "      <th>anttype</th>\n",
       "    </tr>\n",
       "  </thead>\n",
       "  <tbody>\n",
       "    <tr>\n",
       "      <th>0</th>\n",
       "      <td>1</td>\n",
       "      <td>1</td>\n",
       "      <td>+0:+1</td>\n",
       "      <td>0.000000</td>\n",
       "      <td>left</td>\n",
       "    </tr>\n",
       "    <tr>\n",
       "      <th>1</th>\n",
       "      <td>1</td>\n",
       "      <td>2</td>\n",
       "      <td>+0:+1</td>\n",
       "      <td>0.530507</td>\n",
       "      <td>left</td>\n",
       "    </tr>\n",
       "    <tr>\n",
       "      <th>2</th>\n",
       "      <td>1</td>\n",
       "      <td>3</td>\n",
       "      <td>+0:+1</td>\n",
       "      <td>0.000000</td>\n",
       "      <td>left</td>\n",
       "    </tr>\n",
       "    <tr>\n",
       "      <th>3</th>\n",
       "      <td>1</td>\n",
       "      <td>4</td>\n",
       "      <td>+0:+1</td>\n",
       "      <td>0.430411</td>\n",
       "      <td>left</td>\n",
       "    </tr>\n",
       "    <tr>\n",
       "      <th>4</th>\n",
       "      <td>1</td>\n",
       "      <td>5</td>\n",
       "      <td>+0:+1</td>\n",
       "      <td>0.599448</td>\n",
       "      <td>left</td>\n",
       "    </tr>\n",
       "  </tbody>\n",
       "</table>\n",
       "</div>"
      ],
      "text/plain": [
       "   flyname  epoch epochtype  antennacnt anttype\n",
       "0        1      1     +0:+1    0.000000    left\n",
       "1        1      2     +0:+1    0.530507    left\n",
       "2        1      3     +0:+1    0.000000    left\n",
       "3        1      4     +0:+1    0.430411    left\n",
       "4        1      5     +0:+1    0.599448    left"
      ]
     },
     "execution_count": 20,
     "metadata": {},
     "output_type": "execute_result"
    }
   ],
   "source": [
    "leftantennstats_df.head()"
   ]
  },
  {
   "cell_type": "code",
   "execution_count": 21,
   "metadata": {},
   "outputs": [],
   "source": [
    "rightantennstats_df = extractantennaepochs(\"rightAntNorm_2.csv\")\n",
    "rightantennstats_df[\"anttype\"] = \"right\""
   ]
  },
  {
   "cell_type": "code",
   "execution_count": 22,
   "metadata": {},
   "outputs": [
    {
     "data": {
      "text/html": [
       "<div>\n",
       "<style scoped>\n",
       "    .dataframe tbody tr th:only-of-type {\n",
       "        vertical-align: middle;\n",
       "    }\n",
       "\n",
       "    .dataframe tbody tr th {\n",
       "        vertical-align: top;\n",
       "    }\n",
       "\n",
       "    .dataframe thead th {\n",
       "        text-align: right;\n",
       "    }\n",
       "</style>\n",
       "<table border=\"1\" class=\"dataframe\">\n",
       "  <thead>\n",
       "    <tr style=\"text-align: right;\">\n",
       "      <th></th>\n",
       "      <th>flyname</th>\n",
       "      <th>epoch</th>\n",
       "      <th>epochtype</th>\n",
       "      <th>antennacnt</th>\n",
       "      <th>anttype</th>\n",
       "    </tr>\n",
       "  </thead>\n",
       "  <tbody>\n",
       "    <tr>\n",
       "      <th>0</th>\n",
       "      <td>1</td>\n",
       "      <td>1</td>\n",
       "      <td>+0:+1</td>\n",
       "      <td>0.379956</td>\n",
       "      <td>right</td>\n",
       "    </tr>\n",
       "    <tr>\n",
       "      <th>1</th>\n",
       "      <td>1</td>\n",
       "      <td>2</td>\n",
       "      <td>+0:+1</td>\n",
       "      <td>0.257505</td>\n",
       "      <td>right</td>\n",
       "    </tr>\n",
       "    <tr>\n",
       "      <th>2</th>\n",
       "      <td>1</td>\n",
       "      <td>3</td>\n",
       "      <td>+0:+1</td>\n",
       "      <td>0.500252</td>\n",
       "      <td>right</td>\n",
       "    </tr>\n",
       "    <tr>\n",
       "      <th>3</th>\n",
       "      <td>1</td>\n",
       "      <td>4</td>\n",
       "      <td>+0:+1</td>\n",
       "      <td>0.293739</td>\n",
       "      <td>right</td>\n",
       "    </tr>\n",
       "    <tr>\n",
       "      <th>4</th>\n",
       "      <td>1</td>\n",
       "      <td>5</td>\n",
       "      <td>+0:+1</td>\n",
       "      <td>0.250207</td>\n",
       "      <td>right</td>\n",
       "    </tr>\n",
       "  </tbody>\n",
       "</table>\n",
       "</div>"
      ],
      "text/plain": [
       "   flyname  epoch epochtype  antennacnt anttype\n",
       "0        1      1     +0:+1    0.379956   right\n",
       "1        1      2     +0:+1    0.257505   right\n",
       "2        1      3     +0:+1    0.500252   right\n",
       "3        1      4     +0:+1    0.293739   right\n",
       "4        1      5     +0:+1    0.250207   right"
      ]
     },
     "execution_count": 22,
     "metadata": {},
     "output_type": "execute_result"
    }
   ],
   "source": [
    "rightantennstats_df.head()"
   ]
  },
  {
   "cell_type": "code",
   "execution_count": 23,
   "metadata": {},
   "outputs": [],
   "source": [
    "allantennstats_df = pd.concat([leftantennstats_df,rightantennstats_df])"
   ]
  },
  {
   "cell_type": "code",
   "execution_count": null,
   "metadata": {},
   "outputs": [],
   "source": []
  },
  {
   "cell_type": "code",
   "execution_count": 24,
   "metadata": {},
   "outputs": [],
   "source": [
    "allprobstats_df = extractprobepochs(\"peLOCSFrac_3.csv\")"
   ]
  },
  {
   "cell_type": "code",
   "execution_count": 25,
   "metadata": {},
   "outputs": [
    {
     "data": {
      "text/html": [
       "<div>\n",
       "<style scoped>\n",
       "    .dataframe tbody tr th:only-of-type {\n",
       "        vertical-align: middle;\n",
       "    }\n",
       "\n",
       "    .dataframe tbody tr th {\n",
       "        vertical-align: top;\n",
       "    }\n",
       "\n",
       "    .dataframe thead th {\n",
       "        text-align: right;\n",
       "    }\n",
       "</style>\n",
       "<table border=\"1\" class=\"dataframe\">\n",
       "  <thead>\n",
       "    <tr style=\"text-align: right;\">\n",
       "      <th></th>\n",
       "      <th>flyname</th>\n",
       "      <th>epoch</th>\n",
       "      <th>epochtype</th>\n",
       "      <th>probcnt</th>\n",
       "    </tr>\n",
       "  </thead>\n",
       "  <tbody>\n",
       "    <tr>\n",
       "      <th>0</th>\n",
       "      <td>1</td>\n",
       "      <td>1</td>\n",
       "      <td>+0:+1</td>\n",
       "      <td>1.000000</td>\n",
       "    </tr>\n",
       "    <tr>\n",
       "      <th>1</th>\n",
       "      <td>1</td>\n",
       "      <td>2</td>\n",
       "      <td>+0:+1</td>\n",
       "      <td>NaN</td>\n",
       "    </tr>\n",
       "    <tr>\n",
       "      <th>2</th>\n",
       "      <td>1</td>\n",
       "      <td>3</td>\n",
       "      <td>+0:+1</td>\n",
       "      <td>NaN</td>\n",
       "    </tr>\n",
       "    <tr>\n",
       "      <th>3</th>\n",
       "      <td>1</td>\n",
       "      <td>4</td>\n",
       "      <td>+0:+1</td>\n",
       "      <td>0.909982</td>\n",
       "    </tr>\n",
       "    <tr>\n",
       "      <th>4</th>\n",
       "      <td>1</td>\n",
       "      <td>5</td>\n",
       "      <td>+0:+1</td>\n",
       "      <td>NaN</td>\n",
       "    </tr>\n",
       "  </tbody>\n",
       "</table>\n",
       "</div>"
      ],
      "text/plain": [
       "   flyname  epoch epochtype   probcnt\n",
       "0        1      1     +0:+1  1.000000\n",
       "1        1      2     +0:+1       NaN\n",
       "2        1      3     +0:+1       NaN\n",
       "3        1      4     +0:+1  0.909982\n",
       "4        1      5     +0:+1       NaN"
      ]
     },
     "execution_count": 25,
     "metadata": {},
     "output_type": "execute_result"
    }
   ],
   "source": [
    "allprobstats_df.head()"
   ]
  },
  {
   "cell_type": "code",
   "execution_count": null,
   "metadata": {},
   "outputs": [],
   "source": []
  },
  {
   "cell_type": "code",
   "execution_count": null,
   "metadata": {},
   "outputs": [],
   "source": []
  },
  {
   "cell_type": "code",
   "execution_count": 26,
   "metadata": {},
   "outputs": [],
   "source": [
    "%R -i allantennstats_df"
   ]
  },
  {
   "cell_type": "code",
   "execution_count": null,
   "metadata": {},
   "outputs": [],
   "source": []
  },
  {
   "cell_type": "code",
   "execution_count": 27,
   "metadata": {},
   "outputs": [
    {
     "name": "stdout",
     "output_type": "stream",
     "text": [
      "  flyname epoch epochtype antennacnt anttype\n",
      "1       1     1     +0:+1  0.0000000    left\n",
      "2       1     2     +0:+1  0.5305065    left\n",
      "3       1     3     +0:+1  0.0000000    left\n",
      "4       1     4     +0:+1  0.4304110    left\n",
      "5       1     5     +0:+1  0.5994475    left\n",
      "6       1     6     +0:+1  0.0000000    left\n"
     ]
    }
   ],
   "source": [
    "%%R\n",
    "head(allantennstats_df)"
   ]
  },
  {
   "cell_type": "code",
   "execution_count": 28,
   "metadata": {},
   "outputs": [
    {
     "name": "stdout",
     "output_type": "stream",
     "text": [
      "[1] ‘1.1.21’\n"
     ]
    }
   ],
   "source": [
    "%%R\n",
    "packageVersion(\"lme4\")"
   ]
  },
  {
   "cell_type": "code",
   "execution_count": 29,
   "metadata": {},
   "outputs": [
    {
     "name": "stderr",
     "output_type": "stream",
     "text": [
      "R[write to console]: Loading required package: lme4\n",
      "\n",
      "R[write to console]: Loading required package: Matrix\n",
      "\n",
      "R[write to console]: \n",
      "Attaching package: ‘lmerTest’\n",
      "\n",
      "\n",
      "R[write to console]: The following object is masked from ‘package:lme4’:\n",
      "\n",
      "    lmer\n",
      "\n",
      "\n",
      "R[write to console]: The following object is masked from ‘package:stats’:\n",
      "\n",
      "    step\n",
      "\n",
      "\n"
     ]
    }
   ],
   "source": [
    "%%R\n",
    "# Multilevel model with missing values ~ Hierarchical model\n",
    "# First compare and choose the best model..\n",
    "\n",
    "library(lmerTest)"
   ]
  },
  {
   "cell_type": "code",
   "execution_count": 30,
   "metadata": {},
   "outputs": [
    {
     "name": "stderr",
     "output_type": "stream",
     "text": [
      "R[write to console]: boundary (singular) fit: see ?isSingular\n",
      "\n",
      "R[write to console]: boundary (singular) fit: see ?isSingular\n",
      "\n"
     ]
    }
   ],
   "source": [
    "%%R\n",
    "model.null = lmer(antennacnt ~ 1 + (1|flyname), \n",
    "                  data=allantennstats_df[allantennstats_df$anttype == \"left\", ],\n",
    "                  REML=FALSE)\n",
    "\n",
    "model.epochtype = lmer(antennacnt ~ epochtype + (1|flyname), \n",
    "                        data=allantennstats_df[allantennstats_df$anttype == \"left\", ],\n",
    "                  REML=FALSE)"
   ]
  },
  {
   "cell_type": "code",
   "execution_count": 31,
   "metadata": {},
   "outputs": [
    {
     "name": "stdout",
     "output_type": "stream",
     "text": [
      "Data: allantennstats_df[allantennstats_df$anttype == \"left\", ]\n",
      "Models:\n",
      "model.null: antennacnt ~ 1 + (1 | flyname)\n",
      "model.epochtype: antennacnt ~ epochtype + (1 | flyname)\n",
      "                Df    AIC    BIC  logLik deviance  Chisq Chi Df Pr(>Chisq)    \n",
      "model.null       3 219.06 234.05 -106.53   213.06                             \n",
      "model.epochtype  7 161.16 196.12  -73.58   147.16 65.905      4  1.659e-13 ***\n",
      "---\n",
      "Signif. codes:  0 ‘***’ 0.001 ‘**’ 0.01 ‘*’ 0.05 ‘.’ 0.1 ‘ ’ 1\n"
     ]
    }
   ],
   "source": [
    "%%R\n",
    "#compare the null model, with the epoch type model..\n",
    "print(anova(model.null,model.epochtype))"
   ]
  },
  {
   "cell_type": "code",
   "execution_count": 32,
   "metadata": {},
   "outputs": [
    {
     "name": "stdout",
     "output_type": "stream",
     "text": [
      "Type III Analysis of Variance Table with Satterthwaite's method\n",
      "          Sum Sq Mean Sq NumDF DenDF F value    Pr(>F)    \n",
      "epochtype 4.5527  1.1382     4  1090  16.985 1.611e-13 ***\n",
      "---\n",
      "Signif. codes:  0 ‘***’ 0.001 ‘**’ 0.01 ‘*’ 0.05 ‘.’ 0.1 ‘ ’ 1\n"
     ]
    }
   ],
   "source": [
    "%%R\n",
    "#the above analysis show that the epoch type model is the most likely model..\n",
    "#let's analyse the same..\n",
    "print(anova(model.epochtype))"
   ]
  },
  {
   "cell_type": "code",
   "execution_count": 33,
   "metadata": {},
   "outputs": [
    {
     "name": "stdout",
     "output_type": "stream",
     "text": [
      "            R2m        R2c\n",
      "[1,] 0.05872216 0.05872216\n"
     ]
    }
   ],
   "source": [
    "%%R\n",
    "library(\"MuMIn\")\n",
    "r.squaredGLMM(model.epochtype)"
   ]
  },
  {
   "cell_type": "code",
   "execution_count": 34,
   "metadata": {},
   "outputs": [
    {
     "name": "stdout",
     "output_type": "stream",
     "text": [
      "NULL\n"
     ]
    }
   ],
   "source": [
    "%%R\n",
    "#the above table shows that there is a main effect of epoch type, let's find out what \n",
    "#categories are actually different.."
   ]
  },
  {
   "cell_type": "code",
   "execution_count": 35,
   "metadata": {},
   "outputs": [
    {
     "name": "stderr",
     "output_type": "stream",
     "text": [
      "R[write to console]: Loading required package: mvtnorm\n",
      "\n",
      "R[write to console]: Loading required package: survival\n",
      "\n",
      "R[write to console]: Loading required package: TH.data\n",
      "\n",
      "R[write to console]: Loading required package: MASS\n",
      "\n",
      "R[write to console]: \n",
      "Attaching package: ‘TH.data’\n",
      "\n",
      "\n",
      "R[write to console]: The following object is masked from ‘package:MASS’:\n",
      "\n",
      "    geyser\n",
      "\n",
      "\n",
      "R[write to console]: boundary (singular) fit: see ?isSingular\n",
      "\n"
     ]
    },
    {
     "name": "stdout",
     "output_type": "stream",
     "text": [
      "\n",
      "\t Simultaneous Tests for General Linear Hypotheses\n",
      "\n",
      "Multiple Comparisons of Means: Tukey Contrasts\n",
      "\n",
      "\n",
      "Fit: lmer(formula = antennacnt ~ epochtype + (1 | flyname), data = allantennstats_df[allantennstats_df$anttype == \n",
      "    \"left\", ], REML = FALSE)\n",
      "\n",
      "Linear Hypotheses:\n",
      "                       Estimate Std. Error z value Pr(>|z|)    \n",
      "+1:+2 - +0:+1 == 0    -0.025610   0.024795  -1.033    0.840    \n",
      "midsleep - +0:+1 == 0  0.146951   0.024795   5.927   <1e-04 ***\n",
      "x:-1 - +0:+1 == 0     -0.007426   0.024795  -0.300    0.998    \n",
      "x:-2 - +0:+1 == 0     -0.019252   0.024795  -0.776    0.937    \n",
      "midsleep - +1:+2 == 0  0.172561   0.024795   6.959   <1e-04 ***\n",
      "x:-1 - +1:+2 == 0      0.018183   0.024795   0.733    0.949    \n",
      "x:-2 - +1:+2 == 0      0.006357   0.024795   0.256    0.999    \n",
      "x:-1 - midsleep == 0  -0.154378   0.024795  -6.226   <1e-04 ***\n",
      "x:-2 - midsleep == 0  -0.166203   0.024795  -6.703   <1e-04 ***\n",
      "x:-2 - x:-1 == 0      -0.011826   0.024795  -0.477    0.989    \n",
      "---\n",
      "Signif. codes:  0 ‘***’ 0.001 ‘**’ 0.01 ‘*’ 0.05 ‘.’ 0.1 ‘ ’ 1\n",
      "(Adjusted p values reported -- single-step method)\n",
      "\n"
     ]
    }
   ],
   "source": [
    "%%R\n",
    "library(\"multcomp\")\n",
    "# Step 5: Post Hoc comparisions \n",
    "model = lmer(antennacnt ~ epochtype + (1|flyname), data=allantennstats_df[allantennstats_df$anttype == \"left\", ],\n",
    "             REML=FALSE)\n",
    "\n",
    "print(summary(glht(model, mcp(epochtype=\"Tukey\"))))"
   ]
  },
  {
   "cell_type": "code",
   "execution_count": null,
   "metadata": {},
   "outputs": [],
   "source": []
  },
  {
   "cell_type": "code",
   "execution_count": 36,
   "metadata": {},
   "outputs": [
    {
     "name": "stderr",
     "output_type": "stream",
     "text": [
      "R[write to console]: boundary (singular) fit: see ?isSingular\n",
      "\n",
      "R[write to console]: boundary (singular) fit: see ?isSingular\n",
      "\n"
     ]
    }
   ],
   "source": [
    "%%R\n",
    "model.null = lmer(antennacnt ~ 1 + (1|flyname), \n",
    "                  data=allantennstats_df[allantennstats_df$anttype == \"right\", ],\n",
    "                  REML=FALSE)\n",
    "\n",
    "model.epochtype = lmer(antennacnt ~ epochtype + (1|flyname), \n",
    "                        data=allantennstats_df[allantennstats_df$anttype == \"right\", ],\n",
    "                  REML=FALSE)"
   ]
  },
  {
   "cell_type": "code",
   "execution_count": 37,
   "metadata": {},
   "outputs": [
    {
     "name": "stdout",
     "output_type": "stream",
     "text": [
      "Data: allantennstats_df[allantennstats_df$anttype == \"right\", ]\n",
      "Models:\n",
      "model.null: antennacnt ~ 1 + (1 | flyname)\n",
      "model.epochtype: antennacnt ~ epochtype + (1 | flyname)\n",
      "                Df    AIC    BIC  logLik deviance  Chisq Chi Df Pr(>Chisq)    \n",
      "model.null       3 142.83 157.91 -68.415  136.830                             \n",
      "model.epochtype  7 102.94 138.11 -44.468   88.935 47.894      4  9.929e-10 ***\n",
      "---\n",
      "Signif. codes:  0 ‘***’ 0.001 ‘**’ 0.01 ‘*’ 0.05 ‘.’ 0.1 ‘ ’ 1\n"
     ]
    }
   ],
   "source": [
    "%%R\n",
    "#compare the null model, with the epoch type model..\n",
    "print(anova(model.null,model.epochtype))"
   ]
  },
  {
   "cell_type": "code",
   "execution_count": 38,
   "metadata": {},
   "outputs": [
    {
     "name": "stdout",
     "output_type": "stream",
     "text": [
      "Type III Analysis of Variance Table with Satterthwaite's method\n",
      "          Sum Sq Mean Sq NumDF DenDF F value    Pr(>F)    \n",
      "epochtype 3.1004  0.7751     4  1125  12.232 9.729e-10 ***\n",
      "---\n",
      "Signif. codes:  0 ‘***’ 0.001 ‘**’ 0.01 ‘*’ 0.05 ‘.’ 0.1 ‘ ’ 1\n"
     ]
    }
   ],
   "source": [
    "%%R\n",
    "#the above analysis show that the epoch type model is the most likely model..\n",
    "#let's analyse the same..\n",
    "print(anova(model.epochtype))"
   ]
  },
  {
   "cell_type": "code",
   "execution_count": 39,
   "metadata": {},
   "outputs": [
    {
     "name": "stdout",
     "output_type": "stream",
     "text": [
      "            R2m        R2c\n",
      "[1,] 0.04171469 0.04171469\n"
     ]
    }
   ],
   "source": [
    "%%R\n",
    "library(\"MuMIn\")\n",
    "r.squaredGLMM(model.epochtype)"
   ]
  },
  {
   "cell_type": "code",
   "execution_count": 40,
   "metadata": {},
   "outputs": [
    {
     "name": "stdout",
     "output_type": "stream",
     "text": [
      "NULL\n"
     ]
    }
   ],
   "source": [
    "%%R\n",
    "#the above table shows that there is a main effect of epoch type, let's find out what \n",
    "#categories are actually different.."
   ]
  },
  {
   "cell_type": "code",
   "execution_count": 41,
   "metadata": {},
   "outputs": [
    {
     "name": "stderr",
     "output_type": "stream",
     "text": [
      "R[write to console]: boundary (singular) fit: see ?isSingular\n",
      "\n"
     ]
    },
    {
     "name": "stdout",
     "output_type": "stream",
     "text": [
      "\n",
      "\t Simultaneous Tests for General Linear Hypotheses\n",
      "\n",
      "Multiple Comparisons of Means: Tukey Contrasts\n",
      "\n",
      "\n",
      "Fit: lmer(formula = antennacnt ~ epochtype + (1 | flyname), data = allantennstats_df[allantennstats_df$anttype == \n",
      "    \"right\", ], REML = FALSE)\n",
      "\n",
      "Linear Hypotheses:\n",
      "                        Estimate Std. Error z value Pr(>|z|)    \n",
      "+1:+2 - +0:+1 == 0     0.0241771  0.0237330   1.019    0.847    \n",
      "midsleep - +0:+1 == 0  0.1417259  0.0237330   5.972   <1e-04 ***\n",
      "x:-1 - +0:+1 == 0      0.0006699  0.0237330   0.028    1.000    \n",
      "x:-2 - +0:+1 == 0      0.0341417  0.0237330   1.439    0.603    \n",
      "midsleep - +1:+2 == 0  0.1175488  0.0237330   4.953   <1e-04 ***\n",
      "x:-1 - +1:+2 == 0     -0.0235071  0.0237330  -0.990    0.860    \n",
      "x:-2 - +1:+2 == 0      0.0099646  0.0237330   0.420    0.994    \n",
      "x:-1 - midsleep == 0  -0.1410559  0.0237330  -5.943   <1e-04 ***\n",
      "x:-2 - midsleep == 0  -0.1075842  0.0237330  -4.533   <1e-04 ***\n",
      "x:-2 - x:-1 == 0       0.0334718  0.0237330   1.410    0.621    \n",
      "---\n",
      "Signif. codes:  0 ‘***’ 0.001 ‘**’ 0.01 ‘*’ 0.05 ‘.’ 0.1 ‘ ’ 1\n",
      "(Adjusted p values reported -- single-step method)\n",
      "\n"
     ]
    }
   ],
   "source": [
    "%%R\n",
    "library(\"multcomp\")\n",
    "# Step 5: Post Hoc comparisions \n",
    "model = lmer(antennacnt ~ epochtype + (1|flyname), data=allantennstats_df[allantennstats_df$anttype == \"right\", ],\n",
    "             REML=FALSE)\n",
    "\n",
    "print(summary(glht(model, mcp(epochtype=\"Tukey\"))))"
   ]
  },
  {
   "cell_type": "code",
   "execution_count": null,
   "metadata": {},
   "outputs": [],
   "source": []
  },
  {
   "cell_type": "code",
   "execution_count": 42,
   "metadata": {},
   "outputs": [],
   "source": [
    "color_dict = dict({'awake':'#B34D4D',\n",
    "                    '-2:-1':'#F2AF0D','-1:+0':'#F2AF0D',\n",
    "                   '+0:+1':'#1AC2E6','+1:+2':'#1AC2E6',\n",
    "                   'midsleep':'#0D28F2',\n",
    "                   'x:-2':'#B3704D','x:-1':'#B3704D',\n",
    "                  })"
   ]
  },
  {
   "cell_type": "code",
   "execution_count": null,
   "metadata": {},
   "outputs": [],
   "source": []
  },
  {
   "cell_type": "code",
   "execution_count": 43,
   "metadata": {},
   "outputs": [],
   "source": [
    "plotleftantennastats_df = allantennstats_df[allantennstats_df[\"anttype\"] == \"left\"]\n",
    "plotleftantennastats_df = plotleftantennastats_df.groupby(['flyname', 'epochtype'])['antennacnt'].mean()\n",
    "plotleftantennastats_df = plotleftantennastats_df.reset_index()"
   ]
  },
  {
   "cell_type": "code",
   "execution_count": 44,
   "metadata": {},
   "outputs": [
    {
     "data": {
      "text/html": [
       "<div>\n",
       "<style scoped>\n",
       "    .dataframe tbody tr th:only-of-type {\n",
       "        vertical-align: middle;\n",
       "    }\n",
       "\n",
       "    .dataframe tbody tr th {\n",
       "        vertical-align: top;\n",
       "    }\n",
       "\n",
       "    .dataframe thead th {\n",
       "        text-align: right;\n",
       "    }\n",
       "</style>\n",
       "<table border=\"1\" class=\"dataframe\">\n",
       "  <thead>\n",
       "    <tr style=\"text-align: right;\">\n",
       "      <th></th>\n",
       "      <th>flyname</th>\n",
       "      <th>epochtype</th>\n",
       "      <th>antennacnt</th>\n",
       "    </tr>\n",
       "  </thead>\n",
       "  <tbody>\n",
       "    <tr>\n",
       "      <th>0</th>\n",
       "      <td>1</td>\n",
       "      <td>+0:+1</td>\n",
       "      <td>0.268671</td>\n",
       "    </tr>\n",
       "    <tr>\n",
       "      <th>1</th>\n",
       "      <td>1</td>\n",
       "      <td>+1:+2</td>\n",
       "      <td>0.170736</td>\n",
       "    </tr>\n",
       "    <tr>\n",
       "      <th>2</th>\n",
       "      <td>1</td>\n",
       "      <td>midsleep</td>\n",
       "      <td>0.305586</td>\n",
       "    </tr>\n",
       "    <tr>\n",
       "      <th>3</th>\n",
       "      <td>1</td>\n",
       "      <td>x:-1</td>\n",
       "      <td>0.186852</td>\n",
       "    </tr>\n",
       "    <tr>\n",
       "      <th>4</th>\n",
       "      <td>1</td>\n",
       "      <td>x:-2</td>\n",
       "      <td>0.068156</td>\n",
       "    </tr>\n",
       "  </tbody>\n",
       "</table>\n",
       "</div>"
      ],
      "text/plain": [
       "   flyname epochtype  antennacnt\n",
       "0        1     +0:+1    0.268671\n",
       "1        1     +1:+2    0.170736\n",
       "2        1  midsleep    0.305586\n",
       "3        1      x:-1    0.186852\n",
       "4        1      x:-2    0.068156"
      ]
     },
     "execution_count": 44,
     "metadata": {},
     "output_type": "execute_result"
    }
   ],
   "source": [
    "plotleftantennastats_df.head()"
   ]
  },
  {
   "cell_type": "code",
   "execution_count": 45,
   "metadata": {},
   "outputs": [],
   "source": [
    "plotrightantennastats_df = allantennstats_df[allantennstats_df[\"anttype\"] == \"right\"]\n",
    "plotrightantennastats_df = plotrightantennastats_df.groupby(['flyname', 'epochtype'])['antennacnt'].mean()\n",
    "plotrightantennastats_df = plotrightantennastats_df.reset_index()"
   ]
  },
  {
   "cell_type": "code",
   "execution_count": 46,
   "metadata": {},
   "outputs": [
    {
     "data": {
      "text/html": [
       "<div>\n",
       "<style scoped>\n",
       "    .dataframe tbody tr th:only-of-type {\n",
       "        vertical-align: middle;\n",
       "    }\n",
       "\n",
       "    .dataframe tbody tr th {\n",
       "        vertical-align: top;\n",
       "    }\n",
       "\n",
       "    .dataframe thead th {\n",
       "        text-align: right;\n",
       "    }\n",
       "</style>\n",
       "<table border=\"1\" class=\"dataframe\">\n",
       "  <thead>\n",
       "    <tr style=\"text-align: right;\">\n",
       "      <th></th>\n",
       "      <th>flyname</th>\n",
       "      <th>epochtype</th>\n",
       "      <th>antennacnt</th>\n",
       "    </tr>\n",
       "  </thead>\n",
       "  <tbody>\n",
       "    <tr>\n",
       "      <th>0</th>\n",
       "      <td>1</td>\n",
       "      <td>+0:+1</td>\n",
       "      <td>0.220267</td>\n",
       "    </tr>\n",
       "    <tr>\n",
       "      <th>1</th>\n",
       "      <td>1</td>\n",
       "      <td>+1:+2</td>\n",
       "      <td>0.182344</td>\n",
       "    </tr>\n",
       "    <tr>\n",
       "      <th>2</th>\n",
       "      <td>1</td>\n",
       "      <td>midsleep</td>\n",
       "      <td>0.226149</td>\n",
       "    </tr>\n",
       "    <tr>\n",
       "      <th>3</th>\n",
       "      <td>1</td>\n",
       "      <td>x:-1</td>\n",
       "      <td>0.189634</td>\n",
       "    </tr>\n",
       "    <tr>\n",
       "      <th>4</th>\n",
       "      <td>1</td>\n",
       "      <td>x:-2</td>\n",
       "      <td>0.181606</td>\n",
       "    </tr>\n",
       "  </tbody>\n",
       "</table>\n",
       "</div>"
      ],
      "text/plain": [
       "   flyname epochtype  antennacnt\n",
       "0        1     +0:+1    0.220267\n",
       "1        1     +1:+2    0.182344\n",
       "2        1  midsleep    0.226149\n",
       "3        1      x:-1    0.189634\n",
       "4        1      x:-2    0.181606"
      ]
     },
     "execution_count": 46,
     "metadata": {},
     "output_type": "execute_result"
    }
   ],
   "source": [
    "plotrightantennastats_df.head()"
   ]
  },
  {
   "cell_type": "code",
   "execution_count": null,
   "metadata": {},
   "outputs": [],
   "source": []
  },
  {
   "cell_type": "code",
   "execution_count": 47,
   "metadata": {},
   "outputs": [
    {
     "data": {
      "text/plain": [
       "array(['+0:+1', '+1:+2', 'midsleep', 'x:-1', 'x:-2'], dtype=object)"
      ]
     },
     "execution_count": 47,
     "metadata": {},
     "output_type": "execute_result"
    }
   ],
   "source": [
    "np.unique(plotrightantennastats_df['epochtype'])"
   ]
  },
  {
   "cell_type": "code",
   "execution_count": null,
   "metadata": {},
   "outputs": [],
   "source": []
  },
  {
   "cell_type": "code",
   "execution_count": 48,
   "metadata": {},
   "outputs": [],
   "source": [
    "sns.set(style=\"ticks\", rc={\"lines.linewidth\": 0.6})"
   ]
  },
  {
   "cell_type": "code",
   "execution_count": 49,
   "metadata": {},
   "outputs": [],
   "source": [
    "def statannotation(ax, x1, x2, y,text, h = 2):\n",
    "    text_offset = 0.5\n",
    "    \n",
    "    line_x, line_y = [x1, x1, x2, x2], [y, y + h, y + h, y]\n",
    "\n",
    "    ax.plot(line_x, line_y, lw=2, c='black')\n",
    "    ann = ax.annotate(text, xy=(np.mean([x1, x2]), y + h),\n",
    "                      xytext=(0, text_offset), textcoords='offset points',\n",
    "                      xycoords='data', ha='center', va='bottom',\n",
    "                      fontsize=label_fontsize-2, clip_on=False, annotation_clip=False)"
   ]
  },
  {
   "cell_type": "code",
   "execution_count": null,
   "metadata": {},
   "outputs": [],
   "source": []
  },
  {
   "cell_type": "code",
   "execution_count": 50,
   "metadata": {},
   "outputs": [
    {
     "data": {
      "text/plain": [
       "Text(0.5, 1.0, 'right antenna')"
      ]
     },
     "execution_count": 50,
     "metadata": {},
     "output_type": "execute_result"
    },
    {
     "data": {
      "image/png": "[encoded data removed]",
      "text/plain": [
       "<Figure size 1008x360 with 2 Axes>"
      ]
     },
     "metadata": {},
     "output_type": "display_data"
    }
   ],
   "source": [
    "f, (ax1, ax2) = plt.subplots(ncols=2, figsize=(7*2, 5))\n",
    "\n",
    "sns.boxplot(x='epochtype', y='antennacnt', data=plotleftantennastats_df,  \n",
    "            order=['+0:+1', '+1:+2', 'midsleep', 'x:-2', 'x:-1'],\n",
    "            whis=np.inf, ax=ax1, showbox=True,dodge=False,\n",
    "            meanline=True,showmeans=False, showfliers=True,showcaps=True, \n",
    "            linewidth = 1.25, palette=color_dict)\n",
    "\n",
    "sns.stripplot(x='epochtype', y='antennacnt', data=plotleftantennastats_df,\n",
    "              jitter=False, linewidth=1,ax=ax1,\n",
    "              order=['+0:+1', '+1:+2', 'midsleep', 'x:-2', 'x:-1'],\n",
    "              palette=color_dict,marker='o', s= 7.5, alpha = 0.5,edgecolor =\"black\")\n",
    "\n",
    "ax1 = sns.pointplot(x='epochtype', y='antennacnt',hue='flyname',data=plotleftantennastats_df,\n",
    "                    order=['+0:+1', '+1:+2', 'midsleep', 'x:-2', 'x:-1'],\n",
    "                    ax=ax1, dodge=0.0,\n",
    "                    palette=['darkgray'])\n",
    "\n",
    "ax1.legend_.remove()\n",
    "b = list(ax1.get_children())\n",
    "\n",
    "string_val1 = 'ns'\n",
    "string_val2 = '***'\n",
    "statannotation(ax = ax1, x1 = 0, x2 = 1, y = 1.25-0.2, h = 0.125/2, text = string_val1)\n",
    "statannotation(ax = ax1, x1 = 1, x2 = 2, y = 1.15-0.2, h = 0.125/2, text = string_val2)\n",
    "statannotation(ax = ax1, x1 = 0, x2 = 1.95, y = 1.25-0.45, h = 0.125/2, text = string_val2)\n",
    "\n",
    "statannotation(ax = ax1, x1 = 2, x2 = 3, y = 1.25-0.2, h = 0.125/2, text = string_val2)\n",
    "statannotation(ax = ax1, x1 = 3, x2 = 4, y = 1.15-0.2, h = 0.125/2, text = string_val1)\n",
    "statannotation(ax = ax1, x1 = 2.05, x2 = 4, y = 1.25-0.45, h = 0.125/2, text = string_val2)\n",
    "\n",
    "\n",
    "for patch in ax1.artists:\n",
    "    r, g, b, a = patch.get_facecolor()\n",
    "    patch.set_facecolor((r, g, b, .8))\n",
    "    \n",
    "sns.despine(left=True, bottom = True)\n",
    "\n",
    "ax1.set_ylabel('event count (normalised)', fontsize=label_fontsize)\n",
    "ax1.set_xlabel('\\ntime (mins)', fontsize=label_fontsize)\n",
    "ax1.tick_params(axis='both', which='major', labelsize=label_fontsize-2)\n",
    "ax1.grid(True)\n",
    "ax1.set_title('left antenna',fontsize=label_fontsize)\n",
    "\n",
    "\n",
    "sns.boxplot(x='epochtype', y='antennacnt', data=plotrightantennastats_df,\n",
    "            order=['+0:+1', '+1:+2', 'midsleep', 'x:-2', 'x:-1'],\n",
    "            whis=np.inf, ax=ax2, showbox=True,dodge=False,\n",
    "            meanline=True,showmeans=False, showfliers=True,showcaps=True, \n",
    "            linewidth = 1.25, palette=color_dict)\n",
    "\n",
    "sns.stripplot(x='epochtype', y='antennacnt', data=plotrightantennastats_df,\n",
    "              order=['+0:+1', '+1:+2', 'midsleep', 'x:-2', 'x:-1'],\n",
    "              jitter=False, linewidth=1,ax=ax2,\n",
    "              palette=color_dict,marker='o', s= 7.5, alpha = 0.5,edgecolor =\"black\")\n",
    "\n",
    "ax2 = sns.pointplot(x='epochtype', y='antennacnt',hue='flyname',data=plotrightantennastats_df,\n",
    "                    order=['+0:+1', '+1:+2', 'midsleep', 'x:-2', 'x:-1'],\n",
    "                    ax=ax2, dodge=0.0,\n",
    "                    palette=['darkgray'])\n",
    "\n",
    "ax2.legend_.remove()\n",
    "b = list(ax2.get_children())\n",
    "\n",
    "string_val1 = 'ns'\n",
    "string_val2 = '***'\n",
    "statannotation(ax = ax2, x1 = 0, x2 = 1, y = 1.25-0.2, h = 0.125/2, text = string_val1)\n",
    "statannotation(ax = ax2, x1 = 1, x2 = 2, y = 1.15-0.2, h = 0.125/2, text = string_val2)\n",
    "statannotation(ax = ax2, x1 = 0, x2 = 1.95, y = 1.25-0.45, h = 0.125/2, text = string_val2)\n",
    "\n",
    "statannotation(ax = ax2, x1 = 2, x2 = 3, y = 1.25-0.2, h = 0.125/2, text = string_val2)\n",
    "statannotation(ax = ax2, x1 = 3, x2 = 4, y = 1.15-0.2, h = 0.125/2, text = string_val1)\n",
    "statannotation(ax = ax2, x1 = 2.05, x2 = 4, y = 1.25-0.45, h = 0.125/2, text = string_val2)\n",
    "\n",
    "\n",
    "for patch in ax2.artists:\n",
    "    r, g, b, a = patch.get_facecolor()\n",
    "    patch.set_facecolor((r, g, b, .8))\n",
    "    \n",
    "sns.despine(left=True, bottom = True)\n",
    "\n",
    "ax2.set_ylabel('event count (normalised)', fontsize=label_fontsize)\n",
    "ax2.set_xlabel('\\ntime (mins)', fontsize=label_fontsize)\n",
    "ax2.tick_params(axis='both', which='major', labelsize=label_fontsize-2)\n",
    "ax2.grid(True)\n",
    "ax2.set_title('right antenna',fontsize=label_fontsize)\n",
    "\n",
    "\n",
    "# plt.savefig(outputfolderpath + 'microbehaviors_antenna.svg', format='svg', dpi=240, transparent=False,\n",
    "#             bbox_inches='tight')\n"
   ]
  },
  {
   "cell_type": "code",
   "execution_count": null,
   "metadata": {},
   "outputs": [],
   "source": []
  },
  {
   "cell_type": "code",
   "execution_count": null,
   "metadata": {},
   "outputs": [],
   "source": []
  },
  {
   "cell_type": "code",
   "execution_count": 51,
   "metadata": {},
   "outputs": [],
   "source": [
    "%R -i allprobstats_df"
   ]
  },
  {
   "cell_type": "code",
   "execution_count": 52,
   "metadata": {},
   "outputs": [
    {
     "name": "stdout",
     "output_type": "stream",
     "text": [
      "  flyname epoch epochtype   probcnt\n",
      "0       1     1     +0:+1 1.0000000\n",
      "1       1     2     +0:+1       NaN\n",
      "2       1     3     +0:+1       NaN\n",
      "3       1     4     +0:+1 0.9099817\n",
      "4       1     5     +0:+1       NaN\n",
      "5       1     6     +0:+1 0.0000000\n"
     ]
    }
   ],
   "source": [
    "%%R\n",
    "head(allprobstats_df)"
   ]
  },
  {
   "cell_type": "code",
   "execution_count": null,
   "metadata": {},
   "outputs": [],
   "source": []
  },
  {
   "cell_type": "code",
   "execution_count": 53,
   "metadata": {},
   "outputs": [
    {
     "name": "stderr",
     "output_type": "stream",
     "text": [
      "R[write to console]: boundary (singular) fit: see ?isSingular\n",
      "\n",
      "R[write to console]: boundary (singular) fit: see ?isSingular\n",
      "\n"
     ]
    }
   ],
   "source": [
    "%%R\n",
    "model.null = lmer(probcnt ~ 1 + (1|flyname), \n",
    "                  data=allprobstats_df,\n",
    "                  REML=FALSE)\n",
    "\n",
    "model.epochtype = lmer(probcnt ~ epochtype + (1|flyname), \n",
    "                        data=allprobstats_df,\n",
    "                  REML=FALSE)"
   ]
  },
  {
   "cell_type": "code",
   "execution_count": 54,
   "metadata": {},
   "outputs": [
    {
     "name": "stdout",
     "output_type": "stream",
     "text": [
      "Data: allprobstats_df\n",
      "Models:\n",
      "model.null: probcnt ~ 1 + (1 | flyname)\n",
      "model.epochtype: probcnt ~ epochtype + (1 | flyname)\n",
      "                Df    AIC    BIC  logLik deviance  Chisq Chi Df Pr(>Chisq)    \n",
      "model.null       3 608.19 622.22 -301.09   602.19                             \n",
      "model.epochtype  7 428.50 461.25 -207.25   414.50 187.69      4  < 2.2e-16 ***\n",
      "---\n",
      "Signif. codes:  0 ‘***’ 0.001 ‘**’ 0.01 ‘*’ 0.05 ‘.’ 0.1 ‘ ’ 1\n"
     ]
    }
   ],
   "source": [
    "%%R\n",
    "#compare the null model, with the epoch type model..\n",
    "print(anova(model.null,model.epochtype))"
   ]
  },
  {
   "cell_type": "code",
   "execution_count": 55,
   "metadata": {},
   "outputs": [
    {
     "name": "stdout",
     "output_type": "stream",
     "text": [
      "Type III Analysis of Variance Table with Satterthwaite's method\n",
      "          Sum Sq Mean Sq NumDF DenDF F value    Pr(>F)    \n",
      "epochtype 20.877  5.2192     4   795  52.923 < 2.2e-16 ***\n",
      "---\n",
      "Signif. codes:  0 ‘***’ 0.001 ‘**’ 0.01 ‘*’ 0.05 ‘.’ 0.1 ‘ ’ 1\n"
     ]
    }
   ],
   "source": [
    "%%R\n",
    "#the above analysis show that the epoch type model is the most likely model..\n",
    "#let's analyse the same..\n",
    "print(anova(model.epochtype))"
   ]
  },
  {
   "cell_type": "code",
   "execution_count": 56,
   "metadata": {},
   "outputs": [
    {
     "name": "stdout",
     "output_type": "stream",
     "text": [
      "           R2m       R2c\n",
      "[1,] 0.2104946 0.2104946\n"
     ]
    }
   ],
   "source": [
    "%%R\n",
    "library(\"MuMIn\")\n",
    "r.squaredGLMM(model.epochtype)"
   ]
  },
  {
   "cell_type": "code",
   "execution_count": 57,
   "metadata": {},
   "outputs": [
    {
     "name": "stdout",
     "output_type": "stream",
     "text": [
      "NULL\n"
     ]
    }
   ],
   "source": [
    "%%R\n",
    "#the above table shows that there is a main effect of epoch type, let's find out what \n",
    "#categories are actually different.."
   ]
  },
  {
   "cell_type": "code",
   "execution_count": 58,
   "metadata": {},
   "outputs": [
    {
     "name": "stderr",
     "output_type": "stream",
     "text": [
      "R[write to console]: boundary (singular) fit: see ?isSingular\n",
      "\n"
     ]
    },
    {
     "name": "stdout",
     "output_type": "stream",
     "text": [
      "\n",
      "\t Simultaneous Tests for General Linear Hypotheses\n",
      "\n",
      "Multiple Comparisons of Means: Tukey Contrasts\n",
      "\n",
      "\n",
      "Fit: lmer(formula = probcnt ~ epochtype + (1 | flyname), data = allprobstats_df, \n",
      "    REML = FALSE)\n",
      "\n",
      "Linear Hypotheses:\n",
      "                      Estimate Std. Error z value Pr(>|z|)    \n",
      "+1:+2 - +0:+1 == 0    -0.06001    0.03522  -1.704    0.432    \n",
      "midsleep - +0:+1 == 0  0.34421    0.03522   9.773   <0.001 ***\n",
      "x:-1 - +0:+1 == 0     -0.07288    0.03522  -2.069    0.234    \n",
      "x:-2 - +0:+1 == 0     -0.08444    0.03522  -2.398    0.116    \n",
      "midsleep - +1:+2 == 0  0.40422    0.03522  11.477   <0.001 ***\n",
      "x:-1 - +1:+2 == 0     -0.01287    0.03522  -0.365    0.996    \n",
      "x:-2 - +1:+2 == 0     -0.02443    0.03522  -0.694    0.958    \n",
      "x:-1 - midsleep == 0  -0.41708    0.03522 -11.842   <0.001 ***\n",
      "x:-2 - midsleep == 0  -0.42865    0.03522 -12.170   <0.001 ***\n",
      "x:-2 - x:-1 == 0      -0.01157    0.03522  -0.328    0.997    \n",
      "---\n",
      "Signif. codes:  0 ‘***’ 0.001 ‘**’ 0.01 ‘*’ 0.05 ‘.’ 0.1 ‘ ’ 1\n",
      "(Adjusted p values reported -- single-step method)\n",
      "\n"
     ]
    }
   ],
   "source": [
    "%%R\n",
    "library(\"multcomp\")\n",
    "# Step 5: Post Hoc comparisions \n",
    "model = lmer(probcnt ~ epochtype + (1|flyname), data=allprobstats_df,\n",
    "             REML=FALSE)\n",
    "\n",
    "print(summary(glht(model, mcp(epochtype=\"Tukey\"))))"
   ]
  },
  {
   "cell_type": "code",
   "execution_count": 59,
   "metadata": {},
   "outputs": [],
   "source": [
    "plotprobstats_df = allprobstats_df.copy()\n",
    "plotprobstats_df = plotprobstats_df.groupby(['flyname', 'epochtype'])['probcnt'].mean()\n",
    "plotprobstats_df = plotprobstats_df.reset_index()"
   ]
  },
  {
   "cell_type": "code",
   "execution_count": 60,
   "metadata": {},
   "outputs": [
    {
     "data": {
      "text/html": [
       "<div>\n",
       "<style scoped>\n",
       "    .dataframe tbody tr th:only-of-type {\n",
       "        vertical-align: middle;\n",
       "    }\n",
       "\n",
       "    .dataframe tbody tr th {\n",
       "        vertical-align: top;\n",
       "    }\n",
       "\n",
       "    .dataframe thead th {\n",
       "        text-align: right;\n",
       "    }\n",
       "</style>\n",
       "<table border=\"1\" class=\"dataframe\">\n",
       "  <thead>\n",
       "    <tr style=\"text-align: right;\">\n",
       "      <th></th>\n",
       "      <th>flyname</th>\n",
       "      <th>epochtype</th>\n",
       "      <th>probcnt</th>\n",
       "    </tr>\n",
       "  </thead>\n",
       "  <tbody>\n",
       "    <tr>\n",
       "      <th>0</th>\n",
       "      <td>1</td>\n",
       "      <td>+0:+1</td>\n",
       "      <td>0.540720</td>\n",
       "    </tr>\n",
       "    <tr>\n",
       "      <th>1</th>\n",
       "      <td>1</td>\n",
       "      <td>+1:+2</td>\n",
       "      <td>0.101935</td>\n",
       "    </tr>\n",
       "    <tr>\n",
       "      <th>2</th>\n",
       "      <td>1</td>\n",
       "      <td>midsleep</td>\n",
       "      <td>0.275736</td>\n",
       "    </tr>\n",
       "    <tr>\n",
       "      <th>3</th>\n",
       "      <td>1</td>\n",
       "      <td>x:-1</td>\n",
       "      <td>0.025686</td>\n",
       "    </tr>\n",
       "    <tr>\n",
       "      <th>4</th>\n",
       "      <td>1</td>\n",
       "      <td>x:-2</td>\n",
       "      <td>0.055923</td>\n",
       "    </tr>\n",
       "  </tbody>\n",
       "</table>\n",
       "</div>"
      ],
      "text/plain": [
       "   flyname epochtype   probcnt\n",
       "0        1     +0:+1  0.540720\n",
       "1        1     +1:+2  0.101935\n",
       "2        1  midsleep  0.275736\n",
       "3        1      x:-1  0.025686\n",
       "4        1      x:-2  0.055923"
      ]
     },
     "execution_count": 60,
     "metadata": {},
     "output_type": "execute_result"
    }
   ],
   "source": [
    "plotprobstats_df.head()"
   ]
  },
  {
   "cell_type": "code",
   "execution_count": null,
   "metadata": {},
   "outputs": [],
   "source": []
  },
  {
   "cell_type": "code",
   "execution_count": 61,
   "metadata": {},
   "outputs": [
    {
     "data": {
      "text/plain": [
       "array(['+0:+1', '+1:+2', 'midsleep', 'x:-1', 'x:-2'], dtype=object)"
      ]
     },
     "execution_count": 61,
     "metadata": {},
     "output_type": "execute_result"
    }
   ],
   "source": [
    "np.unique(plotprobstats_df['epochtype'])"
   ]
  },
  {
   "cell_type": "code",
   "execution_count": null,
   "metadata": {},
   "outputs": [],
   "source": []
  },
  {
   "cell_type": "code",
   "execution_count": 62,
   "metadata": {},
   "outputs": [
    {
     "data": {
      "text/plain": [
       "Text(0.5, 1.0, 'proboscis')"
      ]
     },
     "execution_count": 62,
     "metadata": {},
     "output_type": "execute_result"
    },
    {
     "data": {
      "image/png": "[encoded data removed]",
      "text/plain": [
       "<Figure size 504x360 with 1 Axes>"
      ]
     },
     "metadata": {},
     "output_type": "display_data"
    }
   ],
   "source": [
    "f, (ax1) = plt.subplots(ncols=1, figsize=(7*1, 5))\n",
    "\n",
    "sns.boxplot(x='epochtype', y='probcnt', data=plotprobstats_df,  \n",
    "            order=['+0:+1', '+1:+2', 'midsleep', 'x:-2', 'x:-1'],\n",
    "            whis=np.inf, ax=ax1, showbox=True,dodge=False,\n",
    "            meanline=True,showmeans=False, showfliers=True,showcaps=True, \n",
    "            linewidth = 1.25, palette=color_dict)\n",
    "\n",
    "sns.stripplot(x='epochtype', y='probcnt', data=plotprobstats_df,\n",
    "              jitter=False, linewidth=1,ax=ax1,\n",
    "              order=['+0:+1', '+1:+2', 'midsleep', 'x:-2', 'x:-1'],\n",
    "              palette=color_dict,marker='o', s= 7.5, alpha = 0.5,edgecolor =\"black\")\n",
    "\n",
    "ax1 = sns.pointplot(x='epochtype', y='probcnt',hue='flyname',data=plotprobstats_df,\n",
    "                    order=['+0:+1', '+1:+2', 'midsleep', 'x:-2', 'x:-1'],\n",
    "                    ax=ax1, dodge=0.0,\n",
    "                    palette=['darkgray'])\n",
    "\n",
    "ax1.legend_.remove()\n",
    "b = list(ax1.get_children())\n",
    "\n",
    "string_val1 = 'ns'\n",
    "string_val2 = '***'\n",
    "\n",
    "statannotation(ax = ax1, x1 = 0, x2 = 1, y = 1.25-0.2, h = 0.125/2, text = string_val1)\n",
    "statannotation(ax = ax1, x1 = 1, x2 = 2, y = 1.15-0.2, h = 0.125/2, text = string_val2)\n",
    "statannotation(ax = ax1, x1 = 0, x2 = 1.95, y = 1.25-0.45, h = 0.125/2, text = string_val2)\n",
    "\n",
    "statannotation(ax = ax1, x1 = 2, x2 = 3, y = 1.25-0.2, h = 0.125/2, text = string_val2)\n",
    "statannotation(ax = ax1, x1 = 3, x2 = 4, y = 1.15-0.2, h = 0.125/2, text = string_val1)\n",
    "statannotation(ax = ax1, x1 = 2.05, x2 = 4, y = 1.25-0.45, h = 0.125/2, text = string_val2)\n",
    "\n",
    "\n",
    "for patch in ax1.artists:\n",
    "    r, g, b, a = patch.get_facecolor()\n",
    "    patch.set_facecolor((r, g, b, .8))\n",
    "    \n",
    "sns.despine(left=True, bottom = True)\n",
    "\n",
    "ax1.set_ylabel('periodicity count (normalised)', fontsize=label_fontsize)\n",
    "ax1.set_xlabel('\\ntime (mins)', fontsize=label_fontsize)\n",
    "ax1.tick_params(axis='both', which='major', labelsize=label_fontsize-2)\n",
    "ax1.grid(True)\n",
    "ax1.set_title('proboscis',fontsize=label_fontsize)\n",
    "\n",
    "# plt.savefig(outputfolderpath + 'microbehaviors_proboscis.svg', format='svg', dpi=240, transparent=False,\n",
    "#             bbox_inches='tight')"
   ]
  },
  {
   "cell_type": "code",
   "execution_count": null,
   "metadata": {},
   "outputs": [],
   "source": []
  },
  {
   "cell_type": "code",
   "execution_count": null,
   "metadata": {},
   "outputs": [],
   "source": []
  },
  {
   "cell_type": "code",
   "execution_count": null,
   "metadata": {},
   "outputs": [],
   "source": []
  },
  {
   "cell_type": "code",
   "execution_count": null,
   "metadata": {},
   "outputs": [],
   "source": []
  },
  {
   "cell_type": "code",
   "execution_count": null,
   "metadata": {},
   "outputs": [],
   "source": []
  }
 ],
 "metadata": {
  "kernelspec": {
   "display_name": "Python 3",
   "language": "python",
   "name": "python3"
  },
  "language_info": {
   "codemirror_mode": {
    "name": "ipython",
    "version": 3
   },
   "file_extension": ".py",
   "mimetype": "text/x-python",
   "name": "python",
   "nbconvert_exporter": "python",
   "pygments_lexer": "ipython3",
   "version": "3.6.8"
  }
 },
 "nbformat": 4,
 "nbformat_minor": 4
}
