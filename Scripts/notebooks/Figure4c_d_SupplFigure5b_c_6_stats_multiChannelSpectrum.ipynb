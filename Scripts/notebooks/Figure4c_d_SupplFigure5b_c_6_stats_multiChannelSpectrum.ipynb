{
 "cells": [
  {
   "cell_type": "code",
   "execution_count": 1,
   "metadata": {},
   "outputs": [],
   "source": [
    "%load_ext rpy2.ipython"
   ]
  },
  {
   "cell_type": "code",
   "execution_count": 2,
   "metadata": {},
   "outputs": [],
   "source": [
    "import pandas as pd\n",
    "import scipy.io as io\n",
    "import matplotlib.pyplot as plt\n",
    "import matplotlib.pylab as pylab\n",
    "from matplotlib.ticker import MaxNLocator\n",
    "import numpy as np\n",
    "from matplotlib import gridspec\n",
    "import seaborn as sns\n",
    "import pingouin as pg\n",
    "import copy"
   ]
  },
  {
   "cell_type": "code",
   "execution_count": 3,
   "metadata": {},
   "outputs": [
    {
     "name": "stderr",
     "output_type": "stream",
     "text": [
      "/home/srj34/deeplabcut-env/lib/python3.6/site-packages/outdated/utils.py:18: OutdatedPackageWarning: The package outdated is out of date. Your version is 0.2.1, the latest is 0.2.2.\n",
      "Set the environment variable OUTDATED_IGNORE=1 to disable these warnings.\n",
      "  **kwargs\n",
      "/home/srj34/deeplabcut-env/lib/python3.6/site-packages/outdated/utils.py:18: OutdatedPackageWarning: The package pingouin is out of date. Your version is 0.3.12, the latest is 0.5.3.\n",
      "Set the environment variable OUTDATED_IGNORE=1 to disable these warnings.\n",
      "  **kwargs\n"
     ]
    }
   ],
   "source": [
    "from datetime import datetime, date, time, timezone, timedelta"
   ]
  },
  {
   "cell_type": "code",
   "execution_count": 4,
   "metadata": {},
   "outputs": [],
   "source": [
    "from scipy import stats\n",
    "from scipy import sparse"
   ]
  },
  {
   "cell_type": "code",
   "execution_count": 5,
   "metadata": {},
   "outputs": [],
   "source": [
    "from functools import partial"
   ]
  },
  {
   "cell_type": "code",
   "execution_count": 6,
   "metadata": {},
   "outputs": [],
   "source": [
    "import mne\n",
    "from mne.stats import (ttest_1samp_no_p, bonferroni_correction, fdr_correction,\n",
    "                       permutation_t_test, permutation_cluster_1samp_test)"
   ]
  },
  {
   "cell_type": "code",
   "execution_count": 7,
   "metadata": {},
   "outputs": [],
   "source": [
    "from mpl_toolkits.mplot3d import Axes3D"
   ]
  },
  {
   "cell_type": "code",
   "execution_count": 8,
   "metadata": {},
   "outputs": [],
   "source": [
    "import matplotlib.pyplot as plt\n",
    "font = {'family': 'sans-serif', 'serif': ['Helvetica']}\n",
    "plt.rc('font', **font)\n",
    "plt.rc('text', usetex=False)"
   ]
  },
  {
   "cell_type": "code",
   "execution_count": 9,
   "metadata": {},
   "outputs": [],
   "source": [
    "pd.set_option('mode.chained_assignment', None)"
   ]
  },
  {
   "cell_type": "code",
   "execution_count": 10,
   "metadata": {},
   "outputs": [
    {
     "name": "stdout",
     "output_type": "stream",
     "text": [
      "NULL\n"
     ]
    }
   ],
   "source": [
    "%%R\n",
    "#install.packages(\"MuMIn\", repos='http://cran.us.r-project.org')"
   ]
  },
  {
   "cell_type": "code",
   "execution_count": 11,
   "metadata": {},
   "outputs": [],
   "source": [
    "label_fontsize = 16 \n",
    "title_fontsize = 18"
   ]
  },
  {
   "cell_type": "code",
   "execution_count": 12,
   "metadata": {},
   "outputs": [],
   "source": [
    "sns.set(style=\"ticks\", rc={\"lines.linewidth\": 0.6})"
   ]
  },
  {
   "cell_type": "code",
   "execution_count": 13,
   "metadata": {},
   "outputs": [],
   "source": [
    "basefilelist = [#\"11072018_SponSleep_LFP\"   #-- 1(No calib), \n",
    "                 \"27072018_SponSleep_LFP\",  #-- 2\n",
    "                 \"14092018_SponSleep_LFP\",  #-- 3\n",
    "                 \"17092018_SponSleep_LFP\",  #-- 4\n",
    "                #\"19092018_SponSleep_LFP\",  #-- 5(Noisy calib)\n",
    "                 \"30102018_SponSleep_LFP\",  #-- 6\n",
    "                 \"01112018_SponSleep_LFP\",  #-- 7\n",
    "                 \"03112018_SponSleep_LFP\",  #-- 8\n",
    "                 \"13112018_SponSleep_LFP\",  #-- 9 \n",
    "                #\"21112018_SponSleep_LFP\",  #-- 10(Very little sleep trials)\n",
    "                #\"22112018_SponSleep_LFP\",  #-- 11(Very Noisy calib)\n",
    "                 \"28112018_SponSleep_LFP\",  #-- 12(Very little sleep trials)\n",
    "                #\"29112018_SponSleep_LFP\",  #-- 13(Inactive after 4 hours)\n",
    "                 \"11122018_SponSleep_LFP\",  #-- 14\n",
    "                 \"13122018_SponSleep_LFP\",  #-- 15(Very awake fly)\n",
    "                 \"18122018_SponSleep_LFP\",  #-- 16\n",
    "                 \"10012019_SponSleep_LFP\",  #-- 17\n",
    "                 \"17012019_SponSleep_LFP\",  #-- 18\n",
    "                 \"22012019_SponSleep_LFP\",  #-- 19\n",
    "                #\"07022019_SponSleep_LFP\",  #-- 20(No sleep data)\n",
    "                 \"20022019_SponSleep_LFP\",  #-- 21\n",
    "                #\"06032019_SponSleep_LFP\",  #-- 22(Noisy calib)\n",
    "                 \"13032019_SponSleep_LFP\",  #-- 23\n",
    "                ]"
   ]
  },
  {
   "cell_type": "code",
   "execution_count": 14,
   "metadata": {},
   "outputs": [
    {
     "name": "stdout",
     "output_type": "stream",
     "text": [
      "Total files considered: 16\n"
     ]
    }
   ],
   "source": [
    "n_flies = len(basefilelist)\n",
    "print(\"Total files considered: \" + str(n_flies))"
   ]
  },
  {
   "cell_type": "code",
   "execution_count": 15,
   "metadata": {},
   "outputs": [],
   "source": [
    "reference = 'neutral' #'neutral','diff'"
   ]
  },
  {
   "cell_type": "code",
   "execution_count": 16,
   "metadata": {},
   "outputs": [],
   "source": [
    "basefolder = \"/rds/project/tb419/rds-tb419-bekinschtein/Sri/SpatialAttention_Drowsiness/\""
   ]
  },
  {
   "cell_type": "code",
   "execution_count": 17,
   "metadata": {},
   "outputs": [],
   "source": [
    "inputfolderpath = basefolder + \"drosSleepStages_SciAdvances2023/data/lfp_data/spectrum/\""
   ]
  },
  {
   "cell_type": "code",
   "execution_count": 18,
   "metadata": {},
   "outputs": [],
   "source": [
    "outputfolderpath = basefolder + \"SleepOnset_Drosophila/Scripts/pics/stats_grouplevel/\""
   ]
  },
  {
   "cell_type": "code",
   "execution_count": 19,
   "metadata": {},
   "outputs": [],
   "source": [
    "inputexampleflypath = inputfolderpath + \"/channelgroupspectrum/\"\n",
    "examplefly = \"13032019_SponSleep_LFP\""
   ]
  },
  {
   "cell_type": "code",
   "execution_count": 20,
   "metadata": {},
   "outputs": [],
   "source": [
    "compstrg = 'awakevssleep' #'awakevssleep','earlysleepvsmidsleep'"
   ]
  },
  {
   "cell_type": "code",
   "execution_count": null,
   "metadata": {},
   "outputs": [],
   "source": []
  },
  {
   "cell_type": "code",
   "execution_count": 21,
   "metadata": {},
   "outputs": [],
   "source": [
    "def plotexamplespectrum(examplefly):\n",
    "    \n",
    "    inputfilepath = inputexampleflypath + \"Spectrum_channelgroup_\" + reference + \"_ref_\" + examplefly + \".mat\"\n",
    "    print(inputfilepath)\n",
    "    mat_spectrum = io.loadmat(inputfilepath)\n",
    "\n",
    "    sleep_size =  np.asscalar(mat_spectrum['cat1_size'])\n",
    "    awake_size =  np.asscalar(mat_spectrum['cat2_size'])\n",
    "    \n",
    "    print('sleep trials#: ', sleep_size)\n",
    "    print('awake trials#: ', awake_size)\n",
    "\n",
    "    cat_freqs = mat_spectrum['freqs_state']\n",
    "\n",
    "    groupchan_sleep_mean = (mat_spectrum['spec_groupchan_cat1_mean'])\n",
    "    groupchan_awake_mean = (mat_spectrum['spec_groupchan_cat2_mean'])\n",
    "\n",
    "    groupchan_sleep_se = (mat_spectrum['spec_groupchan_cat1_se'])\n",
    "    groupchan_awake_se = (mat_spectrum['spec_groupchan_cat2_se'])\n",
    "    \n",
    "    return groupchan_awake_mean, groupchan_awake_se, groupchan_sleep_mean, groupchan_sleep_se, cat_freqs"
   ]
  },
  {
   "cell_type": "code",
   "execution_count": null,
   "metadata": {},
   "outputs": [],
   "source": []
  },
  {
   "cell_type": "code",
   "execution_count": 22,
   "metadata": {},
   "outputs": [],
   "source": [
    "chan_colors = {'central': 'red',\n",
    "               'middle': 'blue',\n",
    "               'peripheral': 'green'}"
   ]
  },
  {
   "cell_type": "code",
   "execution_count": null,
   "metadata": {},
   "outputs": [],
   "source": []
  },
  {
   "cell_type": "code",
   "execution_count": 23,
   "metadata": {},
   "outputs": [],
   "source": [
    "def channelfreqsubplot(axes = None, cat_meanchan_plotlist = None, cat_sechan_plotlist = None,\n",
    "                       cat_labellist = None, linestyle_list = None,\n",
    "                       color_list = None, yticklist = None, alphalist = None):\n",
    "    \n",
    "    p_list = []\n",
    "    for plotidx in range(len(cat_meanchan_plotlist)):\n",
    "        cat_meanchan_plot = cat_meanchan_plotlist[plotidx]\n",
    "        cat_sechan_plot= cat_sechan_plotlist[plotidx]\n",
    "        cat_label = cat_labellist[plotidx]\n",
    "        cat_name = cat_label\n",
    "        linestyle = linestyle_list[plotidx]\n",
    "        p_temp, = axes.plot(cat_freqs, cat_meanchan_plot, \n",
    "                      alpha=alphalist[plotidx], color=color_list[plotidx], label=cat_label, linestyle=linestyle, \n",
    "                      linewidth = 2.0)\n",
    "        p_list.append(p_temp)\n",
    "        axes.fill_between(cat_freqs.flatten(), \n",
    "                          cat_meanchan_plot - cat_sechan_plot, \n",
    "                          cat_meanchan_plot + cat_sechan_plot, \n",
    "                          color=color_list,alpha=0.2)\n",
    "        \n",
    "    p_temp, = axes.plot([0], marker='None',linestyle='None', label='dummy-tophead')\n",
    "    p_list.append(p_temp)\n",
    "        \n",
    "    yticks = yticklist\n",
    "    axes.set_yticks(yticks)\n",
    "    \n",
    "    axes.set_yticklabels(np.round(yticks,1))\n",
    "    axes.set_ylim([np.min(yticks)-1, np.max(yticks)+1])\n",
    "        \n",
    "    axes.grid(True)\n",
    "    \n",
    "    axes.tick_params(axis='both', which='major', labelsize=label_fontsize-2)\n",
    "    \n",
    "    xticks = np.arange(5, 45, 5)\n",
    "\n",
    "    axes.set_xticks(xticks)\n",
    "    axes.set_xticklabels(np.round(xticks,1))\n",
    "    axes.set_xlim([np.min(xticks)-1, np.max(xticks)+1])\n",
    "    \n",
    "    axes.spines['top'].set_visible(False)\n",
    "    axes.spines['right'].set_visible(False)\n",
    "    axes.spines['bottom'].set_visible(False)\n",
    "    axes.spines['left'].set_visible(False)\n",
    "\n",
    "    return axes, p_list "
   ]
  },
  {
   "cell_type": "code",
   "execution_count": 24,
   "metadata": {},
   "outputs": [
    {
     "name": "stdout",
     "output_type": "stream",
     "text": [
      "/rds/project/tb419/rds-tb419-bekinschtein/Sri/SpatialAttention_Drowsiness/drosSleepStages_SciAdvances2023/data/lfp_data/spectrum//channelgroupspectrum/Spectrum_channelgroup_neutral_ref_13032019_SponSleep_LFP.mat\n",
      "sleep trials#:  80\n",
      "awake trials#:  391\n"
     ]
    }
   ],
   "source": [
    "groupchan_awake_mean, groupchan_awake_se, groupchan_sleep_mean, \\\n",
    "groupchan_sleep_se,cat_freqs = plotexamplespectrum(examplefly)"
   ]
  },
  {
   "cell_type": "code",
   "execution_count": 25,
   "metadata": {},
   "outputs": [
    {
     "data": {
      "text/plain": [
       "(145, 3)"
      ]
     },
     "execution_count": 25,
     "metadata": {},
     "output_type": "execute_result"
    }
   ],
   "source": [
    "groupchan_awake_mean.shape"
   ]
  },
  {
   "cell_type": "code",
   "execution_count": null,
   "metadata": {},
   "outputs": [],
   "source": []
  },
  {
   "cell_type": "code",
   "execution_count": 26,
   "metadata": {},
   "outputs": [
    {
     "data": {
      "image/png": "[encoded data removed]",
      "text/plain": [
       "<Figure size 1296x432 with 3 Axes>"
      ]
     },
     "metadata": {},
     "output_type": "display_data"
    }
   ],
   "source": [
    "fig, (ax1, ax2, ax3) = plt.subplots(ncols=3, sharex=False, sharey=True, figsize=(6*3, 6))\n",
    "fig.subplots_adjust(wspace=0.05, hspace=0)\n",
    "\n",
    "cat_label_list = ['central']\n",
    "alphalist = [1]\n",
    "color_list = ['r']\n",
    "yticklist = [10, 8, 6, 4, 2, 0, -2, -4]\n",
    "linestyle_list =['-']\n",
    "\n",
    "\n",
    "cat_meanchan_plotlist = [groupchan_awake_mean[:,0]]\n",
    "cat_sechan_plotlist = [groupchan_awake_se[:,0]]\n",
    "ax1,p1_list = channelfreqsubplot(ax1,cat_meanchan_plotlist,cat_sechan_plotlist,\n",
    "                         cat_label_list,linestyle_list,color_list,yticklist,alphalist)\n",
    "\n",
    "ax1.set_xlabel('Frequency (Hz)', fontsize=label_fontsize)\n",
    "ax1.set_ylabel('Power (dB)',fontsize=label_fontsize, rotation=90)\n",
    "\n",
    "linestyle_list =['-']\n",
    "\n",
    "cat_meanchan_plotlist = [groupchan_sleep_mean[:,0]]\n",
    "cat_sechan_plotlist = [groupchan_sleep_se[:,0]]\n",
    "\n",
    "color_list = ['b']\n",
    "ax1,p2_list = channelfreqsubplot(ax1,cat_meanchan_plotlist,cat_sechan_plotlist,\n",
    "                         cat_label_list,linestyle_list,color_list,yticklist,alphalist)\n",
    "\n",
    "\n",
    "leg = ax1.legend([p1_list[1], p1_list[0], \n",
    "                  p2_list[0]], \n",
    "                  cat_label_list + ['awake'] + ['sleep'], \n",
    "                  bbox_to_anchor=(1, 1),prop={'size': label_fontsize-1},frameon=False,ncol=1)\n",
    "\n",
    "\n",
    "\n",
    "cat_label_list = ['middle']\n",
    "alphalist = [1,]\n",
    "color_list = ['r']\n",
    "yticklist = [10, 8, 6, 4, 2, 0, -2, -4]\n",
    "linestyle_list =['-']\n",
    "\n",
    "\n",
    "cat_meanchan_plotlist = [groupchan_awake_mean[:,1]]\n",
    "cat_sechan_plotlist = [groupchan_awake_se[:,1]]\n",
    "ax2,p1_list = channelfreqsubplot(ax2,cat_meanchan_plotlist,cat_sechan_plotlist,\n",
    "                         cat_label_list,linestyle_list,color_list,yticklist,alphalist)\n",
    "\n",
    "ax2.set_xlabel('Frequency (Hz)', fontsize=label_fontsize)\n",
    "# ax2.set_ylabel('Power (dB)',fontsize=label_fontsize-2, weight = 'bold', rotation=90)\n",
    "\n",
    "linestyle_list =['-']\n",
    "color_list = ['b']\n",
    "cat_meanchan_plotlist = [groupchan_sleep_mean[:,1]]\n",
    "cat_sechan_plotlist = [groupchan_sleep_se[:,1]]\n",
    "\n",
    "ax2,p2_list = channelfreqsubplot(ax2,cat_meanchan_plotlist,cat_sechan_plotlist,\n",
    "                         cat_label_list,linestyle_list,color_list,yticklist,alphalist)\n",
    "\n",
    "\n",
    "leg = ax2.legend([p1_list[1], p1_list[0], \n",
    "                  p2_list[0]], \n",
    "                  cat_label_list + ['awake'] + ['sleep'],\n",
    "                  bbox_to_anchor=(1, 1),prop={'size': label_fontsize-1},frameon=False,ncol=1)\n",
    "\n",
    "\n",
    "cat_label_list = ['peripheral']\n",
    "alphalist = [1,]\n",
    "color_list = ['r']\n",
    "yticklist = [10, 8, 6, 4, 2, 0, -2, -4]\n",
    "linestyle_list =['-']\n",
    "\n",
    "cat_meanchan_plotlist = [groupchan_awake_mean[:,2]]\n",
    "cat_sechan_plotlist = [groupchan_awake_se[:,2]]\n",
    "ax3,p1_list = channelfreqsubplot(ax3,cat_meanchan_plotlist,cat_sechan_plotlist,\n",
    "                         cat_label_list,linestyle_list,color_list,yticklist,alphalist)\n",
    "\n",
    "ax3.set_xlabel('Frequency (Hz)', fontsize=label_fontsize)\n",
    "# ax3.set_ylabel('Power (dB)',fontsize=label_fontsize-2, weight = 'bold', rotation=90)\n",
    "\n",
    "linestyle_list =['-']\n",
    "color_list = ['b']\n",
    "cat_meanchan_plotlist = [groupchan_sleep_mean[:,2]]\n",
    "cat_sechan_plotlist = [groupchan_sleep_se[:,2]]\n",
    "\n",
    "ax3,p2_list = channelfreqsubplot(ax3,cat_meanchan_plotlist,cat_sechan_plotlist,\n",
    "                         cat_label_list,linestyle_list,color_list,yticklist,alphalist)\n",
    "\n",
    "\n",
    "leg = ax3.legend([p1_list[1], p1_list[0], \n",
    "                  p2_list[0]], \n",
    "                  cat_label_list + ['awake'] + ['sleep'], \n",
    "                  bbox_to_anchor=(1, 1),prop={'size': label_fontsize-1},frameon=False,ncol=1)\n",
    "\n",
    "plt.savefig(outputfolderpath +  'awake_sleep_example_spectogram.png', format='png', dpi=300, transparent=False,\n",
    "            bbox_inches='tight')"
   ]
  },
  {
   "cell_type": "code",
   "execution_count": null,
   "metadata": {},
   "outputs": [],
   "source": []
  },
  {
   "cell_type": "code",
   "execution_count": 27,
   "metadata": {},
   "outputs": [],
   "source": [
    "validationfolderpath = basefolder + \"drosSleepStages_SciAdvances2023/data/lfp_data/spectrum/\" +\\\n",
    "                       \"/average/rechours_awakesleep/\""
   ]
  },
  {
   "cell_type": "code",
   "execution_count": null,
   "metadata": {},
   "outputs": [],
   "source": []
  },
  {
   "cell_type": "code",
   "execution_count": 28,
   "metadata": {},
   "outputs": [],
   "source": [
    "def processvalidationcsv(basefilename):\n",
    "    \n",
    "    print('\\nProcessing: ', basefilename)\n",
    "    inputfilepath = validationfolderpath + \"Spectrum_CSV_\" + reference + \"_ref_\" + basefilename + \".csv\"\n",
    "    #print('Filepath: ', inputfilepath)\n",
    "    df_spectrumcsv = pd.read_csv(inputfilepath)\n",
    "    df_indivvalidcsv = df_spectrumcsv[['start_time', 'end_time', 'state',\n",
    "                                       \"chan01\",\"chan02\",\"chan03\",\"chan04\",\"chan05\",\n",
    "                                       \"chan06\",\"chan07\",\"chan08\",\"chan09\",\"chan10\",\n",
    "                                       \"chan11\",\"chan12\",\"chan13\",\"chan14\",\"chan15\"]]\n",
    "\n",
    "\n",
    "    df_indivvalidcsv['start_time'] = pd.to_datetime(df_indivvalidcsv['start_time'], format='%d-%b-%Y %H:%M:%S')\n",
    "    df_indivvalidcsv['end_time'] = pd.to_datetime(df_indivvalidcsv['end_time'], format='%d-%b-%Y %H:%M:%S')\n",
    "\n",
    "    df_indivvalidcsv['epoch'] = np.nan\n",
    "    df_indivvalidcsv['boutstart_time'] = np.nan\n",
    "    df_indivvalidcsv['boutend_time'] = np.nan\n",
    "    df_indivvalidcsv['rechour'] = np.nan\n",
    "    \n",
    "    \n",
    "    for epochindex, epochrow in df_indivvalidcsv.iterrows():\n",
    "        if epochindex == 0:\n",
    "            df_indivvalidcsv.loc[epochindex,'epoch'] = 1\n",
    "            df_indivvalidcsv.loc[epochindex,'boutstart_time'] = df_indivvalidcsv.loc[epochindex,'start_time']\n",
    "        else:\n",
    "            if df_indivvalidcsv.loc[epochindex,'start_time'] == df_indivvalidcsv.loc[epochindex-1,'start_time']:\n",
    "                df_indivvalidcsv.loc[epochindex,'epoch'] = df_indivvalidcsv.loc[epochindex-1,'epoch']\n",
    "                df_indivvalidcsv.loc[epochindex,'boutstart_time'] = df_indivvalidcsv.loc[epochindex-1,'boutstart_time']+\\\n",
    "                                                                    timedelta(minutes=1)\n",
    "            else:\n",
    "                df_indivvalidcsv.loc[epochindex,'epoch'] = df_indivvalidcsv.loc[epochindex-1,'epoch']+1\n",
    "                df_indivvalidcsv.loc[epochindex,'boutstart_time'] = df_indivvalidcsv.loc[epochindex,'start_time']\n",
    "        df_indivvalidcsv.loc[epochindex,'boutend_time'] = df_indivvalidcsv.loc[epochindex,'boutstart_time']+\\\n",
    "                                                            timedelta(minutes=1)\n",
    "        df_indivvalidcsv.loc[epochindex,'rechour'] = df_indivvalidcsv.loc[epochindex,'boutstart_time'] -\\\n",
    "                                                     np.min(df_indivvalidcsv['start_time'])\n",
    "        df_indivvalidcsv.loc[epochindex,'rechour'] = np.ceil(df_indivvalidcsv.loc[epochindex,'rechour'].total_seconds()/3600)\n",
    "        \n",
    "      \n",
    "    \n",
    "    df_indivvalidcsv = df_indivvalidcsv.replace({'rechour': {0: 1}})\n",
    "    df_indivvalidcsv['boutduration'] = df_indivvalidcsv['boutend_time'] - df_indivvalidcsv['boutstart_time']\n",
    "    df_indivvalidcsv['boutduration'] = df_indivvalidcsv['boutduration'].dt.total_seconds()\n",
    " \n",
    "    df_indivvalidcsv = df_indivvalidcsv.sort_values('boutstart_time')\n",
    "    \n",
    "    print('start_time: ', np.min(df_indivvalidcsv['start_time']))\n",
    "    print('end_time: ', np.max(df_indivvalidcsv['end_time']))\n",
    "    \n",
    "    print('recording duration: ', np.max(df_indivvalidcsv['end_time']) - np.min(df_indivvalidcsv['start_time']))\n",
    "    \n",
    "    \n",
    "    df_indivvalidcsv = df_indivvalidcsv[[\"chan01\",\"chan02\",\"chan03\",\"chan04\",\"chan05\",\n",
    "                                        \"chan06\",\"chan07\",\"chan08\",\"chan09\",\"chan10\",\n",
    "                                        \"chan11\",\"chan12\",\"chan13\",\"chan14\",\"chan15\",\n",
    "                                        \"state\",\"rechour\",\\\n",
    "                                         ]].groupby(['state',\\\n",
    "                                                             'rechour']).agg(['count','mean']).reset_index()\n",
    "    \n",
    "    df_indivtrlcsv = df_indivvalidcsv[['state','rechour']]\n",
    "    \n",
    "    \n",
    "    df_indivtrlcsv['chan01'] = df_indivvalidcsv['chan01']['mean']\n",
    "    df_indivtrlcsv['chan02'] = df_indivvalidcsv['chan02']['mean']\n",
    "    df_indivtrlcsv['chan03'] = df_indivvalidcsv['chan03']['mean']\n",
    "    df_indivtrlcsv['chan04'] = df_indivvalidcsv['chan04']['mean']\n",
    "    df_indivtrlcsv['chan05'] = df_indivvalidcsv['chan05']['mean']\n",
    "    \n",
    "    df_indivtrlcsv['chan06'] = df_indivvalidcsv['chan06']['mean']\n",
    "    df_indivtrlcsv['chan07'] = df_indivvalidcsv['chan07']['mean']\n",
    "    df_indivtrlcsv['chan08'] = df_indivvalidcsv['chan08']['mean']\n",
    "    df_indivtrlcsv['chan09'] = df_indivvalidcsv['chan09']['mean']\n",
    "    df_indivtrlcsv['chan10'] = df_indivvalidcsv['chan10']['mean']\n",
    "    \n",
    "    df_indivtrlcsv['chan11'] = df_indivvalidcsv['chan11']['mean']\n",
    "    df_indivtrlcsv['chan12'] = df_indivvalidcsv['chan12']['mean']\n",
    "    df_indivtrlcsv['chan13'] = df_indivvalidcsv['chan13']['mean']\n",
    "    df_indivtrlcsv['chan14'] = df_indivvalidcsv['chan14']['mean']\n",
    "    df_indivtrlcsv['chan15'] = df_indivvalidcsv['chan15']['mean']\n",
    "    \n",
    "    df_indivtrlcsv['count'] = df_indivvalidcsv['chan01']['count']\n",
    "    \n",
    "    \n",
    "    df_indivtrlcsv['flyname'] = basefilename\n",
    "    \n",
    "    \n",
    "    return df_indivtrlcsv\n"
   ]
  },
  {
   "cell_type": "code",
   "execution_count": null,
   "metadata": {},
   "outputs": [],
   "source": []
  },
  {
   "cell_type": "code",
   "execution_count": 29,
   "metadata": {},
   "outputs": [],
   "source": [
    "allvalidtrlcsv_df =[]"
   ]
  },
  {
   "cell_type": "code",
   "execution_count": 30,
   "metadata": {},
   "outputs": [
    {
     "name": "stdout",
     "output_type": "stream",
     "text": [
      "\n",
      "Processing:  27072018_SponSleep_LFP\n",
      "start_time:  2018-07-27 15:13:17\n",
      "end_time:  2018-07-27 23:12:41\n",
      "recording duration:  0 days 07:59:24\n",
      "\n",
      "Processing:  14092018_SponSleep_LFP\n",
      "start_time:  2018-09-14 14:06:29\n",
      "end_time:  2018-09-14 22:05:53\n",
      "recording duration:  0 days 07:59:24\n",
      "\n",
      "Processing:  17092018_SponSleep_LFP\n",
      "start_time:  2018-09-17 14:53:24\n",
      "end_time:  2018-09-17 22:52:48\n",
      "recording duration:  0 days 07:59:24\n",
      "\n",
      "Processing:  30102018_SponSleep_LFP\n",
      "start_time:  2018-10-30 20:42:35\n",
      "end_time:  2018-10-31 04:41:59\n",
      "recording duration:  0 days 07:59:24\n",
      "\n",
      "Processing:  01112018_SponSleep_LFP\n",
      "start_time:  2018-11-01 20:22:14\n",
      "end_time:  2018-11-02 04:21:38\n",
      "recording duration:  0 days 07:59:24\n",
      "\n",
      "Processing:  03112018_SponSleep_LFP\n",
      "start_time:  2018-11-03 20:55:45\n",
      "end_time:  2018-11-04 04:55:09\n",
      "recording duration:  0 days 07:59:24\n",
      "\n",
      "Processing:  13112018_SponSleep_LFP\n",
      "start_time:  2018-11-13 20:19:31\n",
      "end_time:  2018-11-14 04:18:55\n",
      "recording duration:  0 days 07:59:24\n",
      "\n",
      "Processing:  28112018_SponSleep_LFP\n",
      "start_time:  2018-11-28 14:23:42\n",
      "end_time:  2018-11-28 22:23:06\n",
      "recording duration:  0 days 07:59:24\n",
      "\n",
      "Processing:  11122018_SponSleep_LFP\n",
      "start_time:  2018-12-11 15:00:11\n",
      "end_time:  2018-12-11 22:59:35\n",
      "recording duration:  0 days 07:59:24\n",
      "\n",
      "Processing:  13122018_SponSleep_LFP\n",
      "start_time:  2018-12-13 13:10:49\n",
      "end_time:  2018-12-13 21:10:13\n",
      "recording duration:  0 days 07:59:24\n",
      "\n",
      "Processing:  18122018_SponSleep_LFP\n",
      "start_time:  2018-12-18 07:44:53\n",
      "end_time:  2018-12-18 15:44:17\n",
      "recording duration:  0 days 07:59:24\n",
      "\n",
      "Processing:  10012019_SponSleep_LFP\n",
      "start_time:  2019-01-10 09:29:50\n",
      "end_time:  2019-01-10 17:29:14\n",
      "recording duration:  0 days 07:59:24\n",
      "\n",
      "Processing:  17012019_SponSleep_LFP\n",
      "start_time:  2019-01-17 09:23:53\n",
      "end_time:  2019-01-17 17:23:17\n",
      "recording duration:  0 days 07:59:24\n",
      "\n",
      "Processing:  22012019_SponSleep_LFP\n",
      "start_time:  2019-01-22 08:29:16\n",
      "end_time:  2019-01-22 16:28:40\n",
      "recording duration:  0 days 07:59:24\n",
      "\n",
      "Processing:  20022019_SponSleep_LFP\n",
      "start_time:  2019-02-20 08:47:32\n",
      "end_time:  2019-02-20 16:46:56\n",
      "recording duration:  0 days 07:59:24\n",
      "\n",
      "Processing:  13032019_SponSleep_LFP\n",
      "start_time:  2019-03-13 10:57:33\n",
      "end_time:  2019-03-13 18:57:42\n",
      "recording duration:  0 days 08:00:09\n"
     ]
    }
   ],
   "source": [
    "for basefileidx in range(len(basefilelist)):\n",
    "        basefilename = basefilelist[basefileidx]\n",
    "        df_indivtrlcsv  = processvalidationcsv(basefilename)\n",
    "        allvalidtrlcsv_df.append(df_indivtrlcsv)"
   ]
  },
  {
   "cell_type": "code",
   "execution_count": null,
   "metadata": {},
   "outputs": [],
   "source": []
  },
  {
   "cell_type": "code",
   "execution_count": 31,
   "metadata": {},
   "outputs": [],
   "source": [
    "allvalidtrlcsv_df = pd.concat(allvalidtrlcsv_df)"
   ]
  },
  {
   "cell_type": "code",
   "execution_count": 32,
   "metadata": {},
   "outputs": [
    {
     "data": {
      "text/html": [
       "<div>\n",
       "<style scoped>\n",
       "    .dataframe tbody tr th:only-of-type {\n",
       "        vertical-align: middle;\n",
       "    }\n",
       "\n",
       "    .dataframe tbody tr th {\n",
       "        vertical-align: top;\n",
       "    }\n",
       "\n",
       "    .dataframe thead tr th {\n",
       "        text-align: left;\n",
       "    }\n",
       "</style>\n",
       "<table border=\"1\" class=\"dataframe\">\n",
       "  <thead>\n",
       "    <tr>\n",
       "      <th></th>\n",
       "      <th>state</th>\n",
       "      <th>rechour</th>\n",
       "      <th>chan01</th>\n",
       "      <th>chan02</th>\n",
       "      <th>chan03</th>\n",
       "      <th>chan04</th>\n",
       "      <th>chan05</th>\n",
       "      <th>chan06</th>\n",
       "      <th>chan07</th>\n",
       "      <th>chan08</th>\n",
       "      <th>chan09</th>\n",
       "      <th>chan10</th>\n",
       "      <th>chan11</th>\n",
       "      <th>chan12</th>\n",
       "      <th>chan13</th>\n",
       "      <th>chan14</th>\n",
       "      <th>chan15</th>\n",
       "      <th>count</th>\n",
       "      <th>flyname</th>\n",
       "    </tr>\n",
       "    <tr>\n",
       "      <th></th>\n",
       "      <th></th>\n",
       "      <th></th>\n",
       "      <th></th>\n",
       "      <th></th>\n",
       "      <th></th>\n",
       "      <th></th>\n",
       "      <th></th>\n",
       "      <th></th>\n",
       "      <th></th>\n",
       "      <th></th>\n",
       "      <th></th>\n",
       "      <th></th>\n",
       "      <th></th>\n",
       "      <th></th>\n",
       "      <th></th>\n",
       "      <th></th>\n",
       "      <th></th>\n",
       "      <th></th>\n",
       "      <th></th>\n",
       "    </tr>\n",
       "  </thead>\n",
       "  <tbody>\n",
       "    <tr>\n",
       "      <th>0</th>\n",
       "      <td>awake</td>\n",
       "      <td>1</td>\n",
       "      <td>8.232582</td>\n",
       "      <td>9.385703</td>\n",
       "      <td>10.088039</td>\n",
       "      <td>10.987308</td>\n",
       "      <td>11.605511</td>\n",
       "      <td>10.765710</td>\n",
       "      <td>10.217268</td>\n",
       "      <td>8.937729</td>\n",
       "      <td>8.285369</td>\n",
       "      <td>7.762352</td>\n",
       "      <td>5.976471</td>\n",
       "      <td>1.962901</td>\n",
       "      <td>3.621153</td>\n",
       "      <td>5.274339</td>\n",
       "      <td>6.973357</td>\n",
       "      <td>37</td>\n",
       "      <td>27072018_SponSleep_LFP</td>\n",
       "    </tr>\n",
       "    <tr>\n",
       "      <th>1</th>\n",
       "      <td>awake</td>\n",
       "      <td>2</td>\n",
       "      <td>8.869159</td>\n",
       "      <td>10.333879</td>\n",
       "      <td>10.624331</td>\n",
       "      <td>11.037487</td>\n",
       "      <td>11.536777</td>\n",
       "      <td>10.868097</td>\n",
       "      <td>10.071522</td>\n",
       "      <td>9.798962</td>\n",
       "      <td>9.353651</td>\n",
       "      <td>8.749186</td>\n",
       "      <td>6.762089</td>\n",
       "      <td>1.634096</td>\n",
       "      <td>1.384479</td>\n",
       "      <td>2.703325</td>\n",
       "      <td>3.834766</td>\n",
       "      <td>18</td>\n",
       "      <td>27072018_SponSleep_LFP</td>\n",
       "    </tr>\n",
       "    <tr>\n",
       "      <th>2</th>\n",
       "      <td>awake</td>\n",
       "      <td>3</td>\n",
       "      <td>9.559385</td>\n",
       "      <td>10.783494</td>\n",
       "      <td>10.851784</td>\n",
       "      <td>11.135908</td>\n",
       "      <td>11.617878</td>\n",
       "      <td>10.891452</td>\n",
       "      <td>10.351464</td>\n",
       "      <td>10.403564</td>\n",
       "      <td>9.942819</td>\n",
       "      <td>9.246826</td>\n",
       "      <td>6.888299</td>\n",
       "      <td>2.141733</td>\n",
       "      <td>1.337525</td>\n",
       "      <td>3.018194</td>\n",
       "      <td>4.203500</td>\n",
       "      <td>25</td>\n",
       "      <td>27072018_SponSleep_LFP</td>\n",
       "    </tr>\n",
       "    <tr>\n",
       "      <th>3</th>\n",
       "      <td>awake</td>\n",
       "      <td>4</td>\n",
       "      <td>9.253107</td>\n",
       "      <td>10.225326</td>\n",
       "      <td>10.229852</td>\n",
       "      <td>10.601747</td>\n",
       "      <td>11.041318</td>\n",
       "      <td>10.356355</td>\n",
       "      <td>9.558533</td>\n",
       "      <td>9.752634</td>\n",
       "      <td>9.330620</td>\n",
       "      <td>8.699405</td>\n",
       "      <td>6.274790</td>\n",
       "      <td>1.636048</td>\n",
       "      <td>0.141087</td>\n",
       "      <td>1.307883</td>\n",
       "      <td>2.031903</td>\n",
       "      <td>25</td>\n",
       "      <td>27072018_SponSleep_LFP</td>\n",
       "    </tr>\n",
       "    <tr>\n",
       "      <th>4</th>\n",
       "      <td>awake</td>\n",
       "      <td>5</td>\n",
       "      <td>9.386676</td>\n",
       "      <td>10.286039</td>\n",
       "      <td>10.240382</td>\n",
       "      <td>10.545170</td>\n",
       "      <td>10.892620</td>\n",
       "      <td>10.200320</td>\n",
       "      <td>9.485305</td>\n",
       "      <td>9.616254</td>\n",
       "      <td>9.138496</td>\n",
       "      <td>8.522124</td>\n",
       "      <td>6.210667</td>\n",
       "      <td>1.613425</td>\n",
       "      <td>0.230090</td>\n",
       "      <td>1.483656</td>\n",
       "      <td>2.611672</td>\n",
       "      <td>37</td>\n",
       "      <td>27072018_SponSleep_LFP</td>\n",
       "    </tr>\n",
       "    <tr>\n",
       "      <th>...</th>\n",
       "      <td>...</td>\n",
       "      <td>...</td>\n",
       "      <td>...</td>\n",
       "      <td>...</td>\n",
       "      <td>...</td>\n",
       "      <td>...</td>\n",
       "      <td>...</td>\n",
       "      <td>...</td>\n",
       "      <td>...</td>\n",
       "      <td>...</td>\n",
       "      <td>...</td>\n",
       "      <td>...</td>\n",
       "      <td>...</td>\n",
       "      <td>...</td>\n",
       "      <td>...</td>\n",
       "      <td>...</td>\n",
       "      <td>...</td>\n",
       "      <td>...</td>\n",
       "      <td>...</td>\n",
       "    </tr>\n",
       "    <tr>\n",
       "      <th>7</th>\n",
       "      <td>awake</td>\n",
       "      <td>8</td>\n",
       "      <td>4.826748</td>\n",
       "      <td>3.975901</td>\n",
       "      <td>3.507249</td>\n",
       "      <td>3.154104</td>\n",
       "      <td>2.490113</td>\n",
       "      <td>1.668136</td>\n",
       "      <td>1.401693</td>\n",
       "      <td>0.760902</td>\n",
       "      <td>-0.037393</td>\n",
       "      <td>-1.060693</td>\n",
       "      <td>-2.355521</td>\n",
       "      <td>-1.627652</td>\n",
       "      <td>-1.703493</td>\n",
       "      <td>-1.748306</td>\n",
       "      <td>-1.349864</td>\n",
       "      <td>26</td>\n",
       "      <td>13032019_SponSleep_LFP</td>\n",
       "    </tr>\n",
       "    <tr>\n",
       "      <th>8</th>\n",
       "      <td>sleep</td>\n",
       "      <td>5</td>\n",
       "      <td>5.903139</td>\n",
       "      <td>4.747239</td>\n",
       "      <td>4.210900</td>\n",
       "      <td>3.726659</td>\n",
       "      <td>2.305929</td>\n",
       "      <td>1.819463</td>\n",
       "      <td>2.383343</td>\n",
       "      <td>2.540968</td>\n",
       "      <td>1.545539</td>\n",
       "      <td>-0.175307</td>\n",
       "      <td>-2.424733</td>\n",
       "      <td>-1.490415</td>\n",
       "      <td>-1.055530</td>\n",
       "      <td>-0.814795</td>\n",
       "      <td>-0.346869</td>\n",
       "      <td>15</td>\n",
       "      <td>13032019_SponSleep_LFP</td>\n",
       "    </tr>\n",
       "    <tr>\n",
       "      <th>9</th>\n",
       "      <td>sleep</td>\n",
       "      <td>6</td>\n",
       "      <td>5.137401</td>\n",
       "      <td>4.257760</td>\n",
       "      <td>3.825205</td>\n",
       "      <td>3.441716</td>\n",
       "      <td>2.359009</td>\n",
       "      <td>1.837253</td>\n",
       "      <td>2.070334</td>\n",
       "      <td>2.176218</td>\n",
       "      <td>1.243566</td>\n",
       "      <td>-0.348589</td>\n",
       "      <td>-2.576521</td>\n",
       "      <td>-1.515997</td>\n",
       "      <td>-1.229993</td>\n",
       "      <td>-1.041576</td>\n",
       "      <td>-0.642886</td>\n",
       "      <td>8</td>\n",
       "      <td>13032019_SponSleep_LFP</td>\n",
       "    </tr>\n",
       "    <tr>\n",
       "      <th>10</th>\n",
       "      <td>sleep</td>\n",
       "      <td>7</td>\n",
       "      <td>4.666292</td>\n",
       "      <td>3.848102</td>\n",
       "      <td>3.376197</td>\n",
       "      <td>3.083647</td>\n",
       "      <td>2.438281</td>\n",
       "      <td>1.782689</td>\n",
       "      <td>1.389159</td>\n",
       "      <td>1.089621</td>\n",
       "      <td>0.214731</td>\n",
       "      <td>-1.139161</td>\n",
       "      <td>-2.823060</td>\n",
       "      <td>-1.853058</td>\n",
       "      <td>-1.691702</td>\n",
       "      <td>-1.711095</td>\n",
       "      <td>-1.249922</td>\n",
       "      <td>28</td>\n",
       "      <td>13032019_SponSleep_LFP</td>\n",
       "    </tr>\n",
       "    <tr>\n",
       "      <th>11</th>\n",
       "      <td>sleep</td>\n",
       "      <td>8</td>\n",
       "      <td>4.917498</td>\n",
       "      <td>4.125474</td>\n",
       "      <td>3.347330</td>\n",
       "      <td>3.188850</td>\n",
       "      <td>2.824132</td>\n",
       "      <td>2.083589</td>\n",
       "      <td>1.242258</td>\n",
       "      <td>0.744748</td>\n",
       "      <td>-0.273836</td>\n",
       "      <td>-1.506801</td>\n",
       "      <td>-2.944299</td>\n",
       "      <td>-1.848607</td>\n",
       "      <td>-1.783137</td>\n",
       "      <td>-1.908434</td>\n",
       "      <td>-1.321730</td>\n",
       "      <td>29</td>\n",
       "      <td>13032019_SponSleep_LFP</td>\n",
       "    </tr>\n",
       "  </tbody>\n",
       "</table>\n",
       "<p>215 rows × 19 columns</p>\n",
       "</div>"
      ],
      "text/plain": [
       "    state rechour    chan01     chan02     chan03     chan04     chan05  \\\n",
       "                                                                          \n",
       "0   awake       1  8.232582   9.385703  10.088039  10.987308  11.605511   \n",
       "1   awake       2  8.869159  10.333879  10.624331  11.037487  11.536777   \n",
       "2   awake       3  9.559385  10.783494  10.851784  11.135908  11.617878   \n",
       "3   awake       4  9.253107  10.225326  10.229852  10.601747  11.041318   \n",
       "4   awake       5  9.386676  10.286039  10.240382  10.545170  10.892620   \n",
       "..    ...     ...       ...        ...        ...        ...        ...   \n",
       "7   awake       8  4.826748   3.975901   3.507249   3.154104   2.490113   \n",
       "8   sleep       5  5.903139   4.747239   4.210900   3.726659   2.305929   \n",
       "9   sleep       6  5.137401   4.257760   3.825205   3.441716   2.359009   \n",
       "10  sleep       7  4.666292   3.848102   3.376197   3.083647   2.438281   \n",
       "11  sleep       8  4.917498   4.125474   3.347330   3.188850   2.824132   \n",
       "\n",
       "       chan06     chan07     chan08    chan09    chan10    chan11    chan12  \\\n",
       "                                                                              \n",
       "0   10.765710  10.217268   8.937729  8.285369  7.762352  5.976471  1.962901   \n",
       "1   10.868097  10.071522   9.798962  9.353651  8.749186  6.762089  1.634096   \n",
       "2   10.891452  10.351464  10.403564  9.942819  9.246826  6.888299  2.141733   \n",
       "3   10.356355   9.558533   9.752634  9.330620  8.699405  6.274790  1.636048   \n",
       "4   10.200320   9.485305   9.616254  9.138496  8.522124  6.210667  1.613425   \n",
       "..        ...        ...        ...       ...       ...       ...       ...   \n",
       "7    1.668136   1.401693   0.760902 -0.037393 -1.060693 -2.355521 -1.627652   \n",
       "8    1.819463   2.383343   2.540968  1.545539 -0.175307 -2.424733 -1.490415   \n",
       "9    1.837253   2.070334   2.176218  1.243566 -0.348589 -2.576521 -1.515997   \n",
       "10   1.782689   1.389159   1.089621  0.214731 -1.139161 -2.823060 -1.853058   \n",
       "11   2.083589   1.242258   0.744748 -0.273836 -1.506801 -2.944299 -1.848607   \n",
       "\n",
       "      chan13    chan14    chan15 count                 flyname  \n",
       "                                                                \n",
       "0   3.621153  5.274339  6.973357    37  27072018_SponSleep_LFP  \n",
       "1   1.384479  2.703325  3.834766    18  27072018_SponSleep_LFP  \n",
       "2   1.337525  3.018194  4.203500    25  27072018_SponSleep_LFP  \n",
       "3   0.141087  1.307883  2.031903    25  27072018_SponSleep_LFP  \n",
       "4   0.230090  1.483656  2.611672    37  27072018_SponSleep_LFP  \n",
       "..       ...       ...       ...   ...                     ...  \n",
       "7  -1.703493 -1.748306 -1.349864    26  13032019_SponSleep_LFP  \n",
       "8  -1.055530 -0.814795 -0.346869    15  13032019_SponSleep_LFP  \n",
       "9  -1.229993 -1.041576 -0.642886     8  13032019_SponSleep_LFP  \n",
       "10 -1.691702 -1.711095 -1.249922    28  13032019_SponSleep_LFP  \n",
       "11 -1.783137 -1.908434 -1.321730    29  13032019_SponSleep_LFP  \n",
       "\n",
       "[215 rows x 19 columns]"
      ]
     },
     "execution_count": 32,
     "metadata": {},
     "output_type": "execute_result"
    }
   ],
   "source": [
    "allvalidtrlcsv_df"
   ]
  },
  {
   "cell_type": "code",
   "execution_count": null,
   "metadata": {},
   "outputs": [],
   "source": []
  },
  {
   "cell_type": "code",
   "execution_count": 33,
   "metadata": {},
   "outputs": [],
   "source": [
    "allvalidtrlcsv_df = allvalidtrlcsv_df[allvalidtrlcsv_df['count']>=5]"
   ]
  },
  {
   "cell_type": "code",
   "execution_count": 34,
   "metadata": {},
   "outputs": [],
   "source": [
    "allvalidtrlcsv_df.columns = allvalidtrlcsv_df.columns.map(''.join)"
   ]
  },
  {
   "cell_type": "code",
   "execution_count": 35,
   "metadata": {},
   "outputs": [],
   "source": [
    "allvalidtrlcsv_df = allvalidtrlcsv_df.drop('count', axis=1)"
   ]
  },
  {
   "cell_type": "code",
   "execution_count": 36,
   "metadata": {},
   "outputs": [
    {
     "data": {
      "text/html": [
       "<div>\n",
       "<style scoped>\n",
       "    .dataframe tbody tr th:only-of-type {\n",
       "        vertical-align: middle;\n",
       "    }\n",
       "\n",
       "    .dataframe tbody tr th {\n",
       "        vertical-align: top;\n",
       "    }\n",
       "\n",
       "    .dataframe thead th {\n",
       "        text-align: right;\n",
       "    }\n",
       "</style>\n",
       "<table border=\"1\" class=\"dataframe\">\n",
       "  <thead>\n",
       "    <tr style=\"text-align: right;\">\n",
       "      <th></th>\n",
       "      <th>state</th>\n",
       "      <th>rechour</th>\n",
       "      <th>chan01</th>\n",
       "      <th>chan02</th>\n",
       "      <th>chan03</th>\n",
       "      <th>chan04</th>\n",
       "      <th>chan05</th>\n",
       "      <th>chan06</th>\n",
       "      <th>chan07</th>\n",
       "      <th>chan08</th>\n",
       "      <th>chan09</th>\n",
       "      <th>chan10</th>\n",
       "      <th>chan11</th>\n",
       "      <th>chan12</th>\n",
       "      <th>chan13</th>\n",
       "      <th>chan14</th>\n",
       "      <th>chan15</th>\n",
       "      <th>flyname</th>\n",
       "    </tr>\n",
       "  </thead>\n",
       "  <tbody>\n",
       "    <tr>\n",
       "      <th>0</th>\n",
       "      <td>awake</td>\n",
       "      <td>1</td>\n",
       "      <td>8.232582</td>\n",
       "      <td>9.385703</td>\n",
       "      <td>10.088039</td>\n",
       "      <td>10.987308</td>\n",
       "      <td>11.605511</td>\n",
       "      <td>10.765710</td>\n",
       "      <td>10.217268</td>\n",
       "      <td>8.937729</td>\n",
       "      <td>8.285369</td>\n",
       "      <td>7.762352</td>\n",
       "      <td>5.976471</td>\n",
       "      <td>1.962901</td>\n",
       "      <td>3.621153</td>\n",
       "      <td>5.274339</td>\n",
       "      <td>6.973357</td>\n",
       "      <td>27072018_SponSleep_LFP</td>\n",
       "    </tr>\n",
       "    <tr>\n",
       "      <th>1</th>\n",
       "      <td>awake</td>\n",
       "      <td>2</td>\n",
       "      <td>8.869159</td>\n",
       "      <td>10.333879</td>\n",
       "      <td>10.624331</td>\n",
       "      <td>11.037487</td>\n",
       "      <td>11.536777</td>\n",
       "      <td>10.868097</td>\n",
       "      <td>10.071522</td>\n",
       "      <td>9.798962</td>\n",
       "      <td>9.353651</td>\n",
       "      <td>8.749186</td>\n",
       "      <td>6.762089</td>\n",
       "      <td>1.634096</td>\n",
       "      <td>1.384479</td>\n",
       "      <td>2.703325</td>\n",
       "      <td>3.834766</td>\n",
       "      <td>27072018_SponSleep_LFP</td>\n",
       "    </tr>\n",
       "    <tr>\n",
       "      <th>2</th>\n",
       "      <td>awake</td>\n",
       "      <td>3</td>\n",
       "      <td>9.559385</td>\n",
       "      <td>10.783494</td>\n",
       "      <td>10.851784</td>\n",
       "      <td>11.135908</td>\n",
       "      <td>11.617878</td>\n",
       "      <td>10.891452</td>\n",
       "      <td>10.351464</td>\n",
       "      <td>10.403564</td>\n",
       "      <td>9.942819</td>\n",
       "      <td>9.246826</td>\n",
       "      <td>6.888299</td>\n",
       "      <td>2.141733</td>\n",
       "      <td>1.337525</td>\n",
       "      <td>3.018194</td>\n",
       "      <td>4.203500</td>\n",
       "      <td>27072018_SponSleep_LFP</td>\n",
       "    </tr>\n",
       "    <tr>\n",
       "      <th>3</th>\n",
       "      <td>awake</td>\n",
       "      <td>4</td>\n",
       "      <td>9.253107</td>\n",
       "      <td>10.225326</td>\n",
       "      <td>10.229852</td>\n",
       "      <td>10.601747</td>\n",
       "      <td>11.041318</td>\n",
       "      <td>10.356355</td>\n",
       "      <td>9.558533</td>\n",
       "      <td>9.752634</td>\n",
       "      <td>9.330620</td>\n",
       "      <td>8.699405</td>\n",
       "      <td>6.274790</td>\n",
       "      <td>1.636048</td>\n",
       "      <td>0.141087</td>\n",
       "      <td>1.307883</td>\n",
       "      <td>2.031903</td>\n",
       "      <td>27072018_SponSleep_LFP</td>\n",
       "    </tr>\n",
       "    <tr>\n",
       "      <th>4</th>\n",
       "      <td>awake</td>\n",
       "      <td>5</td>\n",
       "      <td>9.386676</td>\n",
       "      <td>10.286039</td>\n",
       "      <td>10.240382</td>\n",
       "      <td>10.545170</td>\n",
       "      <td>10.892620</td>\n",
       "      <td>10.200320</td>\n",
       "      <td>9.485305</td>\n",
       "      <td>9.616254</td>\n",
       "      <td>9.138496</td>\n",
       "      <td>8.522124</td>\n",
       "      <td>6.210667</td>\n",
       "      <td>1.613425</td>\n",
       "      <td>0.230090</td>\n",
       "      <td>1.483656</td>\n",
       "      <td>2.611672</td>\n",
       "      <td>27072018_SponSleep_LFP</td>\n",
       "    </tr>\n",
       "    <tr>\n",
       "      <th>...</th>\n",
       "      <td>...</td>\n",
       "      <td>...</td>\n",
       "      <td>...</td>\n",
       "      <td>...</td>\n",
       "      <td>...</td>\n",
       "      <td>...</td>\n",
       "      <td>...</td>\n",
       "      <td>...</td>\n",
       "      <td>...</td>\n",
       "      <td>...</td>\n",
       "      <td>...</td>\n",
       "      <td>...</td>\n",
       "      <td>...</td>\n",
       "      <td>...</td>\n",
       "      <td>...</td>\n",
       "      <td>...</td>\n",
       "      <td>...</td>\n",
       "      <td>...</td>\n",
       "    </tr>\n",
       "    <tr>\n",
       "      <th>7</th>\n",
       "      <td>awake</td>\n",
       "      <td>8</td>\n",
       "      <td>4.826748</td>\n",
       "      <td>3.975901</td>\n",
       "      <td>3.507249</td>\n",
       "      <td>3.154104</td>\n",
       "      <td>2.490113</td>\n",
       "      <td>1.668136</td>\n",
       "      <td>1.401693</td>\n",
       "      <td>0.760902</td>\n",
       "      <td>-0.037393</td>\n",
       "      <td>-1.060693</td>\n",
       "      <td>-2.355521</td>\n",
       "      <td>-1.627652</td>\n",
       "      <td>-1.703493</td>\n",
       "      <td>-1.748306</td>\n",
       "      <td>-1.349864</td>\n",
       "      <td>13032019_SponSleep_LFP</td>\n",
       "    </tr>\n",
       "    <tr>\n",
       "      <th>8</th>\n",
       "      <td>sleep</td>\n",
       "      <td>5</td>\n",
       "      <td>5.903139</td>\n",
       "      <td>4.747239</td>\n",
       "      <td>4.210900</td>\n",
       "      <td>3.726659</td>\n",
       "      <td>2.305929</td>\n",
       "      <td>1.819463</td>\n",
       "      <td>2.383343</td>\n",
       "      <td>2.540968</td>\n",
       "      <td>1.545539</td>\n",
       "      <td>-0.175307</td>\n",
       "      <td>-2.424733</td>\n",
       "      <td>-1.490415</td>\n",
       "      <td>-1.055530</td>\n",
       "      <td>-0.814795</td>\n",
       "      <td>-0.346869</td>\n",
       "      <td>13032019_SponSleep_LFP</td>\n",
       "    </tr>\n",
       "    <tr>\n",
       "      <th>9</th>\n",
       "      <td>sleep</td>\n",
       "      <td>6</td>\n",
       "      <td>5.137401</td>\n",
       "      <td>4.257760</td>\n",
       "      <td>3.825205</td>\n",
       "      <td>3.441716</td>\n",
       "      <td>2.359009</td>\n",
       "      <td>1.837253</td>\n",
       "      <td>2.070334</td>\n",
       "      <td>2.176218</td>\n",
       "      <td>1.243566</td>\n",
       "      <td>-0.348589</td>\n",
       "      <td>-2.576521</td>\n",
       "      <td>-1.515997</td>\n",
       "      <td>-1.229993</td>\n",
       "      <td>-1.041576</td>\n",
       "      <td>-0.642886</td>\n",
       "      <td>13032019_SponSleep_LFP</td>\n",
       "    </tr>\n",
       "    <tr>\n",
       "      <th>10</th>\n",
       "      <td>sleep</td>\n",
       "      <td>7</td>\n",
       "      <td>4.666292</td>\n",
       "      <td>3.848102</td>\n",
       "      <td>3.376197</td>\n",
       "      <td>3.083647</td>\n",
       "      <td>2.438281</td>\n",
       "      <td>1.782689</td>\n",
       "      <td>1.389159</td>\n",
       "      <td>1.089621</td>\n",
       "      <td>0.214731</td>\n",
       "      <td>-1.139161</td>\n",
       "      <td>-2.823060</td>\n",
       "      <td>-1.853058</td>\n",
       "      <td>-1.691702</td>\n",
       "      <td>-1.711095</td>\n",
       "      <td>-1.249922</td>\n",
       "      <td>13032019_SponSleep_LFP</td>\n",
       "    </tr>\n",
       "    <tr>\n",
       "      <th>11</th>\n",
       "      <td>sleep</td>\n",
       "      <td>8</td>\n",
       "      <td>4.917498</td>\n",
       "      <td>4.125474</td>\n",
       "      <td>3.347330</td>\n",
       "      <td>3.188850</td>\n",
       "      <td>2.824132</td>\n",
       "      <td>2.083589</td>\n",
       "      <td>1.242258</td>\n",
       "      <td>0.744748</td>\n",
       "      <td>-0.273836</td>\n",
       "      <td>-1.506801</td>\n",
       "      <td>-2.944299</td>\n",
       "      <td>-1.848607</td>\n",
       "      <td>-1.783137</td>\n",
       "      <td>-1.908434</td>\n",
       "      <td>-1.321730</td>\n",
       "      <td>13032019_SponSleep_LFP</td>\n",
       "    </tr>\n",
       "  </tbody>\n",
       "</table>\n",
       "<p>213 rows × 18 columns</p>\n",
       "</div>"
      ],
      "text/plain": [
       "    state  rechour    chan01     chan02     chan03     chan04     chan05  \\\n",
       "0   awake        1  8.232582   9.385703  10.088039  10.987308  11.605511   \n",
       "1   awake        2  8.869159  10.333879  10.624331  11.037487  11.536777   \n",
       "2   awake        3  9.559385  10.783494  10.851784  11.135908  11.617878   \n",
       "3   awake        4  9.253107  10.225326  10.229852  10.601747  11.041318   \n",
       "4   awake        5  9.386676  10.286039  10.240382  10.545170  10.892620   \n",
       "..    ...      ...       ...        ...        ...        ...        ...   \n",
       "7   awake        8  4.826748   3.975901   3.507249   3.154104   2.490113   \n",
       "8   sleep        5  5.903139   4.747239   4.210900   3.726659   2.305929   \n",
       "9   sleep        6  5.137401   4.257760   3.825205   3.441716   2.359009   \n",
       "10  sleep        7  4.666292   3.848102   3.376197   3.083647   2.438281   \n",
       "11  sleep        8  4.917498   4.125474   3.347330   3.188850   2.824132   \n",
       "\n",
       "       chan06     chan07     chan08    chan09    chan10    chan11    chan12  \\\n",
       "0   10.765710  10.217268   8.937729  8.285369  7.762352  5.976471  1.962901   \n",
       "1   10.868097  10.071522   9.798962  9.353651  8.749186  6.762089  1.634096   \n",
       "2   10.891452  10.351464  10.403564  9.942819  9.246826  6.888299  2.141733   \n",
       "3   10.356355   9.558533   9.752634  9.330620  8.699405  6.274790  1.636048   \n",
       "4   10.200320   9.485305   9.616254  9.138496  8.522124  6.210667  1.613425   \n",
       "..        ...        ...        ...       ...       ...       ...       ...   \n",
       "7    1.668136   1.401693   0.760902 -0.037393 -1.060693 -2.355521 -1.627652   \n",
       "8    1.819463   2.383343   2.540968  1.545539 -0.175307 -2.424733 -1.490415   \n",
       "9    1.837253   2.070334   2.176218  1.243566 -0.348589 -2.576521 -1.515997   \n",
       "10   1.782689   1.389159   1.089621  0.214731 -1.139161 -2.823060 -1.853058   \n",
       "11   2.083589   1.242258   0.744748 -0.273836 -1.506801 -2.944299 -1.848607   \n",
       "\n",
       "      chan13    chan14    chan15                 flyname  \n",
       "0   3.621153  5.274339  6.973357  27072018_SponSleep_LFP  \n",
       "1   1.384479  2.703325  3.834766  27072018_SponSleep_LFP  \n",
       "2   1.337525  3.018194  4.203500  27072018_SponSleep_LFP  \n",
       "3   0.141087  1.307883  2.031903  27072018_SponSleep_LFP  \n",
       "4   0.230090  1.483656  2.611672  27072018_SponSleep_LFP  \n",
       "..       ...       ...       ...                     ...  \n",
       "7  -1.703493 -1.748306 -1.349864  13032019_SponSleep_LFP  \n",
       "8  -1.055530 -0.814795 -0.346869  13032019_SponSleep_LFP  \n",
       "9  -1.229993 -1.041576 -0.642886  13032019_SponSleep_LFP  \n",
       "10 -1.691702 -1.711095 -1.249922  13032019_SponSleep_LFP  \n",
       "11 -1.783137 -1.908434 -1.321730  13032019_SponSleep_LFP  \n",
       "\n",
       "[213 rows x 18 columns]"
      ]
     },
     "execution_count": 36,
     "metadata": {},
     "output_type": "execute_result"
    }
   ],
   "source": [
    "allvalidtrlcsv_df"
   ]
  },
  {
   "cell_type": "code",
   "execution_count": 37,
   "metadata": {},
   "outputs": [
    {
     "data": {
      "text/html": [
       "<div>\n",
       "<style scoped>\n",
       "    .dataframe tbody tr th:only-of-type {\n",
       "        vertical-align: middle;\n",
       "    }\n",
       "\n",
       "    .dataframe tbody tr th {\n",
       "        vertical-align: top;\n",
       "    }\n",
       "\n",
       "    .dataframe thead th {\n",
       "        text-align: right;\n",
       "    }\n",
       "</style>\n",
       "<table border=\"1\" class=\"dataframe\">\n",
       "  <thead>\n",
       "    <tr style=\"text-align: right;\">\n",
       "      <th></th>\n",
       "      <th>state</th>\n",
       "      <th>rechour</th>\n",
       "      <th>flyname</th>\n",
       "      <th>channel</th>\n",
       "      <th>power</th>\n",
       "    </tr>\n",
       "  </thead>\n",
       "  <tbody>\n",
       "    <tr>\n",
       "      <th>0</th>\n",
       "      <td>awake</td>\n",
       "      <td>1</td>\n",
       "      <td>27072018_SponSleep_LFP</td>\n",
       "      <td>chan01</td>\n",
       "      <td>8.232582</td>\n",
       "    </tr>\n",
       "    <tr>\n",
       "      <th>1</th>\n",
       "      <td>awake</td>\n",
       "      <td>2</td>\n",
       "      <td>27072018_SponSleep_LFP</td>\n",
       "      <td>chan01</td>\n",
       "      <td>8.869159</td>\n",
       "    </tr>\n",
       "    <tr>\n",
       "      <th>2</th>\n",
       "      <td>awake</td>\n",
       "      <td>3</td>\n",
       "      <td>27072018_SponSleep_LFP</td>\n",
       "      <td>chan01</td>\n",
       "      <td>9.559385</td>\n",
       "    </tr>\n",
       "    <tr>\n",
       "      <th>3</th>\n",
       "      <td>awake</td>\n",
       "      <td>4</td>\n",
       "      <td>27072018_SponSleep_LFP</td>\n",
       "      <td>chan01</td>\n",
       "      <td>9.253107</td>\n",
       "    </tr>\n",
       "    <tr>\n",
       "      <th>4</th>\n",
       "      <td>awake</td>\n",
       "      <td>5</td>\n",
       "      <td>27072018_SponSleep_LFP</td>\n",
       "      <td>chan01</td>\n",
       "      <td>9.386676</td>\n",
       "    </tr>\n",
       "    <tr>\n",
       "      <th>...</th>\n",
       "      <td>...</td>\n",
       "      <td>...</td>\n",
       "      <td>...</td>\n",
       "      <td>...</td>\n",
       "      <td>...</td>\n",
       "    </tr>\n",
       "    <tr>\n",
       "      <th>3190</th>\n",
       "      <td>awake</td>\n",
       "      <td>8</td>\n",
       "      <td>13032019_SponSleep_LFP</td>\n",
       "      <td>chan15</td>\n",
       "      <td>-1.349864</td>\n",
       "    </tr>\n",
       "    <tr>\n",
       "      <th>3191</th>\n",
       "      <td>sleep</td>\n",
       "      <td>5</td>\n",
       "      <td>13032019_SponSleep_LFP</td>\n",
       "      <td>chan15</td>\n",
       "      <td>-0.346869</td>\n",
       "    </tr>\n",
       "    <tr>\n",
       "      <th>3192</th>\n",
       "      <td>sleep</td>\n",
       "      <td>6</td>\n",
       "      <td>13032019_SponSleep_LFP</td>\n",
       "      <td>chan15</td>\n",
       "      <td>-0.642886</td>\n",
       "    </tr>\n",
       "    <tr>\n",
       "      <th>3193</th>\n",
       "      <td>sleep</td>\n",
       "      <td>7</td>\n",
       "      <td>13032019_SponSleep_LFP</td>\n",
       "      <td>chan15</td>\n",
       "      <td>-1.249922</td>\n",
       "    </tr>\n",
       "    <tr>\n",
       "      <th>3194</th>\n",
       "      <td>sleep</td>\n",
       "      <td>8</td>\n",
       "      <td>13032019_SponSleep_LFP</td>\n",
       "      <td>chan15</td>\n",
       "      <td>-1.321730</td>\n",
       "    </tr>\n",
       "  </tbody>\n",
       "</table>\n",
       "<p>3195 rows × 5 columns</p>\n",
       "</div>"
      ],
      "text/plain": [
       "      state  rechour                 flyname channel     power\n",
       "0     awake        1  27072018_SponSleep_LFP  chan01  8.232582\n",
       "1     awake        2  27072018_SponSleep_LFP  chan01  8.869159\n",
       "2     awake        3  27072018_SponSleep_LFP  chan01  9.559385\n",
       "3     awake        4  27072018_SponSleep_LFP  chan01  9.253107\n",
       "4     awake        5  27072018_SponSleep_LFP  chan01  9.386676\n",
       "...     ...      ...                     ...     ...       ...\n",
       "3190  awake        8  13032019_SponSleep_LFP  chan15 -1.349864\n",
       "3191  sleep        5  13032019_SponSleep_LFP  chan15 -0.346869\n",
       "3192  sleep        6  13032019_SponSleep_LFP  chan15 -0.642886\n",
       "3193  sleep        7  13032019_SponSleep_LFP  chan15 -1.249922\n",
       "3194  sleep        8  13032019_SponSleep_LFP  chan15 -1.321730\n",
       "\n",
       "[3195 rows x 5 columns]"
      ]
     },
     "execution_count": 37,
     "metadata": {},
     "output_type": "execute_result"
    }
   ],
   "source": [
    "statsvalid_df = allvalidtrlcsv_df.melt(id_vars=[\"state\", \"rechour\",\"flyname\"],var_name=\"channel\",\n",
    "                                       value_name=\"power\")\n",
    "statsvalid_df"
   ]
  },
  {
   "cell_type": "code",
   "execution_count": 38,
   "metadata": {},
   "outputs": [
    {
     "data": {
      "text/plain": [
       "array(['chan01', 'chan02', 'chan03', 'chan04', 'chan05', 'chan06',\n",
       "       'chan07', 'chan08', 'chan09', 'chan10', 'chan11', 'chan12',\n",
       "       'chan13', 'chan14', 'chan15'], dtype=object)"
      ]
     },
     "execution_count": 38,
     "metadata": {},
     "output_type": "execute_result"
    }
   ],
   "source": [
    "np.unique(statsvalid_df['channel'])"
   ]
  },
  {
   "cell_type": "code",
   "execution_count": 39,
   "metadata": {},
   "outputs": [
    {
     "data": {
      "text/plain": [
       "array(['awake', 'sleep'], dtype=object)"
      ]
     },
     "execution_count": 39,
     "metadata": {},
     "output_type": "execute_result"
    }
   ],
   "source": [
    "np.unique(statsvalid_df['state'])"
   ]
  },
  {
   "cell_type": "code",
   "execution_count": 40,
   "metadata": {},
   "outputs": [
    {
     "data": {
      "text/plain": [
       "16"
      ]
     },
     "execution_count": 40,
     "metadata": {},
     "output_type": "execute_result"
    }
   ],
   "source": [
    "len(np.unique(statsvalid_df['flyname']))"
   ]
  },
  {
   "cell_type": "code",
   "execution_count": null,
   "metadata": {},
   "outputs": [],
   "source": []
  },
  {
   "cell_type": "code",
   "execution_count": 41,
   "metadata": {},
   "outputs": [],
   "source": [
    "%R -i statsvalid_df"
   ]
  },
  {
   "cell_type": "code",
   "execution_count": 42,
   "metadata": {},
   "outputs": [
    {
     "name": "stdout",
     "output_type": "stream",
     "text": [
      "  state rechour                flyname channel    power\n",
      "0 awake       1 27072018_SponSleep_LFP  chan01 8.232582\n",
      "1 awake       2 27072018_SponSleep_LFP  chan01 8.869159\n",
      "2 awake       3 27072018_SponSleep_LFP  chan01 9.559385\n",
      "3 awake       4 27072018_SponSleep_LFP  chan01 9.253107\n",
      "4 awake       5 27072018_SponSleep_LFP  chan01 9.386676\n",
      "5 awake       6 27072018_SponSleep_LFP  chan01 8.796325\n"
     ]
    }
   ],
   "source": [
    "%%R\n",
    "head(statsvalid_df)"
   ]
  },
  {
   "cell_type": "code",
   "execution_count": null,
   "metadata": {},
   "outputs": [],
   "source": []
  },
  {
   "cell_type": "code",
   "execution_count": 43,
   "metadata": {},
   "outputs": [],
   "source": [
    "%%R\n",
    "df_awakestatsvalid = statsvalid_df[statsvalid_df$state =='awake',]\n",
    "df_sleepstatsvalid = statsvalid_df[statsvalid_df$state =='sleep',]"
   ]
  },
  {
   "cell_type": "code",
   "execution_count": null,
   "metadata": {},
   "outputs": [],
   "source": []
  },
  {
   "cell_type": "code",
   "execution_count": 44,
   "metadata": {},
   "outputs": [
    {
     "name": "stdout",
     "output_type": "stream",
     "text": [
      "[1] ‘1.1.21’\n"
     ]
    }
   ],
   "source": [
    "%%R\n",
    "packageVersion(\"lme4\")"
   ]
  },
  {
   "cell_type": "code",
   "execution_count": 45,
   "metadata": {},
   "outputs": [
    {
     "name": "stderr",
     "output_type": "stream",
     "text": [
      "R[write to console]: Loading required package: lme4\n",
      "\n",
      "R[write to console]: Loading required package: Matrix\n",
      "\n",
      "R[write to console]: \n",
      "Attaching package: ‘lmerTest’\n",
      "\n",
      "\n",
      "R[write to console]: The following object is masked from ‘package:lme4’:\n",
      "\n",
      "    lmer\n",
      "\n",
      "\n",
      "R[write to console]: The following object is masked from ‘package:stats’:\n",
      "\n",
      "    step\n",
      "\n",
      "\n"
     ]
    }
   ],
   "source": [
    "%%R\n",
    "# Multilevel model with missing values ~ Hierarchical model\n",
    "# First compare and choose the best model..\n",
    "\n",
    "library(lmerTest)"
   ]
  },
  {
   "cell_type": "code",
   "execution_count": null,
   "metadata": {},
   "outputs": [],
   "source": []
  },
  {
   "cell_type": "code",
   "execution_count": 46,
   "metadata": {},
   "outputs": [
    {
     "name": "stdout",
     "output_type": "stream",
     "text": [
      "  state rechour                flyname channel    power\n",
      "0 awake       1 27072018_SponSleep_LFP  chan01 8.232582\n",
      "1 awake       2 27072018_SponSleep_LFP  chan01 8.869159\n",
      "2 awake       3 27072018_SponSleep_LFP  chan01 9.559385\n",
      "3 awake       4 27072018_SponSleep_LFP  chan01 9.253107\n",
      "4 awake       5 27072018_SponSleep_LFP  chan01 9.386676\n",
      "5 awake       6 27072018_SponSleep_LFP  chan01 8.796325\n"
     ]
    }
   ],
   "source": [
    "%%R\n",
    "head(df_awakestatsvalid)"
   ]
  },
  {
   "cell_type": "code",
   "execution_count": 47,
   "metadata": {},
   "outputs": [],
   "source": [
    "%%R\n",
    "model.null = lmer(power ~ 1 + (1|flyname), data=df_awakestatsvalid,\n",
    "                  REML=FALSE)\n",
    "\n",
    "model.rechour = lmer(power ~ rechour + (1|flyname), data=df_awakestatsvalid,\n",
    "                  REML=FALSE)"
   ]
  },
  {
   "cell_type": "code",
   "execution_count": 48,
   "metadata": {},
   "outputs": [
    {
     "name": "stdout",
     "output_type": "stream",
     "text": [
      "Data: df_awakestatsvalid\n",
      "Models:\n",
      "model.null: power ~ 1 + (1 | flyname)\n",
      "model.rechour: power ~ rechour + (1 | flyname)\n",
      "              Df   AIC   BIC  logLik deviance  Chisq Chi Df Pr(>Chisq)  \n",
      "model.null     3 11879 11896 -5936.5    11873                           \n",
      "model.rechour  4 11877 11899 -5934.3    11869 4.3637      1    0.03671 *\n",
      "---\n",
      "Signif. codes:  0 ‘***’ 0.001 ‘**’ 0.01 ‘*’ 0.05 ‘.’ 0.1 ‘ ’ 1\n"
     ]
    }
   ],
   "source": [
    "%%R\n",
    "#compare the null model, with the rechour model..\n",
    "print(anova(model.null,model.rechour))"
   ]
  },
  {
   "cell_type": "code",
   "execution_count": 49,
   "metadata": {},
   "outputs": [
    {
     "name": "stdout",
     "output_type": "stream",
     "text": [
      "Type III Analysis of Variance Table with Satterthwaite's method\n",
      "        Sum Sq Mean Sq NumDF DenDF F value  Pr(>F)  \n",
      "rechour 120.74  120.74     1  1904  4.3687 0.03674 *\n",
      "---\n",
      "Signif. codes:  0 ‘***’ 0.001 ‘**’ 0.01 ‘*’ 0.05 ‘.’ 0.1 ‘ ’ 1\n"
     ]
    }
   ],
   "source": [
    "%%R\n",
    "#the above analysis show that the rechour model is the most likely model..\n",
    "#let's analyse the same..\n",
    "print(anova(model.rechour))"
   ]
  },
  {
   "cell_type": "code",
   "execution_count": 50,
   "metadata": {},
   "outputs": [
    {
     "name": "stdout",
     "output_type": "stream",
     "text": [
      "             R2m       R2c\n",
      "[1,] 0.001976059 0.1320037\n"
     ]
    }
   ],
   "source": [
    "%%R\n",
    "library(\"MuMIn\")\n",
    "r.squaredGLMM(model.rechour)"
   ]
  },
  {
   "cell_type": "code",
   "execution_count": 51,
   "metadata": {},
   "outputs": [
    {
     "name": "stdout",
     "output_type": "stream",
     "text": [
      "NULL\n"
     ]
    }
   ],
   "source": [
    "%%R\n",
    "#the above table shows that there is a main effect of rechour; let's find out more.."
   ]
  },
  {
   "cell_type": "code",
   "execution_count": 52,
   "metadata": {},
   "outputs": [
    {
     "name": "stdout",
     "output_type": "stream",
     "text": [
      "  state rechour                flyname channel    power\n",
      "0 awake       1 27072018_SponSleep_LFP  chan01 8.232582\n",
      "1 awake       2 27072018_SponSleep_LFP  chan01 8.869159\n",
      "2 awake       3 27072018_SponSleep_LFP  chan01 9.559385\n",
      "3 awake       4 27072018_SponSleep_LFP  chan01 9.253107\n",
      "4 awake       5 27072018_SponSleep_LFP  chan01 9.386676\n",
      "5 awake       6 27072018_SponSleep_LFP  chan01 8.796325\n"
     ]
    }
   ],
   "source": [
    "%%R\n",
    "head(df_awakestatsvalid)"
   ]
  },
  {
   "cell_type": "code",
   "execution_count": null,
   "metadata": {},
   "outputs": [],
   "source": []
  },
  {
   "cell_type": "code",
   "execution_count": 53,
   "metadata": {},
   "outputs": [
    {
     "name": "stderr",
     "output_type": "stream",
     "text": [
      "R[write to console]: Loading required package: mvtnorm\n",
      "\n",
      "R[write to console]: Loading required package: survival\n",
      "\n",
      "R[write to console]: Loading required package: TH.data\n",
      "\n",
      "R[write to console]: Loading required package: MASS\n",
      "\n",
      "R[write to console]: \n",
      "Attaching package: ‘TH.data’\n",
      "\n",
      "\n",
      "R[write to console]: The following object is masked from ‘package:MASS’:\n",
      "\n",
      "    geyser\n",
      "\n",
      "\n"
     ]
    },
    {
     "name": "stdout",
     "output_type": "stream",
     "text": [
      "\n",
      "\t Simultaneous Tests for General Linear Hypotheses\n",
      "\n",
      "Multiple Comparisons of Means: Tukey Contrasts\n",
      "\n",
      "\n",
      "Fit: lmer(formula = power ~ staterechour + (1 | flyname), data = df_awakestatsvalid, \n",
      "    REML = FALSE)\n",
      "\n",
      "Linear Hypotheses:\n",
      "                       Estimate Std. Error z value Pr(>|z|)\n",
      "2.awake - 1.awake == 0 -0.20397    0.47954  -0.425    1.000\n",
      "3.awake - 1.awake == 0 -0.60866    0.47954  -1.269    0.910\n",
      "4.awake - 1.awake == 0 -0.16339    0.47954  -0.341    1.000\n",
      "5.awake - 1.awake == 0 -0.66159    0.47954  -1.380    0.867\n",
      "6.awake - 1.awake == 0 -0.95428    0.47954  -1.990    0.489\n",
      "7.awake - 1.awake == 0 -0.86776    0.47954  -1.810    0.614\n",
      "8.awake - 1.awake == 0 -0.61992    0.47954  -1.293    0.902\n",
      "3.awake - 2.awake == 0 -0.40469    0.47954  -0.844    0.991\n",
      "4.awake - 2.awake == 0  0.04059    0.47954   0.085    1.000\n",
      "5.awake - 2.awake == 0 -0.45762    0.47954  -0.954    0.981\n",
      "6.awake - 2.awake == 0 -0.75031    0.47954  -1.565    0.772\n",
      "7.awake - 2.awake == 0 -0.66379    0.47954  -1.384    0.865\n",
      "8.awake - 2.awake == 0 -0.41594    0.47954  -0.867    0.989\n",
      "4.awake - 3.awake == 0  0.44527    0.47954   0.929    0.983\n",
      "5.awake - 3.awake == 0 -0.05293    0.47954  -0.110    1.000\n",
      "6.awake - 3.awake == 0 -0.34562    0.47954  -0.721    0.996\n",
      "7.awake - 3.awake == 0 -0.25910    0.47954  -0.540    0.999\n",
      "8.awake - 3.awake == 0 -0.01126    0.47954  -0.023    1.000\n",
      "5.awake - 4.awake == 0 -0.49821    0.47954  -1.039    0.969\n",
      "6.awake - 4.awake == 0 -0.79089    0.47954  -1.649    0.720\n",
      "7.awake - 4.awake == 0 -0.70437    0.47954  -1.469    0.824\n",
      "8.awake - 4.awake == 0 -0.45653    0.47954  -0.952    0.981\n",
      "6.awake - 5.awake == 0 -0.29269    0.47954  -0.610    0.999\n",
      "7.awake - 5.awake == 0 -0.20617    0.47954  -0.430    1.000\n",
      "8.awake - 5.awake == 0  0.04168    0.47954   0.087    1.000\n",
      "7.awake - 6.awake == 0  0.08652    0.47954   0.180    1.000\n",
      "8.awake - 6.awake == 0  0.33436    0.47954   0.697    0.997\n",
      "8.awake - 7.awake == 0  0.24784    0.47954   0.517    1.000\n",
      "(Adjusted p values reported -- single-step method)\n",
      "\n"
     ]
    }
   ],
   "source": [
    "%%R\n",
    "library(\"multcomp\")\n",
    "# Step 5: Post Hoc comparisions \n",
    "df_awakestatsvalid$staterechour <- interaction(df_awakestatsvalid$rechour, df_awakestatsvalid$state)\n",
    "\n",
    "model = lmer(power ~ staterechour + (1|flyname), data=df_awakestatsvalid,\n",
    "             REML=FALSE)\n",
    "\n",
    "print(summary(glht(model, mcp(staterechour=\"Tukey\"))))"
   ]
  },
  {
   "cell_type": "code",
   "execution_count": null,
   "metadata": {},
   "outputs": [],
   "source": []
  },
  {
   "cell_type": "code",
   "execution_count": 54,
   "metadata": {},
   "outputs": [
    {
     "name": "stdout",
     "output_type": "stream",
     "text": [
      "   state rechour                flyname channel    power\n",
      "8  sleep       1 27072018_SponSleep_LFP  chan01 7.716601\n",
      "9  sleep       2 27072018_SponSleep_LFP  chan01 8.249757\n",
      "10 sleep       3 27072018_SponSleep_LFP  chan01 8.667177\n",
      "11 sleep       4 27072018_SponSleep_LFP  chan01 8.755985\n",
      "12 sleep       5 27072018_SponSleep_LFP  chan01 8.638436\n",
      "13 sleep       6 27072018_SponSleep_LFP  chan01 8.169875\n"
     ]
    }
   ],
   "source": [
    "%%R\n",
    "head(df_sleepstatsvalid)"
   ]
  },
  {
   "cell_type": "code",
   "execution_count": 55,
   "metadata": {},
   "outputs": [],
   "source": [
    "%%R\n",
    "model.null = lmer(power ~ 1 + (1|flyname), data=df_sleepstatsvalid,\n",
    "                  REML=FALSE)\n",
    "\n",
    "model.rechour = lmer(power ~ rechour + (1|flyname), data=df_sleepstatsvalid,\n",
    "                  REML=FALSE)"
   ]
  },
  {
   "cell_type": "code",
   "execution_count": 56,
   "metadata": {},
   "outputs": [
    {
     "name": "stdout",
     "output_type": "stream",
     "text": [
      "Data: df_sleepstatsvalid\n",
      "Models:\n",
      "model.null: power ~ 1 + (1 | flyname)\n",
      "model.rechour: power ~ rechour + (1 | flyname)\n",
      "              Df    AIC    BIC  logLik deviance  Chisq Chi Df Pr(>Chisq)\n",
      "model.null     3 8017.1 8032.6 -4005.6   8011.1                         \n",
      "model.rechour  4 8018.7 8039.3 -4005.3   8010.7 0.4593      1     0.4979\n"
     ]
    }
   ],
   "source": [
    "%%R\n",
    "#compare the null model, with the rechour model..\n",
    "print(anova(model.null,model.rechour))"
   ]
  },
  {
   "cell_type": "code",
   "execution_count": null,
   "metadata": {},
   "outputs": [],
   "source": []
  },
  {
   "cell_type": "code",
   "execution_count": 57,
   "metadata": {},
   "outputs": [
    {
     "data": {
      "text/html": [
       "<div>\n",
       "<style scoped>\n",
       "    .dataframe tbody tr th:only-of-type {\n",
       "        vertical-align: middle;\n",
       "    }\n",
       "\n",
       "    .dataframe tbody tr th {\n",
       "        vertical-align: top;\n",
       "    }\n",
       "\n",
       "    .dataframe thead th {\n",
       "        text-align: right;\n",
       "    }\n",
       "</style>\n",
       "<table border=\"1\" class=\"dataframe\">\n",
       "  <thead>\n",
       "    <tr style=\"text-align: right;\">\n",
       "      <th></th>\n",
       "      <th>state</th>\n",
       "      <th>rechour</th>\n",
       "      <th>flyname</th>\n",
       "      <th>channel</th>\n",
       "      <th>power</th>\n",
       "    </tr>\n",
       "  </thead>\n",
       "  <tbody>\n",
       "    <tr>\n",
       "      <th>0</th>\n",
       "      <td>awake</td>\n",
       "      <td>1</td>\n",
       "      <td>27072018_SponSleep_LFP</td>\n",
       "      <td>chan01</td>\n",
       "      <td>8.232582</td>\n",
       "    </tr>\n",
       "    <tr>\n",
       "      <th>1</th>\n",
       "      <td>awake</td>\n",
       "      <td>2</td>\n",
       "      <td>27072018_SponSleep_LFP</td>\n",
       "      <td>chan01</td>\n",
       "      <td>8.869159</td>\n",
       "    </tr>\n",
       "    <tr>\n",
       "      <th>2</th>\n",
       "      <td>awake</td>\n",
       "      <td>3</td>\n",
       "      <td>27072018_SponSleep_LFP</td>\n",
       "      <td>chan01</td>\n",
       "      <td>9.559385</td>\n",
       "    </tr>\n",
       "    <tr>\n",
       "      <th>3</th>\n",
       "      <td>awake</td>\n",
       "      <td>4</td>\n",
       "      <td>27072018_SponSleep_LFP</td>\n",
       "      <td>chan01</td>\n",
       "      <td>9.253107</td>\n",
       "    </tr>\n",
       "    <tr>\n",
       "      <th>4</th>\n",
       "      <td>awake</td>\n",
       "      <td>5</td>\n",
       "      <td>27072018_SponSleep_LFP</td>\n",
       "      <td>chan01</td>\n",
       "      <td>9.386676</td>\n",
       "    </tr>\n",
       "    <tr>\n",
       "      <th>...</th>\n",
       "      <td>...</td>\n",
       "      <td>...</td>\n",
       "      <td>...</td>\n",
       "      <td>...</td>\n",
       "      <td>...</td>\n",
       "    </tr>\n",
       "    <tr>\n",
       "      <th>3190</th>\n",
       "      <td>awake</td>\n",
       "      <td>8</td>\n",
       "      <td>13032019_SponSleep_LFP</td>\n",
       "      <td>chan15</td>\n",
       "      <td>-1.349864</td>\n",
       "    </tr>\n",
       "    <tr>\n",
       "      <th>3191</th>\n",
       "      <td>sleep</td>\n",
       "      <td>5</td>\n",
       "      <td>13032019_SponSleep_LFP</td>\n",
       "      <td>chan15</td>\n",
       "      <td>-0.346869</td>\n",
       "    </tr>\n",
       "    <tr>\n",
       "      <th>3192</th>\n",
       "      <td>sleep</td>\n",
       "      <td>6</td>\n",
       "      <td>13032019_SponSleep_LFP</td>\n",
       "      <td>chan15</td>\n",
       "      <td>-0.642886</td>\n",
       "    </tr>\n",
       "    <tr>\n",
       "      <th>3193</th>\n",
       "      <td>sleep</td>\n",
       "      <td>7</td>\n",
       "      <td>13032019_SponSleep_LFP</td>\n",
       "      <td>chan15</td>\n",
       "      <td>-1.249922</td>\n",
       "    </tr>\n",
       "    <tr>\n",
       "      <th>3194</th>\n",
       "      <td>sleep</td>\n",
       "      <td>8</td>\n",
       "      <td>13032019_SponSleep_LFP</td>\n",
       "      <td>chan15</td>\n",
       "      <td>-1.321730</td>\n",
       "    </tr>\n",
       "  </tbody>\n",
       "</table>\n",
       "<p>3195 rows × 5 columns</p>\n",
       "</div>"
      ],
      "text/plain": [
       "      state  rechour                 flyname channel     power\n",
       "0     awake        1  27072018_SponSleep_LFP  chan01  8.232582\n",
       "1     awake        2  27072018_SponSleep_LFP  chan01  8.869159\n",
       "2     awake        3  27072018_SponSleep_LFP  chan01  9.559385\n",
       "3     awake        4  27072018_SponSleep_LFP  chan01  9.253107\n",
       "4     awake        5  27072018_SponSleep_LFP  chan01  9.386676\n",
       "...     ...      ...                     ...     ...       ...\n",
       "3190  awake        8  13032019_SponSleep_LFP  chan15 -1.349864\n",
       "3191  sleep        5  13032019_SponSleep_LFP  chan15 -0.346869\n",
       "3192  sleep        6  13032019_SponSleep_LFP  chan15 -0.642886\n",
       "3193  sleep        7  13032019_SponSleep_LFP  chan15 -1.249922\n",
       "3194  sleep        8  13032019_SponSleep_LFP  chan15 -1.321730\n",
       "\n",
       "[3195 rows x 5 columns]"
      ]
     },
     "execution_count": 57,
     "metadata": {},
     "output_type": "execute_result"
    }
   ],
   "source": [
    "statsvalid_df"
   ]
  },
  {
   "cell_type": "code",
   "execution_count": 58,
   "metadata": {},
   "outputs": [
    {
     "data": {
      "text/html": [
       "<div>\n",
       "<style scoped>\n",
       "    .dataframe tbody tr th:only-of-type {\n",
       "        vertical-align: middle;\n",
       "    }\n",
       "\n",
       "    .dataframe tbody tr th {\n",
       "        vertical-align: top;\n",
       "    }\n",
       "\n",
       "    .dataframe thead th {\n",
       "        text-align: right;\n",
       "    }\n",
       "</style>\n",
       "<table border=\"1\" class=\"dataframe\">\n",
       "  <thead>\n",
       "    <tr style=\"text-align: right;\">\n",
       "      <th></th>\n",
       "      <th>state</th>\n",
       "      <th>rechour</th>\n",
       "      <th>flyname</th>\n",
       "      <th>power</th>\n",
       "    </tr>\n",
       "  </thead>\n",
       "  <tbody>\n",
       "    <tr>\n",
       "      <th>0</th>\n",
       "      <td>awake</td>\n",
       "      <td>1</td>\n",
       "      <td>01112018_SponSleep_LFP</td>\n",
       "      <td>9.271627</td>\n",
       "    </tr>\n",
       "    <tr>\n",
       "      <th>1</th>\n",
       "      <td>awake</td>\n",
       "      <td>1</td>\n",
       "      <td>03112018_SponSleep_LFP</td>\n",
       "      <td>8.574488</td>\n",
       "    </tr>\n",
       "    <tr>\n",
       "      <th>2</th>\n",
       "      <td>awake</td>\n",
       "      <td>1</td>\n",
       "      <td>10012019_SponSleep_LFP</td>\n",
       "      <td>8.764179</td>\n",
       "    </tr>\n",
       "    <tr>\n",
       "      <th>3</th>\n",
       "      <td>awake</td>\n",
       "      <td>1</td>\n",
       "      <td>11122018_SponSleep_LFP</td>\n",
       "      <td>8.188889</td>\n",
       "    </tr>\n",
       "    <tr>\n",
       "      <th>4</th>\n",
       "      <td>awake</td>\n",
       "      <td>1</td>\n",
       "      <td>13032019_SponSleep_LFP</td>\n",
       "      <td>3.261800</td>\n",
       "    </tr>\n",
       "    <tr>\n",
       "      <th>...</th>\n",
       "      <td>...</td>\n",
       "      <td>...</td>\n",
       "      <td>...</td>\n",
       "      <td>...</td>\n",
       "    </tr>\n",
       "    <tr>\n",
       "      <th>208</th>\n",
       "      <td>sleep</td>\n",
       "      <td>8</td>\n",
       "      <td>17092018_SponSleep_LFP</td>\n",
       "      <td>7.957884</td>\n",
       "    </tr>\n",
       "    <tr>\n",
       "      <th>209</th>\n",
       "      <td>sleep</td>\n",
       "      <td>8</td>\n",
       "      <td>18122018_SponSleep_LFP</td>\n",
       "      <td>3.191355</td>\n",
       "    </tr>\n",
       "    <tr>\n",
       "      <th>210</th>\n",
       "      <td>sleep</td>\n",
       "      <td>8</td>\n",
       "      <td>20022019_SponSleep_LFP</td>\n",
       "      <td>5.404914</td>\n",
       "    </tr>\n",
       "    <tr>\n",
       "      <th>211</th>\n",
       "      <td>sleep</td>\n",
       "      <td>8</td>\n",
       "      <td>27072018_SponSleep_LFP</td>\n",
       "      <td>5.909842</td>\n",
       "    </tr>\n",
       "    <tr>\n",
       "      <th>212</th>\n",
       "      <td>sleep</td>\n",
       "      <td>8</td>\n",
       "      <td>30102018_SponSleep_LFP</td>\n",
       "      <td>6.363670</td>\n",
       "    </tr>\n",
       "  </tbody>\n",
       "</table>\n",
       "<p>213 rows × 4 columns</p>\n",
       "</div>"
      ],
      "text/plain": [
       "     state  rechour                 flyname     power\n",
       "0    awake        1  01112018_SponSleep_LFP  9.271627\n",
       "1    awake        1  03112018_SponSleep_LFP  8.574488\n",
       "2    awake        1  10012019_SponSleep_LFP  8.764179\n",
       "3    awake        1  11122018_SponSleep_LFP  8.188889\n",
       "4    awake        1  13032019_SponSleep_LFP  3.261800\n",
       "..     ...      ...                     ...       ...\n",
       "208  sleep        8  17092018_SponSleep_LFP  7.957884\n",
       "209  sleep        8  18122018_SponSleep_LFP  3.191355\n",
       "210  sleep        8  20022019_SponSleep_LFP  5.404914\n",
       "211  sleep        8  27072018_SponSleep_LFP  5.909842\n",
       "212  sleep        8  30102018_SponSleep_LFP  6.363670\n",
       "\n",
       "[213 rows x 4 columns]"
      ]
     },
     "execution_count": 58,
     "metadata": {},
     "output_type": "execute_result"
    }
   ],
   "source": [
    "plotstats_df = statsvalid_df[[\"state\",\"rechour\",\"flyname\",\"power\"]].groupby(['state',\n",
    "                                  'rechour','flyname']).agg(['mean']).reset_index()\n",
    "plotstats_df.columns = plotstats_df.columns.map(''.join)\n",
    "plotstats_df = plotstats_df.rename(columns={'powermean': 'power'})\n",
    "plotstats_df"
   ]
  },
  {
   "cell_type": "code",
   "execution_count": null,
   "metadata": {},
   "outputs": [],
   "source": []
  },
  {
   "cell_type": "code",
   "execution_count": 59,
   "metadata": {},
   "outputs": [
    {
     "data": {
      "image/png": "[encoded data removed]",
      "text/plain": [
       "<Figure size 864x432 with 1 Axes>"
      ]
     },
     "metadata": {},
     "output_type": "display_data"
    }
   ],
   "source": [
    "fig, ax = plt.subplots(nrows=1, ncols=1, figsize=(12,6))\n",
    "ax = sns.stripplot(x=\"rechour\", y=\"power\", data=plotstats_df[plotstats_df['state']=='awake'],\n",
    "                   jitter=True, edgecolor =\"black\",marker='o', s= 7.5, alpha = 0.5,\n",
    "                   linewidth=2)\n",
    "g1 = sns.boxplot(x = \"rechour\", y=\"power\", data=plotstats_df[plotstats_df['state']=='awake'], \n",
    "                 showfliers = False)\n",
    "\n",
    "for patch in ax.artists:\n",
    "    r, g, b, a = patch.get_facecolor()\n",
    "    patch.set_facecolor((r, g, b, .6)) \n",
    "    \n",
    "    \n",
    "sns.despine(left=True, bottom = True)\n",
    "\n",
    "\n",
    "ax.set_ylabel('power (dB)', fontsize=label_fontsize-2)\n",
    "ax.set_xlabel('\\nrecording time (hours)', fontsize=label_fontsize-2)\n",
    "ax.tick_params(axis='both', which='major', labelsize=label_fontsize-2)\n",
    "\n",
    "plt.tight_layout()\n",
    "plt.box(False)\n",
    "plt.grid(True)\n",
    "\n",
    "plt.savefig(outputfolderpath + 'awakelfp_rechours.png', format='png', dpi=300, \n",
    "             transparent=False, bbox_inches='tight')"
   ]
  },
  {
   "cell_type": "code",
   "execution_count": null,
   "metadata": {},
   "outputs": [],
   "source": []
  },
  {
   "cell_type": "code",
   "execution_count": 60,
   "metadata": {},
   "outputs": [
    {
     "data": {
      "image/png": "[encoded data removed]",
      "text/plain": [
       "<Figure size 864x432 with 1 Axes>"
      ]
     },
     "metadata": {},
     "output_type": "display_data"
    }
   ],
   "source": [
    "fig, ax = plt.subplots(nrows=1, ncols=1, figsize=(12,6))\n",
    "ax = sns.stripplot(x=\"rechour\", y=\"power\", data=plotstats_df[plotstats_df['state']=='sleep'],\n",
    "                   jitter=True, edgecolor =\"black\",marker='o', s= 7.5, alpha = 0.5,\n",
    "                   linewidth=2)\n",
    "g1 = sns.boxplot(x = \"rechour\", y=\"power\", data=plotstats_df[plotstats_df['state']=='sleep'], \n",
    "                 showfliers = False)\n",
    "\n",
    "for patch in ax.artists:\n",
    "    r, g, b, a = patch.get_facecolor()\n",
    "    patch.set_facecolor((r, g, b, .6)) \n",
    "    \n",
    "    \n",
    "sns.despine(left=True, bottom = True)\n",
    "\n",
    "\n",
    "ax.set_ylabel('power (dB)', fontsize=label_fontsize-2)\n",
    "ax.set_xlabel('\\nrecording time (hours)', fontsize=label_fontsize-2)\n",
    "ax.tick_params(axis='both', which='major', labelsize=label_fontsize-2)\n",
    "\n",
    "plt.tight_layout()\n",
    "plt.box(False)\n",
    "plt.grid(True)\n",
    "\n",
    "plt.savefig(outputfolderpath + 'sleeplfp_rechours.png', format='png', dpi=300, \n",
    "             transparent=False, bbox_inches='tight')"
   ]
  },
  {
   "cell_type": "code",
   "execution_count": null,
   "metadata": {},
   "outputs": [],
   "source": []
  },
  {
   "cell_type": "code",
   "execution_count": null,
   "metadata": {},
   "outputs": [],
   "source": []
  },
  {
   "cell_type": "code",
   "execution_count": 61,
   "metadata": {},
   "outputs": [],
   "source": [
    "mask_freqlims = [7,10] #[7,10],[20,30]"
   ]
  },
  {
   "cell_type": "code",
   "execution_count": null,
   "metadata": {},
   "outputs": [],
   "source": []
  },
  {
   "cell_type": "code",
   "execution_count": 62,
   "metadata": {},
   "outputs": [],
   "source": [
    "def computegrpdiff(compstrg = 'awakevssleep'):\n",
    "    \n",
    "    diff_list = []\n",
    "    group_cat1 = []\n",
    "    group_cat2 = []\n",
    "    group_cat1size = []\n",
    "    group_cat2size = []\n",
    "    \n",
    "    group_roi1_cat1 = []\n",
    "    group_roi1_cat2 = []\n",
    "    group_roi2_cat1 = []\n",
    "    group_roi2_cat2 = []\n",
    "    group_roi3_cat1 = []\n",
    "    group_roi3_cat2 = []\n",
    "    \n",
    "    for basefileidx in range(len(basefilelist)):\n",
    "        basefilename = basefilelist[basefileidx]\n",
    "        print('Processing: ', basefilename)\n",
    "    \n",
    "        inputfilepath = inputfolderpath + \"/average/awakesleep/\" + \"Spectrum_\" + reference + \"_ref_\" + basefilename + \".mat\"\n",
    "        print('Filepath: ', inputfilepath)\n",
    "        mat_spectrum = io.loadmat(inputfilepath)\n",
    "        \n",
    "        cat_awake_mean =         (mat_spectrum['chan_awake_mean'])\n",
    "        cat_intrans_mean =       (mat_spectrum['chan_intrans_mean'])\n",
    "        cat_sleep_mean =         (mat_spectrum['chan_sleep_mean'])\n",
    "        cat_earlysleep_mean =    (mat_spectrum['chan_earlysleep_mean'])\n",
    "        cat_earlymidsleep_mean = (mat_spectrum['chan_earlymidsleep_mean'])\n",
    "        cat_midsleep_mean =      (mat_spectrum['chan_midsleep_mean'])\n",
    "        cat_latemidsleep_mean =  (mat_spectrum['chan_latemidsleep_mean'])\n",
    "        cat_latesleep_mean =     (mat_spectrum['chan_latesleep_mean'])\n",
    "        \n",
    "        chan_awake_se =         (mat_spectrum['chan_awake_se'])\n",
    "        chan_intrans_se =       (mat_spectrum['chan_intrans_se'])\n",
    "        chan_sleep_se =         (mat_spectrum['chan_sleep_se'])\n",
    "        chan_earlysleep_se =    (mat_spectrum['chan_earlysleep_se'])\n",
    "        chan_earlymidsleep_se = (mat_spectrum['chan_earlymidsleep_se'])\n",
    "        chan_midsleep_se =      (mat_spectrum['chan_midsleep_se'])\n",
    "        chan_latemidsleep_se =  (mat_spectrum['chan_latemidsleep_se'])\n",
    "        chan_latesleep_se =     (mat_spectrum['chan_latesleep_se'])\n",
    "        \n",
    "        awake_size =         np.asscalar(mat_spectrum['awake_size'])\n",
    "        intrans_size =       np.asscalar(mat_spectrum['intrans_size'])\n",
    "        sleep_size =         np.asscalar(mat_spectrum['sleep_size'])\n",
    "        earlysleep_size =    np.asscalar(mat_spectrum['earlysleep_size'])\n",
    "        earlymidsleep_size = np.asscalar(mat_spectrum['earlymidsleep_size'])\n",
    "        midsleep_size =      np.asscalar(mat_spectrum['midsleep_size'])\n",
    "        latemidsleep_size =  np.asscalar(mat_spectrum['latemidsleep_size'])\n",
    "        latesleep_size =     np.asscalar(mat_spectrum['latesleep_size'])\n",
    "        \n",
    "        cat_freqs = mat_spectrum['freqs_state']\n",
    "#         cat_allstate = np.hstack(mat_spectrum['state'].flatten()).tolist()\n",
    "    \n",
    "        \n",
    "        if compstrg == 'awakevssleep':\n",
    "            \n",
    "            mintrials = 10\n",
    "            cat1_mean = cat_sleep_mean\n",
    "            cat2_mean = cat_awake_mean \n",
    "            cat1_size = sleep_size\n",
    "            cat2_size = awake_size\n",
    "            cat1_strg = 'sleep'\n",
    "            cat2_strg = 'awake'\n",
    "            cat_state =[cat1_strg,cat2_strg]\n",
    "            mask1_chanlims = [0,4] #[0,1]\n",
    "            mask2_chanlims = [5,9]\n",
    "            mask3_chanlims = [10,14]\n",
    "            \n",
    "            mask1_freqlims = mask_freqlims #[4,5]\n",
    "            mask2_freqlims = mask_freqlims\n",
    "            mask3_freqlims = mask_freqlims\n",
    "            \n",
    "            \n",
    "        elif compstrg == 'earlysleepvsmidsleep':\n",
    "            mintrials = 5\n",
    "            cat1_mean = cat_earlysleep_mean\n",
    "            cat2_mean = cat_midsleep_mean \n",
    "            cat1_size = earlysleep_size\n",
    "            cat2_size = midsleep_size\n",
    "            cat1_strg = 'earlysleep'\n",
    "            cat2_strg = 'midsleep'\n",
    "            cat_state =[cat1_strg,cat2_strg]\n",
    "            mask1_freqlims = [7,10]\n",
    "            mask2_freqlims = [20,23]\n",
    "            mask1_chanlims = [3,5]\n",
    "            mask2_chanlims = [5,8]\n",
    "            \n",
    "        elif compstrg == 'earlysleepvslatesleep':\n",
    "            mintrials = 5\n",
    "            cat1_mean = cat_earlysleep_mean\n",
    "            cat2_mean = cat_latesleep_mean \n",
    "            cat1_size = earlysleep_size\n",
    "            cat2_size = latesleep_size\n",
    "            cat1_strg = 'earlysleep'\n",
    "            cat2_strg = 'latesleep'\n",
    "            cat_state =[cat1_strg,cat2_strg]\n",
    "            mask1_freqlims = [7,10]\n",
    "            mask2_freqlims = [20,23]\n",
    "            mask1_chanlims = [3,5]\n",
    "            mask2_chanlims = [5,8]\n",
    "            \n",
    "            \n",
    "        mask1_freq = (cat_freqs.flatten() >= mask1_freqlims[0]) & (cat_freqs.flatten() <=mask1_freqlims[1])\n",
    "        mask2_freq = (cat_freqs.flatten() >= mask2_freqlims[0]) & (cat_freqs.flatten() <=mask2_freqlims[1])\n",
    "        mask3_freq = (cat_freqs.flatten() >= mask3_freqlims[0]) & (cat_freqs.flatten() <=mask3_freqlims[1])\n",
    "    \n",
    "    \n",
    "        chan_idx = np.arange(1,16)\n",
    "        mask1_chans = (chan_idx.flatten() >= mask1_chanlims[0]) & (chan_idx.flatten() <=mask1_chanlims[1])\n",
    "        mask2_chans = (chan_idx.flatten() >= mask2_chanlims[0]) & (chan_idx.flatten() <=mask2_chanlims[1])\n",
    "        mask3_chans = (chan_idx.flatten() >= mask3_chanlims[0]) & (chan_idx.flatten() <=mask3_chanlims[1])\n",
    "        \n",
    "            \n",
    "        roi1_cat1 = cat1_mean[mask1_freq][:,mask1_chans]\n",
    "        roi1_cat1mean = np.mean(roi1_cat1)\n",
    "        roi1_cat2 = cat2_mean[mask1_freq][:,mask1_chans]\n",
    "        roi1_cat2mean = np.mean(roi1_cat2)\n",
    "    \n",
    "        roi2_cat1 = cat1_mean[mask2_freq][:,mask2_chans]\n",
    "        roi2_cat1mean = np.mean(roi2_cat1)\n",
    "        roi2_cat2 = cat2_mean[mask2_freq][:,mask2_chans]\n",
    "        roi2_cat2mean = np.mean(roi2_cat2)\n",
    "        \n",
    "        roi3_cat1 = cat1_mean[mask3_freq][:,mask3_chans]\n",
    "        roi3_cat1mean = np.mean(roi3_cat1)\n",
    "        roi3_cat2 = cat2_mean[mask3_freq][:,mask3_chans]\n",
    "        roi3_cat2mean = np.mean(roi3_cat2)\n",
    "            \n",
    "        if len(cat1_mean)>0 and len(cat2_mean)>0:\n",
    "        \n",
    "            print(\"Cat1: \", cat1_strg,  \" -- size: \" + str(cat1_size))\n",
    "            print(\"Cat2: \", cat2_strg,  \" -- size: \" + str(cat2_size))\n",
    "\n",
    "            if cat1_size >=mintrials and cat2_size >= mintrials:\n",
    "                diff_cat = cat1_mean - cat2_mean\n",
    "                diff_list.append(diff_cat)\n",
    "                group_cat1.append(cat1_mean)\n",
    "                group_cat2.append(cat2_mean)\n",
    "                group_cat1size.append(cat1_size)\n",
    "                group_cat2size.append(cat2_size)\n",
    "                \n",
    "                group_roi1_cat1.append(roi1_cat1mean)\n",
    "                group_roi1_cat2.append(roi1_cat2mean)\n",
    "                group_roi2_cat1.append(roi2_cat1mean)\n",
    "                group_roi2_cat2.append(roi2_cat2mean)\n",
    "                group_roi3_cat1.append(roi3_cat1mean)\n",
    "                group_roi3_cat2.append(roi3_cat2mean)\n",
    "                \n",
    "            else:\n",
    "                print(\"Skipping: \" + \"Spectrum_\" + reference + \"_ref_\" + basefilelist[0] + \".mat\")\n",
    "        else:\n",
    "            print(\"Skipping: \" + \"Spectrum_\" + reference + \"_ref_\" + basefilelist[0] + \".mat\")\n",
    "            \n",
    "    \n",
    "    diff_group = np.array(diff_list)\n",
    "    group_cat1 = np.array(group_cat1)\n",
    "    group_cat2 = np.array(group_cat2)\n",
    "    group_cat1size = np.array(group_cat1size)\n",
    "    group_cat2size = np.array(group_cat2size)\n",
    "    \n",
    "    return diff_group,group_cat1,group_cat2,group_cat1size,group_cat2size,cat_freqs,\\\n",
    "           cat_state,group_roi1_cat1,group_roi1_cat2,group_roi2_cat1,group_roi2_cat2,\\\n",
    "           group_roi3_cat1,group_roi3_cat2"
   ]
  },
  {
   "cell_type": "code",
   "execution_count": null,
   "metadata": {},
   "outputs": [],
   "source": []
  },
  {
   "cell_type": "code",
   "execution_count": 63,
   "metadata": {},
   "outputs": [],
   "source": [
    "#here, intrans is also added to awake(already).."
   ]
  },
  {
   "cell_type": "code",
   "execution_count": 64,
   "metadata": {},
   "outputs": [
    {
     "name": "stdout",
     "output_type": "stream",
     "text": [
      "Processing:  27072018_SponSleep_LFP\n",
      "Filepath:  /rds/project/tb419/rds-tb419-bekinschtein/Sri/SpatialAttention_Drowsiness/drosSleepStages_SciAdvances2023/data/lfp_data/spectrum//average/awakesleep/Spectrum_neutral_ref_27072018_SponSleep_LFP.mat\n",
      "Cat1:  sleep  -- size: 184\n",
      "Cat2:  awake  -- size: 281\n",
      "Processing:  14092018_SponSleep_LFP\n",
      "Filepath:  /rds/project/tb419/rds-tb419-bekinschtein/Sri/SpatialAttention_Drowsiness/drosSleepStages_SciAdvances2023/data/lfp_data/spectrum//average/awakesleep/Spectrum_neutral_ref_14092018_SponSleep_LFP.mat\n",
      "Cat1:  sleep  -- size: 164\n",
      "Cat2:  awake  -- size: 300\n",
      "Processing:  17092018_SponSleep_LFP\n",
      "Filepath:  /rds/project/tb419/rds-tb419-bekinschtein/Sri/SpatialAttention_Drowsiness/drosSleepStages_SciAdvances2023/data/lfp_data/spectrum//average/awakesleep/Spectrum_neutral_ref_17092018_SponSleep_LFP.mat\n",
      "Cat1:  sleep  -- size: 256\n",
      "Cat2:  awake  -- size: 207\n",
      "Processing:  30102018_SponSleep_LFP\n",
      "Filepath:  /rds/project/tb419/rds-tb419-bekinschtein/Sri/SpatialAttention_Drowsiness/drosSleepStages_SciAdvances2023/data/lfp_data/spectrum//average/awakesleep/Spectrum_neutral_ref_30102018_SponSleep_LFP.mat\n",
      "Cat1:  sleep  -- size: 117\n",
      "Cat2:  awake  -- size: 352\n",
      "Processing:  01112018_SponSleep_LFP\n",
      "Filepath:  /rds/project/tb419/rds-tb419-bekinschtein/Sri/SpatialAttention_Drowsiness/drosSleepStages_SciAdvances2023/data/lfp_data/spectrum//average/awakesleep/Spectrum_neutral_ref_01112018_SponSleep_LFP.mat\n",
      "Cat1:  sleep  -- size: 90\n",
      "Cat2:  awake  -- size: 382\n",
      "Processing:  03112018_SponSleep_LFP\n",
      "Filepath:  /rds/project/tb419/rds-tb419-bekinschtein/Sri/SpatialAttention_Drowsiness/drosSleepStages_SciAdvances2023/data/lfp_data/spectrum//average/awakesleep/Spectrum_neutral_ref_03112018_SponSleep_LFP.mat\n",
      "Cat1:  sleep  -- size: 180\n",
      "Cat2:  awake  -- size: 291\n",
      "Processing:  13112018_SponSleep_LFP\n",
      "Filepath:  /rds/project/tb419/rds-tb419-bekinschtein/Sri/SpatialAttention_Drowsiness/drosSleepStages_SciAdvances2023/data/lfp_data/spectrum//average/awakesleep/Spectrum_neutral_ref_13112018_SponSleep_LFP.mat\n",
      "Cat1:  sleep  -- size: 194\n",
      "Cat2:  awake  -- size: 276\n",
      "Processing:  28112018_SponSleep_LFP\n",
      "Filepath:  /rds/project/tb419/rds-tb419-bekinschtein/Sri/SpatialAttention_Drowsiness/drosSleepStages_SciAdvances2023/data/lfp_data/spectrum//average/awakesleep/Spectrum_neutral_ref_28112018_SponSleep_LFP.mat\n",
      "Cat1:  sleep  -- size: 18\n",
      "Cat2:  awake  -- size: 458\n",
      "Processing:  11122018_SponSleep_LFP\n",
      "Filepath:  /rds/project/tb419/rds-tb419-bekinschtein/Sri/SpatialAttention_Drowsiness/drosSleepStages_SciAdvances2023/data/lfp_data/spectrum//average/awakesleep/Spectrum_neutral_ref_11122018_SponSleep_LFP.mat\n",
      "Cat1:  sleep  -- size: 71\n",
      "Cat2:  awake  -- size: 397\n",
      "Processing:  13122018_SponSleep_LFP\n",
      "Filepath:  /rds/project/tb419/rds-tb419-bekinschtein/Sri/SpatialAttention_Drowsiness/drosSleepStages_SciAdvances2023/data/lfp_data/spectrum//average/awakesleep/Spectrum_neutral_ref_13122018_SponSleep_LFP.mat\n",
      "Cat1:  sleep  -- size: 22\n",
      "Cat2:  awake  -- size: 456\n",
      "Processing:  18122018_SponSleep_LFP\n",
      "Filepath:  /rds/project/tb419/rds-tb419-bekinschtein/Sri/SpatialAttention_Drowsiness/drosSleepStages_SciAdvances2023/data/lfp_data/spectrum//average/awakesleep/Spectrum_neutral_ref_18122018_SponSleep_LFP.mat\n",
      "Cat1:  sleep  -- size: 12\n",
      "Cat2:  awake  -- size: 465\n",
      "Processing:  10012019_SponSleep_LFP\n",
      "Filepath:  /rds/project/tb419/rds-tb419-bekinschtein/Sri/SpatialAttention_Drowsiness/drosSleepStages_SciAdvances2023/data/lfp_data/spectrum//average/awakesleep/Spectrum_neutral_ref_10012019_SponSleep_LFP.mat\n",
      "Cat1:  sleep  -- size: 58\n",
      "Cat2:  awake  -- size: 414\n",
      "Processing:  17012019_SponSleep_LFP\n",
      "Filepath:  /rds/project/tb419/rds-tb419-bekinschtein/Sri/SpatialAttention_Drowsiness/drosSleepStages_SciAdvances2023/data/lfp_data/spectrum//average/awakesleep/Spectrum_neutral_ref_17012019_SponSleep_LFP.mat\n",
      "Cat1:  sleep  -- size: 115\n",
      "Cat2:  awake  -- size: 355\n",
      "Processing:  22012019_SponSleep_LFP\n",
      "Filepath:  /rds/project/tb419/rds-tb419-bekinschtein/Sri/SpatialAttention_Drowsiness/drosSleepStages_SciAdvances2023/data/lfp_data/spectrum//average/awakesleep/Spectrum_neutral_ref_22012019_SponSleep_LFP.mat\n",
      "Cat1:  sleep  -- size: 65\n",
      "Cat2:  awake  -- size: 408\n",
      "Processing:  20022019_SponSleep_LFP\n",
      "Filepath:  /rds/project/tb419/rds-tb419-bekinschtein/Sri/SpatialAttention_Drowsiness/drosSleepStages_SciAdvances2023/data/lfp_data/spectrum//average/awakesleep/Spectrum_neutral_ref_20022019_SponSleep_LFP.mat\n",
      "Cat1:  sleep  -- size: 63\n",
      "Cat2:  awake  -- size: 410\n",
      "Processing:  13032019_SponSleep_LFP\n",
      "Filepath:  /rds/project/tb419/rds-tb419-bekinschtein/Sri/SpatialAttention_Drowsiness/drosSleepStages_SciAdvances2023/data/lfp_data/spectrum//average/awakesleep/Spectrum_neutral_ref_13032019_SponSleep_LFP.mat\n",
      "Cat1:  sleep  -- size: 80\n",
      "Cat2:  awake  -- size: 391\n"
     ]
    }
   ],
   "source": [
    "diff_group,group_cat1,group_cat2,group_cat1size,group_cat2size,cat_freqs,cat_state,\\\n",
    "           group_roi1_cat1,group_roi1_cat2,\\\n",
    "           group_roi2_cat1,group_roi2_cat2,\\\n",
    "           group_roi3_cat1,group_roi3_cat2 = computegrpdiff(compstrg = compstrg)"
   ]
  },
  {
   "cell_type": "code",
   "execution_count": 65,
   "metadata": {},
   "outputs": [],
   "source": [
    "group_cat1mean = np.average(group_cat1, axis = 0, weights = group_cat1size)"
   ]
  },
  {
   "cell_type": "code",
   "execution_count": 66,
   "metadata": {},
   "outputs": [],
   "source": [
    "group_cat2mean = np.average(group_cat2, axis = 0, weights = group_cat2size)"
   ]
  },
  {
   "cell_type": "code",
   "execution_count": 67,
   "metadata": {},
   "outputs": [
    {
     "data": {
      "text/plain": [
       "(145, 15)"
      ]
     },
     "execution_count": 67,
     "metadata": {},
     "output_type": "execute_result"
    }
   ],
   "source": [
    "diff_groupmean = np.mean(diff_group, axis = 0)\n",
    "diff_groupmean.shape"
   ]
  },
  {
   "cell_type": "code",
   "execution_count": 68,
   "metadata": {},
   "outputs": [
    {
     "name": "stdout",
     "output_type": "stream",
     "text": [
      "number of flies considered:  16\n"
     ]
    }
   ],
   "source": [
    "n_flies = diff_group.shape[0]\n",
    "print('number of flies considered: ', str(n_flies))"
   ]
  },
  {
   "cell_type": "code",
   "execution_count": null,
   "metadata": {},
   "outputs": [],
   "source": []
  },
  {
   "cell_type": "code",
   "execution_count": 69,
   "metadata": {},
   "outputs": [],
   "source": [
    "def plot_spect(data, ax, x, y, x_label, y_label, title, vmin = None, vmax = None):\n",
    "    \n",
    "    im = ax.imshow(data,aspect='auto',interpolation='spline36',cmap='jet',vmin=vmin, vmax=vmax)\n",
    "    \n",
    "    y_mod = np.concatenate(y)\n",
    "    freqs_plot = [5, 10, 15, 20, 25, 30, 35, 40]\n",
    "    yticklocs = []\n",
    "    for idx in freqs_plot:\n",
    "        yticklocs.append(min(range(len(y_mod)), key=lambda i: abs(y_mod[i]-idx)))\n",
    "    \n",
    "    ytickvals = np.around(np.concatenate(y[yticklocs]))\n",
    "    \n",
    "    ydispvals = ['%.12g' % n for n in ytickvals]\n",
    "    \n",
    "    plt.yticks(yticklocs, ydispvals)\n",
    "    xticklocs = np.arange(0,np.asarray(x.shape), step = 2)\n",
    "    ax.set_xlim([0, np.asarray(x.shape)-1])\n",
    "    tickval = np.arange(1,np.asarray(x.shape)+1, step = 2)\n",
    "    plt.xticks(xticklocs, tickval)\n",
    "    ax.set_xlabel(x_label, rotation=0,ha='center',va='center', fontsize=20, labelpad=20)\n",
    "    ax.set_ylabel(y_label, rotation=90,ha='center',va='center', fontsize=20, labelpad=20)\n",
    "    \n",
    "    ax.invert_yaxis()\n",
    "\n",
    "    #plt.colorbar(im)\n",
    "    \n",
    "    cbarticks = np.linspace(vmin, vmax, 5, endpoint=True)\n",
    "    cbarticks = np.round(cbarticks,2)\n",
    "    \n",
    "    cbar = fig.colorbar(im, ax=ax, ticks = cbarticks)\n",
    "    \n",
    "    plt.title(title,ha='center',va='bottom', fontsize=20)\n",
    "    \n",
    "    cbar.ax.tick_params(labelsize=14)\n",
    "    \n",
    "    plt.xticks(fontsize=14)\n",
    "    plt.yticks(fontsize=14)\n",
    "\n",
    "    return ax"
   ]
  },
  {
   "cell_type": "code",
   "execution_count": null,
   "metadata": {},
   "outputs": [],
   "source": []
  },
  {
   "cell_type": "code",
   "execution_count": 70,
   "metadata": {},
   "outputs": [],
   "source": [
    "if compstrg == 'awakevssleep':\n",
    "    grpvmax = 15   #20,10,15\n",
    "    grpvmin = 0 #-5,-2,-2.5\n",
    "    diffvmax =  2  #0.2,np.round(np.max(diff_groupmean))\n",
    "    diffvmin = -2  #-0.2,np.round(np.min(diff_groupmean)\n",
    "                      \n",
    "elif compstrg == 'earlysleepvsmidsleep':\n",
    "    grpvmax = 15   #20,10\n",
    "    grpvmin = -2.5 #-5,-2\n",
    "    diffvmax =  2  #0.2,np.round(np.max(diff_groupmean))\n",
    "    diffvmin = -2  #-0.2,np.round(np.min(diff_groupmean)\n",
    "    \n",
    "elif compstrg == 'earlysleepvslatesleep':\n",
    "    grpvmax = 15   #20,10\n",
    "    grpvmin = -2.5 #-5,-2\n",
    "    diffvmax =  2  #0.2,np.round(np.max(diff_groupmean))\n",
    "    diffvmin = -2  #-0.2,np.round(np.min(diff_groupmean)"
   ]
  },
  {
   "cell_type": "code",
   "execution_count": null,
   "metadata": {},
   "outputs": [],
   "source": []
  },
  {
   "cell_type": "code",
   "execution_count": 71,
   "metadata": {},
   "outputs": [
    {
     "data": {
      "image/png": "[encoded data removed]",
      "text/plain": [
       "<Figure size 1440x288 with 6 Axes>"
      ]
     },
     "metadata": {},
     "output_type": "display_data"
    }
   ],
   "source": [
    "fig = plt.figure(figsize=(20, 4))\n",
    "gs_main = gridspec.GridSpec(1, 3,width_ratios=[4,4,4])\n",
    "gs_main.update(wspace=0.25, hspace=0.2)\n",
    "\n",
    "gs = gridspec.GridSpecFromSubplotSpec(1, 1, subplot_spec=gs_main[0])\n",
    "ax1 = fig.add_subplot(gs[0])\n",
    "ax1 = plot_spect(group_cat2mean, ax = ax1, x = np.arange(0,group_cat2.shape[2]), y = cat_freqs, \n",
    "                 x_label = 'Channels',y_label = 'Frequencies (Hz)', title = cat_state[1],\n",
    "                 vmin = grpvmin, vmax = grpvmax)\n",
    "\n",
    "gs = gridspec.GridSpecFromSubplotSpec(1, 1, subplot_spec=gs_main[1])\n",
    "ax2 = fig.add_subplot(gs[0])\n",
    "ax2 = plot_spect(group_cat1mean, ax = ax2, x = np.arange(0,group_cat1.shape[2]), y = cat_freqs, \n",
    "                 x_label = 'Channels',y_label = '', title = cat_state[0],\n",
    "                 vmin = grpvmin, vmax = grpvmax)\n",
    "\n",
    "gs = gridspec.GridSpecFromSubplotSpec(1, 1, subplot_spec=gs_main[2])\n",
    "ax3 = fig.add_subplot(gs[0])\n",
    "ax3 = plot_spect(diff_groupmean, ax = ax3, x = np.arange(0,diff_group.shape[2]), y = cat_freqs,\n",
    "                 x_label = 'Channels',y_label = '', title = cat_state[0] + '-' + cat_state[1],\n",
    "                 vmin = diffvmin, vmax = diffvmax)"
   ]
  },
  {
   "cell_type": "code",
   "execution_count": null,
   "metadata": {},
   "outputs": [],
   "source": []
  },
  {
   "cell_type": "code",
   "execution_count": 72,
   "metadata": {},
   "outputs": [
    {
     "data": {
      "text/plain": [
       "(16, 145, 15)"
      ]
     },
     "execution_count": 72,
     "metadata": {},
     "output_type": "execute_result"
    }
   ],
   "source": [
    "X = copy.deepcopy(diff_group)\n",
    "X.shape"
   ]
  },
  {
   "cell_type": "code",
   "execution_count": 73,
   "metadata": {},
   "outputs": [],
   "source": [
    "temp_flies, temp_freq, temp_chan  = X.shape\n",
    "n_src = temp_freq*temp_chan\n",
    "X.shape = (n_flies, n_src)  # flatten the array for simplicity"
   ]
  },
  {
   "cell_type": "code",
   "execution_count": 74,
   "metadata": {},
   "outputs": [],
   "source": [
    "maxperm = permutation_t_test(X, verbose=False)[:2]"
   ]
  },
  {
   "cell_type": "code",
   "execution_count": 75,
   "metadata": {},
   "outputs": [],
   "source": [
    "# connectivity matrix contains zeros and ones to define which spatial points are connected, \n",
    "# i.e., which electrodes are adjacent to each other"
   ]
  },
  {
   "cell_type": "code",
   "execution_count": 76,
   "metadata": {},
   "outputs": [],
   "source": [
    "                           #1 2  3  4  5  6  7  8  9  10 11 12 13 14 15,\n",
    "connectivity =  np.array([[1, 1, 0, 0, 0, 0, 0, 0, 0, 0, 0, 0, 0, 0, 0],#1\n",
    "                          [0, 1, 1, 0, 0, 0, 0, 0, 0, 0, 0, 0, 0, 0, 0],#2\n",
    "                          [0, 0, 1, 1, 0, 0, 0, 0, 0, 0, 0, 0, 0, 0, 0],#3\n",
    "                          [0, 0, 0, 1, 1, 0, 0, 0, 0, 0, 0, 0, 0, 0, 0],#4\n",
    "                          [0, 0, 0, 0, 1, 1, 0, 0, 0, 0, 0, 0, 0, 0, 0],#5\n",
    "                          [0, 0, 0, 0, 0, 1, 1, 0, 0, 0, 0, 0, 0, 0, 0],#6\n",
    "                          [0, 0, 0, 0, 0, 0, 1, 1, 0, 0, 0, 0, 0, 0, 0],#7\n",
    "                          [0, 0, 0, 0, 0, 0, 0, 1, 1, 0, 0, 0, 0, 0, 0],#8\n",
    "                          [0, 0, 0, 0, 0, 0, 0, 0, 1, 1, 0, 0, 0, 0, 0],#9\n",
    "                          [0, 0, 0, 0, 0, 0, 0, 0, 0, 1, 1, 0, 0, 0, 0],#10\n",
    "                          [0, 0, 0, 0, 0, 0, 0, 0, 0, 0, 1, 1, 0, 0, 0],#11\n",
    "                          [0, 0, 0, 0, 0, 0, 0, 0, 0, 0, 0, 1, 1, 0, 0],#12\n",
    "                          [0, 0, 0, 0, 0, 0, 0, 0, 0, 0, 0, 0, 1, 1, 0],#13\n",
    "                          [0, 0, 0, 0, 0, 0, 0, 0, 0, 0, 0, 0, 0, 1, 1],#14\n",
    "                          [0, 0, 0, 0, 0, 0, 0, 0, 0, 0, 0, 0, 0, 1, 1]]) #15"
   ]
  },
  {
   "cell_type": "code",
   "execution_count": 77,
   "metadata": {},
   "outputs": [],
   "source": [
    "conn_sparse=sparse.csr_matrix(connectivity)"
   ]
  },
  {
   "cell_type": "code",
   "execution_count": 78,
   "metadata": {},
   "outputs": [],
   "source": [
    "alpha = 0.05\n",
    "n_permutations = 'all'\n",
    "threshold = -stats.distributions.t.ppf(alpha / 2., n_flies - 1)"
   ]
  },
  {
   "cell_type": "code",
   "execution_count": 79,
   "metadata": {},
   "outputs": [],
   "source": [
    "sigma = 1e-3  # sigma for the \"hat\" method"
   ]
  },
  {
   "cell_type": "code",
   "execution_count": 80,
   "metadata": {},
   "outputs": [
    {
     "name": "stdout",
     "output_type": "stream",
     "text": [
      "stat_fun(H1): min=-7.687862 max=-3.080230\n",
      "Running initial clustering\n",
      "Found 1 clusters\n",
      "Permuting 32766 times...\n"
     ]
    },
    {
     "data": {
      "application/vnd.jupyter.widget-view+json": {
       "model_id": "6885b3919a9c4da99983c4fcf1c3cfe5",
       "version_major": 2,
       "version_minor": 0
      },
      "text/plain": [
       "HBox(children=(FloatProgress(value=0.0, max=32766.0), HTML(value='')))"
      ]
     },
     "metadata": {},
     "output_type": "display_data"
    },
    {
     "name": "stdout",
     "output_type": "stream",
     "text": [
      "\n",
      "Computing cluster p-values\n",
      "Done.\n"
     ]
    }
   ],
   "source": [
    "stat_fun_hat = partial(ttest_1samp_no_p, sigma=sigma)\n",
    "t_hat, clusters, p_values, H0 = permutation_cluster_1samp_test(\n",
    "                                    diff_group, n_jobs=1, threshold=threshold, adjacency=conn_sparse,\n",
    "                                    n_permutations=n_permutations, stat_fun=stat_fun_hat, buffer_size=None)"
   ]
  },
  {
   "cell_type": "code",
   "execution_count": 81,
   "metadata": {},
   "outputs": [],
   "source": [
    "p_hat = np.ones((temp_freq, temp_chan))\n",
    "for cl, p in zip(clusters, p_values):\n",
    "    p_hat[cl] = p"
   ]
  },
  {
   "cell_type": "code",
   "execution_count": 82,
   "metadata": {},
   "outputs": [],
   "source": [
    "contourmask = np.where(p_hat<0.05, 1, 0)\n",
    "mask = np.where(p_hat<0.05, 1, np.nan)"
   ]
  },
  {
   "cell_type": "code",
   "execution_count": 83,
   "metadata": {},
   "outputs": [],
   "source": [
    "def plot_clustermask(data, ax, x, y, x_label, y_label, title, contourmask = None, mask = None, \n",
    "                     vmin = None, vmax = None, cmap = 'jet'):\n",
    "    \n",
    "    \n",
    "    xticklocs = np.arange(0,np.asarray(x.shape), step = 2)\n",
    "    tickval = np.arange(1,np.asarray(x.shape)+1, step = 2)\n",
    "    \n",
    "    \n",
    "    if mask is not None:\n",
    "        \n",
    "        extent = [-0.55, len(x)-0.55, -0.55, len(y)-0.55]  \n",
    "        im_args = dict(interpolation='nearest', origin='lower',extent=extent, aspect='auto', vmin=vmin, vmax=vmax)\n",
    "        \n",
    "        \n",
    "        big_mask = np.kron(contourmask, np.ones((10, 10)))\n",
    "        ax.contour(big_mask, colors=[\"black\"], extent=extent,linewidths=[.5], corner_mask=False,antialiased=True, levels=[0.5])\n",
    "        masked_data = data*mask\n",
    "\n",
    "        im1 = ax.imshow(masked_data,aspect='auto',interpolation='none',cmap=cmap,vmin=vmin, vmax=vmax, alpha = 0.5)\n",
    "        \n",
    "        #cbar  = fig.colorbar(im1, ax=ax)\n",
    "        \n",
    "        cbarticks = np.linspace(vmin, vmax, 5, endpoint=True)\n",
    "        cbarticks = np.round(cbarticks,2)\n",
    "    \n",
    "        cbar = fig.colorbar(im1, ax=ax, ticks = cbarticks)\n",
    "\n",
    "    else:\n",
    "        im = ax.imshow(data,aspect='auto',interpolation='spline36',cmap='jet',vmin=vmin, vmax=vmax)\n",
    "        \n",
    "        \n",
    "    y_mod = np.concatenate(y)\n",
    "    freqs_plot = [5, 10, 15, 20, 25, 30, 35, 40]\n",
    "    yticklocs = []\n",
    "    for idx in freqs_plot:\n",
    "        yticklocs.append(min(range(len(y_mod)), key=lambda i: abs(y_mod[i]-idx)))\n",
    "    \n",
    "\n",
    "    ytickvals = np.around(np.concatenate(y[yticklocs]))\n",
    "    \n",
    "    ydispvals = ['%.12g' % n for n in ytickvals]\n",
    "    \n",
    "    plt.yticks(yticklocs, ydispvals)\n",
    "        \n",
    "    ax.set_xlim([0, np.asarray(x.shape)-1])\n",
    "    \n",
    "    ax.invert_yaxis()\n",
    "\n",
    "    ax.set_xticks(xticklocs)\n",
    "    ax.set_xticklabels(tickval)\n",
    "    \n",
    "    ax.set_xlabel(x_label, rotation=0,ha='center',va='center', fontsize=20, labelpad=20)\n",
    "    ax.set_ylabel(y_label, rotation=90,ha='center',va='center', fontsize=20, labelpad=20)\n",
    "    \n",
    "    plt.title(title,ha='center',va='bottom', fontsize=20)\n",
    "    \n",
    "    \n",
    "    \n",
    "    cbar.ax.tick_params(labelsize=14)\n",
    "    \n",
    "    plt.xticks(fontsize=14)\n",
    "    plt.yticks(fontsize=14)\n",
    "   \n",
    "    return ax"
   ]
  },
  {
   "cell_type": "code",
   "execution_count": 84,
   "metadata": {},
   "outputs": [],
   "source": [
    "def plot_pvalues(fig, ax, x, y, x_label, y_label, title, cmap = 'jet'):\n",
    "    \n",
    "    xticklocs = np.arange(0,np.asarray(x.shape), step = 2)\n",
    "    tickval = np.arange(1,np.asarray(x.shape)+1, step = 2)\n",
    "    \n",
    "    p_plot = np.squeeze(np.asarray(maxperm[1]))\n",
    "    \n",
    "    p_plot.shape = (temp_freq, temp_chan)\n",
    "    \n",
    "    p_lims = [0.05, 0.001]\n",
    "    p_lims = [-np.log10(p) for p in p_lims]\n",
    "    \n",
    "    # p plot\n",
    "    im2 = ax.imshow(-np.log10(p_plot),aspect='auto',interpolation='spline36',cmap=cmap,\n",
    "                    vmin=p_lims[0], vmax=p_lims[1])\n",
    "    \n",
    "    y_mod = np.concatenate(y)\n",
    "    freqs_plot = [5, 10, 15, 20, 25, 30, 35, 40]\n",
    "    yticklocs = []\n",
    "    for idx in freqs_plot:\n",
    "        yticklocs.append(min(range(len(y_mod)), key=lambda i: abs(y_mod[i]-idx)))\n",
    "    \n",
    "\n",
    "    ytickvals = np.around(np.concatenate(y[yticklocs]))\n",
    "    \n",
    "    ydispvals = ['%.12g' % n for n in ytickvals]\n",
    "    \n",
    "    plt.yticks(yticklocs, ydispvals)\n",
    "    \n",
    "    ax.invert_yaxis()\n",
    "    \n",
    "    ax.set_xticks(xticklocs)\n",
    "    ax.set_xticklabels(tickval)\n",
    "    ax.set_xlim([0, np.asarray(x.shape)-1])\n",
    "    \n",
    "    cbarticks = np.linspace(p_lims[0], p_lims[1], 5, endpoint=True)\n",
    "    cbarticks = np.round(cbarticks,2)\n",
    "    \n",
    "    cbar = fig.colorbar(im2, ax=ax, ticks = cbarticks)\n",
    "    \n",
    "    cbar.set_label(r'$-\\log_{10}(p)$', fontsize=20)\n",
    "    \n",
    "    ax.set_xlabel(x_label, rotation=0,ha='center',va='center', fontsize=20, labelpad=20)    \n",
    "    plt.title(title,ha='center',va='bottom', fontsize=20)\n",
    "    \n",
    "    cbar.ax.tick_params(labelsize=14)\n",
    "    plt.xticks(fontsize=14)\n",
    "    plt.yticks(fontsize=14)\n",
    "    \n",
    "    return ax"
   ]
  },
  {
   "cell_type": "code",
   "execution_count": null,
   "metadata": {},
   "outputs": [],
   "source": []
  },
  {
   "cell_type": "code",
   "execution_count": 85,
   "metadata": {},
   "outputs": [],
   "source": [
    "group_means = np.mean(diff_group*-1, axis=0) #to invert the effect size to be meaningful\n",
    "group_stds = np.std(diff_group, axis=0)\n",
    "\n",
    "cohens_d = group_means/group_stds"
   ]
  },
  {
   "cell_type": "code",
   "execution_count": 86,
   "metadata": {},
   "outputs": [
    {
     "data": {
      "text/plain": [
       "(145, 15)"
      ]
     },
     "execution_count": 86,
     "metadata": {},
     "output_type": "execute_result"
    }
   ],
   "source": [
    "cohens_d.shape"
   ]
  },
  {
   "cell_type": "code",
   "execution_count": null,
   "metadata": {},
   "outputs": [],
   "source": []
  },
  {
   "cell_type": "code",
   "execution_count": 87,
   "metadata": {},
   "outputs": [
    {
     "data": {
      "image/png": "[encoded data removed]",
      "text/plain": [
       "<Figure size 960x288 with 4 Axes>"
      ]
     },
     "metadata": {},
     "output_type": "display_data"
    }
   ],
   "source": [
    "fig = plt.figure(figsize=((20/3)*2, 4))\n",
    "gs_main = gridspec.GridSpec(1, 2,width_ratios=[4,4])\n",
    "gs_main.update(wspace=0.25, hspace=0.2)\n",
    "\n",
    "\n",
    "gs = gridspec.GridSpecFromSubplotSpec(1, 1, subplot_spec=gs_main[0])\n",
    "ax1 = fig.add_subplot(gs[0])\n",
    "ax1 = plot_spect(diff_groupmean, ax = ax1, x = np.arange(0,diff_group.shape[2]), y = cat_freqs,\n",
    "                 x_label = 'Channels',y_label = 'Frequencies (Hz)', title = cat_state[0] + '-' + cat_state[1],\n",
    "                 vmin = diffvmin, vmax = diffvmax)\n",
    "\n",
    "\n",
    "gs = gridspec.GridSpecFromSubplotSpec(1, 1, subplot_spec=gs_main[1])\n",
    "ax2 = fig.add_subplot(gs[0])\n",
    "\n",
    "ax2 = plot_spect(cohens_d, ax = ax2, x = np.arange(0,group_cat2.shape[2]), y = cat_freqs, \n",
    "                 x_label = 'Channels',y_label = 'Frequencies (Hz)', title = 'effect size',\n",
    "                 vmin = 0.8, vmax = 2)\n",
    "\n",
    "plt.savefig(outputfolderpath +  'awake_sleep_spectogram_stats.png', format='png', dpi=300, \n",
    "            transparent=False,bbox_inches='tight')"
   ]
  },
  {
   "cell_type": "code",
   "execution_count": null,
   "metadata": {},
   "outputs": [],
   "source": []
  },
  {
   "cell_type": "code",
   "execution_count": null,
   "metadata": {},
   "outputs": [],
   "source": []
  },
  {
   "cell_type": "code",
   "execution_count": 88,
   "metadata": {},
   "outputs": [],
   "source": [
    "group_roi1_df = pd.DataFrame({cat_state[1]: group_roi1_cat2, cat_state[0]: group_roi1_cat1})\n",
    "group_roi1_df['dataset'] = group_roi1_df.index\n",
    "group_roi1_df = group_roi1_df.melt(id_vars=[\"dataset\"], var_name=\"type\", value_name=\"power\")"
   ]
  },
  {
   "cell_type": "code",
   "execution_count": null,
   "metadata": {},
   "outputs": [],
   "source": []
  },
  {
   "cell_type": "code",
   "execution_count": 89,
   "metadata": {},
   "outputs": [
    {
     "data": {
      "text/html": [
       "<div>\n",
       "<style scoped>\n",
       "    .dataframe tbody tr th:only-of-type {\n",
       "        vertical-align: middle;\n",
       "    }\n",
       "\n",
       "    .dataframe tbody tr th {\n",
       "        vertical-align: top;\n",
       "    }\n",
       "\n",
       "    .dataframe thead th {\n",
       "        text-align: right;\n",
       "    }\n",
       "</style>\n",
       "<table border=\"1\" class=\"dataframe\">\n",
       "  <thead>\n",
       "    <tr style=\"text-align: right;\">\n",
       "      <th></th>\n",
       "      <th>Contrast</th>\n",
       "      <th>A</th>\n",
       "      <th>B</th>\n",
       "      <th>Paired</th>\n",
       "      <th>Parametric</th>\n",
       "      <th>T</th>\n",
       "      <th>dof</th>\n",
       "      <th>Tail</th>\n",
       "      <th>p-unc</th>\n",
       "      <th>BF10</th>\n",
       "      <th>cohen</th>\n",
       "    </tr>\n",
       "  </thead>\n",
       "  <tbody>\n",
       "    <tr>\n",
       "      <th>0</th>\n",
       "      <td>type</td>\n",
       "      <td>awake</td>\n",
       "      <td>sleep</td>\n",
       "      <td>True</td>\n",
       "      <td>True</td>\n",
       "      <td>6.072475</td>\n",
       "      <td>15.0</td>\n",
       "      <td>two-sided</td>\n",
       "      <td>0.000021</td>\n",
       "      <td>1122.648</td>\n",
       "      <td>0.595426</td>\n",
       "    </tr>\n",
       "  </tbody>\n",
       "</table>\n",
       "</div>"
      ],
      "text/plain": [
       "  Contrast      A      B  Paired  Parametric         T   dof       Tail  \\\n",
       "0     type  awake  sleep    True        True  6.072475  15.0  two-sided   \n",
       "\n",
       "      p-unc      BF10     cohen  \n",
       "0  0.000021  1122.648  0.595426  "
      ]
     },
     "execution_count": 89,
     "metadata": {},
     "output_type": "execute_result"
    }
   ],
   "source": [
    "resroi1_df = pg.pairwise_ttests(dv='power', within = 'type', subject='dataset', effsize = 'cohen', \n",
    "                              data=group_roi1_df)\n",
    "resroi1_df"
   ]
  },
  {
   "cell_type": "code",
   "execution_count": null,
   "metadata": {},
   "outputs": [],
   "source": []
  },
  {
   "cell_type": "code",
   "execution_count": 90,
   "metadata": {},
   "outputs": [],
   "source": [
    "group_roi2_df = pd.DataFrame({cat_state[1]: group_roi2_cat2, cat_state[0]: group_roi2_cat1})\n",
    "group_roi2_df['dataset'] = group_roi2_df.index\n",
    "group_roi2_df = group_roi2_df.melt(id_vars=[\"dataset\"], var_name=\"type\", value_name=\"power\")"
   ]
  },
  {
   "cell_type": "code",
   "execution_count": 91,
   "metadata": {},
   "outputs": [
    {
     "data": {
      "text/html": [
       "<div>\n",
       "<style scoped>\n",
       "    .dataframe tbody tr th:only-of-type {\n",
       "        vertical-align: middle;\n",
       "    }\n",
       "\n",
       "    .dataframe tbody tr th {\n",
       "        vertical-align: top;\n",
       "    }\n",
       "\n",
       "    .dataframe thead th {\n",
       "        text-align: right;\n",
       "    }\n",
       "</style>\n",
       "<table border=\"1\" class=\"dataframe\">\n",
       "  <thead>\n",
       "    <tr style=\"text-align: right;\">\n",
       "      <th></th>\n",
       "      <th>Contrast</th>\n",
       "      <th>A</th>\n",
       "      <th>B</th>\n",
       "      <th>Paired</th>\n",
       "      <th>Parametric</th>\n",
       "      <th>T</th>\n",
       "      <th>dof</th>\n",
       "      <th>Tail</th>\n",
       "      <th>p-unc</th>\n",
       "      <th>BF10</th>\n",
       "      <th>cohen</th>\n",
       "    </tr>\n",
       "  </thead>\n",
       "  <tbody>\n",
       "    <tr>\n",
       "      <th>0</th>\n",
       "      <td>type</td>\n",
       "      <td>awake</td>\n",
       "      <td>sleep</td>\n",
       "      <td>True</td>\n",
       "      <td>True</td>\n",
       "      <td>6.593883</td>\n",
       "      <td>15.0</td>\n",
       "      <td>two-sided</td>\n",
       "      <td>0.000009</td>\n",
       "      <td>2552.34</td>\n",
       "      <td>0.46056</td>\n",
       "    </tr>\n",
       "  </tbody>\n",
       "</table>\n",
       "</div>"
      ],
      "text/plain": [
       "  Contrast      A      B  Paired  Parametric         T   dof       Tail  \\\n",
       "0     type  awake  sleep    True        True  6.593883  15.0  two-sided   \n",
       "\n",
       "      p-unc     BF10    cohen  \n",
       "0  0.000009  2552.34  0.46056  "
      ]
     },
     "execution_count": 91,
     "metadata": {},
     "output_type": "execute_result"
    }
   ],
   "source": [
    "resroi2_df = pg.pairwise_ttests(dv='power', within = 'type', subject='dataset', effsize = 'cohen',\n",
    "                              data=group_roi2_df)\n",
    "resroi2_df"
   ]
  },
  {
   "cell_type": "code",
   "execution_count": 92,
   "metadata": {},
   "outputs": [],
   "source": [
    "group_roi3_df = pd.DataFrame({cat_state[1]: group_roi3_cat2, cat_state[0]: group_roi3_cat1})\n",
    "group_roi3_df['dataset'] = group_roi3_df.index\n",
    "group_roi3_df = group_roi3_df.melt(id_vars=[\"dataset\"], var_name=\"type\", value_name=\"power\")"
   ]
  },
  {
   "cell_type": "code",
   "execution_count": 93,
   "metadata": {},
   "outputs": [
    {
     "data": {
      "text/html": [
       "<div>\n",
       "<style scoped>\n",
       "    .dataframe tbody tr th:only-of-type {\n",
       "        vertical-align: middle;\n",
       "    }\n",
       "\n",
       "    .dataframe tbody tr th {\n",
       "        vertical-align: top;\n",
       "    }\n",
       "\n",
       "    .dataframe thead th {\n",
       "        text-align: right;\n",
       "    }\n",
       "</style>\n",
       "<table border=\"1\" class=\"dataframe\">\n",
       "  <thead>\n",
       "    <tr style=\"text-align: right;\">\n",
       "      <th></th>\n",
       "      <th>Contrast</th>\n",
       "      <th>A</th>\n",
       "      <th>B</th>\n",
       "      <th>Paired</th>\n",
       "      <th>Parametric</th>\n",
       "      <th>T</th>\n",
       "      <th>dof</th>\n",
       "      <th>Tail</th>\n",
       "      <th>p-unc</th>\n",
       "      <th>BF10</th>\n",
       "      <th>cohen</th>\n",
       "    </tr>\n",
       "  </thead>\n",
       "  <tbody>\n",
       "    <tr>\n",
       "      <th>0</th>\n",
       "      <td>type</td>\n",
       "      <td>awake</td>\n",
       "      <td>sleep</td>\n",
       "      <td>True</td>\n",
       "      <td>True</td>\n",
       "      <td>4.433984</td>\n",
       "      <td>15.0</td>\n",
       "      <td>two-sided</td>\n",
       "      <td>0.000483</td>\n",
       "      <td>71.809</td>\n",
       "      <td>0.745742</td>\n",
       "    </tr>\n",
       "  </tbody>\n",
       "</table>\n",
       "</div>"
      ],
      "text/plain": [
       "  Contrast      A      B  Paired  Parametric         T   dof       Tail  \\\n",
       "0     type  awake  sleep    True        True  4.433984  15.0  two-sided   \n",
       "\n",
       "      p-unc    BF10     cohen  \n",
       "0  0.000483  71.809  0.745742  "
      ]
     },
     "execution_count": 93,
     "metadata": {},
     "output_type": "execute_result"
    }
   ],
   "source": [
    "resroi3_df = pg.pairwise_ttests(dv='power', within = 'type', subject='dataset', effsize = 'cohen',\n",
    "                              data=group_roi3_df)\n",
    "resroi3_df"
   ]
  },
  {
   "cell_type": "code",
   "execution_count": null,
   "metadata": {},
   "outputs": [],
   "source": []
  },
  {
   "cell_type": "code",
   "execution_count": 94,
   "metadata": {},
   "outputs": [],
   "source": [
    "typepal = {cat_state[1]:'r', cat_state[0]: 'b'}"
   ]
  },
  {
   "cell_type": "code",
   "execution_count": null,
   "metadata": {},
   "outputs": [],
   "source": []
  },
  {
   "cell_type": "code",
   "execution_count": 95,
   "metadata": {},
   "outputs": [],
   "source": [
    "from statannot import add_stat_annotation"
   ]
  },
  {
   "cell_type": "code",
   "execution_count": 96,
   "metadata": {},
   "outputs": [],
   "source": [
    "def statannotation(ax, x1, x2, y,text):\n",
    "    h = 0.5\n",
    "    text_offset = 0.5\n",
    "    \n",
    "    line_x, line_y = [x1, x1, x2, x2], [y, y + h, y + h, y]\n",
    "\n",
    "    ax.plot(line_x, line_y, lw=2, c='black')\n",
    "    ann = ax.annotate(text, xy=(np.mean([x1, x2]), y + h),\n",
    "                      xytext=(0, text_offset), textcoords='offset points',\n",
    "                      xycoords='data', ha='center', va='bottom',\n",
    "                      fontsize=label_fontsize-2, clip_on=False, annotation_clip=False)"
   ]
  },
  {
   "cell_type": "code",
   "execution_count": 97,
   "metadata": {},
   "outputs": [],
   "source": [
    "t_stat1 = resroi1_df['T'].values[0]\n",
    "p_val1 = resroi1_df['p-unc'].values[0]\n",
    "df_test1 = resroi1_df['dof'].values[0]\n",
    "cohens_d1 = resroi1_df['cohen'].values[0]\n",
    "bf_val1 = resroi1_df['BF10'].values[0]"
   ]
  },
  {
   "cell_type": "code",
   "execution_count": 98,
   "metadata": {},
   "outputs": [],
   "source": [
    "t_stat2 = resroi2_df['T'].values[0]\n",
    "p_val2 = resroi2_df['p-unc'].values[0]\n",
    "df_test2 = resroi2_df['dof'].values[0]\n",
    "cohens_d2 = resroi2_df['cohen'].values[0]\n",
    "bf_val2 = resroi2_df['BF10'].values[0]"
   ]
  },
  {
   "cell_type": "code",
   "execution_count": 99,
   "metadata": {},
   "outputs": [],
   "source": [
    "t_stat3 = resroi3_df['T'].values[0]\n",
    "p_val3 = resroi3_df['p-unc'].values[0]\n",
    "df_test3 = resroi3_df['dof'].values[0]\n",
    "cohens_d3 = resroi3_df['cohen'].values[0]\n",
    "bf_val3 = resroi3_df['BF10'].values[0]"
   ]
  },
  {
   "cell_type": "code",
   "execution_count": null,
   "metadata": {},
   "outputs": [],
   "source": []
  },
  {
   "cell_type": "code",
   "execution_count": null,
   "metadata": {},
   "outputs": [],
   "source": []
  },
  {
   "cell_type": "code",
   "execution_count": 100,
   "metadata": {},
   "outputs": [
    {
     "data": {
      "image/png": "[encoded data removed]",
      "text/plain": [
       "<Figure size 864x432 with 3 Axes>"
      ]
     },
     "metadata": {},
     "output_type": "display_data"
    }
   ],
   "source": [
    "f, (ax1, ax2, ax3) = plt.subplots(ncols=3, sharey=True, figsize=(12, 6))\n",
    "\n",
    "sns.pointplot(x=\"type\",y=\"power\",hue='dataset',data=group_roi1_df,ax=ax1, dodge=0.0,\n",
    "                    palette=['darkgray'])\n",
    "\n",
    "sns.boxplot(x=\"type\",y=\"power\",data = group_roi1_df, whis=np.inf, ax=ax1, showbox=True,dodge=False,\n",
    "            meanline=True,showmeans=False, showfliers=True,showcaps=True, \n",
    "            linewidth = 1.25, palette = typepal)\n",
    "\n",
    "sns.stripplot(x=\"type\",y=\"power\",data = group_roi1_df, jitter=False, linewidth=1, ax=ax1,\n",
    "              edgecolor =\"black\",palette=typepal)\n",
    "\n",
    "string_val1 = 'BF: ' + str(np.round(float(resroi1_df['BF10'].values[0]),2)) + \"\\n\"\n",
    "#               \"\\nCohens'd: \" + str(np.round(cohens_d1,2))\n",
    "              \n",
    "\n",
    "statannotation(ax = ax1, x1 = 0, x2 = 1, y = 20.0, text = string_val1)\n",
    "\n",
    "\n",
    "ax1.legend_.remove()\n",
    "b = list(ax1.get_children())\n",
    "\n",
    "for patch in ax1.artists:\n",
    "    r, g, b, a = patch.get_facecolor()\n",
    "    patch.set_facecolor((r, g, b, .8))\n",
    "sns.despine(left=True, bottom = True)\n",
    "\n",
    "ax1.set_ylabel('power (dB)', fontsize=label_fontsize)\n",
    "ax1.set_xlabel('\\nfrequency: 7-10 hz\\n central channels', fontsize=label_fontsize)\n",
    "ax1.tick_params(axis='both', which='major', labelsize=label_fontsize-2)\n",
    "ax1.grid(True)\n",
    "\n",
    "\n",
    "sns.pointplot(x=\"type\",y=\"power\",hue='dataset',data=group_roi2_df,ax=ax2, dodge=0.0,\n",
    "                    palette=['darkgray'])\n",
    "\n",
    "sns.boxplot(x=\"type\",y=\"power\",data = group_roi2_df, whis=np.inf, ax=ax2, showbox=True,dodge=False,\n",
    "            meanline=True,showmeans=False, showfliers=True,showcaps=True, \n",
    "            linewidth = 1.25, palette = typepal)\n",
    "sns.stripplot(x=\"type\",y=\"power\",data = group_roi2_df, jitter=False, linewidth=1, ax=ax2,\n",
    "              edgecolor =\"black\",palette=typepal)\n",
    "\n",
    "string_val2 = 'BF: ' + str(np.round(float(resroi2_df['BF10'].values[0]),2)) + \"\\n\"\n",
    "#               \"\\nCohens'd: \" + str(np.round(cohens_d2,2))\n",
    "\n",
    "statannotation(ax = ax2, x1 = 0, x2 = 1, y = 20.0, text = string_val2)\n",
    "\n",
    "\n",
    "ax2.legend_.remove()\n",
    "b = list(ax2.get_children())\n",
    "\n",
    "for patch in ax2.artists:\n",
    "    r, g, b, a = patch.get_facecolor()\n",
    "    patch.set_facecolor((r, g, b, .8))\n",
    "sns.despine(left=True, bottom = True)\n",
    "\n",
    "ax2.set_ylabel('', fontsize=label_fontsize)\n",
    "ax2.set_xlabel('\\nfrequency: 7-10 hz\\n middle channels', fontsize=label_fontsize)\n",
    "ax2.tick_params(axis='both', which='major', labelsize=label_fontsize-2)\n",
    "ax2.grid(True)\n",
    "\n",
    "\n",
    "\n",
    "sns.pointplot(x=\"type\",y=\"power\",hue='dataset',data=group_roi3_df,ax=ax3, dodge=0.0,\n",
    "                    palette=['darkgray'])\n",
    "\n",
    "sns.boxplot(x=\"type\",y=\"power\",data = group_roi3_df, whis=np.inf, ax=ax3, showbox=True,dodge=False,\n",
    "            meanline=True,showmeans=False, showfliers=True,showcaps=True, \n",
    "            linewidth = 1.25, palette = typepal)\n",
    "sns.stripplot(x=\"type\",y=\"power\",data = group_roi3_df, jitter=False, linewidth=1, ax=ax3,\n",
    "              edgecolor =\"black\",palette=typepal)\n",
    "\n",
    "string_val3 = 'BF: ' + str(np.round(float(resroi3_df['BF10'].values[0]),2)) + \"\\n\"\n",
    "#               \"\\nCohens'd: \" + str(np.round(cohens_d3,2))\n",
    "\n",
    "statannotation(ax = ax3, x1 = 0, x2 = 1, y = 20.0, text = string_val3)\n",
    "\n",
    "\n",
    "ax3.legend_.remove()\n",
    "b = list(ax3.get_children())\n",
    "\n",
    "for patch in ax3.artists:\n",
    "    r, g, b, a = patch.get_facecolor()\n",
    "    patch.set_facecolor((r, g, b, .8))\n",
    "sns.despine(left=True, bottom = True)\n",
    "\n",
    "ax3.set_ylabel('', fontsize=label_fontsize)\n",
    "ax3.set_xlabel('\\nfrequency: 7-10 hz\\n peripheral channels', fontsize=label_fontsize)\n",
    "ax3.tick_params(axis='both', which='major', labelsize=label_fontsize-2)\n",
    "ax3.grid(True)\n",
    "\n",
    "ax1.set_ylim([-6, 21])\n",
    "\n",
    "plt.tight_layout()\n",
    "plt.box(False)\n",
    "\n",
    "plt.savefig(outputfolderpath +  'roi_awake_sleep_spectogram_stats_01.png', format='png', dpi=300, \n",
    "            transparent=False, bbox_inches='tight')"
   ]
  },
  {
   "cell_type": "code",
   "execution_count": null,
   "metadata": {},
   "outputs": [],
   "source": []
  },
  {
   "cell_type": "code",
   "execution_count": null,
   "metadata": {},
   "outputs": [],
   "source": []
  },
  {
   "cell_type": "code",
   "execution_count": null,
   "metadata": {},
   "outputs": [],
   "source": []
  },
  {
   "cell_type": "code",
   "execution_count": null,
   "metadata": {},
   "outputs": [],
   "source": []
  }
 ],
 "metadata": {
  "kernelspec": {
   "display_name": "Python 3",
   "language": "python",
   "name": "python3"
  },
  "language_info": {
   "codemirror_mode": {
    "name": "ipython",
    "version": 3
   },
   "file_extension": ".py",
   "mimetype": "text/x-python",
   "name": "python",
   "nbconvert_exporter": "python",
   "pygments_lexer": "ipython3",
   "version": "3.6.8"
  }
 },
 "nbformat": 4,
 "nbformat_minor": 4
}
