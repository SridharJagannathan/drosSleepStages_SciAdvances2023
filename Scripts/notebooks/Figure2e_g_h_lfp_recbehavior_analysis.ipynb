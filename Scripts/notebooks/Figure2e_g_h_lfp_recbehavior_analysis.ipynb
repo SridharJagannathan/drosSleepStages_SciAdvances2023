{
 "cells": [
  {
   "cell_type": "code",
   "execution_count": 1,
   "metadata": {},
   "outputs": [],
   "source": [
    "%load_ext rpy2.ipython"
   ]
  },
  {
   "cell_type": "code",
   "execution_count": 2,
   "metadata": {},
   "outputs": [],
   "source": [
    "import scipy.io as io\n",
    "import matplotlib.pyplot as plt\n",
    "import matplotlib.pylab as pylab\n",
    "import numpy as np\n",
    "import pandas as pd\n",
    "from datetime import datetime, date, time, timezone, timedelta\n",
    "import seaborn as sns\n",
    "import pingouin as pg\n",
    "import scipy.stats as stats\n",
    "from matplotlib.lines import Line2D\n",
    "from matplotlib.patches import Rectangle"
   ]
  },
  {
   "cell_type": "code",
   "execution_count": 3,
   "metadata": {},
   "outputs": [
    {
     "name": "stderr",
     "output_type": "stream",
     "text": [
      "/home/srj34/deeplabcut-env/lib/python3.6/site-packages/outdated/utils.py:18: OutdatedPackageWarning: The package outdated is out of date. Your version is 0.2.1, the latest is 0.2.2.\n",
      "Set the environment variable OUTDATED_IGNORE=1 to disable these warnings.\n",
      "  **kwargs\n",
      "/home/srj34/deeplabcut-env/lib/python3.6/site-packages/outdated/utils.py:18: OutdatedPackageWarning: The package pingouin is out of date. Your version is 0.3.12, the latest is 0.5.3.\n",
      "Set the environment variable OUTDATED_IGNORE=1 to disable these warnings.\n",
      "  **kwargs\n"
     ]
    }
   ],
   "source": [
    "# reformat axis ticks to only show hour/min\n",
    "from matplotlib.dates import DateFormatter\n",
    "import matplotlib.dates as mdates"
   ]
  },
  {
   "cell_type": "code",
   "execution_count": 4,
   "metadata": {},
   "outputs": [],
   "source": [
    "import matplotlib.pyplot as plt\n",
    "font = {'family': 'serif', 'serif': ['Helvetica']}\n",
    "plt.rc('font', **font)\n",
    "plt.rc('text', usetex=False)"
   ]
  },
  {
   "cell_type": "code",
   "execution_count": 5,
   "metadata": {},
   "outputs": [],
   "source": [
    "label_fontsize = 16\n",
    "title_fontsize = 18"
   ]
  },
  {
   "cell_type": "code",
   "execution_count": 6,
   "metadata": {},
   "outputs": [],
   "source": [
    "pd.set_option('mode.chained_assignment', None)"
   ]
  },
  {
   "cell_type": "code",
   "execution_count": 7,
   "metadata": {},
   "outputs": [
    {
     "name": "stdout",
     "output_type": "stream",
     "text": [
      "NULL\n"
     ]
    }
   ],
   "source": [
    "%%R\n",
    "#install.packages(\"MuMIn\", repos='http://cran.us.r-project.org')"
   ]
  },
  {
   "cell_type": "code",
   "execution_count": 8,
   "metadata": {},
   "outputs": [
    {
     "name": "stderr",
     "output_type": "stream",
     "text": [
      "R[write to console]: Loading required package: mvtnorm\n",
      "\n",
      "R[write to console]: Loading required package: survival\n",
      "\n",
      "R[write to console]: Loading required package: TH.data\n",
      "\n",
      "R[write to console]: Loading required package: MASS\n",
      "\n",
      "R[write to console]: \n",
      "Attaching package: ‘TH.data’\n",
      "\n",
      "\n",
      "R[write to console]: The following object is masked from ‘package:MASS’:\n",
      "\n",
      "    geyser\n",
      "\n",
      "\n"
     ]
    }
   ],
   "source": [
    "%%R\n",
    "rm(list = ls())  #remove elements from current workspace\n",
    "library(\"plyr\")\n",
    "library(\"emmeans\")\n",
    "library(\"reshape2\")\n",
    "library(\"multcomp\")\n",
    "library(\"MuMIn\")"
   ]
  },
  {
   "cell_type": "code",
   "execution_count": null,
   "metadata": {},
   "outputs": [],
   "source": []
  },
  {
   "cell_type": "code",
   "execution_count": null,
   "metadata": {},
   "outputs": [],
   "source": []
  },
  {
   "cell_type": "code",
   "execution_count": 9,
   "metadata": {},
   "outputs": [],
   "source": [
    "basefolder = \"/rds/project/tb419/rds-tb419-bekinschtein/Sri/SpatialAttention_Drowsiness/drosSleepStages_SciAdvances2023/\""
   ]
  },
  {
   "cell_type": "code",
   "execution_count": 10,
   "metadata": {},
   "outputs": [],
   "source": [
    "inputfolderpath = basefolder + \"data/beh_data/movement/\""
   ]
  },
  {
   "cell_type": "code",
   "execution_count": 11,
   "metadata": {},
   "outputs": [],
   "source": [
    "basefiles = [   \"02_27072018_SponSleep_LFP\", \"03_14092018_SponSleep_LFP\",\n",
    "                \"04_17092018_SponSleep_LFP\", \"06_30102018_SponSleep_LFP\",\n",
    "                \"07_01112018_SponSleep_LFP\", \"08_03112018_SponSleep_LFP\", \n",
    "                \"09_13112018_SponSleep_LFP\", \n",
    "                \"12_28112018_SponSleep_LFP\",\n",
    "                \"14_11122018_SponSleep_LFP\", \"15_13122018_SponSleep_LFP\",\n",
    "                \"16_18122018_SponSleep_LFP\",\n",
    "                \"17_10012019_SponSleep_LFP\", \n",
    "                \"18_17012019_SponSleep_LFP\", \"19_22012019_SponSleep_LFP\", \n",
    "                \"21_20022019_SponSleep_LFP\", \"23_13032019_SponSleep_LFP\"]"
   ]
  },
  {
   "cell_type": "code",
   "execution_count": null,
   "metadata": {},
   "outputs": [],
   "source": []
  },
  {
   "cell_type": "code",
   "execution_count": 12,
   "metadata": {},
   "outputs": [],
   "source": [
    "#Ignored flies..\n",
    "ignoredfiles = [\n",
    "                \"01_11072018_SponSleep_LFP\" #-- No calib, \n",
    "                \"05_19092018_SponSleep_LFP\",#-- Noisy calib\n",
    "                \"10_21112018_SponSleep_LFP\",#-- Very little sleep trials\n",
    "                \"11_22112018_SponSleep_LFP\",#-- Very Noisy calib\n",
    "                \"13_29112018_SponSleep_LFP\",#-- Inactive after 4 hours\n",
    "                \"20_07022019_SponSleep_LFP\",#-- No sleep data\n",
    "                \"22_06032019_SponSleep_LFP\",#-- Noisy calib\n",
    "]"
   ]
  },
  {
   "cell_type": "code",
   "execution_count": 13,
   "metadata": {},
   "outputs": [
    {
     "name": "stdout",
     "output_type": "stream",
     "text": [
      "Total flies:   22\n",
      "Used flies:    16\n",
      "Ignored flies: 6\n"
     ]
    }
   ],
   "source": [
    "print('Total flies:  ',len(basefiles) + len(ignoredfiles))\n",
    "print('Used flies:   ',len(basefiles))\n",
    "print('Ignored flies:',len(ignoredfiles))"
   ]
  },
  {
   "cell_type": "code",
   "execution_count": null,
   "metadata": {},
   "outputs": [],
   "source": []
  },
  {
   "cell_type": "code",
   "execution_count": 14,
   "metadata": {},
   "outputs": [],
   "source": [
    "def activityperzeit(datasetpath):\n",
    "    \n",
    "    df_epochs = pd.read_csv(datasetpath, index_col = 0)\n",
    "    df_epochs['Start_time'] = pd.to_datetime(df_epochs['Start_time'], format='%Y-%m-%d %H:%M:%S')\n",
    "    df_epochs['End_time'] = pd.to_datetime(df_epochs['End_time'], format='%Y-%m-%d %H:%M:%S')\n",
    "    df_epochs['Duration'] = df_epochs['End_time'] - df_epochs['Start_time']\n",
    "    df_epochs = df_epochs.rename(columns={'Type': 'type', 'Start_time': 'start', 'End_time': 'end', 'Duration': 'duration'})\n",
    "    #df_epochs['mins'] = (df_epochs['duration'].dt.seconds//60)%60\n",
    "    df_epochs['mins'] = df_epochs['duration'].dt.seconds/60\n",
    "    df_epochs['zeit'] = None\n",
    "    df_epochs.loc[(df_epochs['start'].dt.hour>=8) & (df_epochs['end'].dt.hour<20),'zeit'] = '08:to:20'\n",
    "    df_epochs.loc[(df_epochs['start'].dt.hour>=20) | (df_epochs['end'].dt.hour<8),'zeit'] = '20:to:08'\n",
    "    \n",
    "    \n",
    "    df_epochs.drop(['start', 'end', 'duration'], axis=1, inplace=True)\n",
    "      \n",
    "    return df_epochs"
   ]
  },
  {
   "cell_type": "code",
   "execution_count": null,
   "metadata": {},
   "outputs": [],
   "source": []
  },
  {
   "cell_type": "code",
   "execution_count": null,
   "metadata": {},
   "outputs": [],
   "source": []
  },
  {
   "cell_type": "code",
   "execution_count": null,
   "metadata": {},
   "outputs": [],
   "source": []
  },
  {
   "cell_type": "code",
   "execution_count": 15,
   "metadata": {},
   "outputs": [
    {
     "name": "stdout",
     "output_type": "stream",
     "text": [
      "27072018_SponSleep_LFP\n",
      "/rds/project/tb419/rds-tb419-bekinschtein/Sri/SpatialAttention_Drowsiness/drosSleepStages_SciAdvances2023/data/beh_data/movement/16hrs_awakesleep/27072018_SponSleep_LFP_merged_epochs.csv\n",
      "14092018_SponSleep_LFP\n",
      "/rds/project/tb419/rds-tb419-bekinschtein/Sri/SpatialAttention_Drowsiness/drosSleepStages_SciAdvances2023/data/beh_data/movement/16hrs_awakesleep/14092018_SponSleep_LFP_merged_epochs.csv\n",
      "17092018_SponSleep_LFP\n",
      "/rds/project/tb419/rds-tb419-bekinschtein/Sri/SpatialAttention_Drowsiness/drosSleepStages_SciAdvances2023/data/beh_data/movement/16hrs_awakesleep/17092018_SponSleep_LFP_merged_epochs.csv\n",
      "30102018_SponSleep_LFP\n",
      "/rds/project/tb419/rds-tb419-bekinschtein/Sri/SpatialAttention_Drowsiness/drosSleepStages_SciAdvances2023/data/beh_data/movement/16hrs_awakesleep/30102018_SponSleep_LFP_merged_epochs.csv\n",
      "01112018_SponSleep_LFP\n",
      "/rds/project/tb419/rds-tb419-bekinschtein/Sri/SpatialAttention_Drowsiness/drosSleepStages_SciAdvances2023/data/beh_data/movement/16hrs_awakesleep/01112018_SponSleep_LFP_merged_epochs.csv\n",
      "03112018_SponSleep_LFP\n",
      "/rds/project/tb419/rds-tb419-bekinschtein/Sri/SpatialAttention_Drowsiness/drosSleepStages_SciAdvances2023/data/beh_data/movement/16hrs_awakesleep/03112018_SponSleep_LFP_merged_epochs.csv\n",
      "13112018_SponSleep_LFP\n",
      "/rds/project/tb419/rds-tb419-bekinschtein/Sri/SpatialAttention_Drowsiness/drosSleepStages_SciAdvances2023/data/beh_data/movement/16hrs_awakesleep/13112018_SponSleep_LFP_merged_epochs.csv\n",
      "28112018_SponSleep_LFP\n",
      "/rds/project/tb419/rds-tb419-bekinschtein/Sri/SpatialAttention_Drowsiness/drosSleepStages_SciAdvances2023/data/beh_data/movement/16hrs_awakesleep/28112018_SponSleep_LFP_merged_epochs.csv\n",
      "11122018_SponSleep_LFP\n",
      "/rds/project/tb419/rds-tb419-bekinschtein/Sri/SpatialAttention_Drowsiness/drosSleepStages_SciAdvances2023/data/beh_data/movement/16hrs_awakesleep/11122018_SponSleep_LFP_merged_epochs.csv\n",
      "13122018_SponSleep_LFP\n",
      "/rds/project/tb419/rds-tb419-bekinschtein/Sri/SpatialAttention_Drowsiness/drosSleepStages_SciAdvances2023/data/beh_data/movement/16hrs_awakesleep/13122018_SponSleep_LFP_merged_epochs.csv\n",
      "18122018_SponSleep_LFP\n",
      "/rds/project/tb419/rds-tb419-bekinschtein/Sri/SpatialAttention_Drowsiness/drosSleepStages_SciAdvances2023/data/beh_data/movement/16hrs_awakesleep/18122018_SponSleep_LFP_merged_epochs.csv\n",
      "10012019_SponSleep_LFP\n",
      "/rds/project/tb419/rds-tb419-bekinschtein/Sri/SpatialAttention_Drowsiness/drosSleepStages_SciAdvances2023/data/beh_data/movement/16hrs_awakesleep/10012019_SponSleep_LFP_merged_epochs.csv\n",
      "17012019_SponSleep_LFP\n",
      "/rds/project/tb419/rds-tb419-bekinschtein/Sri/SpatialAttention_Drowsiness/drosSleepStages_SciAdvances2023/data/beh_data/movement/16hrs_awakesleep/17012019_SponSleep_LFP_merged_epochs.csv\n",
      "22012019_SponSleep_LFP\n",
      "/rds/project/tb419/rds-tb419-bekinschtein/Sri/SpatialAttention_Drowsiness/drosSleepStages_SciAdvances2023/data/beh_data/movement/16hrs_awakesleep/22012019_SponSleep_LFP_merged_epochs.csv\n",
      "20022019_SponSleep_LFP\n",
      "/rds/project/tb419/rds-tb419-bekinschtein/Sri/SpatialAttention_Drowsiness/drosSleepStages_SciAdvances2023/data/beh_data/movement/16hrs_awakesleep/20022019_SponSleep_LFP_merged_epochs.csv\n",
      "13032019_SponSleep_LFP\n",
      "/rds/project/tb419/rds-tb419-bekinschtein/Sri/SpatialAttention_Drowsiness/drosSleepStages_SciAdvances2023/data/beh_data/movement/16hrs_awakesleep/13032019_SponSleep_LFP_merged_epochs.csv\n"
     ]
    }
   ],
   "source": [
    "df_sleepperflyall = pd.DataFrame(columns = ['flyname','type', 'mins', 'zeit'])\n",
    "df_awakeperflyall = pd.DataFrame(columns = ['flyname','type', 'mins', 'zeit'])\n",
    "for f, basefilename in enumerate(basefiles):  # Loop across each fly\n",
    "    inputfilepath = inputfolderpath + '16hrs_awakesleep' + '/'+ basefilename[3:] + \"_merged_epochs.csv\"\n",
    "    print(basefilename[3:])\n",
    "    print(inputfilepath)\n",
    "    df_activityperfly =  activityperzeit(inputfilepath)\n",
    "    df_activityperfly['flyname'] = basefilename[3:]\n",
    "    \n",
    "    df_sleepperfly = df_activityperfly[df_activityperfly.type == 'sleep']\n",
    "    df_awakeperfly = df_activityperfly[df_activityperfly.type == 'awake']\n",
    "        \n",
    "    df_sleepperflyall = df_sleepperflyall.append(df_sleepperfly, ignore_index = True)\n",
    "    df_sleepperflyall = df_sleepperflyall.dropna()\n",
    "    df_sleepperflyall['mins'] = df_sleepperflyall['mins'].astype(float)\n",
    "    \n",
    "    df_awakeperflyall = df_awakeperflyall.append(df_awakeperfly, ignore_index = True)\n",
    "    df_awakeperflyall = df_awakeperflyall.dropna()\n",
    "    df_awakeperflyall['mins'] = df_awakeperflyall['mins'].astype(float)"
   ]
  },
  {
   "cell_type": "code",
   "execution_count": null,
   "metadata": {},
   "outputs": [],
   "source": []
  },
  {
   "cell_type": "code",
   "execution_count": 16,
   "metadata": {},
   "outputs": [
    {
     "data": {
      "text/html": [
       "<div>\n",
       "<style scoped>\n",
       "    .dataframe tbody tr th:only-of-type {\n",
       "        vertical-align: middle;\n",
       "    }\n",
       "\n",
       "    .dataframe tbody tr th {\n",
       "        vertical-align: top;\n",
       "    }\n",
       "\n",
       "    .dataframe thead th {\n",
       "        text-align: right;\n",
       "    }\n",
       "</style>\n",
       "<table border=\"1\" class=\"dataframe\">\n",
       "  <thead>\n",
       "    <tr style=\"text-align: right;\">\n",
       "      <th></th>\n",
       "      <th>flyname</th>\n",
       "      <th>type</th>\n",
       "      <th>mins</th>\n",
       "      <th>zeit</th>\n",
       "    </tr>\n",
       "  </thead>\n",
       "  <tbody>\n",
       "    <tr>\n",
       "      <th>0</th>\n",
       "      <td>27072018_SponSleep_LFP</td>\n",
       "      <td>sleep</td>\n",
       "      <td>25.250000</td>\n",
       "      <td>08:to:20</td>\n",
       "    </tr>\n",
       "    <tr>\n",
       "      <th>1</th>\n",
       "      <td>27072018_SponSleep_LFP</td>\n",
       "      <td>sleep</td>\n",
       "      <td>19.100000</td>\n",
       "      <td>08:to:20</td>\n",
       "    </tr>\n",
       "    <tr>\n",
       "      <th>2</th>\n",
       "      <td>27072018_SponSleep_LFP</td>\n",
       "      <td>sleep</td>\n",
       "      <td>11.200000</td>\n",
       "      <td>08:to:20</td>\n",
       "    </tr>\n",
       "    <tr>\n",
       "      <th>3</th>\n",
       "      <td>27072018_SponSleep_LFP</td>\n",
       "      <td>sleep</td>\n",
       "      <td>27.383333</td>\n",
       "      <td>08:to:20</td>\n",
       "    </tr>\n",
       "    <tr>\n",
       "      <th>4</th>\n",
       "      <td>27072018_SponSleep_LFP</td>\n",
       "      <td>sleep</td>\n",
       "      <td>5.850000</td>\n",
       "      <td>08:to:20</td>\n",
       "    </tr>\n",
       "  </tbody>\n",
       "</table>\n",
       "</div>"
      ],
      "text/plain": [
       "                  flyname   type       mins      zeit\n",
       "0  27072018_SponSleep_LFP  sleep  25.250000  08:to:20\n",
       "1  27072018_SponSleep_LFP  sleep  19.100000  08:to:20\n",
       "2  27072018_SponSleep_LFP  sleep  11.200000  08:to:20\n",
       "3  27072018_SponSleep_LFP  sleep  27.383333  08:to:20\n",
       "4  27072018_SponSleep_LFP  sleep   5.850000  08:to:20"
      ]
     },
     "execution_count": 16,
     "metadata": {},
     "output_type": "execute_result"
    }
   ],
   "source": [
    "df_sleepperflyall.head()"
   ]
  },
  {
   "cell_type": "code",
   "execution_count": 17,
   "metadata": {},
   "outputs": [
    {
     "data": {
      "text/html": [
       "<div>\n",
       "<style scoped>\n",
       "    .dataframe tbody tr th:only-of-type {\n",
       "        vertical-align: middle;\n",
       "    }\n",
       "\n",
       "    .dataframe tbody tr th {\n",
       "        vertical-align: top;\n",
       "    }\n",
       "\n",
       "    .dataframe thead th {\n",
       "        text-align: right;\n",
       "    }\n",
       "</style>\n",
       "<table border=\"1\" class=\"dataframe\">\n",
       "  <thead>\n",
       "    <tr style=\"text-align: right;\">\n",
       "      <th></th>\n",
       "      <th>flyname</th>\n",
       "      <th>type</th>\n",
       "      <th>mins</th>\n",
       "      <th>zeit</th>\n",
       "    </tr>\n",
       "  </thead>\n",
       "  <tbody>\n",
       "    <tr>\n",
       "      <th>0</th>\n",
       "      <td>27072018_SponSleep_LFP</td>\n",
       "      <td>awake</td>\n",
       "      <td>37.733333</td>\n",
       "      <td>08:to:20</td>\n",
       "    </tr>\n",
       "    <tr>\n",
       "      <th>1</th>\n",
       "      <td>27072018_SponSleep_LFP</td>\n",
       "      <td>awake</td>\n",
       "      <td>6.033333</td>\n",
       "      <td>08:to:20</td>\n",
       "    </tr>\n",
       "    <tr>\n",
       "      <th>2</th>\n",
       "      <td>27072018_SponSleep_LFP</td>\n",
       "      <td>awake</td>\n",
       "      <td>8.416667</td>\n",
       "      <td>08:to:20</td>\n",
       "    </tr>\n",
       "    <tr>\n",
       "      <th>3</th>\n",
       "      <td>27072018_SponSleep_LFP</td>\n",
       "      <td>awake</td>\n",
       "      <td>4.100000</td>\n",
       "      <td>08:to:20</td>\n",
       "    </tr>\n",
       "    <tr>\n",
       "      <th>4</th>\n",
       "      <td>27072018_SponSleep_LFP</td>\n",
       "      <td>awake</td>\n",
       "      <td>7.566667</td>\n",
       "      <td>08:to:20</td>\n",
       "    </tr>\n",
       "  </tbody>\n",
       "</table>\n",
       "</div>"
      ],
      "text/plain": [
       "                  flyname   type       mins      zeit\n",
       "0  27072018_SponSleep_LFP  awake  37.733333  08:to:20\n",
       "1  27072018_SponSleep_LFP  awake   6.033333  08:to:20\n",
       "2  27072018_SponSleep_LFP  awake   8.416667  08:to:20\n",
       "3  27072018_SponSleep_LFP  awake   4.100000  08:to:20\n",
       "4  27072018_SponSleep_LFP  awake   7.566667  08:to:20"
      ]
     },
     "execution_count": 17,
     "metadata": {},
     "output_type": "execute_result"
    }
   ],
   "source": [
    "df_awakeperflyall.head()"
   ]
  },
  {
   "cell_type": "code",
   "execution_count": null,
   "metadata": {},
   "outputs": [],
   "source": []
  },
  {
   "cell_type": "code",
   "execution_count": 18,
   "metadata": {},
   "outputs": [
    {
     "data": {
      "text/plain": [
       "array(['08:to:20', '20:to:08'], dtype=object)"
      ]
     },
     "execution_count": 18,
     "metadata": {},
     "output_type": "execute_result"
    }
   ],
   "source": [
    "df_sleepperflyall['zeit'].unique()"
   ]
  },
  {
   "cell_type": "code",
   "execution_count": 19,
   "metadata": {},
   "outputs": [
    {
     "data": {
      "text/plain": [
       "array(['sleep'], dtype=object)"
      ]
     },
     "execution_count": 19,
     "metadata": {},
     "output_type": "execute_result"
    }
   ],
   "source": [
    "df_sleepperflyall['type'].unique()"
   ]
  },
  {
   "cell_type": "code",
   "execution_count": null,
   "metadata": {},
   "outputs": [],
   "source": []
  },
  {
   "cell_type": "code",
   "execution_count": 20,
   "metadata": {},
   "outputs": [],
   "source": [
    "missing_df = []\n",
    "# iterate over all flyname and zeits to check for missing data in particular times\n",
    "for flyname in df_sleepperflyall['flyname'].unique():\n",
    "    for zeit in df_sleepperflyall['zeit'].unique():\n",
    "        # check if the current flyname/zeit combination is already present\n",
    "        if not ((df_sleepperflyall['flyname'] == flyname) & (df_sleepperflyall['zeit'] == zeit)).any():\n",
    "            # if not, add a row with the missing zeit and NaN for mins\n",
    "            new_row = {'flyname': flyname, 'type':'sleep','zeit': zeit, 'mins': np.nan}\n",
    "            missing_df.append(new_row)"
   ]
  },
  {
   "cell_type": "code",
   "execution_count": 21,
   "metadata": {},
   "outputs": [
    {
     "data": {
      "text/html": [
       "<div>\n",
       "<style scoped>\n",
       "    .dataframe tbody tr th:only-of-type {\n",
       "        vertical-align: middle;\n",
       "    }\n",
       "\n",
       "    .dataframe tbody tr th {\n",
       "        vertical-align: top;\n",
       "    }\n",
       "\n",
       "    .dataframe thead th {\n",
       "        text-align: right;\n",
       "    }\n",
       "</style>\n",
       "<table border=\"1\" class=\"dataframe\">\n",
       "  <thead>\n",
       "    <tr style=\"text-align: right;\">\n",
       "      <th></th>\n",
       "      <th>flyname</th>\n",
       "      <th>type</th>\n",
       "      <th>zeit</th>\n",
       "      <th>mins</th>\n",
       "    </tr>\n",
       "  </thead>\n",
       "  <tbody>\n",
       "    <tr>\n",
       "      <th>0</th>\n",
       "      <td>13112018_SponSleep_LFP</td>\n",
       "      <td>sleep</td>\n",
       "      <td>08:to:20</td>\n",
       "      <td>NaN</td>\n",
       "    </tr>\n",
       "    <tr>\n",
       "      <th>1</th>\n",
       "      <td>18122018_SponSleep_LFP</td>\n",
       "      <td>sleep</td>\n",
       "      <td>20:to:08</td>\n",
       "      <td>NaN</td>\n",
       "    </tr>\n",
       "  </tbody>\n",
       "</table>\n",
       "</div>"
      ],
      "text/plain": [
       "                  flyname   type      zeit  mins\n",
       "0  13112018_SponSleep_LFP  sleep  08:to:20   NaN\n",
       "1  18122018_SponSleep_LFP  sleep  20:to:08   NaN"
      ]
     },
     "execution_count": 21,
     "metadata": {},
     "output_type": "execute_result"
    }
   ],
   "source": [
    "missing_df = pd.DataFrame(missing_df)\n",
    "missing_df"
   ]
  },
  {
   "cell_type": "code",
   "execution_count": 22,
   "metadata": {},
   "outputs": [],
   "source": [
    "df_sleepperflyall = pd.concat([df_sleepperflyall,missing_df])"
   ]
  },
  {
   "cell_type": "code",
   "execution_count": 23,
   "metadata": {},
   "outputs": [],
   "source": [
    "df_sleepperflyall = df_sleepperflyall.sort_values(by='flyname')"
   ]
  },
  {
   "cell_type": "code",
   "execution_count": 24,
   "metadata": {},
   "outputs": [
    {
     "data": {
      "text/html": [
       "<div>\n",
       "<style scoped>\n",
       "    .dataframe tbody tr th:only-of-type {\n",
       "        vertical-align: middle;\n",
       "    }\n",
       "\n",
       "    .dataframe tbody tr th {\n",
       "        vertical-align: top;\n",
       "    }\n",
       "\n",
       "    .dataframe thead th {\n",
       "        text-align: right;\n",
       "    }\n",
       "</style>\n",
       "<table border=\"1\" class=\"dataframe\">\n",
       "  <thead>\n",
       "    <tr style=\"text-align: right;\">\n",
       "      <th></th>\n",
       "      <th>flyname</th>\n",
       "      <th>type</th>\n",
       "      <th>mins</th>\n",
       "      <th>zeit</th>\n",
       "    </tr>\n",
       "  </thead>\n",
       "  <tbody>\n",
       "    <tr>\n",
       "      <th>91</th>\n",
       "      <td>01112018_SponSleep_LFP</td>\n",
       "      <td>sleep</td>\n",
       "      <td>69.366667</td>\n",
       "      <td>08:to:20</td>\n",
       "    </tr>\n",
       "    <tr>\n",
       "      <th>88</th>\n",
       "      <td>01112018_SponSleep_LFP</td>\n",
       "      <td>sleep</td>\n",
       "      <td>6.000000</td>\n",
       "      <td>08:to:20</td>\n",
       "    </tr>\n",
       "    <tr>\n",
       "      <th>87</th>\n",
       "      <td>01112018_SponSleep_LFP</td>\n",
       "      <td>sleep</td>\n",
       "      <td>7.633333</td>\n",
       "      <td>20:to:08</td>\n",
       "    </tr>\n",
       "    <tr>\n",
       "      <th>86</th>\n",
       "      <td>01112018_SponSleep_LFP</td>\n",
       "      <td>sleep</td>\n",
       "      <td>20.533333</td>\n",
       "      <td>20:to:08</td>\n",
       "    </tr>\n",
       "    <tr>\n",
       "      <th>85</th>\n",
       "      <td>01112018_SponSleep_LFP</td>\n",
       "      <td>sleep</td>\n",
       "      <td>5.700000</td>\n",
       "      <td>20:to:08</td>\n",
       "    </tr>\n",
       "    <tr>\n",
       "      <th>...</th>\n",
       "      <td>...</td>\n",
       "      <td>...</td>\n",
       "      <td>...</td>\n",
       "      <td>...</td>\n",
       "    </tr>\n",
       "    <tr>\n",
       "      <th>57</th>\n",
       "      <td>30102018_SponSleep_LFP</td>\n",
       "      <td>sleep</td>\n",
       "      <td>13.416667</td>\n",
       "      <td>20:to:08</td>\n",
       "    </tr>\n",
       "    <tr>\n",
       "      <th>58</th>\n",
       "      <td>30102018_SponSleep_LFP</td>\n",
       "      <td>sleep</td>\n",
       "      <td>11.583333</td>\n",
       "      <td>20:to:08</td>\n",
       "    </tr>\n",
       "    <tr>\n",
       "      <th>59</th>\n",
       "      <td>30102018_SponSleep_LFP</td>\n",
       "      <td>sleep</td>\n",
       "      <td>18.200000</td>\n",
       "      <td>20:to:08</td>\n",
       "    </tr>\n",
       "    <tr>\n",
       "      <th>70</th>\n",
       "      <td>30102018_SponSleep_LFP</td>\n",
       "      <td>sleep</td>\n",
       "      <td>6.083333</td>\n",
       "      <td>08:to:20</td>\n",
       "    </tr>\n",
       "    <tr>\n",
       "      <th>60</th>\n",
       "      <td>30102018_SponSleep_LFP</td>\n",
       "      <td>sleep</td>\n",
       "      <td>8.516667</td>\n",
       "      <td>20:to:08</td>\n",
       "    </tr>\n",
       "  </tbody>\n",
       "</table>\n",
       "<p>221 rows × 4 columns</p>\n",
       "</div>"
      ],
      "text/plain": [
       "                   flyname   type       mins      zeit\n",
       "91  01112018_SponSleep_LFP  sleep  69.366667  08:to:20\n",
       "88  01112018_SponSleep_LFP  sleep   6.000000  08:to:20\n",
       "87  01112018_SponSleep_LFP  sleep   7.633333  20:to:08\n",
       "86  01112018_SponSleep_LFP  sleep  20.533333  20:to:08\n",
       "85  01112018_SponSleep_LFP  sleep   5.700000  20:to:08\n",
       "..                     ...    ...        ...       ...\n",
       "57  30102018_SponSleep_LFP  sleep  13.416667  20:to:08\n",
       "58  30102018_SponSleep_LFP  sleep  11.583333  20:to:08\n",
       "59  30102018_SponSleep_LFP  sleep  18.200000  20:to:08\n",
       "70  30102018_SponSleep_LFP  sleep   6.083333  08:to:20\n",
       "60  30102018_SponSleep_LFP  sleep   8.516667  20:to:08\n",
       "\n",
       "[221 rows x 4 columns]"
      ]
     },
     "execution_count": 24,
     "metadata": {},
     "output_type": "execute_result"
    }
   ],
   "source": [
    "df_sleepperflyall"
   ]
  },
  {
   "cell_type": "code",
   "execution_count": null,
   "metadata": {},
   "outputs": [],
   "source": []
  },
  {
   "cell_type": "code",
   "execution_count": null,
   "metadata": {},
   "outputs": [],
   "source": []
  },
  {
   "cell_type": "code",
   "execution_count": 25,
   "metadata": {},
   "outputs": [
    {
     "name": "stdout",
     "output_type": "stream",
     "text": [
      "unique activities : ['sleep']\n",
      "unique zeit : ['08:to:20' '20:to:08']\n"
     ]
    }
   ],
   "source": [
    "print('unique activities :', df_sleepperflyall.type.unique())\n",
    "print('unique zeit :', df_sleepperflyall.zeit.unique())"
   ]
  },
  {
   "cell_type": "code",
   "execution_count": 26,
   "metadata": {},
   "outputs": [
    {
     "name": "stdout",
     "output_type": "stream",
     "text": [
      "unique activities : ['awake']\n",
      "unique zeit : ['08:to:20' '20:to:08']\n"
     ]
    }
   ],
   "source": [
    "print('unique activities :', df_awakeperflyall.type.unique())\n",
    "print('unique zeit :', df_awakeperflyall.zeit.unique())"
   ]
  },
  {
   "cell_type": "code",
   "execution_count": null,
   "metadata": {},
   "outputs": [],
   "source": []
  },
  {
   "cell_type": "code",
   "execution_count": 27,
   "metadata": {},
   "outputs": [
    {
     "data": {
      "text/plain": [
       "08:to:20    114\n",
       "20:to:08    107\n",
       "Name: zeit, dtype: int64"
      ]
     },
     "execution_count": 27,
     "metadata": {},
     "output_type": "execute_result"
    }
   ],
   "source": [
    "df_sleepperflyall['zeit'].value_counts()"
   ]
  },
  {
   "cell_type": "code",
   "execution_count": 28,
   "metadata": {},
   "outputs": [],
   "source": [
    "%R -i df_sleepperflyall"
   ]
  },
  {
   "cell_type": "code",
   "execution_count": 29,
   "metadata": {},
   "outputs": [
    {
     "name": "stdout",
     "output_type": "stream",
     "text": [
      "                 flyname  type      mins     zeit\n",
      "1 01112018_SponSleep_LFP sleep 69.366667 08:to:20\n",
      "2 01112018_SponSleep_LFP sleep  6.000000 08:to:20\n",
      "3 01112018_SponSleep_LFP sleep  7.633333 20:to:08\n",
      "4 01112018_SponSleep_LFP sleep 20.533333 20:to:08\n",
      "5 01112018_SponSleep_LFP sleep  5.700000 20:to:08\n",
      "6 01112018_SponSleep_LFP sleep  7.283333 20:to:08\n"
     ]
    }
   ],
   "source": [
    "%%R\n",
    "head(df_sleepperflyall)"
   ]
  },
  {
   "cell_type": "code",
   "execution_count": 30,
   "metadata": {},
   "outputs": [
    {
     "name": "stdout",
     "output_type": "stream",
     "text": [
      "[1] \"08:to:20\" \"20:to:08\"\n"
     ]
    }
   ],
   "source": [
    "%%R\n",
    "unique(df_sleepperflyall$zeit)"
   ]
  },
  {
   "cell_type": "code",
   "execution_count": 31,
   "metadata": {},
   "outputs": [
    {
     "name": "stdout",
     "output_type": "stream",
     "text": [
      "[1] \"sleep\"\n"
     ]
    }
   ],
   "source": [
    "%%R\n",
    "unique(df_sleepperflyall$type)"
   ]
  },
  {
   "cell_type": "code",
   "execution_count": 32,
   "metadata": {},
   "outputs": [
    {
     "name": "stdout",
     "output_type": "stream",
     "text": [
      "[1] ‘1.1.21’\n"
     ]
    }
   ],
   "source": [
    "%%R\n",
    "packageVersion(\"lme4\")"
   ]
  },
  {
   "cell_type": "code",
   "execution_count": 33,
   "metadata": {},
   "outputs": [
    {
     "name": "stderr",
     "output_type": "stream",
     "text": [
      "R[write to console]: Loading required package: lme4\n",
      "\n",
      "R[write to console]: Loading required package: Matrix\n",
      "\n",
      "R[write to console]: \n",
      "Attaching package: ‘lmerTest’\n",
      "\n",
      "\n",
      "R[write to console]: The following object is masked from ‘package:lme4’:\n",
      "\n",
      "    lmer\n",
      "\n",
      "\n",
      "R[write to console]: The following object is masked from ‘package:stats’:\n",
      "\n",
      "    step\n",
      "\n",
      "\n"
     ]
    }
   ],
   "source": [
    "%%R\n",
    "# Multilevel model with missing values ~ Hierarchical model\n",
    "# First compare and choose the best model..\n",
    "\n",
    "library(lmerTest)"
   ]
  },
  {
   "cell_type": "code",
   "execution_count": null,
   "metadata": {},
   "outputs": [],
   "source": []
  },
  {
   "cell_type": "code",
   "execution_count": 34,
   "metadata": {},
   "outputs": [
    {
     "name": "stdout",
     "output_type": "stream",
     "text": [
      "                 flyname  type      mins     zeit\n",
      "1 01112018_SponSleep_LFP sleep 69.366667 08:to:20\n",
      "2 01112018_SponSleep_LFP sleep  6.000000 08:to:20\n",
      "3 01112018_SponSleep_LFP sleep  7.633333 20:to:08\n",
      "4 01112018_SponSleep_LFP sleep 20.533333 20:to:08\n",
      "5 01112018_SponSleep_LFP sleep  5.700000 20:to:08\n",
      "6 01112018_SponSleep_LFP sleep  7.283333 20:to:08\n"
     ]
    }
   ],
   "source": [
    "%%R\n",
    "head(df_sleepperflyall)"
   ]
  },
  {
   "cell_type": "code",
   "execution_count": 35,
   "metadata": {},
   "outputs": [
    {
     "name": "stderr",
     "output_type": "stream",
     "text": [
      "R[write to console]: boundary (singular) fit: see ?isSingular\n",
      "\n"
     ]
    }
   ],
   "source": [
    "%%R\n",
    "model.null = lmer(mins ~ 1 + (1|flyname), data=df_sleepperflyall,\n",
    "                  REML=FALSE)\n",
    "\n",
    "model.zeit = lmer(mins ~ zeit + (1|flyname), data=df_sleepperflyall,\n",
    "                  REML=FALSE)"
   ]
  },
  {
   "cell_type": "code",
   "execution_count": 36,
   "metadata": {},
   "outputs": [
    {
     "name": "stdout",
     "output_type": "stream",
     "text": [
      "Data: df_sleepperflyall\n",
      "Models:\n",
      "model.null: mins ~ 1 + (1 | flyname)\n",
      "model.zeit: mins ~ zeit + (1 | flyname)\n",
      "           Df    AIC    BIC  logLik deviance  Chisq Chi Df Pr(>Chisq)   \n",
      "model.null  3 2287.9 2298.1 -1141.0   2281.9                            \n",
      "model.zeit  4 2281.9 2295.4 -1136.9   2273.9 8.0327      1   0.004594 **\n",
      "---\n",
      "Signif. codes:  0 ‘***’ 0.001 ‘**’ 0.01 ‘*’ 0.05 ‘.’ 0.1 ‘ ’ 1\n"
     ]
    }
   ],
   "source": [
    "%%R\n",
    "#compare the null model, with the zeit model..\n",
    "print(anova(model.null,model.zeit))"
   ]
  },
  {
   "cell_type": "code",
   "execution_count": null,
   "metadata": {},
   "outputs": [],
   "source": []
  },
  {
   "cell_type": "code",
   "execution_count": 37,
   "metadata": {},
   "outputs": [
    {
     "name": "stdout",
     "output_type": "stream",
     "text": [
      "Type III Analysis of Variance Table with Satterthwaite's method\n",
      "     Sum Sq Mean Sq NumDF  DenDF F value   Pr(>F)   \n",
      "zeit  18691   18691     1 168.42  10.194 0.001682 **\n",
      "---\n",
      "Signif. codes:  0 ‘***’ 0.001 ‘**’ 0.01 ‘*’ 0.05 ‘.’ 0.1 ‘ ’ 1\n"
     ]
    }
   ],
   "source": [
    "%%R\n",
    "#the above analysis show that the zeit model is the most likely model..\n",
    "#let's analyse the same..\n",
    "print(anova(model.zeit))"
   ]
  },
  {
   "cell_type": "code",
   "execution_count": null,
   "metadata": {},
   "outputs": [],
   "source": []
  },
  {
   "cell_type": "code",
   "execution_count": 38,
   "metadata": {},
   "outputs": [
    {
     "name": "stdout",
     "output_type": "stream",
     "text": [
      "            R2m        R2c\n",
      "[1,] 0.04673934 0.08348339\n"
     ]
    }
   ],
   "source": [
    "%%R\n",
    "library(\"MuMIn\")\n",
    "r.squaredGLMM(model.zeit)"
   ]
  },
  {
   "cell_type": "code",
   "execution_count": 39,
   "metadata": {},
   "outputs": [
    {
     "name": "stdout",
     "output_type": "stream",
     "text": [
      "NULL\n"
     ]
    }
   ],
   "source": [
    "%%R\n",
    "#the above table shows that there is a main effect of zeit(day, night); let's find out more.."
   ]
  },
  {
   "cell_type": "code",
   "execution_count": 40,
   "metadata": {},
   "outputs": [
    {
     "name": "stdout",
     "output_type": "stream",
     "text": [
      "\n",
      "\t Simultaneous Tests for General Linear Hypotheses\n",
      "\n",
      "Multiple Comparisons of Means: Tukey Contrasts\n",
      "\n",
      "\n",
      "Fit: lmer(formula = mins ~ typezeit + (1 | flyname), data = df_sleepperflyall, \n",
      "    REML = FALSE)\n",
      "\n",
      "Linear Hypotheses:\n",
      "                                     Estimate Std. Error z value Pr(>|z|)   \n",
      "sleep.20:to:08 - sleep.08:to:20 == 0   19.306      6.047   3.193  0.00141 **\n",
      "---\n",
      "Signif. codes:  0 ‘***’ 0.001 ‘**’ 0.01 ‘*’ 0.05 ‘.’ 0.1 ‘ ’ 1\n",
      "(Adjusted p values reported -- single-step method)\n",
      "\n"
     ]
    }
   ],
   "source": [
    "%%R\n",
    "library(\"multcomp\")\n",
    "# Step 5: Post Hoc comparisions \n",
    "df_sleepperflyall$typezeit <- interaction(df_sleepperflyall$type, df_sleepperflyall$zeit)\n",
    "\n",
    "model = lmer(mins ~ typezeit + (1|flyname), data=df_sleepperflyall,\n",
    "             REML=FALSE)\n",
    "\n",
    "print(summary(glht(model, mcp(typezeit=\"Tukey\"))))"
   ]
  },
  {
   "cell_type": "code",
   "execution_count": null,
   "metadata": {},
   "outputs": [],
   "source": []
  },
  {
   "cell_type": "code",
   "execution_count": 41,
   "metadata": {},
   "outputs": [
    {
     "data": {
      "text/html": [
       "<div>\n",
       "<style scoped>\n",
       "    .dataframe tbody tr th:only-of-type {\n",
       "        vertical-align: middle;\n",
       "    }\n",
       "\n",
       "    .dataframe tbody tr th {\n",
       "        vertical-align: top;\n",
       "    }\n",
       "\n",
       "    .dataframe thead th {\n",
       "        text-align: right;\n",
       "    }\n",
       "</style>\n",
       "<table border=\"1\" class=\"dataframe\">\n",
       "  <thead>\n",
       "    <tr style=\"text-align: right;\">\n",
       "      <th></th>\n",
       "      <th>flyname</th>\n",
       "      <th>type</th>\n",
       "      <th>mins</th>\n",
       "      <th>zeit</th>\n",
       "    </tr>\n",
       "  </thead>\n",
       "  <tbody>\n",
       "    <tr>\n",
       "      <th>91</th>\n",
       "      <td>01112018_SponSleep_LFP</td>\n",
       "      <td>sleep</td>\n",
       "      <td>69.366667</td>\n",
       "      <td>08:to:20</td>\n",
       "    </tr>\n",
       "    <tr>\n",
       "      <th>88</th>\n",
       "      <td>01112018_SponSleep_LFP</td>\n",
       "      <td>sleep</td>\n",
       "      <td>6.000000</td>\n",
       "      <td>08:to:20</td>\n",
       "    </tr>\n",
       "    <tr>\n",
       "      <th>87</th>\n",
       "      <td>01112018_SponSleep_LFP</td>\n",
       "      <td>sleep</td>\n",
       "      <td>7.633333</td>\n",
       "      <td>20:to:08</td>\n",
       "    </tr>\n",
       "    <tr>\n",
       "      <th>86</th>\n",
       "      <td>01112018_SponSleep_LFP</td>\n",
       "      <td>sleep</td>\n",
       "      <td>20.533333</td>\n",
       "      <td>20:to:08</td>\n",
       "    </tr>\n",
       "    <tr>\n",
       "      <th>85</th>\n",
       "      <td>01112018_SponSleep_LFP</td>\n",
       "      <td>sleep</td>\n",
       "      <td>5.700000</td>\n",
       "      <td>20:to:08</td>\n",
       "    </tr>\n",
       "    <tr>\n",
       "      <th>...</th>\n",
       "      <td>...</td>\n",
       "      <td>...</td>\n",
       "      <td>...</td>\n",
       "      <td>...</td>\n",
       "    </tr>\n",
       "    <tr>\n",
       "      <th>57</th>\n",
       "      <td>30102018_SponSleep_LFP</td>\n",
       "      <td>sleep</td>\n",
       "      <td>13.416667</td>\n",
       "      <td>20:to:08</td>\n",
       "    </tr>\n",
       "    <tr>\n",
       "      <th>58</th>\n",
       "      <td>30102018_SponSleep_LFP</td>\n",
       "      <td>sleep</td>\n",
       "      <td>11.583333</td>\n",
       "      <td>20:to:08</td>\n",
       "    </tr>\n",
       "    <tr>\n",
       "      <th>59</th>\n",
       "      <td>30102018_SponSleep_LFP</td>\n",
       "      <td>sleep</td>\n",
       "      <td>18.200000</td>\n",
       "      <td>20:to:08</td>\n",
       "    </tr>\n",
       "    <tr>\n",
       "      <th>70</th>\n",
       "      <td>30102018_SponSleep_LFP</td>\n",
       "      <td>sleep</td>\n",
       "      <td>6.083333</td>\n",
       "      <td>08:to:20</td>\n",
       "    </tr>\n",
       "    <tr>\n",
       "      <th>60</th>\n",
       "      <td>30102018_SponSleep_LFP</td>\n",
       "      <td>sleep</td>\n",
       "      <td>8.516667</td>\n",
       "      <td>20:to:08</td>\n",
       "    </tr>\n",
       "  </tbody>\n",
       "</table>\n",
       "<p>221 rows × 4 columns</p>\n",
       "</div>"
      ],
      "text/plain": [
       "                   flyname   type       mins      zeit\n",
       "91  01112018_SponSleep_LFP  sleep  69.366667  08:to:20\n",
       "88  01112018_SponSleep_LFP  sleep   6.000000  08:to:20\n",
       "87  01112018_SponSleep_LFP  sleep   7.633333  20:to:08\n",
       "86  01112018_SponSleep_LFP  sleep  20.533333  20:to:08\n",
       "85  01112018_SponSleep_LFP  sleep   5.700000  20:to:08\n",
       "..                     ...    ...        ...       ...\n",
       "57  30102018_SponSleep_LFP  sleep  13.416667  20:to:08\n",
       "58  30102018_SponSleep_LFP  sleep  11.583333  20:to:08\n",
       "59  30102018_SponSleep_LFP  sleep  18.200000  20:to:08\n",
       "70  30102018_SponSleep_LFP  sleep   6.083333  08:to:20\n",
       "60  30102018_SponSleep_LFP  sleep   8.516667  20:to:08\n",
       "\n",
       "[221 rows x 4 columns]"
      ]
     },
     "execution_count": 41,
     "metadata": {},
     "output_type": "execute_result"
    }
   ],
   "source": [
    "df_sleepperflyall"
   ]
  },
  {
   "cell_type": "code",
   "execution_count": null,
   "metadata": {},
   "outputs": [],
   "source": []
  },
  {
   "cell_type": "code",
   "execution_count": 42,
   "metadata": {},
   "outputs": [],
   "source": [
    "# Group by flyname and zeit\n",
    "df_grouped = df_sleepperflyall.groupby([\"flyname\", \"zeit\"])\n",
    "\n",
    "# Calculate the mean mins per fly per zeit category\n",
    "plot_df = df_grouped[\"mins\"].mean()\n",
    "plot_df = plot_df.reset_index()"
   ]
  },
  {
   "cell_type": "code",
   "execution_count": 43,
   "metadata": {},
   "outputs": [
    {
     "data": {
      "text/html": [
       "<div>\n",
       "<style scoped>\n",
       "    .dataframe tbody tr th:only-of-type {\n",
       "        vertical-align: middle;\n",
       "    }\n",
       "\n",
       "    .dataframe tbody tr th {\n",
       "        vertical-align: top;\n",
       "    }\n",
       "\n",
       "    .dataframe thead th {\n",
       "        text-align: right;\n",
       "    }\n",
       "</style>\n",
       "<table border=\"1\" class=\"dataframe\">\n",
       "  <thead>\n",
       "    <tr style=\"text-align: right;\">\n",
       "      <th></th>\n",
       "      <th>flyname</th>\n",
       "      <th>zeit</th>\n",
       "      <th>mins</th>\n",
       "    </tr>\n",
       "  </thead>\n",
       "  <tbody>\n",
       "    <tr>\n",
       "      <th>0</th>\n",
       "      <td>01112018_SponSleep_LFP</td>\n",
       "      <td>08:to:20</td>\n",
       "      <td>24.250000</td>\n",
       "    </tr>\n",
       "    <tr>\n",
       "      <th>1</th>\n",
       "      <td>01112018_SponSleep_LFP</td>\n",
       "      <td>20:to:08</td>\n",
       "      <td>10.738462</td>\n",
       "    </tr>\n",
       "    <tr>\n",
       "      <th>2</th>\n",
       "      <td>03112018_SponSleep_LFP</td>\n",
       "      <td>08:to:20</td>\n",
       "      <td>34.104762</td>\n",
       "    </tr>\n",
       "    <tr>\n",
       "      <th>3</th>\n",
       "      <td>03112018_SponSleep_LFP</td>\n",
       "      <td>20:to:08</td>\n",
       "      <td>22.274359</td>\n",
       "    </tr>\n",
       "    <tr>\n",
       "      <th>4</th>\n",
       "      <td>10012019_SponSleep_LFP</td>\n",
       "      <td>08:to:20</td>\n",
       "      <td>9.670833</td>\n",
       "    </tr>\n",
       "    <tr>\n",
       "      <th>5</th>\n",
       "      <td>10012019_SponSleep_LFP</td>\n",
       "      <td>20:to:08</td>\n",
       "      <td>370.833333</td>\n",
       "    </tr>\n",
       "    <tr>\n",
       "      <th>6</th>\n",
       "      <td>11122018_SponSleep_LFP</td>\n",
       "      <td>08:to:20</td>\n",
       "      <td>6.040000</td>\n",
       "    </tr>\n",
       "    <tr>\n",
       "      <th>7</th>\n",
       "      <td>11122018_SponSleep_LFP</td>\n",
       "      <td>20:to:08</td>\n",
       "      <td>7.711111</td>\n",
       "    </tr>\n",
       "    <tr>\n",
       "      <th>8</th>\n",
       "      <td>13032019_SponSleep_LFP</td>\n",
       "      <td>08:to:20</td>\n",
       "      <td>9.615152</td>\n",
       "    </tr>\n",
       "    <tr>\n",
       "      <th>9</th>\n",
       "      <td>13032019_SponSleep_LFP</td>\n",
       "      <td>20:to:08</td>\n",
       "      <td>19.725000</td>\n",
       "    </tr>\n",
       "    <tr>\n",
       "      <th>10</th>\n",
       "      <td>13112018_SponSleep_LFP</td>\n",
       "      <td>08:to:20</td>\n",
       "      <td>NaN</td>\n",
       "    </tr>\n",
       "    <tr>\n",
       "      <th>11</th>\n",
       "      <td>13112018_SponSleep_LFP</td>\n",
       "      <td>20:to:08</td>\n",
       "      <td>19.200000</td>\n",
       "    </tr>\n",
       "    <tr>\n",
       "      <th>12</th>\n",
       "      <td>13122018_SponSleep_LFP</td>\n",
       "      <td>08:to:20</td>\n",
       "      <td>22.750000</td>\n",
       "    </tr>\n",
       "    <tr>\n",
       "      <th>13</th>\n",
       "      <td>13122018_SponSleep_LFP</td>\n",
       "      <td>20:to:08</td>\n",
       "      <td>106.900000</td>\n",
       "    </tr>\n",
       "    <tr>\n",
       "      <th>14</th>\n",
       "      <td>14092018_SponSleep_LFP</td>\n",
       "      <td>08:to:20</td>\n",
       "      <td>11.641026</td>\n",
       "    </tr>\n",
       "    <tr>\n",
       "      <th>15</th>\n",
       "      <td>14092018_SponSleep_LFP</td>\n",
       "      <td>20:to:08</td>\n",
       "      <td>49.805556</td>\n",
       "    </tr>\n",
       "    <tr>\n",
       "      <th>16</th>\n",
       "      <td>17012019_SponSleep_LFP</td>\n",
       "      <td>08:to:20</td>\n",
       "      <td>12.565476</td>\n",
       "    </tr>\n",
       "    <tr>\n",
       "      <th>17</th>\n",
       "      <td>17012019_SponSleep_LFP</td>\n",
       "      <td>20:to:08</td>\n",
       "      <td>271.366667</td>\n",
       "    </tr>\n",
       "    <tr>\n",
       "      <th>18</th>\n",
       "      <td>17092018_SponSleep_LFP</td>\n",
       "      <td>08:to:20</td>\n",
       "      <td>16.250000</td>\n",
       "    </tr>\n",
       "    <tr>\n",
       "      <th>19</th>\n",
       "      <td>17092018_SponSleep_LFP</td>\n",
       "      <td>20:to:08</td>\n",
       "      <td>22.426389</td>\n",
       "    </tr>\n",
       "    <tr>\n",
       "      <th>20</th>\n",
       "      <td>18122018_SponSleep_LFP</td>\n",
       "      <td>08:to:20</td>\n",
       "      <td>24.400000</td>\n",
       "    </tr>\n",
       "    <tr>\n",
       "      <th>21</th>\n",
       "      <td>18122018_SponSleep_LFP</td>\n",
       "      <td>20:to:08</td>\n",
       "      <td>NaN</td>\n",
       "    </tr>\n",
       "    <tr>\n",
       "      <th>22</th>\n",
       "      <td>20022019_SponSleep_LFP</td>\n",
       "      <td>08:to:20</td>\n",
       "      <td>16.729167</td>\n",
       "    </tr>\n",
       "    <tr>\n",
       "      <th>23</th>\n",
       "      <td>20022019_SponSleep_LFP</td>\n",
       "      <td>20:to:08</td>\n",
       "      <td>297.366667</td>\n",
       "    </tr>\n",
       "    <tr>\n",
       "      <th>24</th>\n",
       "      <td>22012019_SponSleep_LFP</td>\n",
       "      <td>08:to:20</td>\n",
       "      <td>11.070833</td>\n",
       "    </tr>\n",
       "    <tr>\n",
       "      <th>25</th>\n",
       "      <td>22012019_SponSleep_LFP</td>\n",
       "      <td>20:to:08</td>\n",
       "      <td>15.559524</td>\n",
       "    </tr>\n",
       "    <tr>\n",
       "      <th>26</th>\n",
       "      <td>27072018_SponSleep_LFP</td>\n",
       "      <td>08:to:20</td>\n",
       "      <td>14.405000</td>\n",
       "    </tr>\n",
       "    <tr>\n",
       "      <th>27</th>\n",
       "      <td>27072018_SponSleep_LFP</td>\n",
       "      <td>20:to:08</td>\n",
       "      <td>26.207143</td>\n",
       "    </tr>\n",
       "    <tr>\n",
       "      <th>28</th>\n",
       "      <td>28112018_SponSleep_LFP</td>\n",
       "      <td>08:to:20</td>\n",
       "      <td>6.377778</td>\n",
       "    </tr>\n",
       "    <tr>\n",
       "      <th>29</th>\n",
       "      <td>28112018_SponSleep_LFP</td>\n",
       "      <td>20:to:08</td>\n",
       "      <td>67.503333</td>\n",
       "    </tr>\n",
       "    <tr>\n",
       "      <th>30</th>\n",
       "      <td>30102018_SponSleep_LFP</td>\n",
       "      <td>08:to:20</td>\n",
       "      <td>13.992857</td>\n",
       "    </tr>\n",
       "    <tr>\n",
       "      <th>31</th>\n",
       "      <td>30102018_SponSleep_LFP</td>\n",
       "      <td>20:to:08</td>\n",
       "      <td>11.551282</td>\n",
       "    </tr>\n",
       "  </tbody>\n",
       "</table>\n",
       "</div>"
      ],
      "text/plain": [
       "                   flyname      zeit        mins\n",
       "0   01112018_SponSleep_LFP  08:to:20   24.250000\n",
       "1   01112018_SponSleep_LFP  20:to:08   10.738462\n",
       "2   03112018_SponSleep_LFP  08:to:20   34.104762\n",
       "3   03112018_SponSleep_LFP  20:to:08   22.274359\n",
       "4   10012019_SponSleep_LFP  08:to:20    9.670833\n",
       "5   10012019_SponSleep_LFP  20:to:08  370.833333\n",
       "6   11122018_SponSleep_LFP  08:to:20    6.040000\n",
       "7   11122018_SponSleep_LFP  20:to:08    7.711111\n",
       "8   13032019_SponSleep_LFP  08:to:20    9.615152\n",
       "9   13032019_SponSleep_LFP  20:to:08   19.725000\n",
       "10  13112018_SponSleep_LFP  08:to:20         NaN\n",
       "11  13112018_SponSleep_LFP  20:to:08   19.200000\n",
       "12  13122018_SponSleep_LFP  08:to:20   22.750000\n",
       "13  13122018_SponSleep_LFP  20:to:08  106.900000\n",
       "14  14092018_SponSleep_LFP  08:to:20   11.641026\n",
       "15  14092018_SponSleep_LFP  20:to:08   49.805556\n",
       "16  17012019_SponSleep_LFP  08:to:20   12.565476\n",
       "17  17012019_SponSleep_LFP  20:to:08  271.366667\n",
       "18  17092018_SponSleep_LFP  08:to:20   16.250000\n",
       "19  17092018_SponSleep_LFP  20:to:08   22.426389\n",
       "20  18122018_SponSleep_LFP  08:to:20   24.400000\n",
       "21  18122018_SponSleep_LFP  20:to:08         NaN\n",
       "22  20022019_SponSleep_LFP  08:to:20   16.729167\n",
       "23  20022019_SponSleep_LFP  20:to:08  297.366667\n",
       "24  22012019_SponSleep_LFP  08:to:20   11.070833\n",
       "25  22012019_SponSleep_LFP  20:to:08   15.559524\n",
       "26  27072018_SponSleep_LFP  08:to:20   14.405000\n",
       "27  27072018_SponSleep_LFP  20:to:08   26.207143\n",
       "28  28112018_SponSleep_LFP  08:to:20    6.377778\n",
       "29  28112018_SponSleep_LFP  20:to:08   67.503333\n",
       "30  30102018_SponSleep_LFP  08:to:20   13.992857\n",
       "31  30102018_SponSleep_LFP  20:to:08   11.551282"
      ]
     },
     "execution_count": 43,
     "metadata": {},
     "output_type": "execute_result"
    }
   ],
   "source": [
    "plot_df"
   ]
  },
  {
   "cell_type": "code",
   "execution_count": 44,
   "metadata": {},
   "outputs": [
    {
     "data": {
      "text/plain": [
       "16"
      ]
     },
     "execution_count": 44,
     "metadata": {},
     "output_type": "execute_result"
    }
   ],
   "source": [
    "len(plot_df['flyname'].unique())"
   ]
  },
  {
   "cell_type": "code",
   "execution_count": null,
   "metadata": {},
   "outputs": [],
   "source": []
  },
  {
   "cell_type": "code",
   "execution_count": 45,
   "metadata": {},
   "outputs": [
    {
     "data": {
      "text/html": [
       "<div>\n",
       "<style scoped>\n",
       "    .dataframe tbody tr th:only-of-type {\n",
       "        vertical-align: middle;\n",
       "    }\n",
       "\n",
       "    .dataframe tbody tr th {\n",
       "        vertical-align: top;\n",
       "    }\n",
       "\n",
       "    .dataframe thead th {\n",
       "        text-align: right;\n",
       "    }\n",
       "</style>\n",
       "<table border=\"1\" class=\"dataframe\">\n",
       "  <thead>\n",
       "    <tr style=\"text-align: right;\">\n",
       "      <th></th>\n",
       "      <th>Contrast</th>\n",
       "      <th>A</th>\n",
       "      <th>B</th>\n",
       "      <th>Paired</th>\n",
       "      <th>Parametric</th>\n",
       "      <th>T</th>\n",
       "      <th>dof</th>\n",
       "      <th>Tail</th>\n",
       "      <th>p-unc</th>\n",
       "      <th>BF10</th>\n",
       "      <th>cohen</th>\n",
       "    </tr>\n",
       "  </thead>\n",
       "  <tbody>\n",
       "    <tr>\n",
       "      <th>0</th>\n",
       "      <td>zeit</td>\n",
       "      <td>08:to:20</td>\n",
       "      <td>20:to:08</td>\n",
       "      <td>True</td>\n",
       "      <td>True</td>\n",
       "      <td>-2.32582</td>\n",
       "      <td>13.0</td>\n",
       "      <td>two-sided</td>\n",
       "      <td>0.036848</td>\n",
       "      <td>1.994</td>\n",
       "      <td>-0.88651</td>\n",
       "    </tr>\n",
       "  </tbody>\n",
       "</table>\n",
       "</div>"
      ],
      "text/plain": [
       "  Contrast         A         B  Paired  Parametric        T   dof       Tail  \\\n",
       "0     zeit  08:to:20  20:to:08    True        True -2.32582  13.0  two-sided   \n",
       "\n",
       "      p-unc   BF10    cohen  \n",
       "0  0.036848  1.994 -0.88651  "
      ]
     },
     "execution_count": 45,
     "metadata": {},
     "output_type": "execute_result"
    }
   ],
   "source": [
    "res = pg.pairwise_ttests(dv='mins', within='zeit',subject='flyname', data=plot_df, effsize = 'cohen')\n",
    "res"
   ]
  },
  {
   "cell_type": "code",
   "execution_count": null,
   "metadata": {},
   "outputs": [],
   "source": []
  },
  {
   "cell_type": "code",
   "execution_count": 46,
   "metadata": {},
   "outputs": [
    {
     "name": "stdout",
     "output_type": "stream",
     "text": [
      "maximum of sleep bout in day (mins): 34.10476190476191\n"
     ]
    }
   ],
   "source": [
    "print('maximum of sleep bout in day (mins):',\n",
    "      np.nanmax(plot_df['mins'][plot_df['zeit'] == '08:to:20'].values))"
   ]
  },
  {
   "cell_type": "code",
   "execution_count": 47,
   "metadata": {},
   "outputs": [
    {
     "name": "stdout",
     "output_type": "stream",
     "text": [
      "median of sleep bout in day (mins): 13.992857142857144\n"
     ]
    }
   ],
   "source": [
    "print('median of sleep bout in day (mins):',\n",
    "      np.nanmedian(plot_df['mins'][plot_df['zeit'] == '08:to:20'].values))"
   ]
  },
  {
   "cell_type": "code",
   "execution_count": 48,
   "metadata": {},
   "outputs": [
    {
     "name": "stdout",
     "output_type": "stream",
     "text": [
      "maximum of sleep bout in night (mins): 370.8333333333333\n"
     ]
    }
   ],
   "source": [
    "print('maximum of sleep bout in night (mins):',\n",
    "      np.nanmax(plot_df['mins'][plot_df['zeit'] == '20:to:08'].values))"
   ]
  },
  {
   "cell_type": "code",
   "execution_count": 49,
   "metadata": {},
   "outputs": [
    {
     "name": "stdout",
     "output_type": "stream",
     "text": [
      "median of sleep bout in night (mins): 22.42638888888889\n"
     ]
    }
   ],
   "source": [
    "print('median of sleep bout in night (mins):',\n",
    "      np.nanmedian(plot_df['mins'][plot_df['zeit'] == '20:to:08'].values))"
   ]
  },
  {
   "cell_type": "code",
   "execution_count": null,
   "metadata": {},
   "outputs": [],
   "source": []
  },
  {
   "cell_type": "code",
   "execution_count": 50,
   "metadata": {},
   "outputs": [],
   "source": [
    "typepal = {'08:to:20':'lime', '20:to:08': 'purple'}"
   ]
  },
  {
   "cell_type": "code",
   "execution_count": 51,
   "metadata": {},
   "outputs": [],
   "source": [
    "sns.set(style=\"ticks\", rc={\"lines.linewidth\": 0.6})"
   ]
  },
  {
   "cell_type": "code",
   "execution_count": 52,
   "metadata": {},
   "outputs": [],
   "source": [
    "def statannotation(ax, x1, x2, y,text, h = 2):\n",
    "    text_offset = 0.5\n",
    "    \n",
    "    line_x, line_y = [x1, x1, x2, x2], [y, y + h, y + h, y]\n",
    "\n",
    "    ax.plot(line_x, line_y, lw=2, c='black')\n",
    "    ann = ax.annotate(text, xy=(np.mean([x1, x2]), y + h),\n",
    "                      xytext=(0, text_offset), textcoords='offset points',\n",
    "                      xycoords='data', ha='center', va='bottom',\n",
    "                      fontsize=label_fontsize-2, clip_on=False, annotation_clip=False)"
   ]
  },
  {
   "cell_type": "code",
   "execution_count": null,
   "metadata": {},
   "outputs": [],
   "source": []
  },
  {
   "cell_type": "code",
   "execution_count": 53,
   "metadata": {},
   "outputs": [
    {
     "data": {
      "image/png": "[encoded data removed]",
      "text/plain": [
       "<Figure size 216x360 with 1 Axes>"
      ]
     },
     "metadata": {},
     "output_type": "display_data"
    }
   ],
   "source": [
    "f, (ax1) = plt.subplots(ncols=1, sharex=True,figsize=(3, 5))\n",
    "\n",
    "ax2 = sns.pointplot(x=\"zeit\",y=\"mins\",hue='flyname',data=plot_df,ax=ax1, dodge=0.0,\n",
    "                    palette=['darkgray'])\n",
    "\n",
    "g1 = sns.boxplot(x=\"zeit\",y=\"mins\",data = plot_df, whis=np.inf, ax=ax1, showbox=True,dodge=False,\n",
    "            meanline=True,showmeans=False, showfliers=True,showcaps=True, \n",
    "            linewidth = 1.25, palette = typepal)\n",
    "sns.stripplot(x=\"zeit\",y=\"mins\",data = plot_df, jitter=False, linewidth=1, ax=ax1,\n",
    "              edgecolor =\"black\",palette=typepal, marker='o', s= 7.5, alpha = 0.5)\n",
    "\n",
    "\n",
    "string_val = '*'\n",
    "\n",
    "statannotation(ax = ax1, x1 = 0, x2 = 1, y = 400, text = string_val, h = 10)\n",
    "\n",
    "\n",
    "ax1.legend_.remove()\n",
    "b = list(ax1.get_children())\n",
    "\n",
    "for patch in ax1.artists:\n",
    "    r, g, b, a = patch.get_facecolor()\n",
    "    patch.set_facecolor((r, g, b, .8))\n",
    "sns.despine(left=True, bottom = True)\n",
    "\n",
    "g1.set(xticklabels=['day', 'night'])\n",
    "\n",
    "ax1.set_ylabel('sleep bout (mins)', fontsize=label_fontsize-2)\n",
    "ax1.set_xlabel('\\n', fontsize=label_fontsize-2)\n",
    "ax1.tick_params(axis='both', which='major', labelsize=label_fontsize-2)\n",
    "\n",
    "plt.tight_layout()\n",
    "plt.box(False)\n",
    "plt.grid(True)\n"
   ]
  },
  {
   "cell_type": "code",
   "execution_count": null,
   "metadata": {},
   "outputs": [],
   "source": []
  },
  {
   "cell_type": "code",
   "execution_count": null,
   "metadata": {},
   "outputs": [],
   "source": []
  },
  {
   "cell_type": "code",
   "execution_count": 54,
   "metadata": {},
   "outputs": [],
   "source": [
    "inputfolderpath = basefolder + \"data/beh_data/movement/8hrs_epoched/\""
   ]
  },
  {
   "cell_type": "code",
   "execution_count": null,
   "metadata": {},
   "outputs": [],
   "source": []
  },
  {
   "cell_type": "code",
   "execution_count": 55,
   "metadata": {},
   "outputs": [
    {
     "data": {
      "text/plain": [
       "(array([738791.33333333, 738791.375     , 738791.41666667, 738791.45833333,\n",
       "        738791.5       , 738791.54166667, 738791.58333333, 738791.625     ,\n",
       "        738791.66666667, 738791.70833333, 738791.75      , 738791.79166667,\n",
       "        738791.83333333, 738791.875     , 738791.91666667, 738791.95833333,\n",
       "        738792.        , 738792.04166667, 738792.08333333, 738792.125     ,\n",
       "        738792.16666667, 738792.20833333, 738792.25      , 738792.29166667,\n",
       "        738792.33333333]),\n",
       " <a list of 25 Text xticklabel objects>)"
      ]
     },
     "execution_count": 55,
     "metadata": {},
     "output_type": "execute_result"
    },
    {
     "data": {
      "image/png": "[encoded data removed]",
      "text/plain": [
       "<Figure size 864x432 with 1 Axes>"
      ]
     },
     "metadata": {},
     "output_type": "display_data"
    }
   ],
   "source": [
    "fig, ax = plt.subplots(figsize=(6*2, 3*2))\n",
    "\n",
    "for f, basefilename in enumerate(basefiles):  # Loop across each fly\n",
    "    inputfilepath = inputfolderpath + basefilename[3:] + \"_merged_epochs.csv\"\n",
    "    \n",
    "    df_timeepochs = pd.read_csv(inputfilepath, index_col = 0)\n",
    "    df_timeepochs['Start_time'] = pd.to_datetime(df_timeepochs['Start_time'], format='%Y-%m-%d %H:%M:%S')\n",
    "    df_timeepochs['End_time'] = pd.to_datetime(df_timeepochs['End_time'], format='%Y-%m-%d %H:%M:%S')\n",
    "    df_timeepochs['Duration'] = df_timeepochs['End_time'] - df_timeepochs['Start_time']\n",
    "\n",
    "    df_timeepochs['Start_time'] = df_timeepochs['Start_time'].dt.strftime('%H:%M:%S')\n",
    "    df_timeepochs['End_time'] = df_timeepochs['End_time'].dt.strftime('%H:%M:%S')\n",
    "    \n",
    "#     print('\\nindex', f)\n",
    "#     print('name', basefilename[3:])\n",
    "#     print('starttime', df_timeepochs.iloc[0]['Start_time'])\n",
    "#     print('endtime', df_timeepochs.iloc[-1]['End_time'])\n",
    "    \n",
    "    if ((pd.to_datetime(df_timeepochs.iloc[0]['Start_time'], format='%H:%M:%S')) <\\\n",
    "        pd.to_datetime('20:00:00', format='%H:%M:%S')) and\\\n",
    "       ((pd.to_datetime(df_timeepochs.iloc[-1]['End_time'], format='%H:%M:%S')) <\\\n",
    "        pd.to_datetime('20:00:00', format='%H:%M:%S')):\n",
    "        #print('day-dayduration')\n",
    "        day_duration = pd.to_datetime(df_timeepochs.iloc[-1]['End_time'], format='%H:%M:%S') -\\\n",
    "                       pd.to_datetime(df_timeepochs.iloc[0]['Start_time'], format='%H:%M:%S')\n",
    "        night_duration = pd.to_datetime(df_timeepochs.iloc[-1]['End_time'], format='%H:%M:%S') -\\\n",
    "                         pd.to_datetime(df_timeepochs.iloc[-1]['End_time'], format='%H:%M:%S')\n",
    "\n",
    "    elif ((pd.to_datetime(df_timeepochs.iloc[0]['Start_time'], format='%H:%M:%S')) <\\\n",
    "        pd.to_datetime('20:00:00', format='%H:%M:%S')) and\\\n",
    "       ((pd.to_datetime(df_timeepochs.iloc[-1]['End_time'], format='%H:%M:%S')) >\\\n",
    "        pd.to_datetime('20:00:00', format='%H:%M:%S')):\n",
    "        #print('day-nightduration')\n",
    "        day_duration = pd.to_datetime('20:00:00', format='%H:%M:%S') -\\\n",
    "                       pd.to_datetime(df_timeepochs.iloc[0]['Start_time'], format='%H:%M:%S')\n",
    "        night_duration = pd.to_datetime(df_timeepochs.iloc[-1]['End_time'], format='%H:%M:%S') -\\\n",
    "                         pd.to_datetime('20:00:00', format='%H:%M:%S')\n",
    "    elif ((pd.to_datetime(df_timeepochs.iloc[0]['Start_time'], format='%H:%M:%S')) >\\\n",
    "        pd.to_datetime('20:00:00', format='%H:%M:%S')) and\\\n",
    "       ((pd.to_datetime(df_timeepochs.iloc[-1]['End_time'], format='%H:%M:%S')) <\\\n",
    "        pd.to_datetime('08:00:00', format='%H:%M:%S')):\n",
    "        #print('night-nightduration')\n",
    "        night_duration = pd.to_datetime(df_timeepochs.iloc[-1]['End_time'], format='%H:%M:%S') -\\\n",
    "                         pd.to_datetime(df_timeepochs.iloc[0]['Start_time'], format='%H:%M:%S') \n",
    "        night_duration = night_duration+ timedelta(days=1)\n",
    "        day_duration =   pd.to_datetime(df_timeepochs.iloc[-1]['End_time'], format='%H:%M:%S') -\\\n",
    "                         pd.to_datetime(df_timeepochs.iloc[-1]['End_time'], format='%H:%M:%S')\n",
    "    elif ((pd.to_datetime(df_timeepochs.iloc[0]['Start_time'], format='%H:%M:%S')) >\\\n",
    "        pd.to_datetime('20:00:00', format='%H:%M:%S')) and\\\n",
    "       ((pd.to_datetime(df_timeepochs.iloc[-1]['End_time'], format='%H:%M:%S')) >\\\n",
    "        pd.to_datetime('08:00:00', format='%H:%M:%S')):\n",
    "        #print('night-dayduration')\n",
    "        night_duration = pd.to_datetime(df_timeepochs.iloc[0]['Start_time'], format='%H:%M:%S') -\\\n",
    "                         pd.to_datetime('08:00:00', format='%H:%M:%S') \n",
    "        day_duration =   pd.to_datetime(df_timeepochs.iloc[-1]['End_time'], format='%H:%M:%S') -\\\n",
    "                         pd.to_datetime('08:00:00', format='%H:%M:%S')\n",
    "        \n",
    "           \n",
    "#     print('day_duration',day_duration)\n",
    "#     print('day_duration -secs',day_duration.total_seconds()/60\n",
    "#     print('night_duration',night_duration)\n",
    "#     print('night_duration -secs',night_duration.total_seconds()/60)\n",
    "    \n",
    "#     agg_sleepperfly.loc[agg_sleepperfly['flyname'] == basefilename[3:],'day_duration'] =\\\n",
    "#                         day_duration.total_seconds()/60\n",
    "#     agg_sleepperfly.loc[agg_sleepperfly['flyname'] == basefilename[3:],'night_duration'] =\\\n",
    "#                         night_duration.total_seconds()/60\n",
    "    \n",
    "    # df_timeepochs['Duration'] = df_timeepochs['Duration'].astype(str).map(lambda x: x[7:])\n",
    "    \n",
    "    # print(basefilename[3:] + ':' + df_timeepochs.iloc[0]['Start_time'])\n",
    "    \n",
    "    df_plotepochs = pd.DataFrame(columns = ['time', 'fly'])\n",
    "    \n",
    "    df_plotepochs['time'] = pd.date_range(start=df_timeepochs.iloc[0]['Start_time'], periods=9, freq='H')\n",
    "    # df_plotepochs['fly'] = str(f+1).zfill(2) \n",
    "    df_plotepochs['fly'] = f'{f+1}' #f'{f+1:02}'\n",
    "    \n",
    "    df_plotepochs['type'] = 'night'\n",
    "    \n",
    "    df_plotepochs.loc[(df_plotepochs['time'].dt.hour>=8) & (df_plotepochs['time'].dt.hour<20),'type'] = 'day'\n",
    "    \n",
    "\n",
    "#     sns.scatterplot(x='time', y='fly', data=df_plotepochs, marker='o', ax = ax, sizes = 1, linewidth=1,\n",
    "#                     edgecolor =\"black\")\n",
    "\n",
    "#     sns.scatterplot(x='time', y='fly', data=df_plotepochs, marker='o', ax = ax, s = 250, linewidth=2,\n",
    "#                         color = 'b', edgecolor =\"black\", palette=daynight_colordict, hue = 'type', alpha = 0.75,\n",
    "#                         legend = False)\n",
    "     \n",
    "        \n",
    "    sns.lineplot(x='time', y='fly', data=df_plotepochs, ax = ax, color =\"black\", alpha = 0)\n",
    "    \n",
    "    if any(df_plotepochs.type == 'day'):\n",
    "        x_daystart = df_plotepochs.time[np.min(np.where(df_plotepochs.type == 'day'))]\n",
    "        y_daystart = f-0.5\n",
    "        day_len = day_duration\n",
    "                  \n",
    "        ax.add_patch(Rectangle(xy=(x_daystart, y_daystart),  # point of origin.\n",
    "                               width=day_len, height=1, linewidth=2,\n",
    "                               color='lime', ec = 'k', fill=True, alpha = 0.5))\n",
    "    \n",
    "    if any(df_plotepochs.type == 'night'):\n",
    "        x_nightstart = df_plotepochs.time[np.max(np.where(df_plotepochs.type == 'night'))]-night_duration\n",
    "        y_nightstart = f-0.5\n",
    "        night_len = night_duration \n",
    "    \n",
    "        ax.add_patch(Rectangle(xy=(x_nightstart, y_nightstart),  # point of origin.\n",
    "                               width=night_len, height=1, linewidth=2,\n",
    "                               color='purple', ec = 'k', fill=True, alpha = 0.5))\n",
    "       \n",
    "    \n",
    "    \n",
    "df_plotepochs = pd.DataFrame(columns = ['time', 'fly'])\n",
    "df_plotepochs['time'] = pd.date_range(start='08:00:00', periods=25, freq='H')\n",
    "df_plotepochs['fly'] = f'{f+1:02}'\n",
    "\n",
    "# sns.lineplot(x='time', y='fly', data=df_plotepochs, ax = ax, color =\"black\", alpha = 0)\n",
    "# sns.scatterplot(x='time', y='fly', data=df_plotepochs, marker='o', ax = ax, sizes = 1, linewidth=1,\n",
    "#                     edgecolor =\"black\")    \n",
    "    \n",
    "    \n",
    "ax.set_xlim(df_plotepochs.iloc[0]['time'], df_plotepochs.iloc[-1]['time'])\n",
    "ax.set_ylim(-0.5, 16.5)\n",
    "\n",
    "# ax.xaxis.set_major_formatter(DateFormatter('%H:%M')) \n",
    "\n",
    "hours = mdates.HourLocator(interval = 1)\n",
    "h_fmt = mdates.DateFormatter('%H:%M')\n",
    "ax.xaxis.set_major_locator(hours)\n",
    "ax.xaxis.set_major_formatter(h_fmt)\n",
    "\n",
    "\n",
    "ax.set_xticklabels(('0', '1', '2', '3', '4', '5', '6', '7', '8', '9', '10', '11', '12',\n",
    "                    '13', '14', '15', '16', '17', '18', '19', '20', '21', '22', '23', '24', '25'))\n",
    "\n",
    "sns.despine(left=True, bottom = True)\n",
    "ax.tick_params(axis='both', which='major', labelsize=label_fontsize-2)\n",
    "plt.ylabel('fly', fontsize=label_fontsize)\n",
    "plt.xlabel('zeitgeber time (hours)', fontsize=label_fontsize)\n",
    "\n",
    "\n",
    "custome_circles = [Line2D([0], [0], marker='s', color='k', label='Circle',\n",
    "                        markerfacecolor='lime', markersize=15, alpha = 0.5),\n",
    "                   Line2D([0], [0], marker='s', color='k', label='Circle',\n",
    "                        markerfacecolor='purple', markersize=15, alpha = 0.5)]\n",
    "\n",
    "ax.legend(custome_circles, ['day', 'night'], fontsize=label_fontsize, loc='upper right')\n",
    "\n",
    "# plt.gca().invert_yaxis()\n",
    "\n",
    "plt.tight_layout()\n",
    "plt.box(False)\n",
    "plt.grid(True)\n",
    "plt.xticks(rotation=0) #90"
   ]
  },
  {
   "cell_type": "code",
   "execution_count": null,
   "metadata": {},
   "outputs": [],
   "source": []
  },
  {
   "cell_type": "code",
   "execution_count": 56,
   "metadata": {},
   "outputs": [
    {
     "data": {
      "text/html": [
       "<div>\n",
       "<style scoped>\n",
       "    .dataframe tbody tr th:only-of-type {\n",
       "        vertical-align: middle;\n",
       "    }\n",
       "\n",
       "    .dataframe tbody tr th {\n",
       "        vertical-align: top;\n",
       "    }\n",
       "\n",
       "    .dataframe thead th {\n",
       "        text-align: right;\n",
       "    }\n",
       "</style>\n",
       "<table border=\"1\" class=\"dataframe\">\n",
       "  <thead>\n",
       "    <tr style=\"text-align: right;\">\n",
       "      <th></th>\n",
       "      <th>time</th>\n",
       "      <th>fly</th>\n",
       "    </tr>\n",
       "  </thead>\n",
       "  <tbody>\n",
       "    <tr>\n",
       "      <th>0</th>\n",
       "      <td>2023-09-28 08:00:00</td>\n",
       "      <td>16</td>\n",
       "    </tr>\n",
       "    <tr>\n",
       "      <th>1</th>\n",
       "      <td>2023-09-28 09:00:00</td>\n",
       "      <td>16</td>\n",
       "    </tr>\n",
       "    <tr>\n",
       "      <th>2</th>\n",
       "      <td>2023-09-28 10:00:00</td>\n",
       "      <td>16</td>\n",
       "    </tr>\n",
       "    <tr>\n",
       "      <th>3</th>\n",
       "      <td>2023-09-28 11:00:00</td>\n",
       "      <td>16</td>\n",
       "    </tr>\n",
       "    <tr>\n",
       "      <th>4</th>\n",
       "      <td>2023-09-28 12:00:00</td>\n",
       "      <td>16</td>\n",
       "    </tr>\n",
       "  </tbody>\n",
       "</table>\n",
       "</div>"
      ],
      "text/plain": [
       "                 time fly\n",
       "0 2023-09-28 08:00:00  16\n",
       "1 2023-09-28 09:00:00  16\n",
       "2 2023-09-28 10:00:00  16\n",
       "3 2023-09-28 11:00:00  16\n",
       "4 2023-09-28 12:00:00  16"
      ]
     },
     "execution_count": 56,
     "metadata": {},
     "output_type": "execute_result"
    }
   ],
   "source": [
    "df_plotepochs.head()"
   ]
  },
  {
   "cell_type": "code",
   "execution_count": null,
   "metadata": {},
   "outputs": [],
   "source": []
  },
  {
   "cell_type": "code",
   "execution_count": 57,
   "metadata": {},
   "outputs": [
    {
     "data": {
      "text/plain": [
       "'27072018_SponSleep_LFP'"
      ]
     },
     "execution_count": 57,
     "metadata": {},
     "output_type": "execute_result"
    }
   ],
   "source": [
    "basefiles[0][3:]"
   ]
  },
  {
   "cell_type": "code",
   "execution_count": 58,
   "metadata": {},
   "outputs": [],
   "source": [
    "csvfolderpath = basefolder + \"data/beh_data/movement/\" + basefiles[0][3:] + \"/\""
   ]
  },
  {
   "cell_type": "code",
   "execution_count": 59,
   "metadata": {},
   "outputs": [],
   "source": [
    "movment_df_01 = pd.read_csv(csvfolderpath + basefiles[0][3:] + '_01_mov.csv')\n",
    "movment_df_02 = pd.read_csv(csvfolderpath + basefiles[0][3:] + '_02_mov.csv')\n",
    "movment_df_03 = pd.read_csv(csvfolderpath + basefiles[0][3:] + '_03_mov.csv')"
   ]
  },
  {
   "cell_type": "code",
   "execution_count": 60,
   "metadata": {},
   "outputs": [],
   "source": [
    "movment_df = pd.concat([movment_df_01, movment_df_02, movment_df_03], ignore_index=True)"
   ]
  },
  {
   "cell_type": "code",
   "execution_count": 61,
   "metadata": {},
   "outputs": [],
   "source": [
    "movment_df['disptime'] = movment_df['Year'].astype(str) + '-'+ movment_df['Month'].astype(str) + '-' +\\\n",
    "                         movment_df['Date'].astype(str) + ' '+ movment_df['Hour'].astype(str)  + ':' +\\\n",
    "                         movment_df['Mins'].astype(str) + ':'+ movment_df['Seconds'].astype(str)\n",
    "movment_df['disptime'] = pd.to_datetime(movment_df['disptime'], format='%Y-%m-%d %H:%M:%S')"
   ]
  },
  {
   "cell_type": "code",
   "execution_count": 62,
   "metadata": {},
   "outputs": [
    {
     "data": {
      "text/html": [
       "<div>\n",
       "<style scoped>\n",
       "    .dataframe tbody tr th:only-of-type {\n",
       "        vertical-align: middle;\n",
       "    }\n",
       "\n",
       "    .dataframe tbody tr th {\n",
       "        vertical-align: top;\n",
       "    }\n",
       "\n",
       "    .dataframe thead th {\n",
       "        text-align: right;\n",
       "    }\n",
       "</style>\n",
       "<table border=\"1\" class=\"dataframe\">\n",
       "  <thead>\n",
       "    <tr style=\"text-align: right;\">\n",
       "      <th></th>\n",
       "      <th>Year</th>\n",
       "      <th>Month</th>\n",
       "      <th>Date</th>\n",
       "      <th>Hour</th>\n",
       "      <th>Mins</th>\n",
       "      <th>Seconds</th>\n",
       "      <th>usec</th>\n",
       "      <th>nFrames</th>\n",
       "      <th>Movement</th>\n",
       "      <th>Area</th>\n",
       "      <th>disptime</th>\n",
       "    </tr>\n",
       "  </thead>\n",
       "  <tbody>\n",
       "    <tr>\n",
       "      <th>0</th>\n",
       "      <td>2018</td>\n",
       "      <td>7</td>\n",
       "      <td>27</td>\n",
       "      <td>15</td>\n",
       "      <td>12</td>\n",
       "      <td>27</td>\n",
       "      <td>278000</td>\n",
       "      <td>1</td>\n",
       "      <td>Still</td>\n",
       "      <td>0.0</td>\n",
       "      <td>2018-07-27 15:12:27</td>\n",
       "    </tr>\n",
       "    <tr>\n",
       "      <th>1</th>\n",
       "      <td>2018</td>\n",
       "      <td>7</td>\n",
       "      <td>27</td>\n",
       "      <td>15</td>\n",
       "      <td>12</td>\n",
       "      <td>27</td>\n",
       "      <td>312000</td>\n",
       "      <td>2</td>\n",
       "      <td>Moved</td>\n",
       "      <td>5144.0</td>\n",
       "      <td>2018-07-27 15:12:27</td>\n",
       "    </tr>\n",
       "    <tr>\n",
       "      <th>2</th>\n",
       "      <td>2018</td>\n",
       "      <td>7</td>\n",
       "      <td>27</td>\n",
       "      <td>15</td>\n",
       "      <td>12</td>\n",
       "      <td>27</td>\n",
       "      <td>385000</td>\n",
       "      <td>3</td>\n",
       "      <td>Still</td>\n",
       "      <td>0.0</td>\n",
       "      <td>2018-07-27 15:12:27</td>\n",
       "    </tr>\n",
       "    <tr>\n",
       "      <th>3</th>\n",
       "      <td>2018</td>\n",
       "      <td>7</td>\n",
       "      <td>27</td>\n",
       "      <td>15</td>\n",
       "      <td>12</td>\n",
       "      <td>27</td>\n",
       "      <td>421000</td>\n",
       "      <td>4</td>\n",
       "      <td>Still</td>\n",
       "      <td>0.0</td>\n",
       "      <td>2018-07-27 15:12:27</td>\n",
       "    </tr>\n",
       "    <tr>\n",
       "      <th>4</th>\n",
       "      <td>2018</td>\n",
       "      <td>7</td>\n",
       "      <td>27</td>\n",
       "      <td>15</td>\n",
       "      <td>12</td>\n",
       "      <td>27</td>\n",
       "      <td>457000</td>\n",
       "      <td>5</td>\n",
       "      <td>Still</td>\n",
       "      <td>0.0</td>\n",
       "      <td>2018-07-27 15:12:27</td>\n",
       "    </tr>\n",
       "    <tr>\n",
       "      <th>...</th>\n",
       "      <td>...</td>\n",
       "      <td>...</td>\n",
       "      <td>...</td>\n",
       "      <td>...</td>\n",
       "      <td>...</td>\n",
       "      <td>...</td>\n",
       "      <td>...</td>\n",
       "      <td>...</td>\n",
       "      <td>...</td>\n",
       "      <td>...</td>\n",
       "      <td>...</td>\n",
       "    </tr>\n",
       "    <tr>\n",
       "      <th>297308</th>\n",
       "      <td>2018</td>\n",
       "      <td>7</td>\n",
       "      <td>27</td>\n",
       "      <td>18</td>\n",
       "      <td>12</td>\n",
       "      <td>27</td>\n",
       "      <td>227000</td>\n",
       "      <td>99159</td>\n",
       "      <td>Still</td>\n",
       "      <td>0.0</td>\n",
       "      <td>2018-07-27 18:12:27</td>\n",
       "    </tr>\n",
       "    <tr>\n",
       "      <th>297309</th>\n",
       "      <td>2018</td>\n",
       "      <td>7</td>\n",
       "      <td>27</td>\n",
       "      <td>18</td>\n",
       "      <td>12</td>\n",
       "      <td>27</td>\n",
       "      <td>263000</td>\n",
       "      <td>99160</td>\n",
       "      <td>Still</td>\n",
       "      <td>0.0</td>\n",
       "      <td>2018-07-27 18:12:27</td>\n",
       "    </tr>\n",
       "    <tr>\n",
       "      <th>297310</th>\n",
       "      <td>2018</td>\n",
       "      <td>7</td>\n",
       "      <td>27</td>\n",
       "      <td>18</td>\n",
       "      <td>12</td>\n",
       "      <td>27</td>\n",
       "      <td>299000</td>\n",
       "      <td>99161</td>\n",
       "      <td>Still</td>\n",
       "      <td>0.0</td>\n",
       "      <td>2018-07-27 18:12:27</td>\n",
       "    </tr>\n",
       "    <tr>\n",
       "      <th>297311</th>\n",
       "      <td>2018</td>\n",
       "      <td>7</td>\n",
       "      <td>27</td>\n",
       "      <td>18</td>\n",
       "      <td>12</td>\n",
       "      <td>27</td>\n",
       "      <td>335000</td>\n",
       "      <td>99162</td>\n",
       "      <td>Still</td>\n",
       "      <td>0.0</td>\n",
       "      <td>2018-07-27 18:12:27</td>\n",
       "    </tr>\n",
       "    <tr>\n",
       "      <th>297312</th>\n",
       "      <td>2018</td>\n",
       "      <td>7</td>\n",
       "      <td>27</td>\n",
       "      <td>18</td>\n",
       "      <td>12</td>\n",
       "      <td>27</td>\n",
       "      <td>371000</td>\n",
       "      <td>99163</td>\n",
       "      <td>Still</td>\n",
       "      <td>0.0</td>\n",
       "      <td>2018-07-27 18:12:27</td>\n",
       "    </tr>\n",
       "  </tbody>\n",
       "</table>\n",
       "<p>297313 rows × 11 columns</p>\n",
       "</div>"
      ],
      "text/plain": [
       "        Year  Month  Date  Hour  Mins  Seconds    usec  nFrames Movement  \\\n",
       "0       2018      7    27    15    12       27  278000        1    Still   \n",
       "1       2018      7    27    15    12       27  312000        2    Moved   \n",
       "2       2018      7    27    15    12       27  385000        3    Still   \n",
       "3       2018      7    27    15    12       27  421000        4    Still   \n",
       "4       2018      7    27    15    12       27  457000        5    Still   \n",
       "...      ...    ...   ...   ...   ...      ...     ...      ...      ...   \n",
       "297308  2018      7    27    18    12       27  227000    99159    Still   \n",
       "297309  2018      7    27    18    12       27  263000    99160    Still   \n",
       "297310  2018      7    27    18    12       27  299000    99161    Still   \n",
       "297311  2018      7    27    18    12       27  335000    99162    Still   \n",
       "297312  2018      7    27    18    12       27  371000    99163    Still   \n",
       "\n",
       "          Area            disptime  \n",
       "0          0.0 2018-07-27 15:12:27  \n",
       "1       5144.0 2018-07-27 15:12:27  \n",
       "2          0.0 2018-07-27 15:12:27  \n",
       "3          0.0 2018-07-27 15:12:27  \n",
       "4          0.0 2018-07-27 15:12:27  \n",
       "...        ...                 ...  \n",
       "297308     0.0 2018-07-27 18:12:27  \n",
       "297309     0.0 2018-07-27 18:12:27  \n",
       "297310     0.0 2018-07-27 18:12:27  \n",
       "297311     0.0 2018-07-27 18:12:27  \n",
       "297312     0.0 2018-07-27 18:12:27  \n",
       "\n",
       "[297313 rows x 11 columns]"
      ]
     },
     "execution_count": 62,
     "metadata": {},
     "output_type": "execute_result"
    }
   ],
   "source": [
    "movment_df"
   ]
  },
  {
   "cell_type": "code",
   "execution_count": 63,
   "metadata": {},
   "outputs": [],
   "source": [
    "plotbeh_df = movment_df.copy()"
   ]
  },
  {
   "cell_type": "code",
   "execution_count": 64,
   "metadata": {},
   "outputs": [],
   "source": [
    "start_time = pd.to_datetime('2018-7-27 17:32:38', format='%Y-%m-%d %H:%M:%S')\n",
    "stop_time =  pd.to_datetime('2018-7-27 18:02:00', format='%Y-%m-%d %H:%M:%S') # add 30 mins to the start_time"
   ]
  },
  {
   "cell_type": "code",
   "execution_count": 65,
   "metadata": {},
   "outputs": [
    {
     "name": "stdout",
     "output_type": "stream",
     "text": [
      "from :  2018-07-27 17:32:38\n",
      "to   :  2018-07-27 18:02:00\n"
     ]
    }
   ],
   "source": [
    "print('from : ',start_time)\n",
    "print('to   : ',stop_time)"
   ]
  },
  {
   "cell_type": "code",
   "execution_count": 66,
   "metadata": {},
   "outputs": [],
   "source": [
    "selectindx = ((plotbeh_df.disptime >= start_time) &\n",
    "             (plotbeh_df.disptime <= stop_time))"
   ]
  },
  {
   "cell_type": "code",
   "execution_count": 67,
   "metadata": {},
   "outputs": [
    {
     "data": {
      "text/html": [
       "<div>\n",
       "<style scoped>\n",
       "    .dataframe tbody tr th:only-of-type {\n",
       "        vertical-align: middle;\n",
       "    }\n",
       "\n",
       "    .dataframe tbody tr th {\n",
       "        vertical-align: top;\n",
       "    }\n",
       "\n",
       "    .dataframe thead th {\n",
       "        text-align: right;\n",
       "    }\n",
       "</style>\n",
       "<table border=\"1\" class=\"dataframe\">\n",
       "  <thead>\n",
       "    <tr style=\"text-align: right;\">\n",
       "      <th></th>\n",
       "      <th>index</th>\n",
       "      <th>Year</th>\n",
       "      <th>Month</th>\n",
       "      <th>Date</th>\n",
       "      <th>Hour</th>\n",
       "      <th>Mins</th>\n",
       "      <th>Seconds</th>\n",
       "      <th>usec</th>\n",
       "      <th>nFrames</th>\n",
       "      <th>Movement</th>\n",
       "      <th>Area</th>\n",
       "      <th>disptime</th>\n",
       "      <th>disptime2</th>\n",
       "    </tr>\n",
       "  </thead>\n",
       "  <tbody>\n",
       "    <tr>\n",
       "      <th>0</th>\n",
       "      <td>231485</td>\n",
       "      <td>2018</td>\n",
       "      <td>7</td>\n",
       "      <td>27</td>\n",
       "      <td>17</td>\n",
       "      <td>32</td>\n",
       "      <td>38</td>\n",
       "      <td>2000</td>\n",
       "      <td>33336</td>\n",
       "      <td>Moved</td>\n",
       "      <td>134.0</td>\n",
       "      <td>17:32:38</td>\n",
       "      <td>2018-07-27 17:32:38</td>\n",
       "    </tr>\n",
       "    <tr>\n",
       "      <th>1</th>\n",
       "      <td>231486</td>\n",
       "      <td>2018</td>\n",
       "      <td>7</td>\n",
       "      <td>27</td>\n",
       "      <td>17</td>\n",
       "      <td>32</td>\n",
       "      <td>38</td>\n",
       "      <td>38000</td>\n",
       "      <td>33337</td>\n",
       "      <td>Moved</td>\n",
       "      <td>86.0</td>\n",
       "      <td>17:32:38</td>\n",
       "      <td>2018-07-27 17:32:38</td>\n",
       "    </tr>\n",
       "    <tr>\n",
       "      <th>2</th>\n",
       "      <td>231487</td>\n",
       "      <td>2018</td>\n",
       "      <td>7</td>\n",
       "      <td>27</td>\n",
       "      <td>17</td>\n",
       "      <td>32</td>\n",
       "      <td>38</td>\n",
       "      <td>74000</td>\n",
       "      <td>33338</td>\n",
       "      <td>Moved</td>\n",
       "      <td>94.0</td>\n",
       "      <td>17:32:38</td>\n",
       "      <td>2018-07-27 17:32:38</td>\n",
       "    </tr>\n",
       "    <tr>\n",
       "      <th>3</th>\n",
       "      <td>231488</td>\n",
       "      <td>2018</td>\n",
       "      <td>7</td>\n",
       "      <td>27</td>\n",
       "      <td>17</td>\n",
       "      <td>32</td>\n",
       "      <td>38</td>\n",
       "      <td>111000</td>\n",
       "      <td>33339</td>\n",
       "      <td>Moved</td>\n",
       "      <td>165.5</td>\n",
       "      <td>17:32:38</td>\n",
       "      <td>2018-07-27 17:32:38</td>\n",
       "    </tr>\n",
       "    <tr>\n",
       "      <th>4</th>\n",
       "      <td>231489</td>\n",
       "      <td>2018</td>\n",
       "      <td>7</td>\n",
       "      <td>27</td>\n",
       "      <td>17</td>\n",
       "      <td>32</td>\n",
       "      <td>38</td>\n",
       "      <td>147000</td>\n",
       "      <td>33340</td>\n",
       "      <td>Still</td>\n",
       "      <td>0.0</td>\n",
       "      <td>17:32:38</td>\n",
       "      <td>2018-07-27 17:32:38</td>\n",
       "    </tr>\n",
       "    <tr>\n",
       "      <th>...</th>\n",
       "      <td>...</td>\n",
       "      <td>...</td>\n",
       "      <td>...</td>\n",
       "      <td>...</td>\n",
       "      <td>...</td>\n",
       "      <td>...</td>\n",
       "      <td>...</td>\n",
       "      <td>...</td>\n",
       "      <td>...</td>\n",
       "      <td>...</td>\n",
       "      <td>...</td>\n",
       "      <td>...</td>\n",
       "      <td>...</td>\n",
       "    </tr>\n",
       "    <tr>\n",
       "      <th>48568</th>\n",
       "      <td>280053</td>\n",
       "      <td>2018</td>\n",
       "      <td>7</td>\n",
       "      <td>27</td>\n",
       "      <td>18</td>\n",
       "      <td>2</td>\n",
       "      <td>0</td>\n",
       "      <td>842000</td>\n",
       "      <td>81904</td>\n",
       "      <td>Still</td>\n",
       "      <td>0.0</td>\n",
       "      <td>18:02:00</td>\n",
       "      <td>2018-07-27 18:02:00</td>\n",
       "    </tr>\n",
       "    <tr>\n",
       "      <th>48569</th>\n",
       "      <td>280054</td>\n",
       "      <td>2018</td>\n",
       "      <td>7</td>\n",
       "      <td>27</td>\n",
       "      <td>18</td>\n",
       "      <td>2</td>\n",
       "      <td>0</td>\n",
       "      <td>878000</td>\n",
       "      <td>81905</td>\n",
       "      <td>Still</td>\n",
       "      <td>0.0</td>\n",
       "      <td>18:02:00</td>\n",
       "      <td>2018-07-27 18:02:00</td>\n",
       "    </tr>\n",
       "    <tr>\n",
       "      <th>48570</th>\n",
       "      <td>280055</td>\n",
       "      <td>2018</td>\n",
       "      <td>7</td>\n",
       "      <td>27</td>\n",
       "      <td>18</td>\n",
       "      <td>2</td>\n",
       "      <td>0</td>\n",
       "      <td>915000</td>\n",
       "      <td>81906</td>\n",
       "      <td>Still</td>\n",
       "      <td>0.0</td>\n",
       "      <td>18:02:00</td>\n",
       "      <td>2018-07-27 18:02:00</td>\n",
       "    </tr>\n",
       "    <tr>\n",
       "      <th>48571</th>\n",
       "      <td>280056</td>\n",
       "      <td>2018</td>\n",
       "      <td>7</td>\n",
       "      <td>27</td>\n",
       "      <td>18</td>\n",
       "      <td>2</td>\n",
       "      <td>0</td>\n",
       "      <td>951000</td>\n",
       "      <td>81907</td>\n",
       "      <td>Still</td>\n",
       "      <td>0.0</td>\n",
       "      <td>18:02:00</td>\n",
       "      <td>2018-07-27 18:02:00</td>\n",
       "    </tr>\n",
       "    <tr>\n",
       "      <th>48572</th>\n",
       "      <td>280057</td>\n",
       "      <td>2018</td>\n",
       "      <td>7</td>\n",
       "      <td>27</td>\n",
       "      <td>18</td>\n",
       "      <td>2</td>\n",
       "      <td>0</td>\n",
       "      <td>987000</td>\n",
       "      <td>81908</td>\n",
       "      <td>Still</td>\n",
       "      <td>0.0</td>\n",
       "      <td>18:02:00</td>\n",
       "      <td>2018-07-27 18:02:00</td>\n",
       "    </tr>\n",
       "  </tbody>\n",
       "</table>\n",
       "<p>48573 rows × 13 columns</p>\n",
       "</div>"
      ],
      "text/plain": [
       "        index  Year  Month  Date  Hour  Mins  Seconds    usec  nFrames  \\\n",
       "0      231485  2018      7    27    17    32       38    2000    33336   \n",
       "1      231486  2018      7    27    17    32       38   38000    33337   \n",
       "2      231487  2018      7    27    17    32       38   74000    33338   \n",
       "3      231488  2018      7    27    17    32       38  111000    33339   \n",
       "4      231489  2018      7    27    17    32       38  147000    33340   \n",
       "...       ...   ...    ...   ...   ...   ...      ...     ...      ...   \n",
       "48568  280053  2018      7    27    18     2        0  842000    81904   \n",
       "48569  280054  2018      7    27    18     2        0  878000    81905   \n",
       "48570  280055  2018      7    27    18     2        0  915000    81906   \n",
       "48571  280056  2018      7    27    18     2        0  951000    81907   \n",
       "48572  280057  2018      7    27    18     2        0  987000    81908   \n",
       "\n",
       "      Movement   Area  disptime           disptime2  \n",
       "0        Moved  134.0  17:32:38 2018-07-27 17:32:38  \n",
       "1        Moved   86.0  17:32:38 2018-07-27 17:32:38  \n",
       "2        Moved   94.0  17:32:38 2018-07-27 17:32:38  \n",
       "3        Moved  165.5  17:32:38 2018-07-27 17:32:38  \n",
       "4        Still    0.0  17:32:38 2018-07-27 17:32:38  \n",
       "...        ...    ...       ...                 ...  \n",
       "48568    Still    0.0  18:02:00 2018-07-27 18:02:00  \n",
       "48569    Still    0.0  18:02:00 2018-07-27 18:02:00  \n",
       "48570    Still    0.0  18:02:00 2018-07-27 18:02:00  \n",
       "48571    Still    0.0  18:02:00 2018-07-27 18:02:00  \n",
       "48572    Still    0.0  18:02:00 2018-07-27 18:02:00  \n",
       "\n",
       "[48573 rows x 13 columns]"
      ]
     },
     "execution_count": 67,
     "metadata": {},
     "output_type": "execute_result"
    }
   ],
   "source": [
    "plotlabels_df = plotbeh_df.loc[selectindx]\n",
    "\n",
    "plotlabels_df.loc[:,'Area'] = plotlabels_df.loc[selectindx, 'Area']\n",
    "\n",
    "plotlabels_df.loc[:,'disptime2'] = plotlabels_df.loc[selectindx, 'disptime']\n",
    "\n",
    "plotlabels_df.loc[:,'disptime'] = pd.to_datetime(plotlabels_df['disptime']).dt.strftime('%H:%M:%S')\n",
    "\n",
    "plotlabels_df = plotlabels_df.reset_index()\n",
    "\n",
    "plotlabels_df"
   ]
  },
  {
   "cell_type": "code",
   "execution_count": null,
   "metadata": {},
   "outputs": [],
   "source": []
  },
  {
   "cell_type": "code",
   "execution_count": 68,
   "metadata": {},
   "outputs": [],
   "source": [
    "import matplotlib.patches as patches"
   ]
  },
  {
   "cell_type": "code",
   "execution_count": null,
   "metadata": {},
   "outputs": [],
   "source": []
  },
  {
   "cell_type": "code",
   "execution_count": 69,
   "metadata": {},
   "outputs": [],
   "source": [
    "awakestart_01 = pd.to_datetime('2018-7-27 17:32:38', format='%Y-%m-%d %H:%M:%S')\n",
    "awakeend_01 =   pd.to_datetime('2018-7-27 17:38:12', format='%Y-%m-%d %H:%M:%S')\n",
    "awakeselectindx_01 = np.where((plotlabels_df.disptime2 >= awakestart_01) &\n",
    "                              (plotlabels_df.disptime2 <= awakeend_01))"
   ]
  },
  {
   "cell_type": "code",
   "execution_count": 70,
   "metadata": {},
   "outputs": [],
   "source": [
    "presleepstart_01 = pd.to_datetime('2018-7-27 17:38:13', format='%Y-%m-%d %H:%M:%S')\n",
    "presleepend_01 =   pd.to_datetime('2018-7-27 17:40:13', format='%Y-%m-%d %H:%M:%S')\n",
    "presleepselectindx_01 = np.where((plotlabels_df.disptime2 >= presleepstart_01) &\n",
    "                                 (plotlabels_df.disptime2 <= presleepend_01))"
   ]
  },
  {
   "cell_type": "code",
   "execution_count": 71,
   "metadata": {},
   "outputs": [],
   "source": [
    "sleepstart_01 = pd.to_datetime('2018-7-27 17:40:13', format='%Y-%m-%d %H:%M:%S')\n",
    "sleepend_01 =   pd.to_datetime('2018-7-27 17:46:04', format='%Y-%m-%d %H:%M:%S')\n",
    "sleepselectindx_01 = np.where((plotlabels_df.disptime2 >= sleepstart_01) &\n",
    "                              (plotlabels_df.disptime2 <= sleepend_01))"
   ]
  },
  {
   "cell_type": "code",
   "execution_count": 72,
   "metadata": {},
   "outputs": [],
   "source": [
    "awakestart_02 = pd.to_datetime('2018-7-27 17:46:05', format='%Y-%m-%d %H:%M:%S')\n",
    "awakeend_02 =   pd.to_datetime('2018-7-27 18:02:24', format='%Y-%m-%d %H:%M:%S')\n",
    "awakeselectindx_02 = np.where((plotlabels_df.disptime2 >= awakestart_02) &\n",
    "                              (plotlabels_df.disptime2 <= awakeend_02))"
   ]
  },
  {
   "cell_type": "code",
   "execution_count": 73,
   "metadata": {},
   "outputs": [],
   "source": [
    "# presleepstart_02 = pd.to_datetime('2018-7-27 22:10:29', format='%Y-%m-%d %H:%M:%S')\n",
    "# presleepend_02 =   pd.to_datetime('2018-7-27 22:12:30', format='%Y-%m-%d %H:%M:%S')\n",
    "# presleepselectindx_02 = np.where((plotlabels_df.disptime2 >= presleepstart_02) &\n",
    "#                                  (plotlabels_df.disptime2 <= presleepend_02))"
   ]
  },
  {
   "cell_type": "code",
   "execution_count": 74,
   "metadata": {},
   "outputs": [],
   "source": [
    "# sleepstart_02 = pd.to_datetime('2018-7-27 22:12:30', format='%Y-%m-%d %H:%M:%S')\n",
    "# sleepend_02 =   pd.to_datetime('2018-7-27 22:17:53', format='%Y-%m-%d %H:%M:%S')\n",
    "# sleepselectindx_02 = np.where((plotlabels_df.disptime2 >= sleepstart_02) &\n",
    "#                               (plotlabels_df.disptime2 <= sleepend_02))"
   ]
  },
  {
   "cell_type": "code",
   "execution_count": 75,
   "metadata": {},
   "outputs": [
    {
     "data": {
      "text/html": [
       "<div>\n",
       "<style scoped>\n",
       "    .dataframe tbody tr th:only-of-type {\n",
       "        vertical-align: middle;\n",
       "    }\n",
       "\n",
       "    .dataframe tbody tr th {\n",
       "        vertical-align: top;\n",
       "    }\n",
       "\n",
       "    .dataframe thead th {\n",
       "        text-align: right;\n",
       "    }\n",
       "</style>\n",
       "<table border=\"1\" class=\"dataframe\">\n",
       "  <thead>\n",
       "    <tr style=\"text-align: right;\">\n",
       "      <th></th>\n",
       "      <th>index</th>\n",
       "      <th>Year</th>\n",
       "      <th>Month</th>\n",
       "      <th>Date</th>\n",
       "      <th>Hour</th>\n",
       "      <th>Mins</th>\n",
       "      <th>Seconds</th>\n",
       "      <th>usec</th>\n",
       "      <th>nFrames</th>\n",
       "      <th>Movement</th>\n",
       "      <th>Area</th>\n",
       "      <th>disptime</th>\n",
       "      <th>disptime2</th>\n",
       "    </tr>\n",
       "  </thead>\n",
       "  <tbody>\n",
       "    <tr>\n",
       "      <th>0</th>\n",
       "      <td>231485</td>\n",
       "      <td>2018</td>\n",
       "      <td>7</td>\n",
       "      <td>27</td>\n",
       "      <td>17</td>\n",
       "      <td>32</td>\n",
       "      <td>38</td>\n",
       "      <td>2000</td>\n",
       "      <td>33336</td>\n",
       "      <td>Moved</td>\n",
       "      <td>134.0</td>\n",
       "      <td>17:32:38</td>\n",
       "      <td>2018-07-27 17:32:38</td>\n",
       "    </tr>\n",
       "    <tr>\n",
       "      <th>1</th>\n",
       "      <td>231486</td>\n",
       "      <td>2018</td>\n",
       "      <td>7</td>\n",
       "      <td>27</td>\n",
       "      <td>17</td>\n",
       "      <td>32</td>\n",
       "      <td>38</td>\n",
       "      <td>38000</td>\n",
       "      <td>33337</td>\n",
       "      <td>Moved</td>\n",
       "      <td>86.0</td>\n",
       "      <td>17:32:38</td>\n",
       "      <td>2018-07-27 17:32:38</td>\n",
       "    </tr>\n",
       "    <tr>\n",
       "      <th>2</th>\n",
       "      <td>231487</td>\n",
       "      <td>2018</td>\n",
       "      <td>7</td>\n",
       "      <td>27</td>\n",
       "      <td>17</td>\n",
       "      <td>32</td>\n",
       "      <td>38</td>\n",
       "      <td>74000</td>\n",
       "      <td>33338</td>\n",
       "      <td>Moved</td>\n",
       "      <td>94.0</td>\n",
       "      <td>17:32:38</td>\n",
       "      <td>2018-07-27 17:32:38</td>\n",
       "    </tr>\n",
       "    <tr>\n",
       "      <th>3</th>\n",
       "      <td>231488</td>\n",
       "      <td>2018</td>\n",
       "      <td>7</td>\n",
       "      <td>27</td>\n",
       "      <td>17</td>\n",
       "      <td>32</td>\n",
       "      <td>38</td>\n",
       "      <td>111000</td>\n",
       "      <td>33339</td>\n",
       "      <td>Moved</td>\n",
       "      <td>165.5</td>\n",
       "      <td>17:32:38</td>\n",
       "      <td>2018-07-27 17:32:38</td>\n",
       "    </tr>\n",
       "    <tr>\n",
       "      <th>4</th>\n",
       "      <td>231489</td>\n",
       "      <td>2018</td>\n",
       "      <td>7</td>\n",
       "      <td>27</td>\n",
       "      <td>17</td>\n",
       "      <td>32</td>\n",
       "      <td>38</td>\n",
       "      <td>147000</td>\n",
       "      <td>33340</td>\n",
       "      <td>Still</td>\n",
       "      <td>0.0</td>\n",
       "      <td>17:32:38</td>\n",
       "      <td>2018-07-27 17:32:38</td>\n",
       "    </tr>\n",
       "  </tbody>\n",
       "</table>\n",
       "</div>"
      ],
      "text/plain": [
       "    index  Year  Month  Date  Hour  Mins  Seconds    usec  nFrames Movement  \\\n",
       "0  231485  2018      7    27    17    32       38    2000    33336    Moved   \n",
       "1  231486  2018      7    27    17    32       38   38000    33337    Moved   \n",
       "2  231487  2018      7    27    17    32       38   74000    33338    Moved   \n",
       "3  231488  2018      7    27    17    32       38  111000    33339    Moved   \n",
       "4  231489  2018      7    27    17    32       38  147000    33340    Still   \n",
       "\n",
       "    Area  disptime           disptime2  \n",
       "0  134.0  17:32:38 2018-07-27 17:32:38  \n",
       "1   86.0  17:32:38 2018-07-27 17:32:38  \n",
       "2   94.0  17:32:38 2018-07-27 17:32:38  \n",
       "3  165.5  17:32:38 2018-07-27 17:32:38  \n",
       "4    0.0  17:32:38 2018-07-27 17:32:38  "
      ]
     },
     "execution_count": 75,
     "metadata": {},
     "output_type": "execute_result"
    }
   ],
   "source": [
    "plotlabels_df.head()"
   ]
  },
  {
   "cell_type": "code",
   "execution_count": null,
   "metadata": {},
   "outputs": [],
   "source": []
  },
  {
   "cell_type": "code",
   "execution_count": 76,
   "metadata": {},
   "outputs": [],
   "source": [
    "def convert2secs(x):\n",
    "    x = x.split(\":\")\n",
    "    if len(x) == 2:\n",
    "        return int(x[0]) * 60 + int(x[1])\n",
    "    return int(x[0]) * 3600 + int(x[1]) * 60 + int(x[2])"
   ]
  },
  {
   "cell_type": "code",
   "execution_count": 77,
   "metadata": {},
   "outputs": [],
   "source": [
    "plotlabels_df[\"disptime_mins\"] = plotlabels_df[\"disptime\"].apply(convert2secs)"
   ]
  },
  {
   "cell_type": "code",
   "execution_count": 78,
   "metadata": {},
   "outputs": [],
   "source": [
    "plotlabels_df[\"disptime_mins\"] = plotlabels_df[\"disptime_mins\"]/60"
   ]
  },
  {
   "cell_type": "code",
   "execution_count": 79,
   "metadata": {},
   "outputs": [],
   "source": [
    "plotlabels_df[\"disptime_mins\"] = plotlabels_df[\"disptime_mins\"] - plotlabels_df[\"disptime_mins\"][0]"
   ]
  },
  {
   "cell_type": "code",
   "execution_count": 80,
   "metadata": {},
   "outputs": [],
   "source": [
    "plotlabels_df.disptime_mins = plotlabels_df.disptime_mins.round(0)"
   ]
  },
  {
   "cell_type": "code",
   "execution_count": 81,
   "metadata": {},
   "outputs": [
    {
     "data": {
      "text/html": [
       "<div>\n",
       "<style scoped>\n",
       "    .dataframe tbody tr th:only-of-type {\n",
       "        vertical-align: middle;\n",
       "    }\n",
       "\n",
       "    .dataframe tbody tr th {\n",
       "        vertical-align: top;\n",
       "    }\n",
       "\n",
       "    .dataframe thead th {\n",
       "        text-align: right;\n",
       "    }\n",
       "</style>\n",
       "<table border=\"1\" class=\"dataframe\">\n",
       "  <thead>\n",
       "    <tr style=\"text-align: right;\">\n",
       "      <th></th>\n",
       "      <th>index</th>\n",
       "      <th>Year</th>\n",
       "      <th>Month</th>\n",
       "      <th>Date</th>\n",
       "      <th>Hour</th>\n",
       "      <th>Mins</th>\n",
       "      <th>Seconds</th>\n",
       "      <th>usec</th>\n",
       "      <th>nFrames</th>\n",
       "      <th>Movement</th>\n",
       "      <th>Area</th>\n",
       "      <th>disptime</th>\n",
       "      <th>disptime2</th>\n",
       "      <th>disptime_mins</th>\n",
       "    </tr>\n",
       "  </thead>\n",
       "  <tbody>\n",
       "    <tr>\n",
       "      <th>0</th>\n",
       "      <td>231485</td>\n",
       "      <td>2018</td>\n",
       "      <td>7</td>\n",
       "      <td>27</td>\n",
       "      <td>17</td>\n",
       "      <td>32</td>\n",
       "      <td>38</td>\n",
       "      <td>2000</td>\n",
       "      <td>33336</td>\n",
       "      <td>Moved</td>\n",
       "      <td>134.0</td>\n",
       "      <td>17:32:38</td>\n",
       "      <td>2018-07-27 17:32:38</td>\n",
       "      <td>0.0</td>\n",
       "    </tr>\n",
       "    <tr>\n",
       "      <th>1</th>\n",
       "      <td>231486</td>\n",
       "      <td>2018</td>\n",
       "      <td>7</td>\n",
       "      <td>27</td>\n",
       "      <td>17</td>\n",
       "      <td>32</td>\n",
       "      <td>38</td>\n",
       "      <td>38000</td>\n",
       "      <td>33337</td>\n",
       "      <td>Moved</td>\n",
       "      <td>86.0</td>\n",
       "      <td>17:32:38</td>\n",
       "      <td>2018-07-27 17:32:38</td>\n",
       "      <td>0.0</td>\n",
       "    </tr>\n",
       "    <tr>\n",
       "      <th>2</th>\n",
       "      <td>231487</td>\n",
       "      <td>2018</td>\n",
       "      <td>7</td>\n",
       "      <td>27</td>\n",
       "      <td>17</td>\n",
       "      <td>32</td>\n",
       "      <td>38</td>\n",
       "      <td>74000</td>\n",
       "      <td>33338</td>\n",
       "      <td>Moved</td>\n",
       "      <td>94.0</td>\n",
       "      <td>17:32:38</td>\n",
       "      <td>2018-07-27 17:32:38</td>\n",
       "      <td>0.0</td>\n",
       "    </tr>\n",
       "    <tr>\n",
       "      <th>3</th>\n",
       "      <td>231488</td>\n",
       "      <td>2018</td>\n",
       "      <td>7</td>\n",
       "      <td>27</td>\n",
       "      <td>17</td>\n",
       "      <td>32</td>\n",
       "      <td>38</td>\n",
       "      <td>111000</td>\n",
       "      <td>33339</td>\n",
       "      <td>Moved</td>\n",
       "      <td>165.5</td>\n",
       "      <td>17:32:38</td>\n",
       "      <td>2018-07-27 17:32:38</td>\n",
       "      <td>0.0</td>\n",
       "    </tr>\n",
       "    <tr>\n",
       "      <th>4</th>\n",
       "      <td>231489</td>\n",
       "      <td>2018</td>\n",
       "      <td>7</td>\n",
       "      <td>27</td>\n",
       "      <td>17</td>\n",
       "      <td>32</td>\n",
       "      <td>38</td>\n",
       "      <td>147000</td>\n",
       "      <td>33340</td>\n",
       "      <td>Still</td>\n",
       "      <td>0.0</td>\n",
       "      <td>17:32:38</td>\n",
       "      <td>2018-07-27 17:32:38</td>\n",
       "      <td>0.0</td>\n",
       "    </tr>\n",
       "  </tbody>\n",
       "</table>\n",
       "</div>"
      ],
      "text/plain": [
       "    index  Year  Month  Date  Hour  Mins  Seconds    usec  nFrames Movement  \\\n",
       "0  231485  2018      7    27    17    32       38    2000    33336    Moved   \n",
       "1  231486  2018      7    27    17    32       38   38000    33337    Moved   \n",
       "2  231487  2018      7    27    17    32       38   74000    33338    Moved   \n",
       "3  231488  2018      7    27    17    32       38  111000    33339    Moved   \n",
       "4  231489  2018      7    27    17    32       38  147000    33340    Still   \n",
       "\n",
       "    Area  disptime           disptime2  disptime_mins  \n",
       "0  134.0  17:32:38 2018-07-27 17:32:38            0.0  \n",
       "1   86.0  17:32:38 2018-07-27 17:32:38            0.0  \n",
       "2   94.0  17:32:38 2018-07-27 17:32:38            0.0  \n",
       "3  165.5  17:32:38 2018-07-27 17:32:38            0.0  \n",
       "4    0.0  17:32:38 2018-07-27 17:32:38            0.0  "
      ]
     },
     "execution_count": 81,
     "metadata": {},
     "output_type": "execute_result"
    }
   ],
   "source": [
    "plotlabels_df.head()"
   ]
  },
  {
   "cell_type": "code",
   "execution_count": 82,
   "metadata": {},
   "outputs": [
    {
     "data": {
      "text/html": [
       "<div>\n",
       "<style scoped>\n",
       "    .dataframe tbody tr th:only-of-type {\n",
       "        vertical-align: middle;\n",
       "    }\n",
       "\n",
       "    .dataframe tbody tr th {\n",
       "        vertical-align: top;\n",
       "    }\n",
       "\n",
       "    .dataframe thead th {\n",
       "        text-align: right;\n",
       "    }\n",
       "</style>\n",
       "<table border=\"1\" class=\"dataframe\">\n",
       "  <thead>\n",
       "    <tr style=\"text-align: right;\">\n",
       "      <th></th>\n",
       "      <th>index</th>\n",
       "      <th>Year</th>\n",
       "      <th>Month</th>\n",
       "      <th>Date</th>\n",
       "      <th>Hour</th>\n",
       "      <th>Mins</th>\n",
       "      <th>Seconds</th>\n",
       "      <th>usec</th>\n",
       "      <th>nFrames</th>\n",
       "      <th>Movement</th>\n",
       "      <th>Area</th>\n",
       "      <th>disptime</th>\n",
       "      <th>disptime2</th>\n",
       "      <th>disptime_mins</th>\n",
       "    </tr>\n",
       "  </thead>\n",
       "  <tbody>\n",
       "    <tr>\n",
       "      <th>48568</th>\n",
       "      <td>280053</td>\n",
       "      <td>2018</td>\n",
       "      <td>7</td>\n",
       "      <td>27</td>\n",
       "      <td>18</td>\n",
       "      <td>2</td>\n",
       "      <td>0</td>\n",
       "      <td>842000</td>\n",
       "      <td>81904</td>\n",
       "      <td>Still</td>\n",
       "      <td>0.0</td>\n",
       "      <td>18:02:00</td>\n",
       "      <td>2018-07-27 18:02:00</td>\n",
       "      <td>29.0</td>\n",
       "    </tr>\n",
       "    <tr>\n",
       "      <th>48569</th>\n",
       "      <td>280054</td>\n",
       "      <td>2018</td>\n",
       "      <td>7</td>\n",
       "      <td>27</td>\n",
       "      <td>18</td>\n",
       "      <td>2</td>\n",
       "      <td>0</td>\n",
       "      <td>878000</td>\n",
       "      <td>81905</td>\n",
       "      <td>Still</td>\n",
       "      <td>0.0</td>\n",
       "      <td>18:02:00</td>\n",
       "      <td>2018-07-27 18:02:00</td>\n",
       "      <td>29.0</td>\n",
       "    </tr>\n",
       "    <tr>\n",
       "      <th>48570</th>\n",
       "      <td>280055</td>\n",
       "      <td>2018</td>\n",
       "      <td>7</td>\n",
       "      <td>27</td>\n",
       "      <td>18</td>\n",
       "      <td>2</td>\n",
       "      <td>0</td>\n",
       "      <td>915000</td>\n",
       "      <td>81906</td>\n",
       "      <td>Still</td>\n",
       "      <td>0.0</td>\n",
       "      <td>18:02:00</td>\n",
       "      <td>2018-07-27 18:02:00</td>\n",
       "      <td>29.0</td>\n",
       "    </tr>\n",
       "    <tr>\n",
       "      <th>48571</th>\n",
       "      <td>280056</td>\n",
       "      <td>2018</td>\n",
       "      <td>7</td>\n",
       "      <td>27</td>\n",
       "      <td>18</td>\n",
       "      <td>2</td>\n",
       "      <td>0</td>\n",
       "      <td>951000</td>\n",
       "      <td>81907</td>\n",
       "      <td>Still</td>\n",
       "      <td>0.0</td>\n",
       "      <td>18:02:00</td>\n",
       "      <td>2018-07-27 18:02:00</td>\n",
       "      <td>29.0</td>\n",
       "    </tr>\n",
       "    <tr>\n",
       "      <th>48572</th>\n",
       "      <td>280057</td>\n",
       "      <td>2018</td>\n",
       "      <td>7</td>\n",
       "      <td>27</td>\n",
       "      <td>18</td>\n",
       "      <td>2</td>\n",
       "      <td>0</td>\n",
       "      <td>987000</td>\n",
       "      <td>81908</td>\n",
       "      <td>Still</td>\n",
       "      <td>0.0</td>\n",
       "      <td>18:02:00</td>\n",
       "      <td>2018-07-27 18:02:00</td>\n",
       "      <td>29.0</td>\n",
       "    </tr>\n",
       "  </tbody>\n",
       "</table>\n",
       "</div>"
      ],
      "text/plain": [
       "        index  Year  Month  Date  Hour  Mins  Seconds    usec  nFrames  \\\n",
       "48568  280053  2018      7    27    18     2        0  842000    81904   \n",
       "48569  280054  2018      7    27    18     2        0  878000    81905   \n",
       "48570  280055  2018      7    27    18     2        0  915000    81906   \n",
       "48571  280056  2018      7    27    18     2        0  951000    81907   \n",
       "48572  280057  2018      7    27    18     2        0  987000    81908   \n",
       "\n",
       "      Movement  Area  disptime           disptime2  disptime_mins  \n",
       "48568    Still   0.0  18:02:00 2018-07-27 18:02:00           29.0  \n",
       "48569    Still   0.0  18:02:00 2018-07-27 18:02:00           29.0  \n",
       "48570    Still   0.0  18:02:00 2018-07-27 18:02:00           29.0  \n",
       "48571    Still   0.0  18:02:00 2018-07-27 18:02:00           29.0  \n",
       "48572    Still   0.0  18:02:00 2018-07-27 18:02:00           29.0  "
      ]
     },
     "execution_count": 82,
     "metadata": {},
     "output_type": "execute_result"
    }
   ],
   "source": [
    "plotlabels_df.tail()"
   ]
  },
  {
   "cell_type": "code",
   "execution_count": null,
   "metadata": {},
   "outputs": [],
   "source": []
  },
  {
   "cell_type": "code",
   "execution_count": null,
   "metadata": {},
   "outputs": [],
   "source": []
  },
  {
   "cell_type": "code",
   "execution_count": null,
   "metadata": {},
   "outputs": [],
   "source": []
  },
  {
   "cell_type": "code",
   "execution_count": 83,
   "metadata": {},
   "outputs": [
    {
     "name": "stderr",
     "output_type": "stream",
     "text": [
      "/home/srj34/deeplabcut-env/lib/python3.6/site-packages/pandas/core/indexes/range.py:720: FutureWarning: Support for multi-dimensional indexing (e.g. `obj[:, None]`) is deprecated and will be removed in a future version.  Convert to a numpy array before indexing instead.\n",
      "  return super().__getitem__(key)\n",
      "/home/srj34/deeplabcut-env/lib/python3.6/site-packages/matplotlib/cbook/__init__.py:1377: FutureWarning: Support for multi-dimensional indexing (e.g. `obj[:, None]`) is deprecated and will be removed in a future version.  Convert to a numpy array before indexing instead.\n",
      "  x[:, None]\n",
      "/home/srj34/deeplabcut-env/lib/python3.6/site-packages/matplotlib/axes/_base.py:239: FutureWarning: Support for multi-dimensional indexing (e.g. `obj[:, None]`) is deprecated and will be removed in a future version.  Convert to a numpy array before indexing instead.\n",
      "  y = y[:, np.newaxis]\n"
     ]
    },
    {
     "data": {
      "text/plain": [
       "(0, 25000)"
      ]
     },
     "execution_count": 83,
     "metadata": {},
     "output_type": "execute_result"
    },
    {
     "data": {
      "image/png": "[encoded data removed]",
      "text/plain": [
       "<Figure size 1512x756 with 1 Axes>"
      ]
     },
     "metadata": {},
     "output_type": "display_data"
    }
   ],
   "source": [
    "fig, ax = plt.subplots(figsize=(21, 7*1.5))\n",
    "\n",
    "ax.plot(plotlabels_df.index,plotlabels_df['Area'],color='green', alpha = 0.6)\n",
    "plt.xticks(plotlabels_df.index[0::2500],np.asarray(plotlabels_df[\"disptime_mins\"].values[0::2500], dtype = 'int'))\n",
    "plt.setp(ax.get_xticklabels(), rotation=0)\n",
    "\n",
    "ax.margins(x=0)\n",
    "\n",
    "sns.despine(left=True, bottom = True)\n",
    "\n",
    "ax.add_patch(patches.Rectangle(xy=(np.min(awakeselectindx_01), 1400),  # point of origin.\n",
    "                               width=len(awakeselectindx_01[0])+ len(presleepselectindx_01[0]), \n",
    "                               height=200, linewidth=4,\n",
    "                              color='#b34d4d', ec = 'k', fill=True, alpha = 0.5))\n",
    "\n",
    "# ax.add_patch(patches.Rectangle(xy=(np.min(presleepselectindx_01), 1400),  # point of origin.\n",
    "#                                width=len(presleepselectindx_01[0]), height=200, linewidth=4,\n",
    "#                               color='#f2ad0d', ec = 'k', fill=True, alpha = 0.5))\n",
    "\n",
    "\n",
    "ax.add_patch(patches.Rectangle(xy=(np.min(sleepselectindx_01), 1400),  # point of origin.\n",
    "                               width=len(sleepselectindx_01[0]), height=200, linewidth=4,\n",
    "                              color='#0d28f2', ec = 'k', fill=True, alpha = 0.5))\n",
    "\n",
    "ax.add_patch(patches.Rectangle(xy=(np.min(awakeselectindx_02), 1400),  # point of origin.\n",
    "                               width=len(awakeselectindx_02[0]), height=200, linewidth=4,\n",
    "                              color='#b34d4d', ec = 'k', fill=True, alpha = 0.5))\n",
    "\n",
    "# ax.add_patch(patches.Rectangle(xy=(np.min(presleepselectindx_02), 1400),  # point of origin.\n",
    "#                                width=len(presleepselectindx_02[0]), height=200, linewidth=4,\n",
    "#                               color='#f2ad0d', ec = 'k', fill=True, alpha = 0.5))\n",
    "\n",
    "\n",
    "# ax.add_patch(patches.Rectangle(xy=(np.min(sleepselectindx_02), 1400),  # point of origin.\n",
    "#                                width=len(sleepselectindx_02[0]), height=200, linewidth=4,\n",
    "#                               color='#0d28f2', ec = 'k', fill=True, alpha = 0.5))\n",
    "\n",
    "ax.set_ylim([0, 1850])\n",
    "\n",
    "plt.tight_layout()\n",
    "plt.box(False)\n",
    "plt.grid(True)\n",
    "\n",
    "ax.set_ylabel('\\nmovement (au)', fontsize=label_fontsize+12)\n",
    "ax.set_xlabel('\\ntime (mins)', fontsize=label_fontsize+12)\n",
    "ax.tick_params(axis='both', which='major', labelsize=label_fontsize+12)\n",
    "\n",
    "ax.set_xlim([0, 25000])"
   ]
  },
  {
   "cell_type": "code",
   "execution_count": null,
   "metadata": {},
   "outputs": [],
   "source": []
  },
  {
   "cell_type": "code",
   "execution_count": null,
   "metadata": {},
   "outputs": [],
   "source": []
  },
  {
   "cell_type": "code",
   "execution_count": 84,
   "metadata": {},
   "outputs": [],
   "source": [
    "def activityperrechour(movfolderpath):\n",
    "    \n",
    "    \n",
    "    df_mov = pd.read_csv(movfolderpath, index_col = 0)\n",
    "    df_mov['date_time'] = pd.to_datetime(df_mov['disptime'], format='%Y-%m-%d %H:%M:%S')\n",
    "    df_mov.drop('disptime', inplace = True, axis = 1)\n",
    "    df_mov['hour_min'] = df_mov['date_time'].dt.hour\n",
    "    df_mov['hour_min'] = df_mov['hour_min'] + (df_mov['date_time'].dt.minute)/100\n",
    "\n",
    "\n",
    "    rollover = df_mov['date_time'].dt.hour < df_mov['date_time'].iloc[0].hour\n",
    "    if (any(rollover)):\n",
    "        print('\\nrollover occured')\n",
    "        \n",
    "    df_mov['hours'] = df_mov['date_time'].dt.hour\n",
    "    df_mov['hours'][rollover] = df_mov['hours'][rollover] + 24\n",
    "    df_mov['seconds'] = df_mov['hours']*3600 + (df_mov['date_time'].dt.minute)*60\n",
    "    df_mov['seconds'] = df_mov['seconds'] - np.min(df_mov['seconds'])\n",
    "\n",
    "    df_mov['normhours'] = df_mov['seconds']/3600\n",
    "\n",
    "\n",
    "    df_agg = df_mov.pivot_table(index = ['normhours'], values = ['Moved', 'Still'], aggfunc = 'sum')\n",
    "    df_agg['prop'] = 1000*(df_agg['Moved']/(df_agg['Moved']+df_agg['Still']))\n",
    "    df_agg['prop_zscore'] = (df_agg['prop'] - df_agg['prop'].mean())/df_agg['prop'].std(ddof=0)\n",
    "\n",
    "    df_agg = df_agg.reset_index()\n",
    "    \n",
    "    max_time = int(df_agg['normhours'].max())\n",
    "    intervals = [i for i in range(0, max_time + 1, 1)]\n",
    "    \n",
    "    df_agg['time_interval'] = pd.cut(df_agg['normhours'], intervals, include_lowest=True)\n",
    "\n",
    "\n",
    "    # group the dataframe by time intervals and calculate the mean\n",
    "    df_average = df_agg.groupby(['time_interval'])['prop_zscore'].mean()\n",
    "\n",
    "    df_average = df_average.reset_index()\n",
    "\n",
    "    # Create a new column with max value of time interval\n",
    "    df_average['time_interval2'] = df_average['time_interval'].apply(lambda x: x.right - 1.0)\n",
    "    \n",
    "    \n",
    "    return df_agg, df_average"
   ]
  },
  {
   "cell_type": "code",
   "execution_count": null,
   "metadata": {},
   "outputs": [],
   "source": []
  },
  {
   "cell_type": "code",
   "execution_count": null,
   "metadata": {},
   "outputs": [],
   "source": []
  },
  {
   "cell_type": "code",
   "execution_count": 85,
   "metadata": {},
   "outputs": [
    {
     "name": "stdout",
     "output_type": "stream",
     "text": [
      "27072018_SponSleep_LFP\n",
      "\n",
      "rollover occured\n",
      "14092018_SponSleep_LFP\n",
      "17092018_SponSleep_LFP\n",
      "30102018_SponSleep_LFP\n",
      "\n",
      "rollover occured\n",
      "01112018_SponSleep_LFP\n",
      "\n",
      "rollover occured\n",
      "03112018_SponSleep_LFP\n",
      "\n",
      "rollover occured\n",
      "13112018_SponSleep_LFP\n",
      "\n",
      "rollover occured\n",
      "28112018_SponSleep_LFP\n",
      "11122018_SponSleep_LFP\n",
      "\n",
      "rollover occured\n",
      "13122018_SponSleep_LFP\n",
      "18122018_SponSleep_LFP\n",
      "10012019_SponSleep_LFP\n",
      "17012019_SponSleep_LFP\n",
      "22012019_SponSleep_LFP\n",
      "20022019_SponSleep_LFP\n",
      "13032019_SponSleep_LFP\n"
     ]
    }
   ],
   "source": [
    "df_recavgall = pd.DataFrame(columns = ['Moved', 'Still', 'prop', 'prop_zscore'])\n",
    "df_recavgperflyall = pd.DataFrame(columns = ['flyname','time_interval2', 'prop_zscore'])\n",
    "for f, basefilename in enumerate(basefiles):  # Loop across each fly\n",
    "    movfolderpath = basefolder + \"data/beh_data/movement/circrhythm/\" +\\\n",
    "                    basefilename[3:] + \"_circrhythm.csv\"\n",
    "    print(basefilename[3:])\n",
    "    df_aggtemp, df_avgtemp =  activityperrechour(movfolderpath)\n",
    "    df_avgtemp['flyname'] = basefilename[3:]\n",
    "    \n",
    "    df_avgperfly = df_avgtemp[['time_interval2','prop_zscore']]\n",
    "    df_avgperfly['flyname'] = df_avgtemp['flyname'][0]\n",
    "    \n",
    "    \n",
    "    df_recavgperflyall = df_recavgperflyall.append(df_avgperfly)\n",
    "    \n",
    "    df_recavgall = df_recavgall.append(df_avgtemp)"
   ]
  },
  {
   "cell_type": "code",
   "execution_count": null,
   "metadata": {},
   "outputs": [],
   "source": []
  },
  {
   "cell_type": "code",
   "execution_count": 86,
   "metadata": {},
   "outputs": [],
   "source": [
    "df_recavgperflyall = df_recavgperflyall[df_recavgperflyall['time_interval2']<=7]"
   ]
  },
  {
   "cell_type": "code",
   "execution_count": 87,
   "metadata": {},
   "outputs": [],
   "source": [
    "df_recavgperflyall['time_interval2'] = df_recavgperflyall['time_interval2'].astype('int')\n",
    "df_recavgperflyall['time_interval2'] = df_recavgperflyall['time_interval2'] + 1"
   ]
  },
  {
   "cell_type": "code",
   "execution_count": 88,
   "metadata": {},
   "outputs": [],
   "source": [
    "# Convert eventtype to string and format as '01', '02', etc\n",
    "df_recavgperflyall['rechours'] = df_recavgperflyall['time_interval2'].astype(str).str.zfill(1)"
   ]
  },
  {
   "cell_type": "code",
   "execution_count": 89,
   "metadata": {},
   "outputs": [],
   "source": [
    "df_recavgperflyall = df_recavgperflyall.drop('time_interval2', axis=1)"
   ]
  },
  {
   "cell_type": "code",
   "execution_count": 90,
   "metadata": {},
   "outputs": [
    {
     "data": {
      "text/html": [
       "<div>\n",
       "<style scoped>\n",
       "    .dataframe tbody tr th:only-of-type {\n",
       "        vertical-align: middle;\n",
       "    }\n",
       "\n",
       "    .dataframe tbody tr th {\n",
       "        vertical-align: top;\n",
       "    }\n",
       "\n",
       "    .dataframe thead th {\n",
       "        text-align: right;\n",
       "    }\n",
       "</style>\n",
       "<table border=\"1\" class=\"dataframe\">\n",
       "  <thead>\n",
       "    <tr style=\"text-align: right;\">\n",
       "      <th></th>\n",
       "      <th>flyname</th>\n",
       "      <th>prop_zscore</th>\n",
       "      <th>rechours</th>\n",
       "    </tr>\n",
       "  </thead>\n",
       "  <tbody>\n",
       "    <tr>\n",
       "      <th>0</th>\n",
       "      <td>27072018_SponSleep_LFP</td>\n",
       "      <td>-0.095977</td>\n",
       "      <td>1</td>\n",
       "    </tr>\n",
       "    <tr>\n",
       "      <th>1</th>\n",
       "      <td>27072018_SponSleep_LFP</td>\n",
       "      <td>-0.385757</td>\n",
       "      <td>2</td>\n",
       "    </tr>\n",
       "    <tr>\n",
       "      <th>2</th>\n",
       "      <td>27072018_SponSleep_LFP</td>\n",
       "      <td>-0.284828</td>\n",
       "      <td>3</td>\n",
       "    </tr>\n",
       "    <tr>\n",
       "      <th>3</th>\n",
       "      <td>27072018_SponSleep_LFP</td>\n",
       "      <td>-0.435822</td>\n",
       "      <td>4</td>\n",
       "    </tr>\n",
       "    <tr>\n",
       "      <th>4</th>\n",
       "      <td>27072018_SponSleep_LFP</td>\n",
       "      <td>-0.017530</td>\n",
       "      <td>5</td>\n",
       "    </tr>\n",
       "    <tr>\n",
       "      <th>...</th>\n",
       "      <td>...</td>\n",
       "      <td>...</td>\n",
       "      <td>...</td>\n",
       "    </tr>\n",
       "    <tr>\n",
       "      <th>3</th>\n",
       "      <td>13032019_SponSleep_LFP</td>\n",
       "      <td>0.426267</td>\n",
       "      <td>4</td>\n",
       "    </tr>\n",
       "    <tr>\n",
       "      <th>4</th>\n",
       "      <td>13032019_SponSleep_LFP</td>\n",
       "      <td>-0.426671</td>\n",
       "      <td>5</td>\n",
       "    </tr>\n",
       "    <tr>\n",
       "      <th>5</th>\n",
       "      <td>13032019_SponSleep_LFP</td>\n",
       "      <td>-0.489652</td>\n",
       "      <td>6</td>\n",
       "    </tr>\n",
       "    <tr>\n",
       "      <th>6</th>\n",
       "      <td>13032019_SponSleep_LFP</td>\n",
       "      <td>-0.599756</td>\n",
       "      <td>7</td>\n",
       "    </tr>\n",
       "    <tr>\n",
       "      <th>7</th>\n",
       "      <td>13032019_SponSleep_LFP</td>\n",
       "      <td>-0.568226</td>\n",
       "      <td>8</td>\n",
       "    </tr>\n",
       "  </tbody>\n",
       "</table>\n",
       "<p>128 rows × 3 columns</p>\n",
       "</div>"
      ],
      "text/plain": [
       "                   flyname  prop_zscore rechours\n",
       "0   27072018_SponSleep_LFP    -0.095977        1\n",
       "1   27072018_SponSleep_LFP    -0.385757        2\n",
       "2   27072018_SponSleep_LFP    -0.284828        3\n",
       "3   27072018_SponSleep_LFP    -0.435822        4\n",
       "4   27072018_SponSleep_LFP    -0.017530        5\n",
       "..                     ...          ...      ...\n",
       "3   13032019_SponSleep_LFP     0.426267        4\n",
       "4   13032019_SponSleep_LFP    -0.426671        5\n",
       "5   13032019_SponSleep_LFP    -0.489652        6\n",
       "6   13032019_SponSleep_LFP    -0.599756        7\n",
       "7   13032019_SponSleep_LFP    -0.568226        8\n",
       "\n",
       "[128 rows x 3 columns]"
      ]
     },
     "execution_count": 90,
     "metadata": {},
     "output_type": "execute_result"
    }
   ],
   "source": [
    "df_recavgperflyall"
   ]
  },
  {
   "cell_type": "code",
   "execution_count": null,
   "metadata": {},
   "outputs": [],
   "source": []
  },
  {
   "cell_type": "code",
   "execution_count": 91,
   "metadata": {},
   "outputs": [],
   "source": [
    "%R -i df_recavgperflyall"
   ]
  },
  {
   "cell_type": "code",
   "execution_count": 92,
   "metadata": {},
   "outputs": [
    {
     "name": "stdout",
     "output_type": "stream",
     "text": [
      "                 flyname prop_zscore rechours\n",
      "1 27072018_SponSleep_LFP -0.09597748        1\n",
      "2 27072018_SponSleep_LFP -0.38575679        2\n",
      "3 27072018_SponSleep_LFP -0.28482800        3\n",
      "4 27072018_SponSleep_LFP -0.43582183        4\n",
      "5 27072018_SponSleep_LFP -0.01752974        5\n",
      "6 27072018_SponSleep_LFP -0.20426782        6\n"
     ]
    }
   ],
   "source": [
    "%%R\n",
    "head(df_recavgperflyall)"
   ]
  },
  {
   "cell_type": "code",
   "execution_count": null,
   "metadata": {},
   "outputs": [],
   "source": []
  },
  {
   "cell_type": "code",
   "execution_count": 93,
   "metadata": {},
   "outputs": [
    {
     "name": "stderr",
     "output_type": "stream",
     "text": [
      "R[write to console]: boundary (singular) fit: see ?isSingular\n",
      "\n",
      "R[write to console]: boundary (singular) fit: see ?isSingular\n",
      "\n"
     ]
    }
   ],
   "source": [
    "%%R\n",
    "model.null = lmer(prop_zscore ~ 1 + (1|flyname), data=df_recavgperflyall,\n",
    "                  REML=FALSE)\n",
    "\n",
    "model.rectime = lmer(prop_zscore ~ rechours + (1|flyname), data=df_recavgperflyall,\n",
    "                  REML=FALSE)"
   ]
  },
  {
   "cell_type": "code",
   "execution_count": 94,
   "metadata": {},
   "outputs": [
    {
     "name": "stdout",
     "output_type": "stream",
     "text": [
      "Data: df_recavgperflyall\n",
      "Models:\n",
      "model.null: prop_zscore ~ 1 + (1 | flyname)\n",
      "model.rectime: prop_zscore ~ rechours + (1 | flyname)\n",
      "              Df    AIC    BIC  logLik deviance  Chisq Chi Df Pr(>Chisq)   \n",
      "model.null     3 159.05 167.61 -76.525   153.05                            \n",
      "model.rectime 10 149.77 178.29 -64.886   129.77 23.278      7   0.001524 **\n",
      "---\n",
      "Signif. codes:  0 ‘***’ 0.001 ‘**’ 0.01 ‘*’ 0.05 ‘.’ 0.1 ‘ ’ 1\n"
     ]
    }
   ],
   "source": [
    "%%R\n",
    "#compare the null model, with the rectime model..\n",
    "print(anova(model.null,model.rectime))"
   ]
  },
  {
   "cell_type": "code",
   "execution_count": 95,
   "metadata": {},
   "outputs": [
    {
     "name": "stdout",
     "output_type": "stream",
     "text": [
      "Type III Analysis of Variance Table with Satterthwaite's method\n",
      "         Sum Sq Mean Sq NumDF DenDF F value   Pr(>F)   \n",
      "rechours 4.1198 0.58854     7   128  3.6471 0.001274 **\n",
      "---\n",
      "Signif. codes:  0 ‘***’ 0.001 ‘**’ 0.01 ‘*’ 0.05 ‘.’ 0.1 ‘ ’ 1\n"
     ]
    }
   ],
   "source": [
    "%%R\n",
    "#the above analysis show that the rectime model is the most likely model..\n",
    "#let's analyse the same..\n",
    "print(anova(model.rectime))"
   ]
  },
  {
   "cell_type": "code",
   "execution_count": null,
   "metadata": {},
   "outputs": [],
   "source": []
  },
  {
   "cell_type": "code",
   "execution_count": 96,
   "metadata": {},
   "outputs": [
    {
     "name": "stdout",
     "output_type": "stream",
     "text": [
      "           R2m       R2c\n",
      "[1,] 0.1673742 0.1673742\n"
     ]
    }
   ],
   "source": [
    "%%R\n",
    "library(\"MuMIn\")\n",
    "r.squaredGLMM(model.rectime)"
   ]
  },
  {
   "cell_type": "code",
   "execution_count": 97,
   "metadata": {},
   "outputs": [
    {
     "name": "stdout",
     "output_type": "stream",
     "text": [
      "NULL\n"
     ]
    }
   ],
   "source": [
    "%%R\n",
    "#the above table shows that there is a main effect of recording time; let's find out more.."
   ]
  },
  {
   "cell_type": "code",
   "execution_count": null,
   "metadata": {},
   "outputs": [],
   "source": []
  },
  {
   "cell_type": "code",
   "execution_count": 98,
   "metadata": {},
   "outputs": [
    {
     "name": "stderr",
     "output_type": "stream",
     "text": [
      "R[write to console]: boundary (singular) fit: see ?isSingular\n",
      "\n"
     ]
    },
    {
     "name": "stdout",
     "output_type": "stream",
     "text": [
      "\n",
      "\t Simultaneous Tests for General Linear Hypotheses\n",
      "\n",
      "Multiple Comparisons of Means: Tukey Contrasts\n",
      "\n",
      "\n",
      "Fit: lmer(formula = prop_zscore ~ rechours + (1 | flyname), data = df_recavgperflyall, \n",
      "    REML = FALSE)\n",
      "\n",
      "Linear Hypotheses:\n",
      "           Estimate Std. Error z value Pr(>|z|)    \n",
      "2 - 1 == 0 -0.44638    0.14203  -3.143  0.03565 *  \n",
      "3 - 1 == 0 -0.52729    0.14203  -3.713  0.00499 ** \n",
      "4 - 1 == 0 -0.37300    0.14203  -2.626  0.14677    \n",
      "5 - 1 == 0 -0.43501    0.14203  -3.063  0.04529 *  \n",
      "6 - 1 == 0 -0.46219    0.14203  -3.254  0.02528 *  \n",
      "7 - 1 == 0 -0.55771    0.14203  -3.927  0.00220 ** \n",
      "8 - 1 == 0 -0.63551    0.14203  -4.475  < 0.001 ***\n",
      "3 - 2 == 0 -0.08091    0.14203  -0.570  0.99921    \n",
      "4 - 2 == 0  0.07338    0.14203   0.517  0.99958    \n",
      "5 - 2 == 0  0.01137    0.14203   0.080  1.00000    \n",
      "6 - 2 == 0 -0.01581    0.14203  -0.111  1.00000    \n",
      "7 - 2 == 0 -0.11133    0.14203  -0.784  0.99397    \n",
      "8 - 2 == 0 -0.18913    0.14203  -1.332  0.88688    \n",
      "4 - 3 == 0  0.15428    0.14203   1.086  0.95981    \n",
      "5 - 3 == 0  0.09228    0.14203   0.650  0.99814    \n",
      "6 - 3 == 0  0.06510    0.14203   0.458  0.99981    \n",
      "7 - 3 == 0 -0.03042    0.14203  -0.214  1.00000    \n",
      "8 - 3 == 0 -0.10822    0.14203  -0.762  0.99493    \n",
      "5 - 4 == 0 -0.06200    0.14203  -0.437  0.99986    \n",
      "6 - 4 == 0 -0.08919    0.14203  -0.628  0.99851    \n",
      "7 - 4 == 0 -0.18471    0.14203  -1.301  0.89905    \n",
      "8 - 4 == 0 -0.26250    0.14203  -1.848  0.58677    \n",
      "6 - 5 == 0 -0.02718    0.14203  -0.191  1.00000    \n",
      "7 - 5 == 0 -0.12270    0.14203  -0.864  0.98912    \n",
      "8 - 5 == 0 -0.20050    0.14203  -1.412  0.85229    \n",
      "7 - 6 == 0 -0.09552    0.14203  -0.673  0.99769    \n",
      "8 - 6 == 0 -0.17332    0.14203  -1.220  0.92617    \n",
      "8 - 7 == 0 -0.07780    0.14203  -0.548  0.99939    \n",
      "---\n",
      "Signif. codes:  0 ‘***’ 0.001 ‘**’ 0.01 ‘*’ 0.05 ‘.’ 0.1 ‘ ’ 1\n",
      "(Adjusted p values reported -- single-step method)\n",
      "\n"
     ]
    }
   ],
   "source": [
    "%%R\n",
    "library(\"multcomp\")\n",
    "# Step 5: Post Hoc comparisions \n",
    "\n",
    "model = lmer(prop_zscore ~ rechours + (1|flyname), data=df_recavgperflyall,\n",
    "             REML=FALSE)\n",
    "\n",
    "print(summary(glht(model, mcp(rechours=\"Tukey\"))))"
   ]
  },
  {
   "cell_type": "code",
   "execution_count": null,
   "metadata": {},
   "outputs": [],
   "source": []
  },
  {
   "cell_type": "code",
   "execution_count": null,
   "metadata": {},
   "outputs": [],
   "source": []
  },
  {
   "cell_type": "code",
   "execution_count": 99,
   "metadata": {},
   "outputs": [
    {
     "data": {
      "image/png": "[encoded data removed]",
      "text/plain": [
       "<Figure size 864x432 with 1 Axes>"
      ]
     },
     "metadata": {},
     "output_type": "display_data"
    }
   ],
   "source": [
    "fig, ax = plt.subplots(nrows=1, ncols=1, figsize=(12,6))\n",
    "ax = sns.stripplot(x=\"rechours\", y=\"prop_zscore\", data=df_recavgperflyall, jitter=True, \n",
    "                   edgecolor =\"black\",marker='o', s= 7.5, alpha = 0.5,\n",
    "                   linewidth=2)\n",
    "g1 = sns.boxplot(x = \"rechours\", y=\"prop_zscore\", data = df_recavgperflyall, \n",
    "                 showfliers = False)\n",
    "\n",
    "for patch in ax.artists:\n",
    "    r, g, b, a = patch.get_facecolor()\n",
    "    patch.set_facecolor((r, g, b, .6)) \n",
    "    \n",
    "    \n",
    "sns.despine(left=True, bottom = True)\n",
    "\n",
    "\n",
    "string_val1 = '*'\n",
    "string_val2 = '**'\n",
    "string_val3 = '***'\n",
    "string_val4 = 'ns'\n",
    "statannotation(ax = ax, x1 = 0.095, x2 = 0.95, y = 1.5, h = 0.125/4, text = string_val1)\n",
    "statannotation(ax = ax, x1 = 0.095, x2 = 0.95+1, y = 1.5+0.15, h = 0.125/4, text = string_val2)\n",
    "\n",
    "statannotation(ax = ax, x1 = 0.095, x2 = 0.95+1*2, y = 1.5+0.15*2, h = 0.125/4, text = string_val4)\n",
    "\n",
    "\n",
    "statannotation(ax = ax, x1 = 0.095, x2 = 0.95+1*3, y = 1.5+0.15*3, h = 0.125/4, text = string_val1)\n",
    "statannotation(ax = ax, x1 = 0.095, x2 = 0.95+1*4, y = 1.5+0.15*4, h = 0.125/4, text = string_val1)\n",
    "statannotation(ax = ax, x1 = 0.095, x2 = 0.95+1*5, y = 1.5+0.15*5, h = 0.125/4, text = string_val2)\n",
    "statannotation(ax = ax, x1 = 0.095, x2 = 0.95+1*6, y = 1.5+0.15*6, h = 0.125/4, text = string_val3)\n",
    "\n",
    "\n",
    "ax.set_ylabel('movement pattern (normalised)', fontsize=label_fontsize-2)\n",
    "ax.set_xlabel('\\nrecording time (hours)', fontsize=label_fontsize-2)\n",
    "ax.tick_params(axis='both', which='major', labelsize=label_fontsize-2)\n",
    "\n",
    "plt.tight_layout()\n",
    "plt.box(False)\n",
    "plt.grid(True)"
   ]
  },
  {
   "cell_type": "code",
   "execution_count": null,
   "metadata": {},
   "outputs": [],
   "source": []
  },
  {
   "cell_type": "code",
   "execution_count": null,
   "metadata": {},
   "outputs": [],
   "source": []
  },
  {
   "cell_type": "code",
   "execution_count": 100,
   "metadata": {},
   "outputs": [],
   "source": [
    "def activitypercrephour(movfolderpath):\n",
    "    \n",
    "    df_mov = pd.read_csv(movfolderpath, index_col = 0)\n",
    "    \n",
    "    df_activity = pd.read_csv(movfolderpath, index_col = 0)\n",
    "    df_activity['date_time'] = pd.to_datetime(df_activity['disptime'], format='%Y-%m-%d %H:%M:%S')\n",
    "    df_activity.drop('disptime', inplace = True, axis = 1)\n",
    "\n",
    "    df_activity['creptype'] = None\n",
    "\n",
    "    #dawn timings..\n",
    "    df_activity.loc[(df_activity['date_time'].dt.hour>=5) & (df_activity['date_time'].dt.hour<7),\\\n",
    "                    'creptype'] = 'precrep'\n",
    "    df_activity.loc[(df_activity['date_time'].dt.hour>=7) & (df_activity['date_time'].dt.hour<9),\\\n",
    "                    'creptype'] = 'crep'\n",
    "    df_activity.loc[(df_activity['date_time'].dt.hour>=9) & (df_activity['date_time'].dt.hour<11),\\\n",
    "                    'creptype'] = 'postcrep'\n",
    "\n",
    "\n",
    "    #dusk timings..\n",
    "    df_activity.loc[(df_activity['date_time'].dt.hour>=17) & (df_activity['date_time'].dt.hour<19),\\\n",
    "                    'creptype'] = 'precrep'\n",
    "    df_activity.loc[(df_activity['date_time'].dt.hour>=19) & (df_activity['date_time'].dt.hour<21),\\\n",
    "                    'creptype'] = 'crep'\n",
    "    df_activity.loc[(df_activity['date_time'].dt.hour>=21) & (df_activity['date_time'].dt.hour<23),\\\n",
    "                    'creptype'] = 'postcrep'\n",
    "\n",
    "    df_activityagg = df_activity[df_activity['creptype'].isin(['crep', 'precrep', 'postcrep'])]\n",
    "    df_activityagg = df_activityagg[['prop','creptype']]\n",
    "    \n",
    "    df_activityagg['prop_zscore'] = (df_activityagg['prop'] - df_activityagg['prop'].mean())/df_activityagg['prop'].std(ddof=0)\n",
    "    \n",
    "    return df_activityagg"
   ]
  },
  {
   "cell_type": "code",
   "execution_count": null,
   "metadata": {},
   "outputs": [],
   "source": []
  },
  {
   "cell_type": "code",
   "execution_count": null,
   "metadata": {},
   "outputs": [],
   "source": []
  },
  {
   "cell_type": "code",
   "execution_count": 101,
   "metadata": {},
   "outputs": [
    {
     "name": "stdout",
     "output_type": "stream",
     "text": [
      "27072018_SponSleep_LFP\n",
      "14092018_SponSleep_LFP\n",
      "17092018_SponSleep_LFP\n",
      "30102018_SponSleep_LFP\n",
      "01112018_SponSleep_LFP\n",
      "03112018_SponSleep_LFP\n",
      "13112018_SponSleep_LFP\n",
      "28112018_SponSleep_LFP\n",
      "11122018_SponSleep_LFP\n",
      "13122018_SponSleep_LFP\n",
      "18122018_SponSleep_LFP\n",
      "10012019_SponSleep_LFP\n",
      "17012019_SponSleep_LFP\n",
      "22012019_SponSleep_LFP\n",
      "20022019_SponSleep_LFP\n",
      "13032019_SponSleep_LFP\n"
     ]
    }
   ],
   "source": [
    "df_activityaggperflyall = pd.DataFrame(columns = ['flyname','creptype', 'prop_zscore'])\n",
    "for f, basefilename in enumerate(basefiles):  # Loop across each fly\n",
    "    movfolderpath = basefolder + \"data/beh_data/movement/circrhythm/\" +\\\n",
    "                    basefilename[3:] + \"_circrhythm.csv\"\n",
    "    print(basefilename[3:])\n",
    "    df_activityaggtemp =  activitypercrephour(movfolderpath)\n",
    "    df_activityaggtemp['flyname'] = basefilename[3:]\n",
    "    \n",
    "    df_activityaggtemp = df_activityaggtemp[['flyname', 'creptype', 'prop_zscore']]\n",
    "    \n",
    "    \n",
    "    df_activityaggperflyall = df_activityaggperflyall.append(df_activityaggtemp)"
   ]
  },
  {
   "cell_type": "code",
   "execution_count": 102,
   "metadata": {},
   "outputs": [
    {
     "data": {
      "text/html": [
       "<div>\n",
       "<style scoped>\n",
       "    .dataframe tbody tr th:only-of-type {\n",
       "        vertical-align: middle;\n",
       "    }\n",
       "\n",
       "    .dataframe tbody tr th {\n",
       "        vertical-align: top;\n",
       "    }\n",
       "\n",
       "    .dataframe thead th {\n",
       "        text-align: right;\n",
       "    }\n",
       "</style>\n",
       "<table border=\"1\" class=\"dataframe\">\n",
       "  <thead>\n",
       "    <tr style=\"text-align: right;\">\n",
       "      <th></th>\n",
       "      <th>flyname</th>\n",
       "      <th>creptype</th>\n",
       "      <th>prop_zscore</th>\n",
       "    </tr>\n",
       "  </thead>\n",
       "  <tbody>\n",
       "    <tr>\n",
       "      <th>109</th>\n",
       "      <td>27072018_SponSleep_LFP</td>\n",
       "      <td>precrep</td>\n",
       "      <td>-0.733863</td>\n",
       "    </tr>\n",
       "    <tr>\n",
       "      <th>110</th>\n",
       "      <td>27072018_SponSleep_LFP</td>\n",
       "      <td>precrep</td>\n",
       "      <td>1.176773</td>\n",
       "    </tr>\n",
       "    <tr>\n",
       "      <th>111</th>\n",
       "      <td>27072018_SponSleep_LFP</td>\n",
       "      <td>precrep</td>\n",
       "      <td>-0.727301</td>\n",
       "    </tr>\n",
       "    <tr>\n",
       "      <th>112</th>\n",
       "      <td>27072018_SponSleep_LFP</td>\n",
       "      <td>precrep</td>\n",
       "      <td>-0.195145</td>\n",
       "    </tr>\n",
       "    <tr>\n",
       "      <th>113</th>\n",
       "      <td>27072018_SponSleep_LFP</td>\n",
       "      <td>precrep</td>\n",
       "      <td>1.126306</td>\n",
       "    </tr>\n",
       "    <tr>\n",
       "      <th>...</th>\n",
       "      <td>...</td>\n",
       "      <td>...</td>\n",
       "      <td>...</td>\n",
       "    </tr>\n",
       "    <tr>\n",
       "      <th>537</th>\n",
       "      <td>13032019_SponSleep_LFP</td>\n",
       "      <td>crep</td>\n",
       "      <td>0.108081</td>\n",
       "    </tr>\n",
       "    <tr>\n",
       "      <th>538</th>\n",
       "      <td>13032019_SponSleep_LFP</td>\n",
       "      <td>crep</td>\n",
       "      <td>0.768248</td>\n",
       "    </tr>\n",
       "    <tr>\n",
       "      <th>539</th>\n",
       "      <td>13032019_SponSleep_LFP</td>\n",
       "      <td>crep</td>\n",
       "      <td>0.575714</td>\n",
       "    </tr>\n",
       "    <tr>\n",
       "      <th>540</th>\n",
       "      <td>13032019_SponSleep_LFP</td>\n",
       "      <td>crep</td>\n",
       "      <td>0.586918</td>\n",
       "    </tr>\n",
       "    <tr>\n",
       "      <th>541</th>\n",
       "      <td>13032019_SponSleep_LFP</td>\n",
       "      <td>crep</td>\n",
       "      <td>-0.693971</td>\n",
       "    </tr>\n",
       "  </tbody>\n",
       "</table>\n",
       "<p>3980 rows × 3 columns</p>\n",
       "</div>"
      ],
      "text/plain": [
       "                    flyname creptype  prop_zscore\n",
       "109  27072018_SponSleep_LFP  precrep    -0.733863\n",
       "110  27072018_SponSleep_LFP  precrep     1.176773\n",
       "111  27072018_SponSleep_LFP  precrep    -0.727301\n",
       "112  27072018_SponSleep_LFP  precrep    -0.195145\n",
       "113  27072018_SponSleep_LFP  precrep     1.126306\n",
       "..                      ...      ...          ...\n",
       "537  13032019_SponSleep_LFP     crep     0.108081\n",
       "538  13032019_SponSleep_LFP     crep     0.768248\n",
       "539  13032019_SponSleep_LFP     crep     0.575714\n",
       "540  13032019_SponSleep_LFP     crep     0.586918\n",
       "541  13032019_SponSleep_LFP     crep    -0.693971\n",
       "\n",
       "[3980 rows x 3 columns]"
      ]
     },
     "execution_count": 102,
     "metadata": {},
     "output_type": "execute_result"
    }
   ],
   "source": [
    "df_activityaggperflyall"
   ]
  },
  {
   "cell_type": "code",
   "execution_count": null,
   "metadata": {},
   "outputs": [],
   "source": []
  },
  {
   "cell_type": "code",
   "execution_count": 103,
   "metadata": {},
   "outputs": [],
   "source": [
    "missing_df = []\n",
    "# iterate over all flyname and creptypes to check for missing data in particular times\n",
    "for flyname in df_activityaggperflyall['flyname'].unique():\n",
    "    for creptype in df_activityaggperflyall['creptype'].unique():\n",
    "        # check if the current flyname/creptype combination is already present\n",
    "        if not ((df_activityaggperflyall['flyname'] == flyname) & (df_activityaggperflyall['creptype'] == creptype)).any():\n",
    "            # if not, add a row with the missing creptype and NaN for mins\n",
    "            new_row = {'flyname': flyname, 'creptype': creptype, 'prop_zscore': np.nan}\n",
    "            missing_df.append(new_row)"
   ]
  },
  {
   "cell_type": "code",
   "execution_count": 104,
   "metadata": {},
   "outputs": [
    {
     "data": {
      "text/html": [
       "<div>\n",
       "<style scoped>\n",
       "    .dataframe tbody tr th:only-of-type {\n",
       "        vertical-align: middle;\n",
       "    }\n",
       "\n",
       "    .dataframe tbody tr th {\n",
       "        vertical-align: top;\n",
       "    }\n",
       "\n",
       "    .dataframe thead th {\n",
       "        text-align: right;\n",
       "    }\n",
       "</style>\n",
       "<table border=\"1\" class=\"dataframe\">\n",
       "  <thead>\n",
       "    <tr style=\"text-align: right;\">\n",
       "      <th></th>\n",
       "      <th>flyname</th>\n",
       "      <th>creptype</th>\n",
       "      <th>prop_zscore</th>\n",
       "    </tr>\n",
       "  </thead>\n",
       "  <tbody>\n",
       "    <tr>\n",
       "      <th>0</th>\n",
       "      <td>18122018_SponSleep_LFP</td>\n",
       "      <td>precrep</td>\n",
       "      <td>NaN</td>\n",
       "    </tr>\n",
       "    <tr>\n",
       "      <th>1</th>\n",
       "      <td>10012019_SponSleep_LFP</td>\n",
       "      <td>crep</td>\n",
       "      <td>NaN</td>\n",
       "    </tr>\n",
       "    <tr>\n",
       "      <th>2</th>\n",
       "      <td>17012019_SponSleep_LFP</td>\n",
       "      <td>crep</td>\n",
       "      <td>NaN</td>\n",
       "    </tr>\n",
       "  </tbody>\n",
       "</table>\n",
       "</div>"
      ],
      "text/plain": [
       "                  flyname creptype  prop_zscore\n",
       "0  18122018_SponSleep_LFP  precrep          NaN\n",
       "1  10012019_SponSleep_LFP     crep          NaN\n",
       "2  17012019_SponSleep_LFP     crep          NaN"
      ]
     },
     "execution_count": 104,
     "metadata": {},
     "output_type": "execute_result"
    }
   ],
   "source": [
    "missing_df = pd.DataFrame(missing_df)\n",
    "missing_df"
   ]
  },
  {
   "cell_type": "code",
   "execution_count": 105,
   "metadata": {},
   "outputs": [],
   "source": [
    "df_activityaggperflyall = pd.concat([df_activityaggperflyall,missing_df])"
   ]
  },
  {
   "cell_type": "code",
   "execution_count": null,
   "metadata": {},
   "outputs": [],
   "source": []
  },
  {
   "cell_type": "code",
   "execution_count": 106,
   "metadata": {},
   "outputs": [
    {
     "data": {
      "text/plain": [
       "array(['precrep', 'crep', 'postcrep'], dtype=object)"
      ]
     },
     "execution_count": 106,
     "metadata": {},
     "output_type": "execute_result"
    }
   ],
   "source": [
    "df_activityaggperflyall['creptype'].unique()"
   ]
  },
  {
   "cell_type": "code",
   "execution_count": 107,
   "metadata": {},
   "outputs": [
    {
     "data": {
      "text/plain": [
       "16"
      ]
     },
     "execution_count": 107,
     "metadata": {},
     "output_type": "execute_result"
    }
   ],
   "source": [
    "len(df_activityaggperflyall['flyname'].unique())"
   ]
  },
  {
   "cell_type": "code",
   "execution_count": null,
   "metadata": {},
   "outputs": [],
   "source": []
  },
  {
   "cell_type": "code",
   "execution_count": 108,
   "metadata": {},
   "outputs": [],
   "source": [
    "%R -i df_activityaggperflyall"
   ]
  },
  {
   "cell_type": "code",
   "execution_count": 109,
   "metadata": {},
   "outputs": [
    {
     "name": "stdout",
     "output_type": "stream",
     "text": [
      "                 flyname creptype prop_zscore\n",
      "1 27072018_SponSleep_LFP  precrep  -0.7338633\n",
      "2 27072018_SponSleep_LFP  precrep   1.1767730\n",
      "3 27072018_SponSleep_LFP  precrep  -0.7273015\n",
      "4 27072018_SponSleep_LFP  precrep  -0.1951446\n",
      "5 27072018_SponSleep_LFP  precrep   1.1263059\n",
      "6 27072018_SponSleep_LFP  precrep  -0.2345630\n"
     ]
    }
   ],
   "source": [
    "%%R\n",
    "head(df_activityaggperflyall)"
   ]
  },
  {
   "cell_type": "code",
   "execution_count": 110,
   "metadata": {},
   "outputs": [
    {
     "name": "stdout",
     "output_type": "stream",
     "text": [
      "[1] \"precrep\"  \"crep\"     \"postcrep\"\n"
     ]
    }
   ],
   "source": [
    "%%R\n",
    "unique(df_activityaggperflyall$creptype)"
   ]
  },
  {
   "cell_type": "code",
   "execution_count": 111,
   "metadata": {},
   "outputs": [
    {
     "name": "stdout",
     "output_type": "stream",
     "text": [
      "[1] ‘1.1.21’\n"
     ]
    }
   ],
   "source": [
    "%%R\n",
    "packageVersion(\"lme4\")"
   ]
  },
  {
   "cell_type": "code",
   "execution_count": 112,
   "metadata": {},
   "outputs": [],
   "source": [
    "%%R\n",
    "# Multilevel model with missing values ~ Hierarchical model\n",
    "# First compare and choose the best model..\n",
    "\n",
    "library(lmerTest)"
   ]
  },
  {
   "cell_type": "code",
   "execution_count": null,
   "metadata": {},
   "outputs": [],
   "source": []
  },
  {
   "cell_type": "code",
   "execution_count": 113,
   "metadata": {},
   "outputs": [
    {
     "name": "stdout",
     "output_type": "stream",
     "text": [
      "                 flyname creptype prop_zscore\n",
      "1 27072018_SponSleep_LFP  precrep  -0.7338633\n",
      "2 27072018_SponSleep_LFP  precrep   1.1767730\n",
      "3 27072018_SponSleep_LFP  precrep  -0.7273015\n",
      "4 27072018_SponSleep_LFP  precrep  -0.1951446\n",
      "5 27072018_SponSleep_LFP  precrep   1.1263059\n",
      "6 27072018_SponSleep_LFP  precrep  -0.2345630\n"
     ]
    }
   ],
   "source": [
    "%%R\n",
    "head(df_activityaggperflyall)"
   ]
  },
  {
   "cell_type": "code",
   "execution_count": 114,
   "metadata": {},
   "outputs": [
    {
     "name": "stderr",
     "output_type": "stream",
     "text": [
      "R[write to console]: boundary (singular) fit: see ?isSingular\n",
      "\n",
      "R[write to console]: boundary (singular) fit: see ?isSingular\n",
      "\n"
     ]
    }
   ],
   "source": [
    "%%R\n",
    "model.null = lmer(prop_zscore ~ 1 + (1|flyname), data=df_activityaggperflyall,\n",
    "                  REML=FALSE)\n",
    "\n",
    "model.creptype = lmer(prop_zscore ~ creptype + (1|flyname), data=df_activityaggperflyall,\n",
    "                  REML=FALSE)"
   ]
  },
  {
   "cell_type": "code",
   "execution_count": 115,
   "metadata": {},
   "outputs": [
    {
     "name": "stdout",
     "output_type": "stream",
     "text": [
      "Data: df_activityaggperflyall\n",
      "Models:\n",
      "model.null: prop_zscore ~ 1 + (1 | flyname)\n",
      "model.creptype: prop_zscore ~ creptype + (1 | flyname)\n",
      "               Df   AIC   BIC  logLik deviance  Chisq Chi Df Pr(>Chisq)    \n",
      "model.null      3 11301 11320 -5647.4    11295                             \n",
      "model.creptype  5 11224 11255 -5606.8    11214 81.157      2  < 2.2e-16 ***\n",
      "---\n",
      "Signif. codes:  0 ‘***’ 0.001 ‘**’ 0.01 ‘*’ 0.05 ‘.’ 0.1 ‘ ’ 1\n"
     ]
    }
   ],
   "source": [
    "%%R\n",
    "#compare the null model, with the creptype model..\n",
    "print(anova(model.null,model.creptype))"
   ]
  },
  {
   "cell_type": "code",
   "execution_count": null,
   "metadata": {},
   "outputs": [],
   "source": []
  },
  {
   "cell_type": "code",
   "execution_count": null,
   "metadata": {},
   "outputs": [],
   "source": []
  },
  {
   "cell_type": "code",
   "execution_count": 116,
   "metadata": {},
   "outputs": [
    {
     "name": "stdout",
     "output_type": "stream",
     "text": [
      "Type III Analysis of Variance Table with Satterthwaite's method\n",
      "         Sum Sq Mean Sq NumDF DenDF F value    Pr(>F)    \n",
      "creptype 80.335  40.168     2  3980  40.995 < 2.2e-16 ***\n",
      "---\n",
      "Signif. codes:  0 ‘***’ 0.001 ‘**’ 0.01 ‘*’ 0.05 ‘.’ 0.1 ‘ ’ 1\n"
     ]
    }
   ],
   "source": [
    "%%R\n",
    "#the above analysis show that the creptype model is the most likely model..\n",
    "#let's analyse the same..\n",
    "print(anova(model.creptype))"
   ]
  },
  {
   "cell_type": "code",
   "execution_count": null,
   "metadata": {},
   "outputs": [],
   "source": []
  },
  {
   "cell_type": "code",
   "execution_count": 117,
   "metadata": {},
   "outputs": [
    {
     "name": "stdout",
     "output_type": "stream",
     "text": [
      "            R2m        R2c\n",
      "[1,] 0.02018971 0.02018971\n"
     ]
    }
   ],
   "source": [
    "%%R\n",
    "library(\"MuMIn\")\n",
    "r.squaredGLMM(model.creptype)"
   ]
  },
  {
   "cell_type": "code",
   "execution_count": 118,
   "metadata": {},
   "outputs": [
    {
     "name": "stdout",
     "output_type": "stream",
     "text": [
      "NULL\n"
     ]
    }
   ],
   "source": [
    "%%R\n",
    "#the above table shows that there is a main effect of creptype(precrep,crep,postcrep); let's find out more.."
   ]
  },
  {
   "cell_type": "code",
   "execution_count": 119,
   "metadata": {},
   "outputs": [
    {
     "name": "stderr",
     "output_type": "stream",
     "text": [
      "R[write to console]: boundary (singular) fit: see ?isSingular\n",
      "\n"
     ]
    },
    {
     "name": "stdout",
     "output_type": "stream",
     "text": [
      "\n",
      "\t Simultaneous Tests for General Linear Hypotheses\n",
      "\n",
      "Multiple Comparisons of Means: Tukey Contrasts\n",
      "\n",
      "\n",
      "Fit: lmer(formula = prop_zscore ~ creptype + (1 | flyname), data = df_activityaggperflyall, \n",
      "    REML = FALSE)\n",
      "\n",
      "Linear Hypotheses:\n",
      "                        Estimate Std. Error z value Pr(>|z|)    \n",
      "postcrep - crep == 0    -0.30441    0.03924  -7.757   <1e-04 ***\n",
      "precrep - crep == 0     -0.35198    0.04211  -8.358   <1e-04 ***\n",
      "precrep - postcrep == 0 -0.04756    0.03682  -1.292    0.399    \n",
      "---\n",
      "Signif. codes:  0 ‘***’ 0.001 ‘**’ 0.01 ‘*’ 0.05 ‘.’ 0.1 ‘ ’ 1\n",
      "(Adjusted p values reported -- single-step method)\n",
      "\n"
     ]
    }
   ],
   "source": [
    "%%R\n",
    "library(\"multcomp\")\n",
    "# Step 5: Post Hoc comparisions \n",
    "\n",
    "model = lmer(prop_zscore ~ creptype + (1|flyname), data=df_activityaggperflyall,\n",
    "             REML=FALSE)\n",
    "\n",
    "print(summary(glht(model, mcp(creptype=\"Tukey\"))))"
   ]
  },
  {
   "cell_type": "code",
   "execution_count": null,
   "metadata": {},
   "outputs": [],
   "source": []
  },
  {
   "cell_type": "code",
   "execution_count": 120,
   "metadata": {},
   "outputs": [
    {
     "data": {
      "text/html": [
       "<div>\n",
       "<style scoped>\n",
       "    .dataframe tbody tr th:only-of-type {\n",
       "        vertical-align: middle;\n",
       "    }\n",
       "\n",
       "    .dataframe tbody tr th {\n",
       "        vertical-align: top;\n",
       "    }\n",
       "\n",
       "    .dataframe thead th {\n",
       "        text-align: right;\n",
       "    }\n",
       "</style>\n",
       "<table border=\"1\" class=\"dataframe\">\n",
       "  <thead>\n",
       "    <tr style=\"text-align: right;\">\n",
       "      <th></th>\n",
       "      <th>flyname</th>\n",
       "      <th>creptype</th>\n",
       "      <th>prop_zscore</th>\n",
       "    </tr>\n",
       "  </thead>\n",
       "  <tbody>\n",
       "    <tr>\n",
       "      <th>109</th>\n",
       "      <td>27072018_SponSleep_LFP</td>\n",
       "      <td>precrep</td>\n",
       "      <td>-0.733863</td>\n",
       "    </tr>\n",
       "    <tr>\n",
       "      <th>110</th>\n",
       "      <td>27072018_SponSleep_LFP</td>\n",
       "      <td>precrep</td>\n",
       "      <td>1.176773</td>\n",
       "    </tr>\n",
       "    <tr>\n",
       "      <th>111</th>\n",
       "      <td>27072018_SponSleep_LFP</td>\n",
       "      <td>precrep</td>\n",
       "      <td>-0.727301</td>\n",
       "    </tr>\n",
       "    <tr>\n",
       "      <th>112</th>\n",
       "      <td>27072018_SponSleep_LFP</td>\n",
       "      <td>precrep</td>\n",
       "      <td>-0.195145</td>\n",
       "    </tr>\n",
       "    <tr>\n",
       "      <th>113</th>\n",
       "      <td>27072018_SponSleep_LFP</td>\n",
       "      <td>precrep</td>\n",
       "      <td>1.126306</td>\n",
       "    </tr>\n",
       "    <tr>\n",
       "      <th>...</th>\n",
       "      <td>...</td>\n",
       "      <td>...</td>\n",
       "      <td>...</td>\n",
       "    </tr>\n",
       "    <tr>\n",
       "      <th>540</th>\n",
       "      <td>13032019_SponSleep_LFP</td>\n",
       "      <td>crep</td>\n",
       "      <td>0.586918</td>\n",
       "    </tr>\n",
       "    <tr>\n",
       "      <th>541</th>\n",
       "      <td>13032019_SponSleep_LFP</td>\n",
       "      <td>crep</td>\n",
       "      <td>-0.693971</td>\n",
       "    </tr>\n",
       "    <tr>\n",
       "      <th>0</th>\n",
       "      <td>18122018_SponSleep_LFP</td>\n",
       "      <td>precrep</td>\n",
       "      <td>NaN</td>\n",
       "    </tr>\n",
       "    <tr>\n",
       "      <th>1</th>\n",
       "      <td>10012019_SponSleep_LFP</td>\n",
       "      <td>crep</td>\n",
       "      <td>NaN</td>\n",
       "    </tr>\n",
       "    <tr>\n",
       "      <th>2</th>\n",
       "      <td>17012019_SponSleep_LFP</td>\n",
       "      <td>crep</td>\n",
       "      <td>NaN</td>\n",
       "    </tr>\n",
       "  </tbody>\n",
       "</table>\n",
       "<p>3983 rows × 3 columns</p>\n",
       "</div>"
      ],
      "text/plain": [
       "                    flyname creptype  prop_zscore\n",
       "109  27072018_SponSleep_LFP  precrep    -0.733863\n",
       "110  27072018_SponSleep_LFP  precrep     1.176773\n",
       "111  27072018_SponSleep_LFP  precrep    -0.727301\n",
       "112  27072018_SponSleep_LFP  precrep    -0.195145\n",
       "113  27072018_SponSleep_LFP  precrep     1.126306\n",
       "..                      ...      ...          ...\n",
       "540  13032019_SponSleep_LFP     crep     0.586918\n",
       "541  13032019_SponSleep_LFP     crep    -0.693971\n",
       "0    18122018_SponSleep_LFP  precrep          NaN\n",
       "1    10012019_SponSleep_LFP     crep          NaN\n",
       "2    17012019_SponSleep_LFP     crep          NaN\n",
       "\n",
       "[3983 rows x 3 columns]"
      ]
     },
     "execution_count": 120,
     "metadata": {},
     "output_type": "execute_result"
    }
   ],
   "source": [
    "df_activityaggperflyall"
   ]
  },
  {
   "cell_type": "code",
   "execution_count": null,
   "metadata": {},
   "outputs": [],
   "source": []
  },
  {
   "cell_type": "code",
   "execution_count": 121,
   "metadata": {},
   "outputs": [],
   "source": [
    "df_plotactivityaggperflyall = df_activityaggperflyall[[\"flyname\",\"creptype\",\"prop_zscore\"]].groupby(['flyname',\\\n",
    "                                                             'creptype']).agg(['mean']).reset_index()"
   ]
  },
  {
   "cell_type": "code",
   "execution_count": 122,
   "metadata": {},
   "outputs": [],
   "source": [
    "df_plotactivityaggperflyall.columns = df_plotactivityaggperflyall.columns.map(''.join)"
   ]
  },
  {
   "cell_type": "code",
   "execution_count": 123,
   "metadata": {},
   "outputs": [],
   "source": [
    "df_plotactivityaggperflyall = df_plotactivityaggperflyall.rename(columns={'prop_zscoremean': 'activity'})"
   ]
  },
  {
   "cell_type": "code",
   "execution_count": null,
   "metadata": {},
   "outputs": [],
   "source": []
  },
  {
   "cell_type": "code",
   "execution_count": 124,
   "metadata": {},
   "outputs": [],
   "source": [
    "#for displaying in pointplot..\n",
    "removeptpltdatasets = df_activityaggperflyall['flyname'][df_activityaggperflyall['prop_zscore'].isna()]"
   ]
  },
  {
   "cell_type": "code",
   "execution_count": null,
   "metadata": {},
   "outputs": [],
   "source": []
  },
  {
   "cell_type": "code",
   "execution_count": 125,
   "metadata": {},
   "outputs": [],
   "source": [
    "typepal = {'crep':'r', 'precrep': 'b', 'postcrep': 'b'}"
   ]
  },
  {
   "cell_type": "code",
   "execution_count": null,
   "metadata": {},
   "outputs": [],
   "source": []
  },
  {
   "cell_type": "code",
   "execution_count": 126,
   "metadata": {},
   "outputs": [
    {
     "data": {
      "text/plain": [
       "[Text(0, 0, 'pre\\ncrepuscular'),\n",
       " Text(0, 0, 'crepuscular'),\n",
       " Text(0, 0, 'post\\ncrepuscular')]"
      ]
     },
     "execution_count": 126,
     "metadata": {},
     "output_type": "execute_result"
    },
    {
     "data": {
      "image/png": "[encoded data removed]",
      "text/plain": [
       "<Figure size 576x432 with 1 Axes>"
      ]
     },
     "metadata": {},
     "output_type": "display_data"
    }
   ],
   "source": [
    "fig, ax1 = plt.subplots(nrows=1, ncols=1, figsize=(8,6))\n",
    "\n",
    "sns.pointplot(x=\"creptype\",y=\"activity\", hue='flyname',\n",
    "              data=df_plotactivityaggperflyall[~df_plotactivityaggperflyall['flyname'].isin(removeptpltdatasets)],\n",
    "              ax=ax1, dodge=0.0,\n",
    "              order=['precrep','crep','postcrep'],\n",
    "                    palette=['darkgray'])\n",
    "\n",
    "sns.boxplot(x=\"creptype\",y=\"activity\",data = df_plotactivityaggperflyall, whis=np.inf, ax=ax1,\n",
    "            showbox=True,dodge=False,meanline=True,showmeans=False, showfliers=True,showcaps=True, \n",
    "            order=['precrep','crep','postcrep'],\n",
    "            linewidth = 1.25, palette = typepal)\n",
    "\n",
    "sns.stripplot(x=\"creptype\",y=\"activity\",data = df_plotactivityaggperflyall, jitter=False, linewidth=1, ax=ax1,\n",
    "              order=['precrep','crep','postcrep'], marker='o', s= 7.5, alpha = 0.5,\n",
    "              edgecolor =\"black\",palette=typepal)\n",
    "\n",
    "string_val3 = '***'\n",
    "statannotation(ax = ax1, x1 = 0.09, x2 = 10*0.09, y = 2.5, h = 0.125, text = string_val3)\n",
    "statannotation(ax = ax1, x1 = 0.9+2.20*0.09, x2 = 1.09 + 9*0.09, y = 2.5, h = 0.125, text = string_val3)\n",
    "\n",
    "\n",
    "\n",
    "\n",
    "ax1.legend_.remove()\n",
    "b = list(ax1.get_children())\n",
    "\n",
    "for patch in ax1.artists:\n",
    "    r, g, b, a = patch.get_facecolor()\n",
    "    patch.set_facecolor((r, g, b, .6))\n",
    "sns.despine(left=True, bottom = True)\n",
    "\n",
    "\n",
    "ax1.set_ylabel('movement pattern (normalised)', fontsize=label_fontsize-2)\n",
    "ax1.set_xlabel('\\ntime', fontsize=label_fontsize-2)\n",
    "ax1.tick_params(axis='both', which='major', labelsize=label_fontsize-2)\n",
    "\n",
    "ax1.grid(True)\n",
    "ax1.set_xticklabels(['pre\\ncrepuscular', 'crepuscular', 'post\\ncrepuscular'])"
   ]
  },
  {
   "cell_type": "code",
   "execution_count": null,
   "metadata": {},
   "outputs": [],
   "source": []
  },
  {
   "cell_type": "code",
   "execution_count": null,
   "metadata": {},
   "outputs": [],
   "source": []
  },
  {
   "cell_type": "code",
   "execution_count": null,
   "metadata": {},
   "outputs": [],
   "source": []
  },
  {
   "cell_type": "code",
   "execution_count": null,
   "metadata": {},
   "outputs": [],
   "source": []
  }
 ],
 "metadata": {
  "kernelspec": {
   "display_name": "Python 3",
   "language": "python",
   "name": "python3"
  },
  "language_info": {
   "codemirror_mode": {
    "name": "ipython",
    "version": 3
   },
   "file_extension": ".py",
   "mimetype": "text/x-python",
   "name": "python",
   "nbconvert_exporter": "python",
   "pygments_lexer": "ipython3",
   "version": "3.6.8"
  }
 },
 "nbformat": 4,
 "nbformat_minor": 4
}
